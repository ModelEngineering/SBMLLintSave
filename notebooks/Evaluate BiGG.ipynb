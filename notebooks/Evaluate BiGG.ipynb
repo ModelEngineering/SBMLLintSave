{
 "cells": [
  {
   "cell_type": "code",
   "execution_count": 1,
   "metadata": {},
   "outputs": [],
   "source": [
    "import init\n",
    "from SBMLLint.common import constants as cn\n",
    "from SBMLLint.common.simple_sbml import SimpleSBML\n",
    "from SBMLLint.common.molecule import Molecule\n",
    "from SBMLLint.common import simple_sbml\n",
    "from SBMLLint.common.reaction import Reaction\n",
    "from SBMLLint.tools import sbmllint\n",
    "from SBMLLint.tools import print_reactions\n",
    "\n",
    "import os\n",
    "import numpy as np\n",
    "import pandas as pd\n",
    "import matplotlib.pyplot as plt\n",
    "import tellurium as te"
   ]
  },
  {
   "cell_type": "code",
   "execution_count": 2,
   "metadata": {},
   "outputs": [],
   "source": [
    "# Constants\n",
    "AUX_DIR = os.path.join(os.path.dirname(cn.DATA_DIR), \"auxdata\")\n",
    "PATH = os.path.join(AUX_DIR, \"iYL1228.xml\")"
   ]
  },
  {
   "cell_type": "code",
   "execution_count": 3,
   "metadata": {},
   "outputs": [],
   "source": [
    "with open(PATH, 'r') as fd:\n",
    "    lines = fd.readlines()"
   ]
  },
  {
   "cell_type": "code",
   "execution_count": 4,
   "metadata": {},
   "outputs": [
    {
     "data": {
      "text/plain": [
       "[\"<?xml version='1.0' encoding='utf-8' standalone='no'?>\\n\",\n",
       " '<!-- Created by ModelPolisher version 1.7 on 2018-00-24 at 23:00:33 PST with JSBML version 1.2. -->\\n',\n",
       " '<sbml xmlns=\"http://www.sbml.org/sbml/level3/version1/core\" fbc:required=\"false\" groups:required=\"false\" level=\"3\" sboTerm=\"SBO:0000624\" version=\"1\"\\n']"
      ]
     },
     "execution_count": 4,
     "metadata": {},
     "output_type": "execute_result"
    }
   ],
   "source": [
    "lines[:3]"
   ]
  },
  {
   "cell_type": "code",
   "execution_count": 5,
   "metadata": {},
   "outputs": [],
   "source": [
    "if False:\n",
    "    import tellurium as te\n",
    "    # Convert input to string.\n",
    "    inputs = ''.join([l for l in lines])\n",
    "    rr = te.loadSBMLModel(inputs)\n",
    "    sbml = rr.getSBML()"
   ]
  },
  {
   "cell_type": "code",
   "execution_count": 6,
   "metadata": {},
   "outputs": [],
   "source": [
    "simple = SimpleSBML()\n",
    "simple.initialize(PATH)"
   ]
  },
  {
   "cell_type": "code",
   "execution_count": 8,
   "metadata": {},
   "outputs": [
    {
     "data": {
      "text/plain": [
       "2262"
      ]
     },
     "execution_count": 8,
     "metadata": {},
     "output_type": "execute_result"
    }
   ],
   "source": [
    "len(simple.reactions)"
   ]
  },
  {
   "cell_type": "markdown",
   "metadata": {},
   "source": [
    "## Simple Bug"
   ]
  },
  {
   "cell_type": "code",
   "execution_count": 9,
   "metadata": {},
   "outputs": [],
   "source": [
    "import tellurium as te\n",
    "path = os.path.join(cn.DATA_DIR, \"BIOMD0000000353_url.xml\")\n",
    "with open(path, 'r') as fd:\n",
    "    lines = fd.readlines()\n",
    "# Convert input to string.\n",
    "inputs = ''.join([l for l in lines])\n",
    "# Try different ways to load the model\n",
    "try:\n",
    "  rr = te.loada(inputs)\n",
    "except:\n",
    "  rr = te.loadSBMLModel(inputs)\n",
    "sbml = rr.getSBML()\n"
   ]
  }
 ],
 "metadata": {
  "kernelspec": {
   "display_name": "Python 3",
   "language": "python",
   "name": "python3"
  },
  "language_info": {
   "codemirror_mode": {
    "name": "ipython",
    "version": 3
   },
   "file_extension": ".py",
   "mimetype": "text/x-python",
   "name": "python",
   "nbconvert_exporter": "python",
   "pygments_lexer": "ipython3",
   "version": "3.6.9"
  }
 },
 "nbformat": 4,
 "nbformat_minor": 4
}
