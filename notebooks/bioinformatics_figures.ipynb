{
 "cells": [
  {
   "cell_type": "markdown",
   "metadata": {},
   "source": [
    "# Figures In BioInformatics Paper"
   ]
  },
  {
   "cell_type": "code",
   "execution_count": 2,
   "metadata": {},
   "outputs": [],
   "source": [
    "import init\n",
    "import os\n",
    "import numpy as np\n",
    "import pandas as pd\n",
    "import matplotlib.pyplot as plt\n",
    "import tellurium as te"
   ]
  },
  {
   "cell_type": "code",
   "execution_count": 29,
   "metadata": {},
   "outputs": [],
   "source": [
    "avgs = [12.1, 13.8, 4.9, 5.8]\n",
    "xticklabels = [\"Uni-Uni\",  \"Multi-Uni\", \"Multi-Multi\",  \"Boundary\"]\n",
    "length = len(xticklabels)"
   ]
  },
  {
   "cell_type": "code",
   "execution_count": 30,
   "metadata": {},
   "outputs": [
    {
     "data": {
      "text/plain": [
       "Text(0, 0.5, 'Avg. Count per Model')"
      ]
     },
     "execution_count": 30,
     "metadata": {},
     "output_type": "execute_result"
    },
    {
     "data": {
      "image/png": "[encoded data removed]",
      "text/plain": [
       "<Figure size 432x288 with 1 Axes>"
      ]
     },
     "metadata": {
      "needs_background": "light"
     },
     "output_type": "display_data"
    }
   ],
   "source": [
    "fig = plt.figure(1)\n",
    "ax = fig.add_subplot(111)\n",
    "_ = ax.bar(range(length), avgs)\n",
    "_ = ax.set_xticks(range(length))\n",
    "_ = ax.set_xticklabels(xticklabels, rotation = 45, ha=\"right\")\n",
    "ax.set_xlabel(\"Reaction Type\")\n",
    "ax.set_ylabel(\"Avg. Count per Model\")"
   ]
  },
  {
   "cell_type": "code",
   "execution_count": 33,
   "metadata": {},
   "outputs": [
    {
     "data": {
      "text/plain": [
       "Text(0, 0.5, 'Avg. fraction in a Model')"
      ]
     },
     "execution_count": 33,
     "metadata": {},
     "output_type": "execute_result"
    },
    {
     "data": {
      "image/png": "[encoded data removed]",
      "text/plain": [
       "<Figure size 432x288 with 1 Axes>"
      ]
     },
     "metadata": {
      "needs_background": "light"
     },
     "output_type": "display_data"
    }
   ],
   "source": [
    "fractions = [v / sum(avgs) for v in avgs]\n",
    "fig = plt.figure(1)\n",
    "ax = fig.add_subplot(111)\n",
    "_ = ax.bar(range(length), fractions)\n",
    "_ = ax.set_xticks(range(length))\n",
    "_ = ax.set_xticklabels(xticklabels, rotation = 45, ha=\"right\")\n",
    "ax.set_xlabel(\"Reaction Type\")\n",
    "ax.set_ylabel(\"Avg. fraction in a Model\")"
   ]
  },
  {
   "cell_type": "code",
   "execution_count": 13,
   "metadata": {},
   "outputs": [
    {
     "data": {
      "text/plain": [
       "['__add__',\n",
       " '__class__',\n",
       " '__contains__',\n",
       " '__delattr__',\n",
       " '__dict__',\n",
       " '__dir__',\n",
       " '__doc__',\n",
       " '__eq__',\n",
       " '__format__',\n",
       " '__ge__',\n",
       " '__getattribute__',\n",
       " '__getitem__',\n",
       " '__getnewargs__',\n",
       " '__gt__',\n",
       " '__hash__',\n",
       " '__init__',\n",
       " '__init_subclass__',\n",
       " '__iter__',\n",
       " '__le__',\n",
       " '__len__',\n",
       " '__lt__',\n",
       " '__module__',\n",
       " '__mul__',\n",
       " '__ne__',\n",
       " '__new__',\n",
       " '__reduce__',\n",
       " '__reduce_ex__',\n",
       " '__repr__',\n",
       " '__rmul__',\n",
       " '__setattr__',\n",
       " '__sizeof__',\n",
       " '__str__',\n",
       " '__subclasshook__',\n",
       " '_label',\n",
       " '_oid',\n",
       " '_propobservers',\n",
       " '_remove_method',\n",
       " 'add_callback',\n",
       " 'count',\n",
       " 'errorbar',\n",
       " 'eventson',\n",
       " 'get_children',\n",
       " 'get_label',\n",
       " 'index',\n",
       " 'patches',\n",
       " 'pchanged',\n",
       " 'remove',\n",
       " 'remove_callback',\n",
       " 'set_label',\n",
       " 'set_remove_method']"
      ]
     },
     "execution_count": 13,
     "metadata": {},
     "output_type": "execute_result"
    }
   ],
   "source": [
    "dir(ax)"
   ]
  },
  {
   "cell_type": "code",
   "execution_count": 18,
   "metadata": {},
   "outputs": [
    {
     "data": {
      "text/plain": [
       "[<matplotlib.patches.Rectangle at 0x7f56630fea20>,\n",
       " <matplotlib.patches.Rectangle at 0x7f56630fe828>,\n",
       " <matplotlib.patches.Rectangle at 0x7f56630fef98>,\n",
       " <matplotlib.patches.Rectangle at 0x7f566310a2e8>,\n",
       " <matplotlib.patches.Rectangle at 0x7f566310a5f8>]"
      ]
     },
     "execution_count": 18,
     "metadata": {},
     "output_type": "execute_result"
    }
   ],
   "source": [
    "ax.get_children()"
   ]
  }
 ],
 "metadata": {
  "kernelspec": {
   "display_name": "Python 3",
   "language": "python",
   "name": "python3"
  },
  "language_info": {
   "codemirror_mode": {
    "name": "ipython",
    "version": 3
   },
   "file_extension": ".py",
   "mimetype": "text/x-python",
   "name": "python",
   "nbconvert_exporter": "python",
   "pygments_lexer": "ipython3",
   "version": "3.6.4"
  }
 },
 "nbformat": 4,
 "nbformat_minor": 4
}
