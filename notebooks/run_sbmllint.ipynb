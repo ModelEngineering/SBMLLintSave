{
 "cells": [
  {
   "cell_type": "code",
   "execution_count": 1,
   "metadata": {},
   "outputs": [],
   "source": [
    "import init\n",
    "from SBMLLint.tools import sbmllint\n",
    "\n",
    "model = \"\"\"\n",
    "Glu + A__P_3 -> Glu_P + A_P_P; 1\n",
    "Glu = 0\n",
    "A_P_P_P = 0\n",
    "Glu_P = 0\n",
    "A_P_P = 0\n",
    "\"\"\""
   ]
  },
  {
   "cell_type": "code",
   "execution_count": 2,
   "metadata": {},
   "outputs": [
    {
     "name": "stdout",
     "output_type": "stream",
     "text": [
      "/Users/woosubs/Desktop/ModelEngineering/SBMLLint/SBMLLint\n"
     ]
    }
   ],
   "source": [
    "import os\n",
    "cwd = os.getcwd()\n",
    "MAIN_DIR = os.path.join(os.getcwd(), os.pardir)\n",
    "os.chdir(MAIN_DIR)\n",
    "print(os.getcwd())"
   ]
  },
  {
   "cell_type": "code",
   "execution_count": 3,
   "metadata": {},
   "outputs": [],
   "source": [
    "from SBMLLint.common import constants as cn\n",
    "from SBMLLint.common.simple_sbml import SimpleSBML\n",
    "PREFIX = \"BIOMD0000000\"\n",
    "\n",
    "def load_file_from_curated_data(num):\n",
    "\n",
    "  format_num = format(num, '03d')\n",
    "  filename = \"%s%s_url.xml\" % (PREFIX, format_num)\n",
    "  path = os.path.join(cn.BIOMODELS_DIR, filename)\n",
    "  simple = SimpleSBML()\n",
    "  simple.initialize(path)\n",
    "  return simple"
   ]
  },
  {
   "cell_type": "code",
   "execution_count": 4,
   "metadata": {},
   "outputs": [
    {
     "data": {
      "text/plain": [
       "'/Users/woosubs/Desktop/ModelEngineering/SBMLLint/SBMLLint/data/biomodels/BIOMD0000000035_url.xml'"
      ]
     },
     "execution_count": 4,
     "metadata": {},
     "output_type": "execute_result"
    }
   ],
   "source": [
    "num = 35\n",
    "format_num = format(num, '03d')\n",
    "filename = \"%s%s_url.xml\" % (PREFIX, format_num)\n",
    "path = os.path.join(cn.BIOMODELS_DIR, filename)\n",
    "path"
   ]
  },
  {
   "cell_type": "code",
   "execution_count": 5,
   "metadata": {},
   "outputs": [
    {
     "name": "stdout",
     "output_type": "stream",
     "text": [
      "Reaction1: A + R -> C\n",
      "Reaction2: A -> EmptySet\n",
      "Reaction3: C -> R\n",
      "Reaction4: R -> EmptySet\n",
      "Reaction5: A + DA -> DAp\n",
      "Reaction6: DAp -> A + DA\n",
      "Reaction7: DA -> DA + MA\n",
      "Reaction8: DAp -> DAp + MA\n",
      "Reaction9: MA -> EmptySet\n",
      "Reaction10: MA -> A + MA\n",
      "Reaction11: A + DR -> DRp\n",
      "Reaction12: DRp -> A + DR\n",
      "Reaction13: DR -> DR + MR\n",
      "Reaction14: DRp -> DRp + MR\n",
      "Reaction15: MR -> EmptySet\n",
      "Reaction16: MR -> MR + R\n"
     ]
    }
   ],
   "source": [
    "simple = load_file_from_curated_data(35)\n",
    "for r in simple.reactions:\n",
    "  print(r.makeIdentifier(is_include_kinetics=False))"
   ]
  },
  {
   "cell_type": "code",
   "execution_count": 6,
   "metadata": {},
   "outputs": [
    {
     "name": "stdout",
     "output_type": "stream",
     "text": [
      "Model analyzed...\n",
      "No error found.\n"
     ]
    }
   ],
   "source": [
    "_ = sbmllint.lint(path, mass_balance_check=\"games\", implicit_games=True)"
   ]
  },
  {
   "cell_type": "code",
   "execution_count": 8,
   "metadata": {},
   "outputs": [
    {
     "name": "stdout",
     "output_type": "stream",
     "text": [
      "Model analyzed...\n",
      "At least one error found.\n",
      "\n",
      "Clearly, DA = DA\n",
      "\n",
      "However, DA < DA by reaction(s):\n",
      "1. Reaction7: DA -> DA + MA\n",
      "\n",
      "\n",
      "----------------------------------------------------------------------\n",
      "\n",
      "Clearly, DAp = DAp\n",
      "\n",
      "However, DAp < DAp by reaction(s):\n",
      "1. Reaction8: DAp -> DAp + MA\n",
      "\n",
      "\n",
      "----------------------------------------------------------------------\n",
      "\n",
      "Clearly, MA = MA\n",
      "\n",
      "However, MA < MA by reaction(s):\n",
      "1. Reaction10: MA -> A + MA\n",
      "\n",
      "\n",
      "----------------------------------------------------------------------\n",
      "\n",
      "Clearly, DR = DR\n",
      "\n",
      "However, DR < DR by reaction(s):\n",
      "1. Reaction13: DR -> DR + MR\n",
      "\n",
      "\n",
      "----------------------------------------------------------------------\n",
      "\n",
      "Clearly, DRp = DRp\n",
      "\n",
      "However, DRp < DRp by reaction(s):\n",
      "1. Reaction14: DRp -> DRp + MR\n",
      "\n",
      "\n",
      "----------------------------------------------------------------------\n",
      "\n",
      "Clearly, MR = MR\n",
      "\n",
      "However, MR < MR by reaction(s):\n",
      "1. Reaction16: MR -> MR + R\n",
      "\n",
      "\n",
      "----------------------------------------------------------------------\n",
      "\n",
      "\n",
      "R = C by reaction(s):\n",
      "1. Reaction3: C -> R\n",
      "\n",
      "However, R < C by reaction(s):\n",
      "2. Reaction1: A + R -> C\n",
      "\n",
      "\n",
      "----------------------------------------------------------------------\n",
      "\n",
      "\n",
      "\n",
      "**********************************************************************\n",
      "\n",
      "\n"
     ]
    }
   ],
   "source": [
    "_ = sbmllint.lint(path, mass_balance_check=\"games\", implicit_games=False)"
   ]
  },
  {
   "cell_type": "code",
   "execution_count": null,
   "metadata": {},
   "outputs": [],
   "source": []
  },
  {
   "cell_type": "code",
   "execution_count": 8,
   "metadata": {},
   "outputs": [],
   "source": [
    "model_dummy = \"\"\"\n",
    "A -> B; 1\n",
    "B -> B + DUMMYIMPLICIT;1\n",
    "A = 0\n",
    "B = 0\n",
    "\"\"\""
   ]
  },
  {
   "cell_type": "code",
   "execution_count": 9,
   "metadata": {},
   "outputs": [
    {
     "name": "stdout",
     "output_type": "stream",
     "text": [
      "Model analyzed...\n",
      "At least one error found.\n",
      "\n",
      "Clearly, B = B\n",
      "\n",
      "However, B < B by reaction(s):\n",
      "1. _J1: B -> B + DUMMYIMPLICIT\n",
      "\n",
      "\n",
      "----------------------------------------------------------------------\n",
      "\n",
      "\n",
      "\n",
      "**********************************************************************\n",
      "\n",
      "\n"
     ]
    }
   ],
   "source": [
    "_ = sbmllint.lint(model_dummy, mass_balance_check=\"games\", implicit_games=False)"
   ]
  },
  {
   "cell_type": "code",
   "execution_count": 10,
   "metadata": {},
   "outputs": [
    {
     "name": "stdout",
     "output_type": "stream",
     "text": [
      "Model analyzed...\n",
      "No error found.\n"
     ]
    }
   ],
   "source": [
    "_ = sbmllint.lint(model_dummy, mass_balance_check=\"games\", implicit_games=True)"
   ]
  },
  {
   "cell_type": "code",
   "execution_count": 11,
   "metadata": {},
   "outputs": [
    {
     "data": {
      "text/plain": [
       "False"
      ]
     },
     "execution_count": 11,
     "metadata": {},
     "output_type": "execute_result"
    }
   ],
   "source": []
  },
  {
   "cell_type": "code",
   "execution_count": 4,
   "metadata": {},
   "outputs": [
    {
     "name": "stdout",
     "output_type": "stream",
     "text": [
      "\n",
      "0 of 1 reactions have imbalances.\n",
      "\n"
     ]
    }
   ],
   "source": [
    "_ = sbmllint.lint(model)"
   ]
  },
  {
   "cell_type": "code",
   "execution_count": 5,
   "metadata": {},
   "outputs": [
    {
     "name": "stdout",
     "output_type": "stream",
     "text": [
      "Model analyzed...\n",
      "No error found.\n"
     ]
    }
   ],
   "source": [
    "_ = sbmllint.lint(model, mass_balance_check=\"games\")"
   ]
  },
  {
   "cell_type": "code",
   "execution_count": 6,
   "metadata": {},
   "outputs": [
    {
     "name": "stdout",
     "output_type": "stream",
     "text": [
      "Model analyzed...\n",
      "At least one error found.\n",
      "\n",
      "A = B by reaction(s):\n",
      "1. _J0: A -> B\n",
      "\n",
      "However, A < B by reaction(s):\n",
      "2. _J1: B -> A + C\n",
      "\n",
      "\n",
      "----------------------------------------------------------------------\n",
      "\n",
      "\n",
      "\n",
      "**********************************************************************\n",
      "\n",
      "\n"
     ]
    }
   ],
   "source": [
    "model2 = \"\"\"\n",
    "A -> B; 1\n",
    "B -> A + C; 1\n",
    "A = 0.5\n",
    "B = 1.0\n",
    "C = 0\n",
    "\"\"\"\n",
    "_ = sbmllint.lint(model2, mass_balance_check=\"games\")"
   ]
  },
  {
   "cell_type": "code",
   "execution_count": 7,
   "metadata": {},
   "outputs": [
    {
     "name": "stdout",
     "output_type": "stream",
     "text": [
      "Model analyzed...\n",
      "At least one error found.\n",
      "\n",
      "A = B by reaction(s):\n",
      "1. _J0: A -> B\n",
      "\n",
      "However, A < B by reaction(s):\n",
      "2. _J1: B -> A + C\n",
      "\n",
      "\n",
      "----------------------------------------------------------------------\n",
      "\n",
      "\n",
      "\n",
      "**********************************************************************\n",
      "\n",
      "\n"
     ]
    }
   ],
   "source": [
    "model2 = \"\"\"\n",
    "A -> B; 1\n",
    "B -> A + C; 1\n",
    "\"\"\"\n",
    "_ = sbmllint.lint(model2, mass_balance_check=\"games\")"
   ]
  },
  {
   "cell_type": "code",
   "execution_count": null,
   "metadata": {},
   "outputs": [],
   "source": []
  }
 ],
 "metadata": {
  "kernelspec": {
   "display_name": "Python 3",
   "language": "python",
   "name": "python3"
  },
  "language_info": {
   "codemirror_mode": {
    "name": "ipython",
    "version": 3
   },
   "file_extension": ".py",
   "mimetype": "text/x-python",
   "name": "python",
   "nbconvert_exporter": "python",
   "pygments_lexer": "ipython3",
   "version": "3.6.9"
  }
 },
 "nbformat": 4,
 "nbformat_minor": 4
}
