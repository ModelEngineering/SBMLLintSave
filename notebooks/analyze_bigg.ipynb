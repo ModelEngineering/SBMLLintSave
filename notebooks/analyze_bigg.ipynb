{
 "cells": [
  {
   "cell_type": "code",
   "execution_count": 1,
   "metadata": {},
   "outputs": [],
   "source": [
    "# BiGG analysis - \n",
    "# still need to run the last time. from m_1000 to m_10000\n",
    "\n",
    "import init\n",
    "from SBMLLint.common import constants as cn\n",
    "from SBMLLint.common.molecule import Molecule, MoleculeStoichiometry\n",
    "from SBMLLint.common import simple_sbml\n",
    "from SBMLLint.common.reaction import Reaction\n",
    "from SBMLLint.tools import sbmllint\n",
    "from SBMLLint.tools import print_reactions\n",
    "\n",
    "import os\n",
    "import numpy as np\n",
    "import pandas as pd\n",
    "from pulp import *\n",
    "import matplotlib.pyplot as plt\n",
    "import time\n",
    "\n",
    "from scipy.linalg import lu, inv\n",
    "from scipy.optimize import linprog"
   ]
  },
  {
   "cell_type": "code",
   "execution_count": 2,
   "metadata": {},
   "outputs": [
    {
     "name": "stdout",
     "output_type": "stream",
     "text": [
      "Current Directory: /Users/woosubs/Desktop/ModelEngineering/SBMLLint/SBMLLint/notebooks\n"
     ]
    }
   ],
   "source": [
    "from games_setup import *\n",
    "from SBMLLint.common import constants as cn\n",
    "from SBMLLint.common.simple_sbml import SimpleSBML\n",
    "from SBMLLint.common.stoichiometry_matrix import StoichiometryMatrix\n",
    "\n",
    "from SBMLLint.games.som import SOM\n",
    "from SBMLLint.games.games_pp import GAMES_PP, SOMStoichiometry, SOMReaction, TOLERANCE\n",
    "from SBMLLint.games.games_report import GAMESReport, SimplifiedReaction"
   ]
  },
  {
   "cell_type": "code",
   "execution_count": 3,
   "metadata": {},
   "outputs": [
    {
     "data": {
      "text/plain": [
       "'/Users/woosubs/Desktop/ModelEngineering/SBMLLint/SBMLLint/notebooks'"
      ]
     },
     "execution_count": 3,
     "metadata": {},
     "output_type": "execute_result"
    }
   ],
   "source": [
    "os.getcwd()"
   ]
  },
  {
   "cell_type": "code",
   "execution_count": 4,
   "metadata": {},
   "outputs": [
    {
     "name": "stdout",
     "output_type": "stream",
     "text": [
      "number of BiGG models: 108\n"
     ]
    },
    {
     "data": {
      "text/plain": [
       "[{'bigg_id': 'e_coli_core',\n",
       "  'gene_count': 137,\n",
       "  'reaction_count': 95,\n",
       "  'organism': 'Escherichia coli str. K-12 substr. MG1655',\n",
       "  'metabolite_count': 72}]"
      ]
     },
     "execution_count": 4,
     "metadata": {},
     "output_type": "execute_result"
    }
   ],
   "source": [
    "# Load relevant bigg models\n",
    "# bigg constants\n",
    "BIGG_RESULTS = \"results\"\n",
    "BIGG_ID = \"bigg_id\"\n",
    "BIGG_GENECOUNT = \"gene_count\"\n",
    "BIGG_REACTION_COUNT = \"reaction_count\"\n",
    "BIGG_ORGANISM = \"organism\"\n",
    "BIGG_METABOLITE_COUNT = \"metabolite_count\"\n",
    "import requests\n",
    "res = requests.get('http://bigg.ucsd.edu/api/v2/models')\n",
    "bigg_models = res.json()[BIGG_RESULTS]\n",
    "bigg_ids = [bigg[BIGG_ID] for bigg in bigg_models]\n",
    "print(\"number of BiGG models: %d\" % len(bigg_models))\n",
    "bigg_models[:1]"
   ]
  },
  {
   "cell_type": "code",
   "execution_count": 5,
   "metadata": {},
   "outputs": [
    {
     "data": {
      "text/html": [
       "<div>\n",
       "<style scoped>\n",
       "    .dataframe tbody tr th:only-of-type {\n",
       "        vertical-align: middle;\n",
       "    }\n",
       "\n",
       "    .dataframe tbody tr th {\n",
       "        vertical-align: top;\n",
       "    }\n",
       "\n",
       "    .dataframe thead th {\n",
       "        text-align: right;\n",
       "    }\n",
       "</style>\n",
       "<table border=\"1\" class=\"dataframe\">\n",
       "  <thead>\n",
       "    <tr style=\"text-align: right;\">\n",
       "      <th></th>\n",
       "      <th>gene_count</th>\n",
       "      <th>reaction_count</th>\n",
       "      <th>organism</th>\n",
       "      <th>metabolite_count</th>\n",
       "    </tr>\n",
       "    <tr>\n",
       "      <th>bigg_id</th>\n",
       "      <th></th>\n",
       "      <th></th>\n",
       "      <th></th>\n",
       "      <th></th>\n",
       "    </tr>\n",
       "  </thead>\n",
       "  <tbody>\n",
       "    <tr>\n",
       "      <th>e_coli_core</th>\n",
       "      <td>137</td>\n",
       "      <td>95</td>\n",
       "      <td>Escherichia coli str. K-12 substr. MG1655</td>\n",
       "      <td>72</td>\n",
       "    </tr>\n",
       "    <tr>\n",
       "      <th>iAB_RBC_283</th>\n",
       "      <td>346</td>\n",
       "      <td>469</td>\n",
       "      <td>Homo sapiens</td>\n",
       "      <td>342</td>\n",
       "    </tr>\n",
       "    <tr>\n",
       "      <th>iIS312</th>\n",
       "      <td>312</td>\n",
       "      <td>519</td>\n",
       "      <td>Trypanosoma cruzi Dm28c</td>\n",
       "      <td>606</td>\n",
       "    </tr>\n",
       "    <tr>\n",
       "      <th>iIS312_Amastigote</th>\n",
       "      <td>312</td>\n",
       "      <td>519</td>\n",
       "      <td>Trypanosoma cruzi Dm28c</td>\n",
       "      <td>606</td>\n",
       "    </tr>\n",
       "    <tr>\n",
       "      <th>iIS312_Epimastigote</th>\n",
       "      <td>312</td>\n",
       "      <td>519</td>\n",
       "      <td>Trypanosoma cruzi Dm28c</td>\n",
       "      <td>606</td>\n",
       "    </tr>\n",
       "    <tr>\n",
       "      <th>iIS312_Trypomastigote</th>\n",
       "      <td>312</td>\n",
       "      <td>520</td>\n",
       "      <td>Trypanosoma cruzi Dm28c</td>\n",
       "      <td>606</td>\n",
       "    </tr>\n",
       "    <tr>\n",
       "      <th>iIT341</th>\n",
       "      <td>339</td>\n",
       "      <td>554</td>\n",
       "      <td>Helicobacter pylori 26695</td>\n",
       "      <td>485</td>\n",
       "    </tr>\n",
       "    <tr>\n",
       "      <th>iLJ478</th>\n",
       "      <td>482</td>\n",
       "      <td>652</td>\n",
       "      <td>Thermotoga maritima MSB8</td>\n",
       "      <td>570</td>\n",
       "    </tr>\n",
       "    <tr>\n",
       "      <th>iAF692</th>\n",
       "      <td>692</td>\n",
       "      <td>690</td>\n",
       "      <td>Methanosarcina barkeri str. Fusaro</td>\n",
       "      <td>628</td>\n",
       "    </tr>\n",
       "    <tr>\n",
       "      <th>iSB619</th>\n",
       "      <td>619</td>\n",
       "      <td>743</td>\n",
       "      <td>Staphylococcus aureus subsp. aureus N315</td>\n",
       "      <td>655</td>\n",
       "    </tr>\n",
       "    <tr>\n",
       "      <th>iNF517</th>\n",
       "      <td>516</td>\n",
       "      <td>754</td>\n",
       "      <td>Lactococcus lactis subsp. cremoris MG1363</td>\n",
       "      <td>650</td>\n",
       "    </tr>\n",
       "    <tr>\n",
       "      <th>iHN637</th>\n",
       "      <td>637</td>\n",
       "      <td>785</td>\n",
       "      <td>Clostridium ljungdahlii DSM 13528</td>\n",
       "      <td>698</td>\n",
       "    </tr>\n",
       "    <tr>\n",
       "      <th>iJB785</th>\n",
       "      <td>785</td>\n",
       "      <td>849</td>\n",
       "      <td>Synechococcus elongatus PCC 7942</td>\n",
       "      <td>768</td>\n",
       "    </tr>\n",
       "    <tr>\n",
       "      <th>iJN678</th>\n",
       "      <td>622</td>\n",
       "      <td>863</td>\n",
       "      <td>Synechocystis sp. PCC 6803</td>\n",
       "      <td>795</td>\n",
       "    </tr>\n",
       "    <tr>\n",
       "      <th>iAT_PLT_636</th>\n",
       "      <td>636</td>\n",
       "      <td>1008</td>\n",
       "      <td>Homo sapiens</td>\n",
       "      <td>738</td>\n",
       "    </tr>\n",
       "    <tr>\n",
       "      <th>iCN718</th>\n",
       "      <td>709</td>\n",
       "      <td>1015</td>\n",
       "      <td>Acinetobacter baumannii AYE</td>\n",
       "      <td>888</td>\n",
       "    </tr>\n",
       "    <tr>\n",
       "      <th>iNJ661</th>\n",
       "      <td>661</td>\n",
       "      <td>1025</td>\n",
       "      <td>Mycobacterium tuberculosis H37Rv</td>\n",
       "      <td>825</td>\n",
       "    </tr>\n",
       "    <tr>\n",
       "      <th>iSynCJ816</th>\n",
       "      <td>816</td>\n",
       "      <td>1044</td>\n",
       "      <td>Synechocystis sp. PCC 6803</td>\n",
       "      <td>928</td>\n",
       "    </tr>\n",
       "    <tr>\n",
       "      <th>iJN746</th>\n",
       "      <td>746</td>\n",
       "      <td>1054</td>\n",
       "      <td>Pseudomonas putida KT2440</td>\n",
       "      <td>907</td>\n",
       "    </tr>\n",
       "    <tr>\n",
       "      <th>iAM_Pb448</th>\n",
       "      <td>448</td>\n",
       "      <td>1067</td>\n",
       "      <td>Plasmodium berghei</td>\n",
       "      <td>903</td>\n",
       "    </tr>\n",
       "    <tr>\n",
       "      <th>iAM_Pc455</th>\n",
       "      <td>455</td>\n",
       "      <td>1074</td>\n",
       "      <td>Plasmodium cynomolgi strain B</td>\n",
       "      <td>907</td>\n",
       "    </tr>\n",
       "    <tr>\n",
       "      <th>iJR904</th>\n",
       "      <td>904</td>\n",
       "      <td>1075</td>\n",
       "      <td>Escherichia coli str. K-12 substr. MG1655</td>\n",
       "      <td>761</td>\n",
       "    </tr>\n",
       "    <tr>\n",
       "      <th>iAM_Pv461</th>\n",
       "      <td>461</td>\n",
       "      <td>1078</td>\n",
       "      <td>Plasmodium vivax Sal-1</td>\n",
       "      <td>909</td>\n",
       "    </tr>\n",
       "    <tr>\n",
       "      <th>iAM_Pk459</th>\n",
       "      <td>459</td>\n",
       "      <td>1079</td>\n",
       "      <td>Plasmodium knowlesi strain H</td>\n",
       "      <td>909</td>\n",
       "    </tr>\n",
       "    <tr>\n",
       "      <th>iAM_Pf480</th>\n",
       "      <td>480</td>\n",
       "      <td>1083</td>\n",
       "      <td>Plasmodium falciparum 3D7</td>\n",
       "      <td>909</td>\n",
       "    </tr>\n",
       "    <tr>\n",
       "      <th>iEK1008</th>\n",
       "      <td>1008</td>\n",
       "      <td>1226</td>\n",
       "      <td>Mycobacterium tuberculosis H37Rv</td>\n",
       "      <td>998</td>\n",
       "    </tr>\n",
       "    <tr>\n",
       "      <th>iCN900</th>\n",
       "      <td>900</td>\n",
       "      <td>1229</td>\n",
       "      <td>Clostridioides difficile 630</td>\n",
       "      <td>885</td>\n",
       "    </tr>\n",
       "    <tr>\n",
       "      <th>iYO844</th>\n",
       "      <td>844</td>\n",
       "      <td>1250</td>\n",
       "      <td>Bacillus subtilis subsp. subtilis str. 168</td>\n",
       "      <td>990</td>\n",
       "    </tr>\n",
       "    <tr>\n",
       "      <th>iND750</th>\n",
       "      <td>750</td>\n",
       "      <td>1266</td>\n",
       "      <td>Saccharomyces cerevisiae S288C</td>\n",
       "      <td>1059</td>\n",
       "    </tr>\n",
       "    <tr>\n",
       "      <th>iAF987</th>\n",
       "      <td>987</td>\n",
       "      <td>1285</td>\n",
       "      <td>Geobacter metallireducens GS-15</td>\n",
       "      <td>1109</td>\n",
       "    </tr>\n",
       "  </tbody>\n",
       "</table>\n",
       "</div>"
      ],
      "text/plain": [
       "                       gene_count  reaction_count  \\\n",
       "bigg_id                                             \n",
       "e_coli_core                   137              95   \n",
       "iAB_RBC_283                   346             469   \n",
       "iIS312                        312             519   \n",
       "iIS312_Amastigote             312             519   \n",
       "iIS312_Epimastigote           312             519   \n",
       "iIS312_Trypomastigote         312             520   \n",
       "iIT341                        339             554   \n",
       "iLJ478                        482             652   \n",
       "iAF692                        692             690   \n",
       "iSB619                        619             743   \n",
       "iNF517                        516             754   \n",
       "iHN637                        637             785   \n",
       "iJB785                        785             849   \n",
       "iJN678                        622             863   \n",
       "iAT_PLT_636                   636            1008   \n",
       "iCN718                        709            1015   \n",
       "iNJ661                        661            1025   \n",
       "iSynCJ816                     816            1044   \n",
       "iJN746                        746            1054   \n",
       "iAM_Pb448                     448            1067   \n",
       "iAM_Pc455                     455            1074   \n",
       "iJR904                        904            1075   \n",
       "iAM_Pv461                     461            1078   \n",
       "iAM_Pk459                     459            1079   \n",
       "iAM_Pf480                     480            1083   \n",
       "iEK1008                      1008            1226   \n",
       "iCN900                        900            1229   \n",
       "iYO844                        844            1250   \n",
       "iND750                        750            1266   \n",
       "iAF987                        987            1285   \n",
       "\n",
       "                                                         organism  \\\n",
       "bigg_id                                                             \n",
       "e_coli_core             Escherichia coli str. K-12 substr. MG1655   \n",
       "iAB_RBC_283                                          Homo sapiens   \n",
       "iIS312                                    Trypanosoma cruzi Dm28c   \n",
       "iIS312_Amastigote                         Trypanosoma cruzi Dm28c   \n",
       "iIS312_Epimastigote                       Trypanosoma cruzi Dm28c   \n",
       "iIS312_Trypomastigote                     Trypanosoma cruzi Dm28c   \n",
       "iIT341                                  Helicobacter pylori 26695   \n",
       "iLJ478                                   Thermotoga maritima MSB8   \n",
       "iAF692                         Methanosarcina barkeri str. Fusaro   \n",
       "iSB619                   Staphylococcus aureus subsp. aureus N315   \n",
       "iNF517                  Lactococcus lactis subsp. cremoris MG1363   \n",
       "iHN637                          Clostridium ljungdahlii DSM 13528   \n",
       "iJB785                           Synechococcus elongatus PCC 7942   \n",
       "iJN678                                 Synechocystis sp. PCC 6803   \n",
       "iAT_PLT_636                                          Homo sapiens   \n",
       "iCN718                                Acinetobacter baumannii AYE   \n",
       "iNJ661                           Mycobacterium tuberculosis H37Rv   \n",
       "iSynCJ816                              Synechocystis sp. PCC 6803   \n",
       "iJN746                                  Pseudomonas putida KT2440   \n",
       "iAM_Pb448                                      Plasmodium berghei   \n",
       "iAM_Pc455                           Plasmodium cynomolgi strain B   \n",
       "iJR904                  Escherichia coli str. K-12 substr. MG1655   \n",
       "iAM_Pv461                                  Plasmodium vivax Sal-1   \n",
       "iAM_Pk459                            Plasmodium knowlesi strain H   \n",
       "iAM_Pf480                               Plasmodium falciparum 3D7   \n",
       "iEK1008                          Mycobacterium tuberculosis H37Rv   \n",
       "iCN900                               Clostridioides difficile 630   \n",
       "iYO844                 Bacillus subtilis subsp. subtilis str. 168   \n",
       "iND750                             Saccharomyces cerevisiae S288C   \n",
       "iAF987                            Geobacter metallireducens GS-15   \n",
       "\n",
       "                       metabolite_count  \n",
       "bigg_id                                  \n",
       "e_coli_core                          72  \n",
       "iAB_RBC_283                         342  \n",
       "iIS312                              606  \n",
       "iIS312_Amastigote                   606  \n",
       "iIS312_Epimastigote                 606  \n",
       "iIS312_Trypomastigote               606  \n",
       "iIT341                              485  \n",
       "iLJ478                              570  \n",
       "iAF692                              628  \n",
       "iSB619                              655  \n",
       "iNF517                              650  \n",
       "iHN637                              698  \n",
       "iJB785                              768  \n",
       "iJN678                              795  \n",
       "iAT_PLT_636                         738  \n",
       "iCN718                              888  \n",
       "iNJ661                              825  \n",
       "iSynCJ816                           928  \n",
       "iJN746                              907  \n",
       "iAM_Pb448                           903  \n",
       "iAM_Pc455                           907  \n",
       "iJR904                              761  \n",
       "iAM_Pv461                           909  \n",
       "iAM_Pk459                           909  \n",
       "iAM_Pf480                           909  \n",
       "iEK1008                             998  \n",
       "iCN900                              885  \n",
       "iYO844                              990  \n",
       "iND750                             1059  \n",
       "iAF987                             1109  "
      ]
     },
     "execution_count": 5,
     "metadata": {},
     "output_type": "execute_result"
    }
   ],
   "source": [
    "bigg_df = pd.DataFrame(bigg_models).set_index(BIGG_ID)\n",
    "bigg_df.sort_values(by=BIGG_REACTION_COUNT, \n",
    "                    inplace=True)\n",
    "bigg_df.head(30)"
   ]
  },
  {
   "cell_type": "code",
   "execution_count": 6,
   "metadata": {},
   "outputs": [
    {
     "name": "stdout",
     "output_type": "stream",
     "text": [
      "------------------------------------------------------\n",
      "gene_count                                  709\n",
      "reaction_count                             1015\n",
      "organism            Acinetobacter baumannii AYE\n",
      "metabolite_count                            888\n",
      "Name: iCN718, dtype: object\n",
      "------------------------------------------------------\n",
      "gene_count                           1343\n",
      "reaction_count                       2765\n",
      "organism            Escherichia coli IAI1\n",
      "metabolite_count                     1968\n",
      "Name: iECIAI1_1343, dtype: object\n",
      "------------------------------------------------------\n",
      "gene_count                                           1027\n",
      "reaction_count                                       4456\n",
      "organism            Phaeodactylum tricornutum CCAP 1055/1\n",
      "metabolite_count                                     2172\n",
      "Name: iLB1027_lipid, dtype: object\n",
      "------------------------------------------------------\n",
      "gene_count                        1766\n",
      "reaction_count                    6663\n",
      "organism            Cricetulus griseus\n",
      "metabolite_count                  4456\n",
      "Name: iCHOv1, dtype: object\n",
      "------------------------------------------------------\n",
      "gene_count                  2248\n",
      "reaction_count             10600\n",
      "organism            Homo sapiens\n",
      "metabolite_count            5835\n",
      "Name: Recon3D, dtype: object\n",
      "------------------------------------------------------\n"
     ]
    }
   ],
   "source": [
    "# define four bigg models depending on size\n",
    "MODEL_1000 = \"iCN718.xml\"\n",
    "MODEL_3000 = \"iECIAI1_1343.xml\"\n",
    "MODEL_4000 = \"iLB1027_lipid.xml\"\n",
    "MODEL_6000 = \"iCHOv1.xml\"\n",
    "MODEL_10000 = \"Recon3D.xml\"\n",
    "FOUR_BIGG = [MODEL_1000, MODEL_3000, MODEL_4000, MODEL_6000, MODEL_10000]\n",
    "print(\"------------------------------------------------------\")\n",
    "for bigg in FOUR_BIGG:\n",
    "  print(bigg_df.loc[bigg[:-4]])\n",
    "  print(\"------------------------------------------------------\")"
   ]
  },
  {
   "cell_type": "code",
   "execution_count": 7,
   "metadata": {},
   "outputs": [],
   "source": [
    "# use Recon3D\n",
    "# SAMPLE_MODEL = FOUR_BIGG[3]\n",
    "# fpath = os.path.join(cn.BIGG_DIR, SAMPLE_MODEL)\n",
    "# simple = SimpleSBML()\n",
    "# simple.initialize(fpath)"
   ]
  },
  {
   "cell_type": "code",
   "execution_count": 8,
   "metadata": {},
   "outputs": [],
   "source": [
    "def solveMILP(mat):\n",
    "  prob = LpProblem(\"Finding_Unconserved_Metabolites\", LpMaximize)\n",
    "  species = list(mat.index)\n",
    "  species_inclusion = pulp.LpVariable.dicts(\"species\", species, cat=\"Binary\")\n",
    "  species_mass = pulp.LpVariable.dicts(\"mass\", species, cat=\"Continuous\")\n",
    "  # objective function (to maximize the number of species)\n",
    "  prob += lpSum([species_inclusion[i] for i in species])\n",
    "  # constraint 1 (for each reaction, the sum(stoichiometry[i]*mass[i])=0)\n",
    "  for reaction in mat.columns:\n",
    "    prob += lpSum(sum([mat[reaction][species]*species_mass[species] for species in species_inclusion])) == 0\n",
    "  # constraint 2 (species_inclusion is less than or equal to mass of each species)\n",
    "  for species in species_mass.keys():\n",
    "    prob += species_inclusion[species] <= species_mass[species]\n",
    "  prob.solve()\n",
    "  return prob\n",
    "def getUnconservedMetabolites(milp_result):\n",
    "  unconserved_metabolites = []\n",
    "  for v in milp_result.variables():\n",
    "    if v.varValue==0:\n",
    "      if v.name[:7]==\"species\":\n",
    "        unconserved_metabolites.append(v.name[8:])\n",
    "  return unconserved_metabolites"
   ]
  },
  {
   "cell_type": "code",
   "execution_count": 9,
   "metadata": {},
   "outputs": [],
   "source": [
    "# milp_start = time.time()\n",
    "# s = StoichiometryMatrix(simple)\n",
    "# milp_result = solveMILP(s.stoichiometry_matrix)\n",
    "# unconserved_metabolites = getUnconservedMetabolites(milp_result)\n",
    "# milp_end = time.time()\n",
    "# milp_time = milp_end - milp_start\n",
    "# print(\"MILP time: %f\" % milp_time)"
   ]
  },
  {
   "cell_type": "code",
   "execution_count": null,
   "metadata": {},
   "outputs": [],
   "source": []
  },
  {
   "cell_type": "code",
   "execution_count": 10,
   "metadata": {},
   "outputs": [],
   "source": [
    "def analyzeBIGG(model_file):\n",
    "  simple = SimpleSBML()\n",
    "  simple.initialize(os.path.join(cn.BIGG_DIR, model_file))\n",
    "  print(\"Model: %s\" % model_file)\n",
    "  xgames_start = time.time()\n",
    "  m = GAMES_PP(simple)\n",
    "  res = m.analyze(simple_games=False, error_details=False, suppress_message=True)\n",
    "  xgames_end = time.time()\n",
    "  xgames_time = xgames_end - xgames_start\n",
    "  print(\"xGAMES time: %f\" % xgames_time)\n",
    "  if res:\n",
    "    print(\"xGAMES found an error!\")\n",
    "  else:\n",
    "    print(\"xGAMES didn't find an error!\")\n",
    "  lp_start = time.time()\n",
    "  s = StoichiometryMatrix(simple)\n",
    "  lp_res = s.isConsistent()\n",
    "  lp_end = time.time()\n",
    "  lp_time = lp_end - lp_start\n",
    "  print(\"LP time: %f\" % lp_time)\n",
    "  if s.result.status!=0:\n",
    "    print(\"LP found an error!\")\n",
    "  milp_start = time.time()\n",
    "  milp_result = solveMILP(s.stoichiometry_matrix)\n",
    "  unconserved_metabolites = getUnconservedMetabolites(milp_result)\n",
    "  milp_end = time.time()\n",
    "  milp_time = milp_end - milp_start\n",
    "  print(\"MILP time: %f\" % milp_time)\n",
    "  return m, s, milp_result, unconserved_metabolites"
   ]
  },
  {
   "cell_type": "code",
   "execution_count": 11,
   "metadata": {},
   "outputs": [],
   "source": [
    "def analyzeByGAMES(model_file):\n",
    "  simple = SimpleSBML()\n",
    "  simple.initialize(os.path.join(cn.BIGG_DIR, model_file))\n",
    "  print(\"Model: %s\" % model_file)\n",
    "  xgames_start = time.time()\n",
    "  m = GAMES_PP(simple)\n",
    "  res = m.analyze(simple_games=False, error_details=False, suppress_message=True)\n",
    "  xgames_end = time.time()\n",
    "  xgames_time = xgames_end - xgames_start\n",
    "  print(\"xGAMES time: %f\" % xgames_time)\n",
    "  if res:\n",
    "    print(\"xGAMES found an error!\")\n",
    "  else:\n",
    "    print(\"xGAMES didn't find an error!\")\n",
    "  return m, xgames_time"
   ]
  },
  {
   "cell_type": "code",
   "execution_count": 12,
   "metadata": {},
   "outputs": [],
   "source": [
    "def getRIS(m_games):\n",
    "  result = []\n",
    "  gr = GAMESReport(m_games)\n",
    "  operation_df = gr.getOperationMatrix()\n",
    "  if m_games.echelon_errors:\n",
    "    for reaction in m_games.echelon_errors:\n",
    "      operation_series = operation_df.T[reaction.label]\n",
    "      result.append(len(operation_series.to_numpy().nonzero()[0]))\n",
    "  if m_games.type_three_errors:\n",
    "    for reaction in m_games.type_three_errors:\n",
    "      operation_series = operation_df.T[reaction.label]\n",
    "      result.append(len(operation_series.to_numpy().nonzero()[0]) + 1)\n",
    "  print(result)\n",
    "  return(result)"
   ]
  },
  {
   "cell_type": "code",
   "execution_count": 13,
   "metadata": {},
   "outputs": [
    {
     "name": "stdout",
     "output_type": "stream",
     "text": [
      "Model: iCN718.xml\n",
      "xGAMES time: 55.397146\n",
      "xGAMES found an error!\n",
      "Model: iCN718.xml\n",
      "xGAMES time: 54.934188\n",
      "xGAMES found an error!\n",
      "Model: iCN718.xml\n",
      "xGAMES time: 58.113262\n",
      "xGAMES found an error!\n"
     ]
    }
   ],
   "source": [
    "m1_1000, time1_1000 = analyzeByGAMES(MODEL_1000)\n",
    "m2_1000, time2_1000 = analyzeByGAMES(MODEL_1000)\n",
    "m3_1000, time3_1000 = analyzeByGAMES(MODEL_1000)"
   ]
  },
  {
   "cell_type": "code",
   "execution_count": 14,
   "metadata": {},
   "outputs": [
    {
     "data": {
      "text/plain": [
       "'average games time for 1000-reaction model: 56.15'"
      ]
     },
     "execution_count": 14,
     "metadata": {},
     "output_type": "execute_result"
    }
   ],
   "source": [
    "ave_1000_time = (time1_1000 + time2_1000 + time3_1000)/3\n",
    "\"average games time for 1000-reaction model: %.02f\" % ave_1000_time"
   ]
  },
  {
   "cell_type": "code",
   "execution_count": 15,
   "metadata": {},
   "outputs": [
    {
     "name": "stdout",
     "output_type": "stream",
     "text": [
      "[63]\n",
      "[106]\n",
      "[2, 121]\n"
     ]
    }
   ],
   "source": [
    "m1_1000_ris = getRIS(m1_1000)\n",
    "m2_1000_ris = getRIS(m2_1000)\n",
    "m3_1000_ris = getRIS(m3_1000)\n",
    "#calculate mean of each run, and mean of all three"
   ]
  },
  {
   "cell_type": "code",
   "execution_count": 16,
   "metadata": {},
   "outputs": [
    {
     "data": {
      "text/plain": [
       "76.83333333333333"
      ]
     },
     "execution_count": 16,
     "metadata": {},
     "output_type": "execute_result"
    }
   ],
   "source": [
    "(np.mean(m1_1000_ris) + np.mean(m2_1000_ris) + np.mean(m3_1000_ris))/3"
   ]
  },
  {
   "cell_type": "code",
   "execution_count": 17,
   "metadata": {},
   "outputs": [
    {
     "data": {
      "text/plain": [
       "1.3333333333333333"
      ]
     },
     "execution_count": 17,
     "metadata": {},
     "output_type": "execute_result"
    }
   ],
   "source": [
    "(len(m1_1000_ris) + len(m2_1000_ris) + len(m3_1000_ris)) / 3"
   ]
  },
  {
   "cell_type": "code",
   "execution_count": 18,
   "metadata": {},
   "outputs": [
    {
     "data": {
      "text/plain": [
       "[ErrorSummary(type='echelon', errors=[R_PTAr:  -> 0.05 {M_ara5p_c=M_r1p_c=M_r5p_c=M_ru5p__D_c=M_xu5p__D_c=M_xyl__D_c=M_xyl__D_e}])]"
      ]
     },
     "execution_count": 18,
     "metadata": {},
     "output_type": "execute_result"
    }
   ],
   "source": [
    "m2_1000.error_summary"
   ]
  },
  {
   "cell_type": "code",
   "execution_count": null,
   "metadata": {},
   "outputs": [],
   "source": []
  },
  {
   "cell_type": "code",
   "execution_count": 19,
   "metadata": {},
   "outputs": [
    {
     "name": "stdout",
     "output_type": "stream",
     "text": [
      "Model: iECIAI1_1343.xml\n",
      "xGAMES time: 885.113626\n",
      "xGAMES found an error!\n",
      "Model: iECIAI1_1343.xml\n",
      "xGAMES time: 917.250528\n",
      "xGAMES found an error!\n",
      "Model: iECIAI1_1343.xml\n",
      "xGAMES time: 872.143673\n",
      "xGAMES found an error!\n"
     ]
    }
   ],
   "source": [
    "m1_3000, time1_3000 = analyzeByGAMES(MODEL_3000)\n",
    "m2_3000, time2_3000 = analyzeByGAMES(MODEL_3000)\n",
    "m3_3000, time3_3000 = analyzeByGAMES(MODEL_3000)"
   ]
  },
  {
   "cell_type": "code",
   "execution_count": 20,
   "metadata": {},
   "outputs": [
    {
     "data": {
      "text/plain": [
       "'average games time for 1000-reaction model: 891.50'"
      ]
     },
     "execution_count": 20,
     "metadata": {},
     "output_type": "execute_result"
    }
   ],
   "source": [
    "ave_3000_time = (time1_3000 + time2_3000 + time3_3000)/3\n",
    "\"average games time for 1000-reaction model: %.02f\" % ave_3000_time"
   ]
  },
  {
   "cell_type": "code",
   "execution_count": 21,
   "metadata": {},
   "outputs": [
    {
     "name": "stdout",
     "output_type": "stream",
     "text": [
      "[667, 560, 566, 568, 559, 641, 641, 567, 567, 578, 568, 568, 568, 667, 623, 568, 623, 667, 559, 566, 568, 678, 671, 621, 660, 577, 566, 567, 623, 623, 623, 558, 667, 670, 608, 626, 626, 625, 569, 568, 649, 566, 568, 664, 626, 627, 567, 625, 561, 569, 566, 568, 569, 388, 576, 568, 651, 621, 646, 566, 625, 576, 622, 568, 567, 686, 558, 623, 647, 566, 671, 671, 675, 671, 670, 670, 669, 663, 664, 670, 662, 665, 662, 662, 662, 656, 657, 658, 623, 647, 623, 628, 647, 566, 627, 623, 655, 645, 623, 623, 642, 644, 644, 645, 643, 642, 643, 643, 638, 638, 646, 638, 638, 625, 638, 650, 646, 631, 641, 644, 626, 626, 625, 625, 641, 626, 610, 627, 623, 628, 623, 622, 623, 623, 621, 623, 623, 623, 623, 623, 623, 626, 623, 623, 566, 624, 624, 566, 624, 623, 625, 623, 623, 625, 624, 624, 610, 562, 625, 627, 623, 609, 624, 624, 624, 623, 624, 625, 567, 576, 624, 567, 623, 630, 623, 561, 623, 623, 624, 624, 621, 622, 629, 622, 623, 622, 623, 622, 622, 621, 621, 620, 623, 612, 616, 611, 608, 607, 609, 607, 606, 561, 606, 560, 609, 608, 606, 607, 581, 579, 580, 577, 579, 582, 578, 559, 578, 577, 576, 581, 577, 577, 573, 572, 571, 600, 569, 568, 575, 561, 574, 575, 566, 567, 566, 567, 568, 570, 570, 569, 571, 569, 566, 567, 567, 567, 566, 567, 568, 568, 567, 567, 568, 569, 566, 566, 566, 567, 560, 567, 566, 567, 567, 572, 558, 566, 568, 558, 558, 560, 558, 558, 559, 564, 558, 560, 561, 558, 559, 558, 558, 563, 560, 558, 566, 564, 559, 556, 555, 556, 555, 555, 555, 556, 556, 561, 560, 554, 558, 559, 553, 546, 532, 541, 533, 533, 532, 532, 532, 530, 528, 529, 528, 525, 526, 524, 523, 520, 520, 519, 519, 520, 518, 516, 519, 519, 518, 515, 515, 516, 511, 513, 512, 510, 503, 503, 504, 502, 502, 501, 496, 494, 488, 473, 472, 475, 465, 474, 464, 473, 470, 467, 454, 441, 448, 437, 434, 438, 432, 432, 421, 419, 410, 409, 411, 411, 407, 404, 401, 394, 388, 388, 386, 384, 377, 375, 372, 362, 346, 570, 560, 569, 574]\n",
      "[593, 618, 674, 587, 594, 598, 600, 599, 600, 511, 591, 390, 599, 589, 616, 586, 614, 619, 593, 593, 590, 592, 593, 599, 593, 615, 599, 599, 673, 599, 673, 674, 588, 663, 645, 614, 507, 625, 594, 593, 599, 599, 659, 650, 659, 614, 639, 654, 619, 619, 622, 594, 618, 617, 619, 617, 616, 617, 614, 614, 614, 615, 616, 615, 614, 614, 616, 617, 616, 617, 614, 617, 616, 614, 613, 614, 611, 612, 599, 599, 592, 597, 597, 598, 600, 600, 599, 597, 597, 597, 596, 597, 598, 596, 592, 592, 593, 591, 586, 593, 592, 592, 591, 591, 590, 589, 594, 586, 588, 586, 587, 586, 583, 581, 579, 577, 577, 577, 578, 573, 571, 569, 574, 567, 557, 555, 554, 553, 553, 559, 558, 552, 556, 553, 556, 551, 553, 551, 545, 542, 539, 544, 540, 539, 539, 539, 539, 538, 537, 537, 531, 528, 527, 528, 531, 529, 527, 528, 526, 524, 522, 519, 516, 514, 516, 517, 515, 514, 508, 508, 509, 506, 508, 507, 509, 510, 506, 505, 505, 501, 500, 498, 481, 476, 478, 473, 471, 458, 458, 447, 448, 447, 444, 438, 441, 437, 445, 440, 437, 431, 412, 413, 416, 413, 411, 403, 398, 398, 393, 391, 390, 389, 391, 391, 388, 387, 393, 388, 384, 381, 381, 377, 372, 370, 367, 359, 344, 341]\n",
      "[397, 445, 432, 434, 433, 431, 423, 418, 418, 414, 413, 413, 412, 414, 414, 412, 413, 410, 404, 396, 392, 392, 384, 379, 377, 374, 360, 357]\n"
     ]
    },
    {
     "data": {
      "text/plain": [
       "555.2770219718137"
      ]
     },
     "execution_count": 21,
     "metadata": {},
     "output_type": "execute_result"
    }
   ],
   "source": [
    "m1_3000_ris = getRIS(m1_3000)\n",
    "m2_3000_ris = getRIS(m2_3000)\n",
    "m3_3000_ris = getRIS(m3_3000)\n",
    "(np.mean(m1_3000_ris) + np.mean(m2_3000_ris) + np.mean(m2_3000_ris))/3"
   ]
  },
  {
   "cell_type": "code",
   "execution_count": 22,
   "metadata": {},
   "outputs": [
    {
     "data": {
      "text/plain": [
       "213.0"
      ]
     },
     "execution_count": 22,
     "metadata": {},
     "output_type": "execute_result"
    }
   ],
   "source": [
    "(len(m1_3000_ris) + len(m2_3000_ris) + len(m3_3000_ris)) / 3"
   ]
  },
  {
   "cell_type": "code",
   "execution_count": null,
   "metadata": {},
   "outputs": [],
   "source": []
  },
  {
   "cell_type": "code",
   "execution_count": 21,
   "metadata": {},
   "outputs": [
    {
     "name": "stdout",
     "output_type": "stream",
     "text": [
      "Model: iLB1027_lipid.xml\n",
      "xGAMES time: 1646.834592\n",
      "xGAMES didn't find an error!\n",
      "Model: iLB1027_lipid.xml\n",
      "xGAMES time: 1653.936392\n",
      "xGAMES didn't find an error!\n",
      "Model: iLB1027_lipid.xml\n",
      "xGAMES time: 1661.339419\n",
      "xGAMES didn't find an error!\n"
     ]
    }
   ],
   "source": [
    "# m1_4000, time1_4000 = analyzeByGAMES(MODEL_4000)\n",
    "# m2_4000, time2_4000 = analyzeByGAMES(MODEL_4000)\n",
    "# m3_4000, time3_4000 = analyzeByGAMES(MODEL_4000)"
   ]
  },
  {
   "cell_type": "code",
   "execution_count": null,
   "metadata": {},
   "outputs": [],
   "source": []
  },
  {
   "cell_type": "code",
   "execution_count": null,
   "metadata": {},
   "outputs": [],
   "source": []
  },
  {
   "cell_type": "code",
   "execution_count": null,
   "metadata": {},
   "outputs": [],
   "source": []
  },
  {
   "cell_type": "code",
   "execution_count": null,
   "metadata": {},
   "outputs": [],
   "source": []
  },
  {
   "cell_type": "code",
   "execution_count": null,
   "metadata": {},
   "outputs": [],
   "source": []
  },
  {
   "cell_type": "code",
   "execution_count": 23,
   "metadata": {},
   "outputs": [
    {
     "name": "stdout",
     "output_type": "stream",
     "text": [
      "Model: iCHOv1.xml\n",
      "xGAMES time: 10967.770757\n",
      "xGAMES found an error!\n"
     ]
    }
   ],
   "source": [
    "m1_6000, time1_6000 = analyzeByGAMES(MODEL_6000)"
   ]
  },
  {
   "cell_type": "code",
   "execution_count": 24,
   "metadata": {},
   "outputs": [
    {
     "name": "stdout",
     "output_type": "stream",
     "text": [
      "Model: iCHOv1.xml\n",
      "xGAMES time: 10224.564604\n",
      "xGAMES found an error!\n"
     ]
    }
   ],
   "source": [
    "m2_6000, time2_6000 = analyzeByGAMES(MODEL_6000)"
   ]
  },
  {
   "cell_type": "code",
   "execution_count": 25,
   "metadata": {},
   "outputs": [
    {
     "name": "stdout",
     "output_type": "stream",
     "text": [
      "Model: iCHOv1.xml\n",
      "xGAMES time: 10545.827261\n",
      "xGAMES found an error!\n"
     ]
    }
   ],
   "source": [
    "m3_6000, time3_6000 = analyzeByGAMES(MODEL_6000)"
   ]
  },
  {
   "cell_type": "code",
   "execution_count": 26,
   "metadata": {},
   "outputs": [],
   "source": [
    "# m4_6000, time4_6000 = analyzeByGAMES(MODEL_6000)"
   ]
  },
  {
   "cell_type": "code",
   "execution_count": 37,
   "metadata": {},
   "outputs": [
    {
     "data": {
      "text/plain": [
       "'average games time for 1000-reaction model: 2.94 hours'"
      ]
     },
     "execution_count": 37,
     "metadata": {},
     "output_type": "execute_result"
    }
   ],
   "source": [
    "ave_6000_time = (time1_6000 + time2_6000 + time3_6000)/3\n",
    "\"average games time for 1000-reaction model: %.02f hours\" % (ave_6000_time/3600)"
   ]
  },
  {
   "cell_type": "code",
   "execution_count": 28,
   "metadata": {},
   "outputs": [],
   "source": [
    "# ave_6000_time = (10206.073371 + 7281.181085 + 10132.363248)/3\n",
    "# \"average games time for 1000-reaction model: %.02f\" % ave_6000_time"
   ]
  },
  {
   "cell_type": "code",
   "execution_count": 29,
   "metadata": {},
   "outputs": [
    {
     "name": "stdout",
     "output_type": "stream",
     "text": [
      "[312, 520, 520, 511, 521, 540, 522, 346, 522, 499, 428, 544, 537, 576, 591, 358, 512, 537, 587, 548, 543, 525, 543, 520, 537, 537, 538, 546, 546, 549, 540, 428, 467, 474, 543, 478, 420, 473, 589, 586, 584, 583, 513, 581, 476, 475, 510, 476, 476, 544, 522, 484, 475, 537, 581, 581, 504, 427, 580, 428, 538, 358, 537, 583, 508, 576, 584, 576, 581, 505, 589, 534, 548, 548, 577, 480, 432, 475, 582, 581, 478, 542, 580, 582, 509, 583, 578, 470, 547, 540, 548, 581, 575, 578, 585, 581, 575, 427, 573, 586, 580, 580, 477, 522, 477, 477, 510, 579, 580, 538, 576, 577, 507, 579, 448, 428, 584, 583, 579, 581, 573, 576, 579, 579, 582, 531, 571, 573, 584, 574, 572, 571, 570, 570, 571, 572, 506, 570, 571, 569, 533, 535, 532, 537, 534, 532, 532, 530, 534, 536, 354, 527, 520, 515, 520, 505, 504, 504, 499, 503, 500, 503, 503, 501, 503, 501, 506, 497, 491, 491, 490, 484, 482, 483, 472, 474, 474, 479, 474, 474, 473, 479, 473, 471, 471, 471, 471, 473, 473, 471, 489, 470, 471, 469, 468, 468, 469, 469, 466, 467, 472, 464, 464, 465, 462, 462, 461, 460, 460, 455, 452, 450, 451, 450, 448, 441, 444, 445, 445, 442, 439, 442, 429, 433, 428, 428, 427, 428, 430, 426, 426, 426, 426, 424, 427, 419, 422, 409, 413, 380, 360, 363, 356, 359, 365, 354, 356, 354, 355, 357, 347, 346, 346, 337, 337, 335, 324, 313, 312, 311, 311, 311, 308, 308]\n",
      "[358, 426, 434, 408, 404, 439, 439, 438, 439, 437, 425, 434, 379, 436, 360, 436, 435, 369, 389, 381, 434, 438, 439, 434, 437, 434, 434, 436, 434, 431, 431, 431, 431, 434, 425, 425, 423, 423, 399, 405, 402, 399, 390, 388, 389, 387, 387, 397, 378, 378, 378, 378, 381, 366, 360, 359, 359, 359, 425, 425, 425, 428, 428, 428, 428, 428, 428, 428, 428, 428, 352]\n",
      "[557, 617, 623, 524, 541, 448, 521, 530, 521, 541, 530, 521, 448, 550, 445, 531, 452, 525, 532, 453, 450, 538, 520, 528, 520, 534, 455, 429, 535, 470, 533, 532, 473, 540, 555, 422, 538, 545, 529, 505, 569, 448, 544, 457, 507, 505, 556, 529, 534, 543, 537, 706, 534, 426, 541, 453, 543, 547, 520, 538, 528, 532, 456, 455, 528, 534, 547, 531, 532, 526, 303, 549, 498, 555, 548, 538, 539, 539, 534, 537, 559, 532, 547, 528, 545, 555, 536, 511, 531, 494, 531, 547, 549, 537, 532, 554, 546, 540, 561, 550, 546, 511, 515, 533, 532, 532, 423, 626, 536, 545, 485, 483, 531, 424, 550, 530, 547, 355, 532, 528, 542, 536, 541, 555, 530, 534, 533, 513, 555, 524, 530, 523, 546, 683, 517, 348, 551, 542, 544, 542, 555, 545, 550, 525, 540, 658, 540, 657, 552, 538, 320, 542, 547, 420, 567, 525, 528, 649, 649, 649, 509, 502, 530, 541, 539, 556, 618, 534, 616, 647, 548, 543, 640, 537, 645, 641, 646, 636, 635, 635, 622, 615, 545, 516, 627, 546, 545, 543, 621, 621, 619, 534, 544, 541, 540, 537, 534, 531, 524, 541, 529, 530, 528, 527, 508, 508, 525, 526, 526, 526, 524, 524, 525, 524, 524, 527, 525, 528, 525, 528, 514, 525, 525, 518, 518, 522, 523, 522, 523, 525, 523, 523, 523, 523, 524, 523, 522, 518, 524, 508, 506, 509, 506, 506, 506, 506, 504, 504, 501, 502, 503, 499, 496, 503, 493, 497, 498, 492, 493, 493, 490, 486, 487, 484, 487, 484, 482, 483, 482, 482, 482, 483, 485, 479, 480, 476, 467, 465, 466, 446, 446, 446, 444, 442, 447, 447, 446, 443, 436, 448, 434, 428, 424, 424, 424, 426, 423, 424, 422, 422, 422, 422, 424, 422, 421, 421, 423, 421, 421, 421, 421, 421, 421, 419, 422, 419, 416, 405, 404, 404, 393, 386, 352, 353, 353, 349, 348, 332, 352, 348, 327, 319, 325, 323, 315, 329, 319, 311, 310, 305, 302, 302, 302, 271, 484, 527, 524, 524, 527, 527, 527, 527, 527, 530, 524, 523, 524, 541, 550, 523, 551, 527, 523, 524, 524, 523, 526, 526, 526, 482, 526, 523]\n"
     ]
    },
    {
     "data": {
      "text/plain": [
       "468.62434201166593"
      ]
     },
     "execution_count": 29,
     "metadata": {},
     "output_type": "execute_result"
    }
   ],
   "source": [
    "m1_6000_ris = getRIS(m1_6000)\n",
    "m2_6000_ris = getRIS(m2_6000)\n",
    "m3_6000_ris = getRIS(m3_6000)\n",
    "(np.mean(m1_6000_ris) + np.mean(m2_6000_ris) + np.mean(m3_6000_ris))/3"
   ]
  },
  {
   "cell_type": "code",
   "execution_count": 30,
   "metadata": {},
   "outputs": [
    {
     "data": {
      "text/plain": [
       "235.66666666666666"
      ]
     },
     "execution_count": 30,
     "metadata": {},
     "output_type": "execute_result"
    }
   ],
   "source": [
    "(len(m1_6000_ris) + len(m2_6000_ris) + len(m3_6000_ris)) / 3"
   ]
  },
  {
   "cell_type": "code",
   "execution_count": 2,
   "metadata": {},
   "outputs": [],
   "source": [
    "# games_1000 = analyzeByGAMES(MODEL_1000)"
   ]
  },
  {
   "cell_type": "code",
   "execution_count": 3,
   "metadata": {},
   "outputs": [],
   "source": [
    "# print(games_1000.error_summary)"
   ]
  },
  {
   "cell_type": "code",
   "execution_count": 4,
   "metadata": {},
   "outputs": [],
   "source": [
    "# gr_1000 = GAMESReport(games_1000)"
   ]
  },
  {
   "cell_type": "code",
   "execution_count": 5,
   "metadata": {},
   "outputs": [],
   "source": [
    "# print(gr_1000.reportEchelonError([games_1000.echelon_errors[0]], explain_details=True)[0])"
   ]
  },
  {
   "cell_type": "code",
   "execution_count": 6,
   "metadata": {},
   "outputs": [],
   "source": [
    "# simple = SimpleSBML()\n",
    "# simple.initialize(os.path.join(cn.BIGG_DIR, MODEL_1000))\n",
    "# simple.getReaction(\"R_TRILIP\")"
   ]
  },
  {
   "cell_type": "code",
   "execution_count": null,
   "metadata": {},
   "outputs": [],
   "source": []
  },
  {
   "cell_type": "code",
   "execution_count": 31,
   "metadata": {},
   "outputs": [
    {
     "name": "stdout",
     "output_type": "stream",
     "text": [
      "Model: Recon3D.xml\n",
      "xGAMES time: 24936.693614\n",
      "xGAMES found an error!\n"
     ]
    }
   ],
   "source": [
    "# Finally, Recon3D\n",
    "m1_10000, time_10000 = analyzeByGAMES(MODEL_10000)"
   ]
  },
  {
   "cell_type": "code",
   "execution_count": 38,
   "metadata": {},
   "outputs": [
    {
     "data": {
      "text/plain": [
       "'average games time for Recon3D model: 6.93 hours'"
      ]
     },
     "execution_count": 38,
     "metadata": {},
     "output_type": "execute_result"
    }
   ],
   "source": [
    "\"average games time for Recon3D model: %.02f hours\" % (time_10000/3600)"
   ]
  },
  {
   "cell_type": "code",
   "execution_count": 32,
   "metadata": {},
   "outputs": [
    {
     "name": "stdout",
     "output_type": "stream",
     "text": [
      "[842, 855, 859, 861, 860, 865, 860, 857, 861, 859, 859, 3, 3, 865, 864, 854, 858, 853, 864, 863, 860, 867, 861, 864, 860, 855, 840, 859, 818, 861, 865, 864, 861, 860, 863, 862, 861, 860, 860, 789, 863, 860, 857, 851, 857, 862, 860, 865, 802, 864, 703, 865, 807, 847, 851, 863, 860, 862, 861, 855, 866, 862, 845, 861, 858, 883, 860, 861, 865, 861, 861, 861, 859, 863, 866, 871, 870, 861, 863, 859, 858, 857, 860, 860, 865, 862, 853, 867, 851, 806, 858, 857, 876, 882, 861, 813, 859, 854, 865, 862, 864, 866, 858, 817, 682, 858, 847, 858, 879, 861, 853, 856, 863, 864, 861, 860, 864, 861, 860, 860, 861, 864, 860, 865, 866, 865, 860, 863, 862, 858, 857, 861, 866, 865, 867, 839, 866, 856, 863, 856, 865, 864, 862, 857, 862, 859, 855, 848, 789, 867, 863, 863, 878, 864, 633, 866, 860, 855, 860, 857, 855, 861, 860, 864, 865, 861, 864, 860, 860, 859, 861, 860, 861, 860, 842, 857, 860, 805, 870, 860, 858, 863, 854, 843, 875, 838, 865, 681, 860, 857, 783, 864, 865, 860, 866, 865, 864, 635, 637, 862, 863, 804, 857, 878, 865, 860, 858, 857, 865, 851, 865, 857, 851, 858, 876, 858, 859, 859, 861, 860, 864, 854, 861, 860, 854, 853, 853, 863, 869, 860, 857, 839, 858, 863, 860, 860, 842, 860, 862, 877, 850, 857, 857, 860, 876, 857, 859, 843, 857, 838, 852, 855, 857, 861, 856, 854, 877, 856, 856, 856, 856, 856, 855, 856, 856, 856, 856, 856, 856, 856, 856, 856, 856, 856, 856, 847, 860, 863, 860, 692, 860, 859, 862, 636, 857, 856, 871, 855, 858, 873, 875, 862, 859, 865, 859, 857, 857, 858, 863, 859, 859, 856, 856, 856, 852, 856, 856, 856, 849, 856, 856, 856, 856, 856, 856, 856, 856, 856, 856, 856, 856, 856, 856, 856, 856, 856, 856, 856, 856, 856, 856, 854, 853, 909, 866, 863, 803, 860, 878, 878, 877, 877, 878, 873, 891, 879, 882, 879, 875, 855, 874, 859, 875, 867, 854, 885, 884, 888, 883, 883, 883, 884, 882, 883, 866, 863, 861, 871, 865, 863, 859, 858, 862, 862, 859, 854, 862, 868, 863, 863, 859, 856, 850, 855, 866, 859, 858, 852, 862, 848, 856, 856, 863, 851, 867, 848, 850, 845, 845, 852, 848, 845, 846, 843, 846, 841, 846, 854, 856, 853, 855, 840, 842, 840, 839, 847, 843, 834, 833, 840, 837, 836, 837, 837, 836, 836, 836, 847, 833, 839, 839, 838, 843, 838, 842, 832, 836, 835, 833, 827, 815, 816, 816, 816, 814, 818, 823, 815, 817, 817, 820, 814, 817, 814, 814, 814, 815, 812, 813, 811, 812, 812, 811, 814, 812, 809, 809, 809, 813, 808, 810, 810, 806, 808, 811, 806, 811, 810, 802, 807, 805, 802, 803, 802, 809, 799, 802, 800, 800, 796, 794, 788, 786, 783, 781, 787, 725, 725, 704, 698, 701, 707, 703, 703, 690, 703, 702, 702, 693, 691, 692, 690, 681, 681, 683, 674, 674, 665, 663, 662, 656, 654, 858, 860, 850, 863, 860, 864]\n"
     ]
    }
   ],
   "source": [
    "m_10000_ris = getRIS(m1_10000)"
   ]
  },
  {
   "cell_type": "code",
   "execution_count": 35,
   "metadata": {},
   "outputs": [
    {
     "name": "stdout",
     "output_type": "stream",
     "text": [
      "528\n"
     ]
    },
    {
     "data": {
      "text/plain": [
       "837.5757575757576"
      ]
     },
     "execution_count": 35,
     "metadata": {},
     "output_type": "execute_result"
    }
   ],
   "source": [
    "print(len(m_10000_ris))\n",
    "np.mean(m_10000_ris)"
   ]
  },
  {
   "cell_type": "code",
   "execution_count": null,
   "metadata": {},
   "outputs": [],
   "source": []
  },
  {
   "cell_type": "code",
   "execution_count": null,
   "metadata": {},
   "outputs": [],
   "source": []
  },
  {
   "cell_type": "code",
   "execution_count": null,
   "metadata": {},
   "outputs": [],
   "source": []
  },
  {
   "cell_type": "code",
   "execution_count": null,
   "metadata": {},
   "outputs": [],
   "source": []
  },
  {
   "cell_type": "code",
   "execution_count": null,
   "metadata": {},
   "outputs": [],
   "source": []
  },
  {
   "cell_type": "code",
   "execution_count": null,
   "metadata": {},
   "outputs": [],
   "source": []
  },
  {
   "cell_type": "code",
   "execution_count": 21,
   "metadata": {},
   "outputs": [
    {
     "name": "stdout",
     "output_type": "stream",
     "text": [
      "Model: iCN718.xml\n",
      "xGAMES time: 108.660436\n",
      "xGAMES found an error!\n"
     ]
    },
    {
     "name": "stderr",
     "output_type": "stream",
     "text": [
      "//anaconda3/envs/sbml_env/lib/python3.6/site-packages/scipy/optimize/_linprog_util.py:763: OptimizeWarning: A_eq does not appear to be of full row rank. To improve performance, check the problem formulation for redundant equality constraints.\n",
      "  warn(redundancy_warning, OptimizeWarning)\n"
     ]
    },
    {
     "name": "stdout",
     "output_type": "stream",
     "text": [
      "LP time: 2.030797\n",
      "LP found an error!\n",
      "MILP time: 23.239786\n"
     ]
    }
   ],
   "source": [
    "m_1000, s_1000, milp_result_1000, unconserved_metabolites_1000 = analyzeBIGG(MODEL_1000)"
   ]
  },
  {
   "cell_type": "code",
   "execution_count": null,
   "metadata": {},
   "outputs": [],
   "source": []
  },
  {
   "cell_type": "code",
   "execution_count": 61,
   "metadata": {},
   "outputs": [
    {
     "name": "stdout",
     "output_type": "stream",
     "text": [
      "Model: iLB1027_lipid.xml\n",
      "xGAMES time: 1626.331340\n",
      "xGAMES found an error!\n",
      "LP time: 272.211592\n",
      "LP found an error!\n",
      "MILP time: 285.884376\n"
     ]
    }
   ],
   "source": [
    "m_4000, s_4000, milp_result_4000, unconserved_metabolites_4000 = analyzeBIGG(MODEL_4000)"
   ]
  },
  {
   "cell_type": "code",
   "execution_count": 62,
   "metadata": {},
   "outputs": [
    {
     "name": "stdout",
     "output_type": "stream",
     "text": [
      "Model: iCHOv1.xml\n",
      "xGAMES time: 7200.678418\n",
      "xGAMES found an error!\n",
      "LP time: 759.267629\n",
      "LP found an error!\n",
      "MILP time: 796.065499\n"
     ]
    }
   ],
   "source": [
    "m_6000, s_6000, milp_result_6000, unconserved_metabolites_6000 = analyzeBIGG(MODEL_6000)"
   ]
  },
  {
   "cell_type": "code",
   "execution_count": 68,
   "metadata": {},
   "outputs": [
    {
     "data": {
      "text/plain": [
       "2370"
      ]
     },
     "execution_count": 68,
     "metadata": {},
     "output_type": "execute_result"
    }
   ],
   "source": [
    "len(unconserved_metabolites_6000)"
   ]
  },
  {
   "cell_type": "code",
   "execution_count": 71,
   "metadata": {},
   "outputs": [
    {
     "name": "stdout",
     "output_type": "stream",
     "text": [
      "2\n",
      "2\n"
     ]
    }
   ],
   "source": [
    "print(s_4000.result.status)\n",
    "print(s_6000.result.status)"
   ]
  },
  {
   "cell_type": "code",
   "execution_count": null,
   "metadata": {},
   "outputs": [],
   "source": []
  },
  {
   "cell_type": "code",
   "execution_count": null,
   "metadata": {},
   "outputs": [],
   "source": []
  }
 ],
 "metadata": {
  "kernelspec": {
   "display_name": "Python 3",
   "language": "python",
   "name": "python3"
  },
  "language_info": {
   "codemirror_mode": {
    "name": "ipython",
    "version": 3
   },
   "file_extension": ".py",
   "mimetype": "text/x-python",
   "name": "python",
   "nbconvert_exporter": "python",
   "pygments_lexer": "ipython3",
   "version": "3.6.10"
  }
 },
 "nbformat": 4,
 "nbformat_minor": 4
}
