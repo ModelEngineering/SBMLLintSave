{
 "cells": [
  {
   "cell_type": "code",
   "execution_count": 1,
   "metadata": {},
   "outputs": [],
   "source": [
    "import init\n",
    "from SBMLLint.common import constants as cn\n",
    "from SBMLLint.common.molecule import Molecule, MoleculeStoichiometry\n",
    "from SBMLLint.common import simple_sbml\n",
    "from SBMLLint.common.reaction import Reaction\n",
    "from SBMLLint.tools import sbmllint\n",
    "from SBMLLint.tools import print_reactions\n",
    "\n",
    "import os\n",
    "import numpy as np\n",
    "import pandas as pd\n",
    "from pulp import *\n",
    "import matplotlib.pyplot as plt\n",
    "import time\n",
    "\n",
    "from scipy.linalg import lu, inv\n",
    "from scipy.optimize import linprog"
   ]
  },
  {
   "cell_type": "code",
   "execution_count": 2,
   "metadata": {},
   "outputs": [
    {
     "name": "stdout",
     "output_type": "stream",
     "text": [
      "Current Directory: /Users/woosubs/Desktop/ModelEngineering/SBMLLint/SBMLLint/notebooks\n"
     ]
    }
   ],
   "source": [
    "from games_setup import *\n",
    "from SBMLLint.common import constants as cn\n",
    "from SBMLLint.common.simple_sbml import SimpleSBML\n",
    "from SBMLLint.common.stoichiometry_matrix import StoichiometryMatrix\n",
    "\n",
    "from SBMLLint.games.som import SOM\n",
    "from SBMLLint.games.games_pp import GAMES_PP, SOMStoichiometry, SOMReaction, TOLERANCE\n",
    "from SBMLLint.games.games_report import GAMESReport, SimplifiedReaction"
   ]
  },
  {
   "cell_type": "code",
   "execution_count": 3,
   "metadata": {},
   "outputs": [
    {
     "data": {
      "text/plain": [
       "'/Users/woosubs/Desktop/ModelEngineering/SBMLLint/SBMLLint/notebooks'"
      ]
     },
     "execution_count": 3,
     "metadata": {},
     "output_type": "execute_result"
    }
   ],
   "source": [
    "os.getcwd()"
   ]
  },
  {
   "cell_type": "code",
   "execution_count": 4,
   "metadata": {},
   "outputs": [
    {
     "name": "stdout",
     "output_type": "stream",
     "text": [
      "number of BiGG models: 108\n"
     ]
    },
    {
     "data": {
      "text/plain": [
       "[{'bigg_id': 'e_coli_core',\n",
       "  'gene_count': 137,\n",
       "  'reaction_count': 95,\n",
       "  'organism': 'Escherichia coli str. K-12 substr. MG1655',\n",
       "  'metabolite_count': 72}]"
      ]
     },
     "execution_count": 4,
     "metadata": {},
     "output_type": "execute_result"
    }
   ],
   "source": [
    "# Load relevant bigg models\n",
    "# bigg constants\n",
    "BIGG_RESULTS = \"results\"\n",
    "BIGG_ID = \"bigg_id\"\n",
    "BIGG_GENECOUNT = \"gene_count\"\n",
    "BIGG_REACTION_COUNT = \"reaction_count\"\n",
    "BIGG_ORGANISM = \"organism\"\n",
    "BIGG_METABOLITE_COUNT = \"metabolite_count\"\n",
    "import requests\n",
    "res = requests.get('http://bigg.ucsd.edu/api/v2/models')\n",
    "bigg_models = res.json()[BIGG_RESULTS]\n",
    "bigg_ids = [bigg[BIGG_ID] for bigg in bigg_models]\n",
    "print(\"number of BiGG models: %d\" % len(bigg_models))\n",
    "bigg_models[:1]"
   ]
  },
  {
   "cell_type": "code",
   "execution_count": 5,
   "metadata": {},
   "outputs": [
    {
     "data": {
      "text/html": [
       "<div>\n",
       "<style scoped>\n",
       "    .dataframe tbody tr th:only-of-type {\n",
       "        vertical-align: middle;\n",
       "    }\n",
       "\n",
       "    .dataframe tbody tr th {\n",
       "        vertical-align: top;\n",
       "    }\n",
       "\n",
       "    .dataframe thead th {\n",
       "        text-align: right;\n",
       "    }\n",
       "</style>\n",
       "<table border=\"1\" class=\"dataframe\">\n",
       "  <thead>\n",
       "    <tr style=\"text-align: right;\">\n",
       "      <th></th>\n",
       "      <th>gene_count</th>\n",
       "      <th>reaction_count</th>\n",
       "      <th>organism</th>\n",
       "      <th>metabolite_count</th>\n",
       "    </tr>\n",
       "    <tr>\n",
       "      <th>bigg_id</th>\n",
       "      <th></th>\n",
       "      <th></th>\n",
       "      <th></th>\n",
       "      <th></th>\n",
       "    </tr>\n",
       "  </thead>\n",
       "  <tbody>\n",
       "    <tr>\n",
       "      <th>e_coli_core</th>\n",
       "      <td>137</td>\n",
       "      <td>95</td>\n",
       "      <td>Escherichia coli str. K-12 substr. MG1655</td>\n",
       "      <td>72</td>\n",
       "    </tr>\n",
       "    <tr>\n",
       "      <th>iAB_RBC_283</th>\n",
       "      <td>346</td>\n",
       "      <td>469</td>\n",
       "      <td>Homo sapiens</td>\n",
       "      <td>342</td>\n",
       "    </tr>\n",
       "    <tr>\n",
       "      <th>iIS312</th>\n",
       "      <td>312</td>\n",
       "      <td>519</td>\n",
       "      <td>Trypanosoma cruzi Dm28c</td>\n",
       "      <td>606</td>\n",
       "    </tr>\n",
       "    <tr>\n",
       "      <th>iIS312_Amastigote</th>\n",
       "      <td>312</td>\n",
       "      <td>519</td>\n",
       "      <td>Trypanosoma cruzi Dm28c</td>\n",
       "      <td>606</td>\n",
       "    </tr>\n",
       "    <tr>\n",
       "      <th>iIS312_Epimastigote</th>\n",
       "      <td>312</td>\n",
       "      <td>519</td>\n",
       "      <td>Trypanosoma cruzi Dm28c</td>\n",
       "      <td>606</td>\n",
       "    </tr>\n",
       "  </tbody>\n",
       "</table>\n",
       "</div>"
      ],
      "text/plain": [
       "                     gene_count  reaction_count  \\\n",
       "bigg_id                                           \n",
       "e_coli_core                 137              95   \n",
       "iAB_RBC_283                 346             469   \n",
       "iIS312                      312             519   \n",
       "iIS312_Amastigote           312             519   \n",
       "iIS312_Epimastigote         312             519   \n",
       "\n",
       "                                                      organism  \\\n",
       "bigg_id                                                          \n",
       "e_coli_core          Escherichia coli str. K-12 substr. MG1655   \n",
       "iAB_RBC_283                                       Homo sapiens   \n",
       "iIS312                                 Trypanosoma cruzi Dm28c   \n",
       "iIS312_Amastigote                      Trypanosoma cruzi Dm28c   \n",
       "iIS312_Epimastigote                    Trypanosoma cruzi Dm28c   \n",
       "\n",
       "                     metabolite_count  \n",
       "bigg_id                                \n",
       "e_coli_core                        72  \n",
       "iAB_RBC_283                       342  \n",
       "iIS312                            606  \n",
       "iIS312_Amastigote                 606  \n",
       "iIS312_Epimastigote               606  "
      ]
     },
     "execution_count": 5,
     "metadata": {},
     "output_type": "execute_result"
    }
   ],
   "source": [
    "bigg_df = pd.DataFrame(bigg_models).set_index(BIGG_ID)\n",
    "bigg_df.sort_values(by=BIGG_REACTION_COUNT, \n",
    "                    inplace=True)\n",
    "bigg_df.head()"
   ]
  },
  {
   "cell_type": "code",
   "execution_count": 6,
   "metadata": {},
   "outputs": [
    {
     "data": {
      "text/html": [
       "<div>\n",
       "<style scoped>\n",
       "    .dataframe tbody tr th:only-of-type {\n",
       "        vertical-align: middle;\n",
       "    }\n",
       "\n",
       "    .dataframe tbody tr th {\n",
       "        vertical-align: top;\n",
       "    }\n",
       "\n",
       "    .dataframe thead th {\n",
       "        text-align: right;\n",
       "    }\n",
       "</style>\n",
       "<table border=\"1\" class=\"dataframe\">\n",
       "  <thead>\n",
       "    <tr style=\"text-align: right;\">\n",
       "      <th></th>\n",
       "      <th>gene_count</th>\n",
       "      <th>reaction_count</th>\n",
       "      <th>organism</th>\n",
       "      <th>metabolite_count</th>\n",
       "    </tr>\n",
       "    <tr>\n",
       "      <th>bigg_id</th>\n",
       "      <th></th>\n",
       "      <th></th>\n",
       "      <th></th>\n",
       "      <th></th>\n",
       "    </tr>\n",
       "  </thead>\n",
       "  <tbody>\n",
       "    <tr>\n",
       "      <th>RECON1</th>\n",
       "      <td>1905</td>\n",
       "      <td>3741</td>\n",
       "      <td>Homo sapiens</td>\n",
       "      <td>2766</td>\n",
       "    </tr>\n",
       "    <tr>\n",
       "      <th>iCHOv1_DG44</th>\n",
       "      <td>1184</td>\n",
       "      <td>3942</td>\n",
       "      <td>Cricetulus griseus</td>\n",
       "      <td>2751</td>\n",
       "    </tr>\n",
       "    <tr>\n",
       "      <th>iLB1027_lipid</th>\n",
       "      <td>1027</td>\n",
       "      <td>4456</td>\n",
       "      <td>Phaeodactylum tricornutum CCAP 1055/1</td>\n",
       "      <td>2172</td>\n",
       "    </tr>\n",
       "    <tr>\n",
       "      <th>iCHOv1</th>\n",
       "      <td>1766</td>\n",
       "      <td>6663</td>\n",
       "      <td>Cricetulus griseus</td>\n",
       "      <td>4456</td>\n",
       "    </tr>\n",
       "    <tr>\n",
       "      <th>Recon3D</th>\n",
       "      <td>2248</td>\n",
       "      <td>10600</td>\n",
       "      <td>Homo sapiens</td>\n",
       "      <td>5835</td>\n",
       "    </tr>\n",
       "  </tbody>\n",
       "</table>\n",
       "</div>"
      ],
      "text/plain": [
       "               gene_count  reaction_count  \\\n",
       "bigg_id                                     \n",
       "RECON1               1905            3741   \n",
       "iCHOv1_DG44          1184            3942   \n",
       "iLB1027_lipid        1027            4456   \n",
       "iCHOv1               1766            6663   \n",
       "Recon3D              2248           10600   \n",
       "\n",
       "                                            organism  metabolite_count  \n",
       "bigg_id                                                                 \n",
       "RECON1                                  Homo sapiens              2766  \n",
       "iCHOv1_DG44                       Cricetulus griseus              2751  \n",
       "iLB1027_lipid  Phaeodactylum tricornutum CCAP 1055/1              2172  \n",
       "iCHOv1                            Cricetulus griseus              4456  \n",
       "Recon3D                                 Homo sapiens              5835  "
      ]
     },
     "execution_count": 6,
     "metadata": {},
     "output_type": "execute_result"
    }
   ],
   "source": [
    "bigg_df.tail()"
   ]
  },
  {
   "cell_type": "code",
   "execution_count": 7,
   "metadata": {},
   "outputs": [
    {
     "name": "stdout",
     "output_type": "stream",
     "text": [
      "------------------------------------------------------\n",
      "gene_count                                  709\n",
      "reaction_count                             1015\n",
      "organism            Acinetobacter baumannii AYE\n",
      "metabolite_count                            888\n",
      "Name: iCN718, dtype: object\n",
      "------------------------------------------------------\n",
      "gene_count                                           1027\n",
      "reaction_count                                       4456\n",
      "organism            Phaeodactylum tricornutum CCAP 1055/1\n",
      "metabolite_count                                     2172\n",
      "Name: iLB1027_lipid, dtype: object\n",
      "------------------------------------------------------\n",
      "gene_count                        1766\n",
      "reaction_count                    6663\n",
      "organism            Cricetulus griseus\n",
      "metabolite_count                  4456\n",
      "Name: iCHOv1, dtype: object\n",
      "------------------------------------------------------\n",
      "gene_count                  2248\n",
      "reaction_count             10600\n",
      "organism            Homo sapiens\n",
      "metabolite_count            5835\n",
      "Name: Recon3D, dtype: object\n",
      "------------------------------------------------------\n"
     ]
    }
   ],
   "source": [
    "# define four bigg models depending on size\n",
    "MODEL_1000 = \"iCN718.xml\"\n",
    "MODEL_4000 = \"iLB1027_lipid.xml\"\n",
    "MODEL_6000 = \"iCHOv1.xml\"\n",
    "MODEL_10000 = \"Recon3D.xml\"\n",
    "FOUR_BIGG = [MODEL_1000, MODEL_4000, MODEL_6000, MODEL_10000]\n",
    "print(\"------------------------------------------------------\")\n",
    "for bigg in FOUR_BIGG:\n",
    "  print(bigg_df.loc[bigg[:-4]])\n",
    "  print(\"------------------------------------------------------\")"
   ]
  },
  {
   "cell_type": "code",
   "execution_count": 8,
   "metadata": {},
   "outputs": [],
   "source": [
    "SAMPLE_MODEL = FOUR_BIGG[0]\n",
    "fpath = os.path.join(cn.BIGG_DIR, SAMPLE_MODEL)\n",
    "simple = SimpleSBML()\n",
    "simple.initialize(fpath)"
   ]
  },
  {
   "cell_type": "code",
   "execution_count": 9,
   "metadata": {},
   "outputs": [],
   "source": [
    "def solveMILP(mat):\n",
    "  prob = LpProblem(\"Finding_Unconserved_Metabolites\", LpMaximize)\n",
    "  species = list(mat.index)\n",
    "  species_inclusion = pulp.LpVariable.dicts(\"species\", species, cat=\"Binary\")\n",
    "  species_mass = pulp.LpVariable.dicts(\"mass\", species, cat=\"Continuous\")\n",
    "  # objective function (to maximize the number of species)\n",
    "  prob += lpSum([species_inclusion[i] for i in species])\n",
    "  # constraint 1 (for each reaction, the sum(stoichiometry[i]*mass[i])=0)\n",
    "  for reaction in mat.columns:\n",
    "    prob += lpSum(sum([mat[reaction][species]*species_mass[species] for species in species_inclusion])) == 0\n",
    "  # constraint 2 (species_inclusion is less than or equal to mass of each species)\n",
    "  for species in species_mass.keys():\n",
    "    prob += species_inclusion[species] <= species_mass[species]\n",
    "  prob.solve()\n",
    "  return prob\n",
    "# print(\"Status:\", LpStatus[prob.status])"
   ]
  },
  {
   "cell_type": "code",
   "execution_count": null,
   "metadata": {},
   "outputs": [],
   "source": []
  },
  {
   "cell_type": "code",
   "execution_count": 10,
   "metadata": {},
   "outputs": [],
   "source": [
    "def getUnconservedMetabolites(milp_result):\n",
    "  unconserved_metabolites = []\n",
    "  for v in milp_result.variables():\n",
    "    if v.varValue==0:\n",
    "      if v.name[:7]==\"species\":\n",
    "        unconserved_metabolites.append(v.name[8:])\n",
    "  return unconserved_metabolites"
   ]
  },
  {
   "cell_type": "code",
   "execution_count": 11,
   "metadata": {},
   "outputs": [],
   "source": [
    "def analyzeBIGG(simple, model_file):\n",
    "  simple.initialize(os.path.join(cn.BIGG_DIR, model_file))\n",
    "  print(\"Model: %s\" % model_file)\n",
    "  xgames_start = time.time()\n",
    "  m = GAMES_PP(simple)\n",
    "  res = m.analyze(simple_games=False, error_details=False, suppress_message=True)\n",
    "  xgames_end = time.time()\n",
    "  xgames_time = xgames_end - xgames_start\n",
    "  print(\"xGAMES time: %f\" % xgames_time)\n",
    "  if res:\n",
    "    print(\"xGAMES found an error!\")\n",
    "  else:\n",
    "    print(\"xGAMES didn't find an error!\")\n",
    "  lp_start = time.time()\n",
    "  s = StoichiometryMatrix(simple)\n",
    "  lp_res = s.isConsistent()\n",
    "  lp_end = time.time()\n",
    "  lp_time = lp_end - lp_start\n",
    "  print(\"LP time: %f\" % lp_time)\n",
    "  if s.result.status!=0:\n",
    "    print(\"LP found an error!\")\n",
    "  milp_start = time.time()\n",
    "  milp_result = solveMILP(s.stoichiometry_matrix)\n",
    "  unconserved_metabolites = getUnconservedMetabolites(milp_result)\n",
    "  milp_end = time.time()\n",
    "  milp_time = milp_end - milp_start\n",
    "  print(\"MILP time: %f\" % milp_time)\n",
    "  return m, s, milp_result, unconserved_metabolites"
   ]
  },
  {
   "cell_type": "code",
   "execution_count": 12,
   "metadata": {},
   "outputs": [
    {
     "name": "stdout",
     "output_type": "stream",
     "text": [
      "Model: iCN718.xml\n",
      "xGAMES time: 100.521434\n",
      "xGAMES found an error!\n"
     ]
    },
    {
     "name": "stderr",
     "output_type": "stream",
     "text": [
      "//anaconda3/envs/sbml_env/lib/python3.6/site-packages/scipy/optimize/_linprog_util.py:763: OptimizeWarning: A_eq does not appear to be of full row rank. To improve performance, check the problem formulation for redundant equality constraints.\n",
      "  warn(redundancy_warning, OptimizeWarning)\n"
     ]
    },
    {
     "name": "stdout",
     "output_type": "stream",
     "text": [
      "LP time: 2.000015\n",
      "LP found an error!\n",
      "MILP time: 24.241942\n"
     ]
    }
   ],
   "source": [
    "m_1000, s_1000, milp_result_1000, unconserved_metabolites_1000 = analyzeBIGG(simple, MODEL_1000)"
   ]
  },
  {
   "cell_type": "code",
   "execution_count": 13,
   "metadata": {},
   "outputs": [
    {
     "data": {
      "text/plain": [
       "[ErrorSummary(type='type3', errors=[R_UPP3S: {M_hmbil_c} -> {M_uppg3_c}, R_OPHHX: {M_2oph_c} -> {M_2ohph_c}, R_ECOAH12: {M_2mp2coa_c} -> {M_3hibutcoa_c}, R_URCN: {M_urcan_c} -> {M_4izp_c}, R_GGGTPP2: {M_apn3_c} -> {M_ggapn3_c}]),\n",
       " ErrorSummary(type='echelon', errors=[R_GLUt4: {M_glu__L_e} -> , R_PROt4: {M_pro__L_e} -> , R_HBCHLR:  -> {M_b2coa_c}, R_GMNA: {M_gln__D_c} -> , R_CHORS: {M_3psme_c} -> , R_GLU_Dt2: {M_glu__D_e} -> , R_ASPT:  -> {M_fum_c}, R_PGLYCP: {M_2pglyc_c} -> , R_PRAMPC: {M_prbamp_c} -> , R_ADCS:  -> {M_4adcho_c}, R_OMCDC: 0.99 {M_3c4mop_c} -> , R_ICITt2: {M_icit_e} -> , R_GAPD: 0.17 {M_2obut_c=M_2obut_e} -> , R_DHPS:  -> 0.84 {M_4mop_c}, R_HSDxi: 1.03 {M_aspsa_c} -> , R_XPPT: {M_xan_e} -> , R_HPOXR: 2.00 {M_h2o2_c} -> , R_GLCD:  -> 0.40 {M_2pg_c=M_3pg_c}, R_PHETA1: 1.46 {M_cit_c=M_icit_c} -> , R_GF6PTA:  -> {M_gam1p_c=M_gam6p_c} + 0.40 {M_2obut_c=M_2obut_e}, R_PUNP1: 0.91 {M_2cpr5p_c=M_pran_c} -> , R_ANS2:  -> {M_gln__L_c=M_gln__L_e}, R_PYR5CD2:  -> 1.11 {M_glu__D_c=M_glu__L_c=M_glu__L_r}, R_GHMT2r: {M_ac_c=M_ac_e} -> , R_MCITS:  -> 0.79 {M_for_c=M_for_e}, R_GLYO1:  -> 0.68 {M_glyclt_c=M_glyclt_e}, R_PTA2:  -> 0.38 {M_chor_c=M_ichor_c=M_pphn_c}, R_FGFT:  -> 2.70 {M_pi_c=M_pi_e}, R_NADH10: {M_no3_c=M_no3_e} -> , R_OBTFL: 0.94 {M_3hbcoa__R_c=M_3hbcoa_c} -> , R_ASPTA:  -> 0.61 {M_pad_c=M_phe__L_c=M_phe__L_e}, R_ABAH: 1.21 {M_h2o_c=M_h2o_e} -> , R_FDR: 1.39 {M_nh4_c=M_nh4_e} -> , R_DNADDP:  -> 0.65 {M_4ahmmp_c=M_air_c}, R_GLUDy:  -> 1.01 {M_gly_c=M_igly_c}, R_ATPB:  -> 0.34 {M_pro__D_c=M_pro__L_c}, R_SUCD4: 0.59 {M_o2_c=M_o2_e} -> , R_ASPO6: 0.31 {M_26dap_LL_c=M_26dap__M_c} -> , R_P5CCD: 0.07 {M_glc__D_c=M_glc__bD_c} + 0.01 {M_2obut_c=M_2obut_e} -> , R_NTD7:  -> 0.02 {M_prfp_c=M_prlp_c}, R_G3PD6:  -> 0.59 {M_asp__D_c=M_asp__D_e=M_asp__L_c}, R_G3PD1ir: 0.40 {M_2obut_c=M_2obut_e} -> ])]"
      ]
     },
     "execution_count": 13,
     "metadata": {},
     "output_type": "execute_result"
    }
   ],
   "source": [
    "m_1000.error_summary"
   ]
  },
  {
   "cell_type": "code",
   "execution_count": 19,
   "metadata": {},
   "outputs": [],
   "source": [
    "gr = GAMESReport(m_1000, explain_threshold=10)"
   ]
  },
  {
   "cell_type": "code",
   "execution_count": 22,
   "metadata": {},
   "outputs": [
    {
     "name": "stdout",
     "output_type": "stream",
     "text": [
      "\n",
      "We detected a mass imbalance\n",
      ": 0.27 M_glu__L_c + 0.09 M_nadp_c + 0.01 M_trdox_c + 0.13 M_g3p_c + 0.00 M_protein_c + 0.12 M_q8h2_c + 0.01 M_cdpdhdecg_c + 0.02 M_ACP_c + 0.02 M_phthr_c + 0.22 M_o2_c + 0.00 M_citr__L_c + 0.06 M_fadh2_c + 0.03 M_genald_c + 0.01 M_msa_c + 0.03 M_dutp_c + 0.03 M_fum_c + 0.02 M_methf_c + 0.06 M_met__L_c + 0.06 M_uamag_c + 0.03 M_ser__L_c + 0.01 M_chor_c + 0.01 M_co2_c + 0.07 M_dhap_c + 0.00 M_ichor_c + 0.01 M_dnad_c + 0.00 M_ura_c + 0.02 M_udcpdp_c + 0.05 M_udcpp_c + 0.05 M_his__L_c + 0.06 M_trnaarg_c + 0.07 M_h2s_c + 0.11 M_succ_e + 0.02 M_ps160_c + 0.00 M_eicacp_c + 0.01 M_iasp_c + 0.07 M_4mop_c + 0.02 M_C02442_c + 0.03 M_suchms_c + 0.03 M_pyr_c + 0.34 M_gln__L_c + 0.66 M_asp__L_c + 0.00 M_dodecacid_c + 0.08 M_2obut_c + 0.25 M_pi_c + 0.12 M_nad_c + 0.03 M_h2o2_c + 0.13 M_gly_c + 0.06 M_met__L_e + 0.04 M_aacoa_c + 0.01 M_hexadecacid_c + 0.01 M_phe__L_c + 0.12 M_ppi_c + 0.02 M_glyclt_c + 0.20 M_pphn_c + 0.03 M_4hthr_c + 0.02 M_prpp_c + 0.14 M_lac__L_c + 0.12 M_atp_c + 0.00 M_bhtetdec_c + 0.04 M_rdxr_c + 0.00 M_hexedecacid_c + 0.00 M_clpn160_c + 0.00 M_decacid_c + 0.19 M_prbatp_c + 0.02 M_adn_c + 0.01 M_ctp_c + 0.02 M_tg160_c + 0.04 M_aspsa_c + 0.07 M_dtdpglu_c + 0.01 M_dodecacp_c + 0.06 M_pg160_c + 0.00 M_glx_c + 0.02 M_gar_c + 0.03 M_coa_c + 0.02 M_no2_c + 0.10 M_no3_c + 0.09 M_3c4mop_c + 0.01 M_oaa_c + 0.18 M_ac_c + 0.00 M_mql8_c -> 0.02 M_r5p_c + 0.02 M_2dr5p_c + 0.05 M_3hbcoa_c + 0.04 M_prlp_c + 0.01 M_pran_c + 0.36 M_icit_c + 0.00 M_mqn8_c + 0.03 M_utp_c + 0.06 M_thym_c + 0.44 M_h_c + 0.14 M_orn_c + 0.00 M_trp__L_e + 0.02 M_phospholipid_c + 0.11 M_23dhmb_c + 0.01 M_nicrnt_c + 0.00 M_cdp_c + 0.09 M_nadph_c + 0.01 M_fgam_c + 0.02 M_bhdodec_c + 0.00 M_hepadecacid_c + 0.02 M_C06199_c + 0.01 M_thf_c + 0.14 M_orot5p_c + 0.56 M_ipdp_c + 0.03 M_ump_c + 0.00 M_achms_c + 0.23 M_2hyoxplac_c + 0.00 M_glc__D_c + 0.11 M_succ_c + 0.01 M_alac__S_c + 0.00 M_leu__L_c + 0.00 M_2shchc_c + 0.02 M_imp_c + 0.08 M_nh4_c + 0.02 M_2dhp_c + M_b2coa_c + 0.10 M_succoa_c + 0.03 M_malACP_c + 0.03 M_pep_c + 0.09 M_3pg_c + 0.01 M_trdrd_c + 0.06 M_paps_c + 0.34 M_h2o_c + 0.06 M_uacgam_c + 0.12 M_q8_c + 0.06 M_pydxn_c + 0.09 M_h_e + 0.06 M_fad_c + 0.01 M_pa160_c + 0.01 M_accoa_c + 0.04 M_pro__L_c + 0.04 M_2mcit_c + 0.06 M_adp_c + 0.02 M_octedecacid_c + 0.06 M_argtrna_c + 0.12 M_nadh_c + 0.05 M_frdp_c + 0.00 M_octadecacid_c + 0.04 M_rdxo_c + 0.10 M_glyc3p_c + 0.17 M_ade_c + 0.00 M_acACP_c + 0.06 M_hcys__L_c + 0.07 M_g1p_c + 0.08 M_26dap_LL_c + 0.12 M_fum_e + 0.01 M_allphn_c + 0.01 M_fpram_c + 0.01 M_dmpp_c + 0.07 M_cys__L_c + 0.20 M_asn__L_c + 0.01 M_amp_c + 0.06 M_12dgr160_c + 0.00 M_pant__R_c + 0.14 M_prbamp_c + 0.06 M_ala__L_c + 0.00 M_5mthf_c + 0.01 M_f6p_c + 0.00 M_pnto__R_c + 0.00 M_hepedecacid_c + 0.05 M_air_c + 0.02 M_for_c\n",
      "\n",
      "from the following isolation set.\n",
      "\n",
      "1. R_NTRIR2x: 5.00 M_h_c + 3.00 M_nadh_c + M_no2_c -> 2.00 M_h2o_c + 3.00 M_nad_c + M_nh4_c\n",
      "2. R_FRD3: M_2dmmql8_c + M_fum_c -> M_2dmmq8_c + M_succ_c\n",
      "3. R_DHNAOT: M_dhna_c + M_octdp_c -> M_2dmmq8_c + M_co2_c + M_h_c + M_ppi_c\n",
      "4. R_EICACP: M_acACP_c + 9.00 M_malACP_c + 18.00 M_nadph_c -> 9.00 M_ACP_c + 9.00 M_co2_c + M_eicacp_c + 18.00 M_nadp_c\n",
      "5. R_PRFGS: M_atp_c + M_fgam_c + M_gln__L_c + M_h2o_c -> M_adp_c + M_fpram_c + M_glu__L_c + M_h_c + M_pi_c\n",
      "6. R_RDXR: M_nadh_c + 2.00 M_rdxo_c -> M_h_c + M_nad_c + 2.00 M_rdxr_c\n",
      "7. R_HCO3E: M_co2_c + M_h2o_c -> M_h_c + M_hco3_c\n",
      "8. R_MTHFC_1: M_h2o_c + M_methf_c -> M_10fthf_c\n",
      "9. R_GARFT: M_10fthf_c + M_gar_c -> M_fgam_c + M_h_c + M_thf_c\n",
      "10. R_UHGADA: M_h2o_c + M_u3aga_c -> M_ac_c + M_u3hga_c\n",
      "11. R_OCTACP: M_acACP_c + 8.00 M_malACP_c + 16.00 M_nadph_c -> 8.00 M_ACP_c + 8.00 M_co2_c + 16.00 M_nadp_c + M_octacp_c\n",
      "12. R_UNGSA1: M_tetacp_c + M_uacgam_c -> M_ACP_c + M_u3aga_c\n",
      "13. R_CYTBD: 2.00 M_h_c + 0.50 M_o2_c + M_q8h2_c -> M_h2o_c + 2.00 M_h_e + M_q8_c\n",
      "14. R_PAPSR: M_paps_c + M_trdrd_c -> 2.00 M_h_c + M_pap_c + M_so3_c + M_trdox_c\n",
      "15. R_LPADSS: M_lipidX_c + M_u23ga_c -> M_h_c + M_lipidAds_c + M_udp_c\n",
      "16. R_UDDH23: M_h2o_c + M_u23ga_c -> M_h_c + M_lipidX_c + M_ump_c\n",
      "17. R_DMATT: M_dmpp_c + M_ipdp_c -> M_grdp_c + M_ppi_c\n",
      "18. R_ATPS4r: M_adp_c + 4.00 M_h_e + M_pi_c -> M_atp_c + M_h2o_c + 3.00 M_h_c\n",
      "19. R_BPNT: M_h2o_c + M_pap_c -> M_amp_c + M_pi_c\n",
      "20. R_DMQMT: M_2omhmbl_c + M_amet_c -> M_ahcys_c + M_h_c + M_q8h2_c\n",
      "21. R_TDSK: M_atp_c + M_lipidAds_c -> M_adp_c + M_h_c + M_lipidA_c\n",
      "22. R_SULR: 5.00 M_h_c + 3.00 M_nadph_c + M_so3_c -> 3.00 M_h2o_c + M_h2s_c + 3.00 M_nadp_c\n",
      "23. R_PRFGCL: M_atp_c + M_fpram_c -> M_adp_c + M_air_c + M_pi_c\n",
      "24. R_IGPS: M_2cpr5p_c + M_h_c -> M_3ig3p_c + M_co2_c + M_h2o_c\n",
      "25. R_NO3R2: 2.00 M_h_c + M_mql8_c + M_no3_c -> M_h2o_c + 2.00 M_h_e + M_mqn8_c + M_no2_c\n",
      "26. R_MOAT: M_ckdo_c + M_lipidA_c -> M_cmp_c + M_h_c + M_kdolipid4_c\n",
      "27. R_LIPIDS: 0.16 M_bhdodec_c + 0.06 M_decacp_c + 0.18 M_dodecacp_c + 0.07 M_hepacp_c + 0.06 M_hepeacp_c + 1.08 M_hexacp_c + 0.74 M_hexeacp_c + 0.03 M_octacp_c + 1.44 M_octeacp_c + 0.01 M_penacp_c + 0.01 M_tetacp_c -> 3.69 M_ACP_c + M_lipids_c\n",
      "28. R_MOAT2: M_ckdo_c + M_kdolipid4_c -> M_cmp_c + M_h_c + M_kdo2lipid4_c\n",
      "29. R_DCTPD: M_dctp_c + M_h2o_c + M_h_c -> M_dutp_c + M_nh4_c\n",
      "30. R_ACHBS: M_2obut_c + M_h_c + M_pyr_c -> M_2ahbut_c + M_co2_c\n",
      "31. R_AMMQT8: M_2dmmq8_c + M_amet_c + M_h_c -> M_ahcys_c + M_mql8_c\n",
      "32. R_DASYN160: M_ctp_c + M_h_c + M_pa160_c -> M_cdpdhdecg_c + M_ppi_c\n",
      "33. R_KDOCT2: M_ctp_c + M_kdo_c -> M_ckdo_c + M_ppi_c\n",
      "34. R_DXPS: M_g3p_c + M_h_c + M_pyr_c -> M_co2_c + M_dxyl5p_c\n",
      "35. R_PC2DHG: M_dscl_c + M_h_c + M_nadp_c -> M_nadph_c + M_scl_c\n",
      "36. R_DHPPDA: M_25dhpp_c + M_h2o_c + M_h_c -> M_5apru_c + M_nh4_c\n",
      "37. R_UPP3S: M_hmbil_c -> M_h2o_c + M_uppg3_c\n",
      "38. R_PPNCL2: M_4ppan_c + M_ctp_c + M_cys__L_c -> M_4ppcys_c + M_cmp_c + M_h_c + M_ppi_c\n",
      "39. R_CSND: M_csn_c + M_h2o_c + M_h_c -> M_nh4_c + M_ura_c\n",
      "40. R_UPP3MT: 2.00 M_amet_c + M_uppg3_c -> 2.00 M_ahcys_c + M_dscl_c + M_h_c\n",
      "41. R_34HPPOR: M_34hpp_c + M_o2_c -> M_co2_c + M_hgentis_c\n",
      "42. R_IMPC: M_h2o_c + M_imp_c -> M_fprica_c\n",
      "43. R_ALAB: M_akg_c + M_ala_B_c -> M_glu__L_c + M_octdp_c\n",
      "44. R_ADSS: M_asp__L_c + M_gtp_c + M_imp_c -> M_dcamp_c + M_gdp_c + 2.00 M_h_c + M_pi_c\n",
      "45. R_PPCDC: M_4ppcys_c + M_h_c -> M_co2_c + M_pan4p_c\n",
      "46. R_RBFSb: 2.00 M_dmlz_c -> M_4r5au_c + M_ribflv_c\n",
      "47. R_PSERT: M_3php_c + M_glu__L_c -> M_akg_c + M_pser__L_c\n",
      "48. R_PPACO: M_ACP_c + M_ppcoa_c -> M_coa_c + M_propacp_c\n",
      "49. R_HEXACP: M_acACP_c + 7.00 M_malACP_c + 14.00 M_nadph_c -> 7.00 M_ACP_c + 7.00 M_co2_c + M_hexacp_c + 14.00 M_nadp_c\n",
      "50. R_OMMBLHX3: M_2ommbl_c + 2.00 M_atp_c + 3.00 M_h2o_c + M_nad_c -> M_2omhmbl_c + 2.00 M_adp_c + 3.00 M_h_c + M_nadh_c + 2.00 M_pi_c\n",
      "51. R_ADA: M_adn_c + M_h2o_c + M_h_c -> M_ins_c + M_nh4_c\n",
      "52. R_RBFK: M_atp_c + M_ribflv_c -> M_adp_c + M_fmn_c + M_h_c\n",
      "53. R_MS_1: M_h_c + M_hcys__L_c + M_mhpglu_c -> M_hpglu_c + M_met__L_c\n",
      "54. R_NTD11: M_h2o_c + M_imp_c -> M_ins_c + M_pi_c\n",
      "55. R_ARGSS: M_asp__L_c + M_atp_c + M_citr__L_c -> M_amp_c + M_argsuc_c + M_h_c + M_ppi_c\n",
      "56. R_DHDPRx_r: M_23dhdp_c + M_h_c + M_nadh_c -> M_nad_c + M_thdp_c\n",
      "57. R_MCSNAH: M_5mcsn_c + M_h2o_c + M_h_c -> M_nh4_c + M_thym_c\n",
      "58. R_CPPPGO: M_cpppg3_c + 2.00 M_h_c + M_o2_c -> 2.00 M_co2_c + 2.00 M_h2o_c + M_pppg9_c\n",
      "59. R_DHDPS: M_aspsa_c + M_pyr_c -> M_23dhdp_c + 2.00 M_h2o_c + M_h_c\n",
      "60. R_PTPATi: M_atp_c + M_h_c + M_pan4p_c -> M_dpcoa_c + M_ppi_c\n",
      "61. R_PENDECACID: M_atp_c + 7.00 M_coa_c + 6.00 M_fad_c + 6.00 M_nad_c + M_pendecacid_c -> 6.00 M_accoa_c + M_amp_c + 6.00 M_fadh2_c + 6.00 M_nadh_c + M_ppcoa_c + M_ppi_c\n",
      "62. R_TETDECACID: M_atp_c + 7.00 M_coa_c + 6.00 M_fad_c + 6.00 M_nad_c + M_tetdecacid_c -> 7.00 M_accoa_c + M_amp_c + 6.00 M_fadh2_c + 6.00 M_nadh_c + M_ppi_c\n",
      "63. R_DHPSSS: M_2ahhmd_c + M_4abz_c -> M_dhpt_c\n",
      "64. R_ANPRT: M_anth_c + M_prpp_c -> M_ppi_c + M_pran_c\n",
      "65. R_THDPS: M_h2o_c + M_succoa_c + M_thdp_c -> M_coa_c + M_sl2a6o_c\n",
      "66. R_MALS: M_accoa_c + M_glx_c + M_h2o_c -> M_coa_c + M_h_c + M_mal__L_c\n",
      "67. R_OCDOR: M_h_c + M_malcoa_c + M_nadph_c -> M_3opcoa_c + M_h2o_c + M_nadp_c\n",
      "68. R_ALDH_1: M_h2o_c + M_mmtsa_c + M_nad_c -> 2.00 M_h_c + M_mmal_c + M_nadh_c\n",
      "69. R_ASPt2r: M_asp__L_e + M_h_e -> M_asp__L_c + M_h_c\n",
      "70. R_HPHL: M_3hpcoa_c -> M_h2o_c + M_prpncoa_c\n",
      "71. R_HSK: M_atp_c + M_hom__L_c -> M_adp_c + M_h_c + M_phom_c\n",
      "72. R_MDH: M_mal__L_c + M_nad_c -> M_h_c + M_nadh_c + M_oaa_c\n",
      "73. R_HPPK: M_2ahhmp_c + M_atp_c -> M_2ahhmd_c + M_amp_c + M_h_c\n",
      "74. R_ACLS: M_h_c + 2.00 M_pyr_c -> M_alac__S_c + M_co2_c\n",
      "75. R_THRS: M_h2o_c + M_phom_c -> M_pi_c + M_thr__L_c\n",
      "76. R_SDPTA: M_akg_c + M_sl26da_c -> M_glu__L_c + M_sl2a6o_c\n",
      "77. R_NDPK1: M_atp_c + M_gdp_c -> M_adp_c + M_gtp_c\n",
      "78. R_PPNDH2: M_fad_c + M_ppcoa_c -> M_fadh2_c + M_prpncoa_c\n",
      "79. R_ASNS1: M_asp__L_c + M_atp_c + M_gln__L_c + M_h2o_c -> M_amp_c + M_asn__L_c + M_glu__L_c + M_h_c + M_ppi_c\n",
      "80. R_VALTA: M_akg_c + M_val__L_c -> M_3mob_c + M_glu__L_c\n",
      "81. R_DHAD2: M_23dhmp_c -> M_3mop_c + M_h2o_c\n",
      "82. R_DHFS: M_atp_c + M_dhpt_c + M_glu__L_c -> M_adp_c + M_dhf_c + M_h_c + M_pi_c\n",
      "83. R_MMTSAO: M_coa_c + M_mmtsa_c + M_nad_c -> M_co2_c + M_nadh_c + M_ppcoa_c\n",
      "84. R_UDCPDPS: M_frdp_c + 8.00 M_ipdp_c -> 8.00 M_ppi_c + M_udcpdp_c\n",
      "85. R_OCTDECACID: M_atp_c + 9.00 M_coa_c + 8.00 M_fad_c + 8.00 M_nad_c + M_octadecacid_c -> 9.00 M_accoa_c + M_amp_c + 8.00 M_fadh2_c + 8.00 M_nadh_c + M_ppi_c\n",
      "86. R_PGCD: M_3pg_c + M_nad_c -> M_3php_c + M_h_c + M_nadh_c\n",
      "87. R_BIWLIP: M_coa_c + M_tg160_c -> M_12dgr160_c + 0.04 M_bhdodec_c + 0.01 M_decacid_c + 0.05 M_dodecacid_c + 0.02 M_hepadecacid_c + 0.02 M_hepedecacid_c + 0.28 M_hexadecacid_c + 0.19 M_hexedecacid_c + 0.01 M_octadecacid_c + 0.38 M_octedecacid_c + 0.00 M_pendecacid_c + 0.00 M_tetdecacid_c\n",
      "88. R_AGLPACTF: M_aglp_c + 0.04 M_bhdodec_c + 0.01 M_decacp_c + 0.05 M_dodecacp_c + 0.02 M_hepacp_c + 0.02 M_hepeacp_c + 0.28 M_hexacp_c + 0.19 M_hexeacp_c + 0.01 M_octacp_c + 0.38 M_octeacp_c + 0.00 M_penacp_c + 0.00 M_tetacp_c -> 0.96 M_ACP_c + 0.96 M_pa160_c\n",
      "89. R_PDC: M_2ahethmpp_c -> M_acald_c + M_thmpp_c\n",
      "90. R_DECACP: M_acACP_c + 4.00 M_malACP_c + 8.00 M_nadph_c -> 4.00 M_ACP_c + 4.00 M_co2_c + M_decacp_c + 8.00 M_nadp_c\n",
      "91. R_TAM1: M_dodecacp_c + M_o2_c + M_rdxr_c -> M_ACP_c + M_bhdodec_c + M_rdxo_c\n",
      "92. R_HSERTA: M_accoa_c + M_hom__L_c -> M_achms_c + M_coa_c\n",
      "93. R_ACACT1r: 2.00 M_accoa_c -> M_aacoa_c + M_coa_c\n",
      "94. R_AKGDa: M_akg_c + M_h_c + M_lpam_c -> M_co2_c + M_sdhlam_c\n",
      "95. R_AKGDb: M_coa_c + M_sdhlam_c -> M_dhlam_c + M_succoa_c\n",
      "96. R_AIRCr: M_air_c + M_co2_c -> M_5aizc_c + M_h_c\n",
      "97. R_CPPPGO2: 2.00 M_amet_c + M_cpppg3_c -> 2.00 M_co2_c + 2.00 M_dad_5_c + 2.00 M_met__L_c + M_pppg9_c\n",
      "98. R_AST: M_arg__L_c + M_succoa_c -> M_coa_c + M_h_c + M_sucarg_c\n",
      "99. R_OCTEACP: M_acACP_c + 8.00 M_malACP_c + 15.00 M_nadph_c -> 8.00 M_ACP_c + 8.00 M_co2_c + 15.00 M_nadp_c + M_octeacp_c\n",
      "100. R_PLCG: M_pg160_c -> M_12dgr160_c + M_glyc3p_c\n",
      "101. R_ALPHNH: M_allphn_c + M_h2o_c + 3.00 M_h_c -> 2.00 M_co2_c + 2.00 M_nh4_c\n",
      "102. R_PEPCK_re: M_gtp_c + M_oaa_c -> M_co2_c + M_gdp_c + M_pep_c\n",
      "103. R_ADSL2r: M_25aics_c -> M_aicar_c + M_fum_c\n",
      "104. R_UDCPDP: M_h2o_c + M_udcpdp_c -> M_h_c + M_pi_c + M_udcpp_c\n",
      "105. R_KARA1: M_23dhmb_c + M_nadp_c -> M_alac__S_c + M_h_c + M_nadph_c\n",
      "106. R_UNGSA2: M_tetacp_c + M_u3hga_c -> M_ACP_c + M_h_c + M_u23ga_c\n",
      "107. R_UAGCVT: M_pep_c + M_uacgam_c -> M_pi_c + M_uaccg_c\n",
      "108. R_HBCHLR: M_3hbcoa__R_c -> M_b2coa_c + M_h2o_c\n",
      "109. R_CTPS1: M_atp_c + M_nh4_c + M_utp_c -> M_adp_c + M_ctp_c + 2.00 M_h_c + M_pi_c\n",
      "110. R_FACT: M_2obut_c + M_coa_c -> M_for_c + 2.00 M_ppcoa_c\n",
      "111. R_PSD160: M_h_c + M_ps160_c -> M_co2_c + M_pe160_c\n",
      "112. R_SHSL2: M_h2s_c + M_suchms_c -> M_hcys__L_c + M_succ_c\n",
      "113. R_APATr: M_ala_B_c + M_pyr_c -> M_ala__L_c + M_msa_c\n",
      "114. R_UAMAS: M_ala__L_c + M_atp_c + M_uamr_c -> M_adp_c + M_h_c + M_pi_c + M_uama_c\n",
      "115. R_IP3DH: M_3c3hmp_c -> M_3c2hmp_c + M_h2o_c\n",
      "116. R_PSSA160: M_cdpdhdecg_c + M_ser__L_c -> M_cmp_c + M_h_c + M_ps160_c\n",
      "117. R_EDA: M_2ddg6p_c -> M_g3p_c + M_pyr_c\n",
      "118. R_SHCHF: M_fe2_c + M_scl_c -> 3.00 M_h_c + M_sheme_c\n",
      "119. R_ANS: M_chor_c + M_gln__L_c -> M_anth_c + M_glu__L_c + M_h_c + M_pyr_c\n",
      "120. R_G3POACTF: 0.04 M_bhdodec_c + 0.01 M_decacp_c + 0.05 M_dodecacp_c + M_glyc3p_c + 0.02 M_hepacp_c + 0.02 M_hepeacp_c + 0.28 M_hexacp_c + 0.19 M_hexeacp_c + 0.01 M_octacp_c + 0.38 M_octeacp_c + 0.00 M_penacp_c + 0.00 M_tetacp_c -> 0.96 M_ACP_c + M_aglp_c\n",
      "121. R_MOHMT: M_3mob_c + M_h2o_c + M_mlthf_c -> M_2dhp_c + M_thf_c\n",
      "122. R_PPRGL: M_atp_c + M_gly_c + M_pram_c -> M_adp_c + M_gar_c + 2.00 M_h_c + M_pi_c\n",
      "123. R_HISTP: M_h2o_c + M_hisp_c -> M_histd_c + M_pi_c\n",
      "124. R_HSTPT: M_glu__L_c + M_imacp_c -> M_akg_c + M_hisp_c\n",
      "125. R_GLU5K: M_atp_c + M_glu__L_c -> M_adp_c + M_glu5p_c\n",
      "126. R_NDPK4: M_atp_c + M_dtdp_c -> M_adp_c + M_dttp_c\n",
      "127. R_IPMD: M_3c2hmp_c + M_nad_c -> M_3c4mop_c + M_h_c + M_nadh_c\n",
      "128. R_ILETA2: M_3mop_c + M_glu__L_c -> M_akg_c + M_ile__L_c\n",
      "129. R_IMPD: M_h2o_c + M_imp_c + M_nad_c -> M_h_c + M_nadh_c + M_xmp_c\n",
      "130. R_KARA2: M_2ahbut_c + M_h_c + M_nadph_c -> M_23dhmp_c + M_nadp_c\n",
      "131. R_CYSabc: M_atp_c + M_cys__L_e + M_h2o_c -> M_adp_c + M_cys__L_c + M_h_c + M_pi_c\n",
      "132. R_NONEACP: 8.00 M_malACP_c + 15.00 M_nadph_c + M_propacp_c -> 8.00 M_ACP_c + 8.00 M_co2_c + 15.00 M_nadp_c + M_noneacp_c\n",
      "133. R_KDOPS: M_ara5p_c + M_h2o_c + M_pep_c -> M_kdo8p_c + M_pi_c\n",
      "134. R_P5PSDP: M_a23op_c + M_dxyl5p_c + M_nad_c -> M_co2_c + 2.00 M_h2o_c + M_h_c + M_nadh_c + M_pdx5p_c + M_pi_c\n",
      "135. R_SGSAD: M_h2o_c + M_nad_c + M_sucgsa_c -> 2.00 M_h_c + M_nadh_c + M_sucglu_c\n",
      "136. R_PPND: M_nad_c + M_pphn_c -> M_34hpp_c + M_co2_c + M_nadh_c\n",
      "137. R_SOTA: M_akg_c + M_sucorn_c -> M_glu__L_c + M_sucgsa_c\n",
      "138. R_PYDXPP: M_h2o_c + M_pydx5p_c -> M_pi_c + M_pydx_c\n",
      "139. R_HEPACP: 7.00 M_malACP_c + 14.00 M_nadph_c + M_propacp_c -> 7.00 M_ACP_c + 7.00 M_co2_c + M_hepacp_c + 14.00 M_nadp_c\n",
      "140. R_DHFR: M_dhf_c + M_h_c + M_nadph_c -> M_nadp_c + M_thf_c\n",
      "141. R_MTHFD: M_mlthf_c + M_nadp_c -> M_methf_c + M_nadph_c\n",
      "142. R_OMP: M_C02442_c + M_amet_c -> M_C06199_c + M_ahcys_c\n",
      "143. R_PDX5POi: M_o2_c + M_pdx5p_c -> M_h2o2_c + M_pydx5p_c\n",
      "144. R_KDOPP: M_h2o_c + M_kdo8p_c -> M_kdo_c + M_pi_c\n",
      "145. R_TMDS: M_dump_c + M_mlthf_c -> M_dhf_c + M_dtmp_c\n",
      "146. R_HGENT: M_hgentis_c + M_nadph_c + M_o2_c -> M_co2_c + M_genald_c + M_nadp_c\n",
      "147. R_IGPDH: M_eig3p_c -> M_h2o_c + M_imacp_c\n",
      "148. R_IG3PS: M_gln__L_c + M_prlp_c -> M_aicar_c + M_eig3p_c + M_glu__L_c + M_h_c\n",
      "149. R_NDPK8: M_atp_c + M_dadp_c -> M_adp_c + M_datp_c\n",
      "150. R_ASPO5: M_asp__L_c + M_fum_c -> M_h_c + M_iasp_c + M_succ_c\n",
      "151. R_GK2: M_datp_c + M_gmp_c -> M_dadp_c + M_gdp_c\n",
      "152. R_DHR_1: M_cbasp_c -> M_dhor__S_c + M_h2o_c + M_h_c\n",
      "153. R_QULNS: M_dhap_c + M_iasp_c -> 2.00 M_h2o_c + M_pi_c + M_quln_c\n",
      "154. R_DUTPDP: M_dutp_c + M_h2o_c -> M_dump_c + M_h_c + M_ppi_c\n",
      "155. R_SGDS: M_h2o_c + M_sucglu_c -> M_glu__L_c + M_succ_c\n",
      "156. R_ASPK: M_asp__L_c + M_atp_c -> M_4pasp_c + M_adp_c\n",
      "157. R_DHORD5: M_dhor__S_c + M_mqn8_c -> M_mql8_c + M_orot_c\n",
      "158. R_ORPT: M_orot5p_c + M_ppi_c -> M_orot_c + M_prpp_c\n",
      "159. R_HT44D: M_h_c + M_nad_c + M_phthr_c -> M_a23op_c + M_co2_c + M_nadh_c\n",
      "160. R_ARGSL: M_argsuc_c -> M_arg__L_c + M_fum_c\n",
      "161. R_UAMAGS: M_atp_c + M_glu__D_c + M_uama_c -> M_adp_c + M_h_c + M_pi_c + M_uamag_c\n",
      "162. R_FMNAT: M_atp_c + M_fmn_c + M_h_c -> M_fad_c + M_ppi_c\n",
      "163. R_2S6HCCi: M_akg_c + M_h_c + M_ichor_c -> M_2shchc_c + M_co2_c + M_pyr_c\n",
      "164. R_CS: M_accoa_c + M_h2o_c + M_oaa_c -> M_cit_c + M_coa_c + M_h_c\n",
      "165. R_ASPT: M_asp__L_c -> M_fum_c + M_nh4_c\n",
      "166. R_CYTK1: M_atp_c + M_cmp_c -> M_adp_c + M_cdp_c\n",
      "167. R_G1PTT: M_dttp_c + M_g1p_c + M_h_c -> M_dtdpglu_c + M_ppi_c\n",
      "168. R_SUCFUMt: M_fum_e + M_succ_c -> M_fum_c + M_succ_e\n",
      "169. R_TRDR: M_h_c + M_nadph_c + M_trdox_c -> M_nadp_c + M_trdrd_c\n",
      "170. R_NADK: M_atp_c + M_nad_c -> M_adp_c + M_h_c + M_nadp_c\n",
      "171. R_MTHFR2: 2.00 M_h_c + M_mlthf_c + M_nadh_c -> M_5mthf_c + M_nad_c\n",
      "172. R_HEXEACP: M_acACP_c + 7.00 M_malACP_c + 13.00 M_nadph_c -> 7.00 M_ACP_c + 7.00 M_co2_c + M_hexeacp_c + 13.00 M_nadp_c\n",
      "173. R_PROTEIN: 0.49 M_ala__L_c + 0.28 M_arg__L_c + 0.23 M_asn__L_c + 0.23 M_asp__L_c + 40.00 M_atp_c + 0.09 M_cys__L_c + 0.25 M_gln__L_c + 0.25 M_glu__L_c + 0.58 M_gly_c + 0.09 M_his__L_c + 0.28 M_ile__L_c + 0.43 M_leu__L_c + 0.33 M_lys__L_c + 0.15 M_met__L_c + 0.18 M_phe__L_c + 0.21 M_pro__L_c + 0.20 M_ser__L_c + 0.24 M_thr__L_c + 0.05 M_trp__L_c + 0.13 M_tyr__L_c + 0.40 M_val__L_c -> 40.00 M_adp_c + 40.00 M_pi_c + M_protein_c\n",
      "174. R_PACPT_1: M_coa_c + M_ppad_c -> M_amp_c + M_h_c + M_ppcoa_c\n",
      "175. R_NDPK3: M_atp_c + M_cdp_c -> M_adp_c + M_ctp_c\n",
      "176. R_PBAL: M_ala_B_c + M_atp_c + M_pant__R_c -> M_amp_c + 2.00 M_h_c + M_pnto__R_c + M_ppi_c\n",
      "177. R_ADPT: M_ade_c + M_prpp_c -> M_amp_c + M_ppi_c\n",
      "178. R_ATPPRT: M_atp_c + M_prpp_c -> M_ppi_c + M_prbatp_c\n",
      "179. R_GLUPRT: M_gln__L_c + M_h2o_c + M_prpp_c -> M_glu__L_c + M_ppi_c + M_pram_c\n",
      "180. R_HEPEACP: 7.00 M_malACP_c + 13.00 M_nadph_c + M_propacp_c -> 7.00 M_ACP_c + 7.00 M_co2_c + M_hepeacp_c + 13.00 M_nadp_c\n",
      "181. R_ARGTRS: M_arg__L_c + M_atp_c + M_trnaarg_c -> M_amp_c + M_argtrna_c + M_ppi_c\n",
      "182. R_HIBUTD: M_hibut_c + M_nad_c -> M_h_c + M_msa_c + M_nadh_c\n",
      "183. R_GART: M_atp_c + M_for_c + M_gar_c -> M_adp_c + M_fgam_c + M_h_c + M_pi_c\n",
      "184. R_METabc: M_atp_c + M_h2o_c + M_met__L_e -> M_adp_c + M_h_c + M_met__L_c + M_pi_c\n",
      "185. R_PYDXNO: M_o2_c + M_pydxn_c -> M_h2o2_c + M_pydx_c\n",
      "186. R_NADS2: M_atp_c + M_dnad_c + M_gln__L_c + M_h2o_c -> M_amp_c + M_glu__L_c + M_h_c + M_nad_c + M_ppi_c\n",
      "187. R_PPAKr: M_adp_c + M_ppap_c -> M_atp_c + M_ppa_c\n",
      "188. R_PNTK: M_atp_c + M_pnto__R_c -> M_4ppan_c + M_adp_c + M_h_c\n",
      "189. R_PENACP: 6.00 M_malACP_c + 12.00 M_nadph_c + M_propacp_c -> 6.00 M_ACP_c + 6.00 M_co2_c + 12.00 M_nadp_c + M_penacp_c\n",
      "190. R_APAT_1: M_atp_c + M_ppa_c -> M_ppad_c + M_ppi_c\n",
      "191. R_GRTT: M_grdp_c + M_ipdp_c -> M_frdp_c + M_ppi_c\n",
      "192. R_GNK: M_atp_c + M_glcn_c -> M_6pgc_c + M_adp_c + M_h_c\n",
      "193. R_TRIACP: 5.00 M_malACP_c + 10.00 M_nadph_c + M_propacp_c -> 5.00 M_ACP_c + 5.00 M_co2_c + 10.00 M_nadp_c + M_triacp_c\n",
      "194. R_ACOATA: M_ACP_c + M_accoa_c -> M_acACP_c + M_coa_c\n",
      "195. R_EDD: M_6pgc_c -> M_2ddg6p_c + M_h2o_c\n",
      "196. R_TETACP: M_acACP_c + 6.00 M_malACP_c + 12.00 M_nadph_c -> 6.00 M_ACP_c + 6.00 M_co2_c + 12.00 M_nadp_c + M_tetacp_c\n",
      "197. R_PEPHL: M_pe160_c -> M_2agpe160_c + 0.04 M_bhdodec_c + 0.01 M_decacid_c + 0.05 M_dodecacid_c + 0.02 M_hepadecacid_c + 0.02 M_hepedecacid_c + 0.28 M_hexadecacid_c + 0.19 M_hexedecacid_c + 0.01 M_octadecacid_c + 0.38 M_octedecacid_c + 0.00 M_pendecacid_c + 0.00 M_tetdecacid_c\n",
      "198. R_NNATr: M_atp_c + M_h_c + M_nicrnt_c -> M_dnad_c + M_ppi_c\n",
      "199. R_SDPDS: M_h2o_c + M_sl26da_c -> M_26dap_LL_c + M_succ_c\n",
      "200. R_PRATPP: M_h2o_c + M_prbatp_c -> M_h_c + M_ppi_c + M_prbamp_c\n",
      "201. R_ACCOAC: M_accoa_c + M_atp_c + M_hco3_c -> M_adp_c + M_h_c + M_malcoa_c + M_pi_c\n",
      "202. R_TRPt2r: M_h_e + M_trp__L_e -> M_h_c + M_trp__L_c\n",
      "203. R_SUCBZL: M_atp_c + M_coa_c + M_sucbz_c -> M_amp_c + M_ppi_c + M_sbzcoa_c\n",
      "204. R_MMSAD3: M_coa_c + M_msa_c + M_nad_c -> M_accoa_c + M_co2_c + M_nadh_c\n",
      "205. R_PRAMPC: M_h2o_c + M_prbamp_c -> M_prfp_c\n",
      "206. R_MHPGLUT2: M_ahcys_c + M_h_c + M_mhpglu_c -> M_amet_c + M_hpglu_c\n",
      "207. R_SADH: 2.00 M_h2o_c + 2.00 M_h_c + M_sucarg_c -> M_co2_c + 2.00 M_nh4_c + M_sucorn_c\n",
      "208. R_G3PD5: M_glyc3p_c + M_q8_c -> M_dhap_c + M_q8h2_c\n",
      "209. R_THRD_L: M_thr__L_c -> M_2obut_c + M_nh4_c\n",
      "210. R_SUCBZS: M_2shchc_c -> M_h2o_c + M_sucbz_c\n",
      "211. R_TAM4: M_fadh2_c + M_o2_c + M_tetacp_c -> M_ACP_c + M_bhtetdec_c + M_fad_c\n",
      "212. R_GMPS2: M_atp_c + M_gln__L_c + M_h2o_c + M_xmp_c -> M_amp_c + M_glu__L_c + M_gmp_c + 2.00 M_h_c + M_ppi_c\n",
      "213. R_NTRIR2y: 5.00 M_h_c + 3.00 M_nadph_c + M_no2_c -> 2.00 M_h2o_c + 3.00 M_nadp_c + M_nh4_c\n",
      "214. R_APRAUR: M_5apru_c + M_h_c + M_nadph_c -> M_5aprbu_c + M_nadp_c\n",
      "215. R_PMDPHT: M_5aprbu_c + M_h2o_c -> M_4r5au_c + M_pi_c\n",
      "216. R_NPHS: M_sbzcoa_c -> M_coa_c + M_dhna_c\n",
      "217. R_DODECACP: M_acACP_c + 5.00 M_malACP_c + 10.00 M_nadph_c -> 5.00 M_ACP_c + 5.00 M_co2_c + M_dodecacp_c + 10.00 M_nadp_c\n",
      "218. R_AHSERL2_1: M_achms_c + M_h2s_c -> M_ac_c + M_hcys__L_c\n",
      "219. R_ADSL1r: M_dcamp_c -> M_amp_c + M_fum_c\n",
      "220. R_UAPGR: M_h_c + M_nadph_c + M_uaccg_c -> M_nadp_c + M_uamr_c\n",
      "221. R_CAV: 0.16 M_coa_c + 0.16 M_fad_c + 0.27 M_fmn_c + 0.41 M_mqn8_c + 0.19 M_nad_c + 0.17 M_nadp_c + 0.74 M_pydxn_c + 0.28 M_thf_c -> M_cav_c\n",
      "222. R_CYSDS: M_cys__L_c + M_h2o_c -> M_h2s_c + M_nh4_c + M_pyr_c\n",
      "223. R_DECACID: M_atp_c + 5.00 M_coa_c + M_decacid_c + 4.00 M_fad_c + 4.00 M_nad_c -> 5.00 M_accoa_c + M_amp_c + 4.00 M_fadh2_c + 4.00 M_nadh_c + M_ppi_c\n",
      "224. R_DODECACID: M_atp_c + 6.00 M_coa_c + M_dodecacid_c + 5.00 M_fad_c + 5.00 M_nad_c -> 6.00 M_accoa_c + M_amp_c + 5.00 M_fadh2_c + 5.00 M_nadh_c + M_ppi_c\n",
      "225. R_ADCS: M_chor_c + M_gln__L_c -> M_4adcho_c + M_glu__L_c\n",
      "226. R_RBFSa: M_4r5au_c + M_db4p_c -> M_dmlz_c + 2.00 M_h2o_c + M_pi_c\n",
      "227. R_DHAD1: M_23dhmb_c -> M_3mob_c + M_h2o_c\n",
      "228. R_HEPDECACID: M_atp_c + 8.00 M_coa_c + 7.00 M_fad_c + M_hepadecacid_c + 7.00 M_nad_c -> 7.00 M_accoa_c + M_amp_c + 7.00 M_fadh2_c + 7.00 M_nadh_c + M_ppcoa_c + M_ppi_c\n",
      "229. R_LEUTA: M_akg_c + M_leu__L_c -> M_4mop_c + M_glu__L_c\n",
      "230. R_DB4PS: M_ru5p__D_c -> M_db4p_c + M_for_c + M_h_c\n",
      "231. R_ADCL: M_4adcho_c -> M_4abz_c + M_h_c + M_pyr_c\n",
      "232. R_HEPEDECACID: M_atp_c + 8.00 M_coa_c + 7.00 M_fad_c + M_hepedecacid_c + 7.00 M_nad_c -> 7.00 M_accoa_c + M_amp_c + 7.00 M_fadh2_c + 7.00 M_nadh_c + M_ppcoa_c + M_ppi_c\n",
      "233. R_HEXDECACID: M_atp_c + 8.00 M_coa_c + 7.00 M_fad_c + M_hexadecacid_c + 7.00 M_nad_c -> 8.00 M_accoa_c + M_amp_c + 7.00 M_fadh2_c + 7.00 M_nadh_c + M_ppi_c\n",
      "234. R_GTPCII: M_gtp_c + 3.00 M_h2o_c -> M_25dhpp_c + M_for_c + 2.00 M_h_c + M_ppi_c\n",
      "235. R_DPCOAK: M_atp_c + M_dpcoa_c -> M_adp_c + M_coa_c + M_h_c\n",
      "236. R_HEXEDECACID: M_atp_c + 8.00 M_coa_c + 7.00 M_fad_c + M_hexedecacid_c + 7.00 M_nad_c -> 8.00 M_accoa_c + M_amp_c + 7.00 M_fadh2_c + 7.00 M_nadh_c + M_ppi_c\n",
      "237. R_PPS: M_atp_c + M_h2o_c + M_pyr_c -> M_amp_c + 2.00 M_h_c + M_pep_c + M_pi_c\n",
      "238. R_OCTEDECACID: M_atp_c + 9.00 M_coa_c + 8.00 M_fad_c + 8.00 M_nad_c + M_octedecacid_c -> 9.00 M_accoa_c + M_amp_c + 8.00 M_fadh2_c + 8.00 M_nadh_c + M_ppi_c\n",
      "239. R_TAM2: M_dodecacp_c + M_fadh2_c + M_o2_c -> M_ACP_c + M_bhdodec_c + M_fad_c\n",
      "240. R_IPPS: M_3mob_c + M_accoa_c + M_h2o_c -> M_3c3hmp_c + M_coa_c + M_h_c\n",
      "241. R_OCBT: M_cbp_c + M_orn_c -> M_citr__L_c + M_h_c + M_pi_c\n",
      "242. R_4HTHRS: M_h2o_c + M_phthr_c -> M_4hthr_c + M_pi_c\n",
      "243. R_HISTD: M_h2o_c + M_histd_c + 2.00 M_nad_c -> 3.00 M_h_c + M_his__L_c + 2.00 M_nadh_c\n",
      "244. R_PGSA160: M_cdpdhdecg_c + M_glyc3p_c -> M_cmp_c + M_h_c + M_pgp160_c\n",
      "245. R_ASPCT: M_asp__L_c + M_cbp_c -> M_cbasp_c + M_h_c + M_pi_c\n",
      "246. R_NDPK2: M_atp_c + M_udp_c -> M_adp_c + M_utp_c\n",
      "247. R_NTPP8: M_h2o_c + M_utp_c -> M_h_c + M_ppi_c + M_ump_c\n",
      "248. R_ICDHyr: M_icit_c + M_nadp_c -> M_akg_c + M_co2_c + M_nadph_c\n",
      "249. R_ABSD: M_lys__L_c + M_nadph_c + M_o2_c -> M_nadp_c + M_nhlys_c\n",
      "250. R_PPOR: M_o2_c + M_phpyr_c -> M_2hyoxplac_c + M_co2_c\n",
      "251. R_PSP_L: M_h2o_c + M_pser__L_c -> M_pi_c + M_ser__L_c\n",
      "252. R_PDHcr: M_dhlam_c + M_nad_c -> M_h_c + M_lpam_c + M_nadh_c\n",
      "253. R_DTMPK: M_atp_c + M_dtmp_c -> M_adp_c + M_dtdp_c\n",
      "254. R_CYTOM: M_amet_c + M_csn_c -> M_5mcsn_c + M_ahcys_c + M_h_c\n",
      "255. R_RNDR3: M_cdp_c + M_trdrd_c -> M_dcdp_c + M_h2o_c + M_trdox_c\n",
      "256. R_UPPRT: M_prpp_c + M_ura_c -> M_ppi_c + M_ump_c\n",
      "257. R_ACLSa: M_h_c + M_pyr_c + M_thmpp_c -> M_2ahethmpp_c + M_co2_c\n",
      "258. R_TRPS1: M_3ig3p_c + M_ser__L_c -> M_g3p_c + M_h2o_c + M_trp__L_c\n",
      "259. R_URIDK2r: M_atp_c + M_dump_c -> M_adp_c + M_dudp_c\n",
      "260. R_PPNDH: M_h_c + M_pphn_c -> M_co2_c + M_h2o_c + M_phpyr_c\n",
      "261. R_FBA: M_fdp_c -> M_dhap_c + M_g3p_c\n",
      "262. R_NTD5: M_dtmp_c + M_h2o_c -> M_pi_c + M_thymd_c\n",
      "263. R_ICL: M_icit_c -> M_glx_c + M_succ_c\n",
      "264. R_CYSS: M_acser_c + M_h2s_c -> M_ac_c + M_cys__L_c + M_h_c\n",
      "265. R_TMDPP: M_pi_c + M_thymd_c -> M_2dr1p_c + M_thym_c\n",
      "266. R_HPCOR: M_3opcoa_c + M_h_c + M_nadph_c -> M_3hpcoa_c + M_nadp_c\n",
      "267. R_NAPRT: M_h_c + M_nac_c + M_prpp_c -> M_nicrnt_c + M_ppi_c\n",
      "268. R_PRASCSi: M_5aizc_c + M_asp__L_c + M_atp_c -> M_25aics_c + M_adp_c + M_h_c + M_pi_c\n",
      "269. R_SERAT: M_accoa_c + M_ser__L_c -> M_acser_c + M_coa_c\n",
      "270. R_PHOSPHOLIPID: 0.12 M_2agpe160_c + 0.17 M_clpn160_c + 0.55 M_pe160_c + 0.30 M_pg160_c -> M_phospholipid_c\n",
      "271. R_PPA: M_h2o_c + M_ppi_c -> M_h_c + 2.00 M_pi_c\n",
      "272. R_AICART: M_10fthf_c + M_aicar_c -> M_fprica_c + M_thf_c\n",
      "273. R_SUCD1: M_fad_c + M_succ_c -> M_fadh2_c + M_fum_c\n",
      "274. R_HBCO_nadp: M_aacoa_c + M_h_c + M_nadph_c -> M_3hbcoa_c + M_nadp_c\n",
      "275. R_NNDPR: 2.00 M_h_c + M_prpp_c + M_quln_c -> M_co2_c + M_nicrnt_c + M_ppi_c\n",
      "276. R_G5SD: M_glu5p_c + M_h_c + M_nadph_c -> M_glu5sa_c + M_nadp_c + M_pi_c\n",
      "277. R_SUCCabc: M_atp_c + M_h2o_c + M_succ_e -> M_adp_c + M_h_c + M_pi_c + M_succ_c\n",
      "278. R_PGPP160: M_h2o_c + M_pgp160_c -> M_pg160_c + M_pi_c\n",
      "279. R_P5CR: M_1pyr5c_c + 2.00 M_h_c + M_nadph_c -> M_nadp_c + M_pro__L_c\n",
      "280. R_OMCDC: M_3c4mop_c + M_h_c -> M_4mop_c + M_co2_c\n",
      "281. R_G3PA: M_accoa_c + M_glyc3p_c -> M_aglp_c + M_coa_c\n",
      "282. R_GLYCLTDx: M_glx_c + M_h_c + M_nadh_c -> M_glyclt_c + M_nad_c\n",
      "283. R_RNDR4: M_trdrd_c + M_udp_c -> M_dudp_c + M_h2o_c + M_trdox_c\n",
      "284. R_ASPO2y: M_asp__L_c + M_nadp_c -> 2.00 M_h_c + M_iasp_c + M_nadph_c\n",
      "285. R_DHPS: M_2ahhmp_c + M_4abz_c -> M_dhpt_c + M_h2o_c\n",
      "286. R_HSDxi: M_aspsa_c + M_h_c + M_nadh_c -> M_hom__L_c + M_nad_c\n",
      "287. R_ARApts: M_pep_c + M_xyl__D_e -> M_pyr_c + M_xu5p__D_c\n",
      "288. R_OMPDC: M_h_c + M_orot5p_c -> M_co2_c + M_ump_c\n",
      "289. R_HPOXR: 2.00 M_h2o2_c -> 2.00 M_h2o_c + 2.00 M_o2_c\n",
      "290. R_GLYCLTDy: M_glx_c + M_h_c + M_nadph_c -> M_glyclt_c + M_nadp_c\n",
      "291. R_NDPK7: M_atp_c + M_dcdp_c -> M_adp_c + M_dctp_c\n",
      "292. R_DRPA: M_2dr5p_c -> M_acald_c + M_g3p_c\n",
      "293. R_FBP: M_fdp_c + M_h2o_c -> M_f6p_c + M_pi_c\n",
      "294. R_GLCD: M_glc__D_c + M_nadp_c -> M_glcn_c + M_nadph_c\n",
      "295. R_PRPPS: M_atp_c + M_r5p_c -> M_amp_c + M_h_c + M_prpp_c\n",
      "296. R_PHETA1: M_akg_c + M_phe__L_c -> M_glu__L_c + M_phpyr_c\n",
      "297. R_PUNP1: M_adn_c + M_pi_c -> M_ade_c + M_r1p_c\n",
      "298. R_ANS2: M_chor_c + M_nh4_c -> M_anth_c + M_h2o_c + M_h_c + M_pyr_c\n",
      "299. R_PYR5CD2: M_1pyr5c_c + 2.00 M_h2o_c + M_nadp_c -> M_glu__L_c + M_h_c + M_nadh_c\n",
      "300. R_LDH_L: M_lac__L_c + M_nad_c -> M_h_c + M_nadh_c + M_pyr_c\n",
      "301. R_GHMT2r: M_ser__L_c + M_thf_c -> M_gly_c + M_h2o_c + M_mlthf_c\n",
      "302. R_MCITS: M_h2o_c + M_oaa_c + M_ppcoa_c -> M_2mcit_c + M_coa_c + M_h_c\n",
      "303. R_GLYO1: M_gly_c + M_h2o_c + M_o2_c -> M_glx_c + M_h2o2_c + M_nh4_c\n",
      "304. R_PTA2: M_pi_c + M_ppcoa_c -> M_coa_c + M_ppap_c\n",
      "305. R_FGFT: M_fgam_c + 3.00 M_h_c + M_thf_c -> M_gar_c + M_h2o_c + M_methf_c\n",
      "306. R_NADH10: M_h_c + M_mqn8_c + M_nadh_c -> M_mql8_c + M_nad_c\n",
      "307. R_OBTFL: M_2obut_c + M_coa_c -> M_for_c + M_ppcoa_c\n",
      "308. R_ASPTA: M_akg_c + M_asp__L_c -> M_glu__L_c + M_oaa_c\n",
      "309. R_MADH: M_mmtsa_c + M_nad_c -> M_co2_c + M_mmal_c + M_nadh_c\n",
      "310. R_HACDH: M_h_c + M_mmtsa_c + M_nadh_c -> M_hibut_c + M_nad_c\n",
      "311. R_NDPK6: M_atp_c + M_dudp_c -> M_adp_c + M_dutp_c\n",
      "312. R_ABAH: M_2ommbl_c + M_amet_c -> M_ahcys_c + M_h_c + M_q8_c\n",
      "313. R_FDR: M_nadph_c + M_rdxo_c -> M_h_c + M_nadp_c + M_rdxr_c\n",
      "314. R_AIRC1: M_air_c + M_atp_c + M_co2_c + M_h2o_c -> M_5aizc_c + M_adp_c + 2.00 M_h_c + M_pi_c\n",
      "315. R_DNADDP: M_dnad_c + M_h2o_c -> M_amp_c + 2.00 M_h_c + M_nicrnt_c\n",
      "316. R_GLUDy: M_glu__L_c + M_h2o_c + M_nadp_c -> M_akg_c + M_h_c + M_nadph_c + M_nh4_c\n",
      "317. R_ATPB: M_atp_c -> M_adp_c + M_pi_c\n",
      "318. R_ASPabc: M_asp__L_e + M_atp_c + M_h2o_c -> M_adp_c + M_asp__L_c + M_h_c + M_pi_c\n",
      "319. R_SUCD4: M_fadh2_c + M_q8_c -> M_fad_c + M_q8h2_c\n",
      "320. R_ASPO6: M_asp__L_c + M_o2_c -> M_h2o2_c + M_h_c + M_iasp_c\n",
      "321. R_P5CCD: M_glu__L_c + M_h_c + M_nadh_c -> M_glu5sa_c + M_nad_c + M_pi_c\n",
      "322. R_ASAD: M_aspsa_c + M_nadp_c + M_pi_c -> M_4pasp_c + M_h_c + M_nadph_c\n",
      "323. R_G3PD2: M_glyc3p_c + M_nadp_c -> M_dhap_c + M_h_c + M_nadph_c\n",
      "324. R_NTD7: M_amp_c + M_h2o_c -> M_adn_c + M_pi_c\n",
      "325. R_ASPO1: M_asp__L_c + M_h2o_c + M_o2_c -> M_h2o2_c + M_nh4_c + M_oaa_c\n",
      "326. R_G3PD6: M_glyc3p_c + M_mqn8_c -> M_dhap_c + M_mql8_c\n",
      "327. R_G3PD1ir: M_dhap_c + M_h_c + M_nadh_c -> M_glyc3p_c + M_nad_c\n",
      "328. R_HCYSMT: M_amet_c + M_hcys__L_c -> M_ahcys_c + M_h_c + M_met__L_c\n",
      "329. R_METt2r: M_h_e + M_met__L_e -> M_h_c + M_met__L_c\n",
      "330. R_NADH5: M_h_c + M_nadh_c + M_q8_c -> M_nad_c + M_q8h2_c\n",
      "331. R_CYSt2r: M_cys__L_e + M_h_e -> M_cys__L_c + M_h_c\n",
      "332. R_NADH9: M_2dmmq8_c + M_h_c + M_nadh_c -> M_2dmmql8_c + M_nad_c\n",
      "333. R_TYRt: M_tyr__L_e -> M_tyr__L_c\n",
      "\n",
      "\n",
      "**********************************************************************\n",
      "\n",
      "\n"
     ]
    }
   ],
   "source": [
    "rep = gr.reportEchelonError([m_1000.echelon_errors[2]])\n",
    "print(rep[0])"
   ]
  },
  {
   "cell_type": "code",
   "execution_count": null,
   "metadata": {},
   "outputs": [],
   "source": []
  },
  {
   "cell_type": "code",
   "execution_count": null,
   "metadata": {},
   "outputs": [],
   "source": []
  },
  {
   "cell_type": "code",
   "execution_count": 61,
   "metadata": {},
   "outputs": [
    {
     "name": "stdout",
     "output_type": "stream",
     "text": [
      "Model: iLB1027_lipid.xml\n",
      "xGAMES time: 1626.331340\n",
      "xGAMES found an error!\n",
      "LP time: 272.211592\n",
      "LP found an error!\n",
      "MILP time: 285.884376\n"
     ]
    }
   ],
   "source": [
    "m_4000, s_4000, milp_result_4000, unconserved_metabolites_4000 = analyzeBIGG(simple, MODEL_4000)"
   ]
  },
  {
   "cell_type": "code",
   "execution_count": 62,
   "metadata": {},
   "outputs": [
    {
     "name": "stdout",
     "output_type": "stream",
     "text": [
      "Model: iCHOv1.xml\n",
      "xGAMES time: 7200.678418\n",
      "xGAMES found an error!\n",
      "LP time: 759.267629\n",
      "LP found an error!\n",
      "MILP time: 796.065499\n"
     ]
    }
   ],
   "source": [
    "m_6000, s_6000, milp_result_6000, unconserved_metabolites_6000 = analyzeBIGG(simple, MODEL_6000)"
   ]
  },
  {
   "cell_type": "code",
   "execution_count": 68,
   "metadata": {},
   "outputs": [
    {
     "data": {
      "text/plain": [
       "2370"
      ]
     },
     "execution_count": 68,
     "metadata": {},
     "output_type": "execute_result"
    }
   ],
   "source": [
    "len(unconserved_metabolites_6000)"
   ]
  },
  {
   "cell_type": "code",
   "execution_count": 71,
   "metadata": {},
   "outputs": [
    {
     "name": "stdout",
     "output_type": "stream",
     "text": [
      "2\n",
      "2\n"
     ]
    }
   ],
   "source": [
    "print(s_4000.result.status)\n",
    "print(s_6000.result.status)"
   ]
  },
  {
   "cell_type": "code",
   "execution_count": 184,
   "metadata": {},
   "outputs": [
    {
     "data": {
      "text/plain": [
       "'/usr/ilog/cplex/bin/x86_rhel4.0_3.4/libcplex110.so'"
      ]
     },
     "execution_count": 184,
     "metadata": {},
     "output_type": "execute_result"
    }
   ],
   "source": [
    "pulp.cplex_dll_path"
   ]
  },
  {
   "cell_type": "code",
   "execution_count": 172,
   "metadata": {},
   "outputs": [],
   "source": [
    "import cobra"
   ]
  },
  {
   "cell_type": "code",
   "execution_count": 179,
   "metadata": {},
   "outputs": [],
   "source": [
    "from SBMLLint.common import util\n",
    "import libsbml\n",
    "xml = util.getXML(os.path.join(cn.BIGG_DIR, MODEL_1000))\n",
    "reader = libsbml.SBMLReader()\n",
    "document = reader.readSBMLFromString(xml)\n",
    "model = document.getModel()"
   ]
  },
  {
   "cell_type": "code",
   "execution_count": 182,
   "metadata": {},
   "outputs": [
    {
     "ename": "AttributeError",
     "evalue": "module 'cobra' has no attribute 'verifyModel'",
     "output_type": "error",
     "traceback": [
      "\u001b[0;31m---------------------------------------------------------------------------\u001b[0m",
      "\u001b[0;31mAttributeError\u001b[0m                            Traceback (most recent call last)",
      "\u001b[0;32m<ipython-input-182-e76570e6a981>\u001b[0m in \u001b[0;36m<module>\u001b[0;34m\u001b[0m\n\u001b[0;32m----> 1\u001b[0;31m \u001b[0mcobra\u001b[0m\u001b[0;34m.\u001b[0m\u001b[0mverifyModel\u001b[0m\u001b[0;34m(\u001b[0m\u001b[0mmodel\u001b[0m\u001b[0;34m,\u001b[0m\u001b[0;34m'massBalance'\u001b[0m\u001b[0;34m,\u001b[0m \u001b[0mtrue\u001b[0m\u001b[0;34m)\u001b[0m\u001b[0;34m\u001b[0m\u001b[0;34m\u001b[0m\u001b[0m\n\u001b[0m",
      "\u001b[0;31mAttributeError\u001b[0m: module 'cobra' has no attribute 'verifyModel'"
     ]
    }
   ],
   "source": [
    "cobra.(model,'massBalance', true)"
   ]
  },
  {
   "cell_type": "code",
   "execution_count": 104,
   "metadata": {},
   "outputs": [],
   "source": [
    "# test roundup\n",
    "echelon_df = round(m_1000.echelon_df)\n",
    "rref_df = round(m_1000.getRREFMatrix(echelon_df))"
   ]
  },
  {
   "cell_type": "code",
   "execution_count": 105,
   "metadata": {},
   "outputs": [],
   "source": [
    "lower_inv = inv(np.round(m.lower))"
   ]
  },
  {
   "cell_type": "code",
   "execution_count": 106,
   "metadata": {},
   "outputs": [],
   "source": [
    "op_df = m_1000.rref_operation.dot(lower_inv)"
   ]
  },
  {
   "cell_type": "code",
   "execution_count": 147,
   "metadata": {},
   "outputs": [
    {
     "data": {
      "text/plain": [
       "Index(['R_G3PD4', 'R_ASPT', 'R_BDH', 'R_PTHPS', 'R_PPPPH', 'R_METTRS',\n",
       "       'R_IMPC', 'R_EDD', 'R_BACCL2', 'R_CAOPT3',\n",
       "       ...\n",
       "       'R_4ABUTD', 'R_ADK1', 'R_CTPS1', 'R_TYRt2r', 'R_GLUabc', 'R_ALDD20y',\n",
       "       'R_NTPP1', 'R_ALDD2y', 'R_GLNt2r', 'R_LYSabc'],\n",
       "      dtype='object', length=821)"
      ]
     },
     "execution_count": 147,
     "metadata": {},
     "output_type": "execute_result"
    }
   ],
   "source": [
    "op_df.index"
   ]
  },
  {
   "cell_type": "code",
   "execution_count": 149,
   "metadata": {},
   "outputs": [],
   "source": [
    "op_df.columns = op_df.index"
   ]
  },
  {
   "cell_type": "code",
   "execution_count": 107,
   "metadata": {},
   "outputs": [
    {
     "data": {
      "text/plain": [
       "(788, 821)"
      ]
     },
     "execution_count": 107,
     "metadata": {},
     "output_type": "execute_result"
    }
   ],
   "source": [
    "m_1000.som_stoichiometry_matrix.shape"
   ]
  },
  {
   "cell_type": "code",
   "execution_count": 151,
   "metadata": {},
   "outputs": [],
   "source": [
    "som_reactions = m_1000.convertMatrixToSOMReactions(rref_df)"
   ]
  },
  {
   "cell_type": "code",
   "execution_count": null,
   "metadata": {},
   "outputs": [],
   "source": []
  },
  {
   "cell_type": "code",
   "execution_count": null,
   "metadata": {},
   "outputs": [],
   "source": []
  },
  {
   "cell_type": "code",
   "execution_count": 117,
   "metadata": {},
   "outputs": [
    {
     "data": {
      "text/plain": [
       "[]"
      ]
     },
     "execution_count": 117,
     "metadata": {},
     "output_type": "execute_result"
    }
   ],
   "source": [
    "m.echelon_errors"
   ]
  },
  {
   "cell_type": "code",
   "execution_count": 141,
   "metadata": {},
   "outputs": [],
   "source": [
    "gr = GAMESReport(m_1000)"
   ]
  },
  {
   "cell_type": "code",
   "execution_count": 158,
   "metadata": {},
   "outputs": [],
   "source": [
    "reaction_operation = gr.convertOperationSeriesToReactionOperations(op_df.T[res[0]])"
   ]
  },
  {
   "cell_type": "code",
   "execution_count": 159,
   "metadata": {},
   "outputs": [
    {
     "data": {
      "text/plain": [
       "[ReactionOperation(reaction='R_HMGL_2', operation=-1.0),\n",
       " ReactionOperation(reaction='R_BPNT', operation=19.0),\n",
       " ReactionOperation(reaction='R_FBP', operation=1.0)]"
      ]
     },
     "execution_count": 159,
     "metadata": {},
     "output_type": "execute_result"
    }
   ],
   "source": [
    "reaction_operation[:3]"
   ]
  },
  {
   "cell_type": "code",
   "execution_count": 170,
   "metadata": {},
   "outputs": [],
   "source": [
    "m_1000.simple.getReaction(\"R_HMGL_2\")"
   ]
  },
  {
   "cell_type": "code",
   "execution_count": 169,
   "metadata": {},
   "outputs": [],
   "source": [
    "gr.mesgraph.simple.getReaction(\"R_HMGL_2\")"
   ]
  },
  {
   "cell_type": "code",
   "execution_count": 171,
   "metadata": {},
   "outputs": [
    {
     "ename": "AttributeError",
     "evalue": "'NoneType' object has no attribute 'reactants'",
     "output_type": "error",
     "traceback": [
      "\u001b[0;31m---------------------------------------------------------------------------\u001b[0m",
      "\u001b[0;31mAttributeError\u001b[0m                            Traceback (most recent call last)",
      "\u001b[0;32m<ipython-input-171-010f7d856c8d>\u001b[0m in \u001b[0;36m<module>\u001b[0;34m\u001b[0m\n\u001b[0;32m----> 1\u001b[0;31m \u001b[0mgr\u001b[0m\u001b[0;34m.\u001b[0m\u001b[0mgetOperationStoichiometryMatrix\u001b[0m\u001b[0;34m(\u001b[0m\u001b[0mreaction_operation\u001b[0m\u001b[0;34m[\u001b[0m\u001b[0;36m1\u001b[0m\u001b[0;34m:\u001b[0m\u001b[0;34m]\u001b[0m\u001b[0;34m)\u001b[0m\u001b[0;34m\u001b[0m\u001b[0;34m\u001b[0m\u001b[0m\n\u001b[0m",
      "\u001b[0;32m~/Desktop/ModelEngineering/SBMLLint/SBMLLint/SBMLLint/games/games_report.py\u001b[0m in \u001b[0;36mgetOperationStoichiometryMatrix\u001b[0;34m(self, reaction_operations)\u001b[0m\n\u001b[1;32m    382\u001b[0m           \u001b[0mreaction\u001b[0m \u001b[0;34m=\u001b[0m \u001b[0mself\u001b[0m\u001b[0;34m.\u001b[0m\u001b[0mmesgraph\u001b[0m\u001b[0;34m.\u001b[0m\u001b[0msimple\u001b[0m\u001b[0;34m.\u001b[0m\u001b[0mgetReaction\u001b[0m\u001b[0;34m(\u001b[0m\u001b[0mop\u001b[0m\u001b[0;34m.\u001b[0m\u001b[0mreaction\u001b[0m\u001b[0;34m)\u001b[0m\u001b[0;34m\u001b[0m\u001b[0;34m\u001b[0m\u001b[0m\n\u001b[1;32m    383\u001b[0m           \u001b[0mreactions\u001b[0m\u001b[0;34m.\u001b[0m\u001b[0mappend\u001b[0m\u001b[0;34m(\u001b[0m\u001b[0mreaction\u001b[0m\u001b[0;34m)\u001b[0m\u001b[0;34m\u001b[0m\u001b[0;34m\u001b[0m\u001b[0m\n\u001b[0;32m--> 384\u001b[0;31m           \u001b[0mspecies\u001b[0m \u001b[0;34m=\u001b[0m \u001b[0mspecies\u001b[0m\u001b[0;34m.\u001b[0m\u001b[0munion\u001b[0m\u001b[0;34m(\u001b[0m\u001b[0;34m{\u001b[0m\u001b[0mr\u001b[0m\u001b[0;34m.\u001b[0m\u001b[0mmolecule\u001b[0m\u001b[0;34m.\u001b[0m\u001b[0mname\u001b[0m \u001b[0;32mfor\u001b[0m \u001b[0mr\u001b[0m \u001b[0;32min\u001b[0m \u001b[0mreaction\u001b[0m\u001b[0;34m.\u001b[0m\u001b[0mreactants\u001b[0m\u001b[0;34m}\u001b[0m\u001b[0;34m)\u001b[0m\u001b[0;34m\u001b[0m\u001b[0;34m\u001b[0m\u001b[0m\n\u001b[0m\u001b[1;32m    385\u001b[0m           \u001b[0mspecies\u001b[0m \u001b[0;34m=\u001b[0m \u001b[0mspecies\u001b[0m\u001b[0;34m.\u001b[0m\u001b[0munion\u001b[0m\u001b[0;34m(\u001b[0m\u001b[0;34m{\u001b[0m\u001b[0mp\u001b[0m\u001b[0;34m.\u001b[0m\u001b[0mmolecule\u001b[0m\u001b[0;34m.\u001b[0m\u001b[0mname\u001b[0m \u001b[0;32mfor\u001b[0m \u001b[0mp\u001b[0m \u001b[0;32min\u001b[0m \u001b[0mreaction\u001b[0m\u001b[0;34m.\u001b[0m\u001b[0mproducts\u001b[0m\u001b[0;34m}\u001b[0m\u001b[0;34m)\u001b[0m\u001b[0;34m\u001b[0m\u001b[0;34m\u001b[0m\u001b[0m\n\u001b[1;32m    386\u001b[0m         \u001b[0moperations\u001b[0m \u001b[0;34m=\u001b[0m \u001b[0mnp\u001b[0m\u001b[0;34m.\u001b[0m\u001b[0marray\u001b[0m\u001b[0;34m(\u001b[0m\u001b[0;34m[\u001b[0m\u001b[0mval\u001b[0m\u001b[0;34m.\u001b[0m\u001b[0moperation\u001b[0m \u001b[0;32mfor\u001b[0m \u001b[0mval\u001b[0m \u001b[0;32min\u001b[0m \u001b[0mreaction_operations\u001b[0m\u001b[0;34m]\u001b[0m\u001b[0;34m)\u001b[0m\u001b[0;34m\u001b[0m\u001b[0;34m\u001b[0m\u001b[0m\n",
      "\u001b[0;31mAttributeError\u001b[0m: 'NoneType' object has no attribute 'reactants'"
     ]
    }
   ],
   "source": [
    "gr.getOperationStoichiometryMatrix(reaction_operation[1:])"
   ]
  },
  {
   "cell_type": "code",
   "execution_count": 155,
   "metadata": {},
   "outputs": [
    {
     "ename": "AttributeError",
     "evalue": "'NoneType' object has no attribute 'reactants'",
     "output_type": "error",
     "traceback": [
      "\u001b[0;31m---------------------------------------------------------------------------\u001b[0m",
      "\u001b[0;31mAttributeError\u001b[0m                            Traceback (most recent call last)",
      "\u001b[0;32m<ipython-input-155-7ef10f2125c0>\u001b[0m in \u001b[0;36m<module>\u001b[0;34m\u001b[0m\n\u001b[0;32m----> 1\u001b[0;31m \u001b[0minferred_reaction\u001b[0m \u001b[0;34m=\u001b[0m \u001b[0mgr\u001b[0m\u001b[0;34m.\u001b[0m\u001b[0mgetInferredReaction\u001b[0m\u001b[0;34m(\u001b[0m\u001b[0mreaction_operation\u001b[0m\u001b[0;34m)\u001b[0m\u001b[0;34m\u001b[0m\u001b[0;34m\u001b[0m\u001b[0m\n\u001b[0m",
      "\u001b[0;32m~/Desktop/ModelEngineering/SBMLLint/SBMLLint/SBMLLint/games/games_report.py\u001b[0m in \u001b[0;36mgetInferredReaction\u001b[0;34m(self, reaction_operations)\u001b[0m\n\u001b[1;32m    396\u001b[0m   \t\"\"\"\n\u001b[1;32m    397\u001b[0m         \u001b[0mINFERRED_REACTION\u001b[0m \u001b[0;34m=\u001b[0m \u001b[0;34m\"Inferred Reaction\"\u001b[0m\u001b[0;34m\u001b[0m\u001b[0;34m\u001b[0m\u001b[0m\n\u001b[0;32m--> 398\u001b[0;31m         \u001b[0mstoichiometry_df\u001b[0m \u001b[0;34m=\u001b[0m \u001b[0mself\u001b[0m\u001b[0;34m.\u001b[0m\u001b[0mgetOperationStoichiometryMatrix\u001b[0m\u001b[0;34m(\u001b[0m\u001b[0mreaction_operations\u001b[0m\u001b[0;34m)\u001b[0m\u001b[0;34m\u001b[0m\u001b[0;34m\u001b[0m\u001b[0m\n\u001b[0m\u001b[1;32m    399\u001b[0m         \u001b[0mreaction_index\u001b[0m \u001b[0;34m=\u001b[0m \u001b[0;34m[\u001b[0m\u001b[0mop\u001b[0m\u001b[0;34m.\u001b[0m\u001b[0mreaction\u001b[0m \u001b[0;32mfor\u001b[0m \u001b[0mop\u001b[0m \u001b[0;32min\u001b[0m \u001b[0mreaction_operations\u001b[0m\u001b[0;34m]\u001b[0m\u001b[0;34m\u001b[0m\u001b[0;34m\u001b[0m\u001b[0m\n\u001b[1;32m    400\u001b[0m         \u001b[0moperation_series\u001b[0m \u001b[0;34m=\u001b[0m \u001b[0mpd\u001b[0m\u001b[0;34m.\u001b[0m\u001b[0mSeries\u001b[0m\u001b[0;34m(\u001b[0m\u001b[0;34m[\u001b[0m\u001b[0mval\u001b[0m\u001b[0;34m.\u001b[0m\u001b[0moperation\u001b[0m \u001b[0;32mfor\u001b[0m \u001b[0mval\u001b[0m \u001b[0;32min\u001b[0m \u001b[0mreaction_operations\u001b[0m\u001b[0;34m]\u001b[0m\u001b[0;34m,\u001b[0m \u001b[0mindex\u001b[0m\u001b[0;34m=\u001b[0m\u001b[0mreaction_index\u001b[0m\u001b[0;34m)\u001b[0m\u001b[0;34m\u001b[0m\u001b[0;34m\u001b[0m\u001b[0m\n",
      "\u001b[0;32m~/Desktop/ModelEngineering/SBMLLint/SBMLLint/SBMLLint/games/games_report.py\u001b[0m in \u001b[0;36mgetOperationStoichiometryMatrix\u001b[0;34m(self, reaction_operations)\u001b[0m\n\u001b[1;32m    382\u001b[0m           \u001b[0mreaction\u001b[0m \u001b[0;34m=\u001b[0m \u001b[0mself\u001b[0m\u001b[0;34m.\u001b[0m\u001b[0mmesgraph\u001b[0m\u001b[0;34m.\u001b[0m\u001b[0msimple\u001b[0m\u001b[0;34m.\u001b[0m\u001b[0mgetReaction\u001b[0m\u001b[0;34m(\u001b[0m\u001b[0mop\u001b[0m\u001b[0;34m.\u001b[0m\u001b[0mreaction\u001b[0m\u001b[0;34m)\u001b[0m\u001b[0;34m\u001b[0m\u001b[0;34m\u001b[0m\u001b[0m\n\u001b[1;32m    383\u001b[0m           \u001b[0mreactions\u001b[0m\u001b[0;34m.\u001b[0m\u001b[0mappend\u001b[0m\u001b[0;34m(\u001b[0m\u001b[0mreaction\u001b[0m\u001b[0;34m)\u001b[0m\u001b[0;34m\u001b[0m\u001b[0;34m\u001b[0m\u001b[0m\n\u001b[0;32m--> 384\u001b[0;31m           \u001b[0mspecies\u001b[0m \u001b[0;34m=\u001b[0m \u001b[0mspecies\u001b[0m\u001b[0;34m.\u001b[0m\u001b[0munion\u001b[0m\u001b[0;34m(\u001b[0m\u001b[0;34m{\u001b[0m\u001b[0mr\u001b[0m\u001b[0;34m.\u001b[0m\u001b[0mmolecule\u001b[0m\u001b[0;34m.\u001b[0m\u001b[0mname\u001b[0m \u001b[0;32mfor\u001b[0m \u001b[0mr\u001b[0m \u001b[0;32min\u001b[0m \u001b[0mreaction\u001b[0m\u001b[0;34m.\u001b[0m\u001b[0mreactants\u001b[0m\u001b[0;34m}\u001b[0m\u001b[0;34m)\u001b[0m\u001b[0;34m\u001b[0m\u001b[0;34m\u001b[0m\u001b[0m\n\u001b[0m\u001b[1;32m    385\u001b[0m           \u001b[0mspecies\u001b[0m \u001b[0;34m=\u001b[0m \u001b[0mspecies\u001b[0m\u001b[0;34m.\u001b[0m\u001b[0munion\u001b[0m\u001b[0;34m(\u001b[0m\u001b[0;34m{\u001b[0m\u001b[0mp\u001b[0m\u001b[0;34m.\u001b[0m\u001b[0mmolecule\u001b[0m\u001b[0;34m.\u001b[0m\u001b[0mname\u001b[0m \u001b[0;32mfor\u001b[0m \u001b[0mp\u001b[0m \u001b[0;32min\u001b[0m \u001b[0mreaction\u001b[0m\u001b[0;34m.\u001b[0m\u001b[0mproducts\u001b[0m\u001b[0;34m}\u001b[0m\u001b[0;34m)\u001b[0m\u001b[0;34m\u001b[0m\u001b[0;34m\u001b[0m\u001b[0m\n\u001b[1;32m    386\u001b[0m         \u001b[0moperations\u001b[0m \u001b[0;34m=\u001b[0m \u001b[0mnp\u001b[0m\u001b[0;34m.\u001b[0m\u001b[0marray\u001b[0m\u001b[0;34m(\u001b[0m\u001b[0;34m[\u001b[0m\u001b[0mval\u001b[0m\u001b[0;34m.\u001b[0m\u001b[0moperation\u001b[0m \u001b[0;32mfor\u001b[0m \u001b[0mval\u001b[0m \u001b[0;32min\u001b[0m \u001b[0mreaction_operations\u001b[0m\u001b[0;34m]\u001b[0m\u001b[0;34m)\u001b[0m\u001b[0;34m\u001b[0m\u001b[0;34m\u001b[0m\u001b[0m\n",
      "\u001b[0;31mAttributeError\u001b[0m: 'NoneType' object has no attribute 'reactants'"
     ]
    }
   ],
   "source": [
    "inferred_reaction = gr.getInferredReaction(reaction_operation)"
   ]
  },
  {
   "cell_type": "code",
   "execution_count": 129,
   "metadata": {},
   "outputs": [
    {
     "name": "stdout",
     "output_type": "stream",
     "text": [
      "['R_FBP', 'R_TKT1', 'R_ASPK', 'R_ASPTA', 'R_TALA', 'R_ASAD', 'R_OOAP', 'R_HCO3E', 'R_ASPt2r', 'R_GLCD', 'R_NT5C', 'R_GLUSx_copy2', 'R_DHFR2i', 'R_DHFOR', 'R_MALTt2', 'R_G5SADs', 'R_PSP_L', 'R_FUM']\n"
     ]
    }
   ],
   "source": [
    "res = []\n",
    "for reaction in som_reactions:\n",
    "  if reaction.category == cn.REACTION_ERROR:\n",
    "    res.append(reaction.label)\n",
    "print(res)"
   ]
  },
  {
   "cell_type": "code",
   "execution_count": 130,
   "metadata": {},
   "outputs": [
    {
     "data": {
      "text/html": [
       "<div>\n",
       "<style scoped>\n",
       "    .dataframe tbody tr th:only-of-type {\n",
       "        vertical-align: middle;\n",
       "    }\n",
       "\n",
       "    .dataframe tbody tr th {\n",
       "        vertical-align: top;\n",
       "    }\n",
       "\n",
       "    .dataframe thead th {\n",
       "        text-align: right;\n",
       "    }\n",
       "</style>\n",
       "<table border=\"1\" class=\"dataframe\">\n",
       "  <thead>\n",
       "    <tr style=\"text-align: right;\">\n",
       "      <th></th>\n",
       "      <th>0</th>\n",
       "      <th>1</th>\n",
       "      <th>2</th>\n",
       "      <th>3</th>\n",
       "      <th>4</th>\n",
       "      <th>5</th>\n",
       "      <th>6</th>\n",
       "      <th>7</th>\n",
       "      <th>8</th>\n",
       "      <th>9</th>\n",
       "      <th>...</th>\n",
       "      <th>811</th>\n",
       "      <th>812</th>\n",
       "      <th>813</th>\n",
       "      <th>814</th>\n",
       "      <th>815</th>\n",
       "      <th>816</th>\n",
       "      <th>817</th>\n",
       "      <th>818</th>\n",
       "      <th>819</th>\n",
       "      <th>820</th>\n",
       "    </tr>\n",
       "  </thead>\n",
       "  <tbody>\n",
       "    <tr>\n",
       "      <th>R_G3PD4</th>\n",
       "      <td>2.25000</td>\n",
       "      <td>0.0</td>\n",
       "      <td>0.0</td>\n",
       "      <td>0.0</td>\n",
       "      <td>0.0</td>\n",
       "      <td>0.0</td>\n",
       "      <td>0.0</td>\n",
       "      <td>0.0</td>\n",
       "      <td>0.0</td>\n",
       "      <td>0.0</td>\n",
       "      <td>...</td>\n",
       "      <td>0.0</td>\n",
       "      <td>0.0</td>\n",
       "      <td>0.0</td>\n",
       "      <td>0.0</td>\n",
       "      <td>0.0</td>\n",
       "      <td>0.0</td>\n",
       "      <td>0.0</td>\n",
       "      <td>0.0</td>\n",
       "      <td>0.0</td>\n",
       "      <td>0.0</td>\n",
       "    </tr>\n",
       "    <tr>\n",
       "      <th>R_ASPT</th>\n",
       "      <td>0.00000</td>\n",
       "      <td>1.0</td>\n",
       "      <td>0.0</td>\n",
       "      <td>0.0</td>\n",
       "      <td>0.0</td>\n",
       "      <td>0.0</td>\n",
       "      <td>0.0</td>\n",
       "      <td>0.0</td>\n",
       "      <td>0.0</td>\n",
       "      <td>0.0</td>\n",
       "      <td>...</td>\n",
       "      <td>0.0</td>\n",
       "      <td>0.0</td>\n",
       "      <td>0.0</td>\n",
       "      <td>0.0</td>\n",
       "      <td>0.0</td>\n",
       "      <td>0.0</td>\n",
       "      <td>0.0</td>\n",
       "      <td>0.0</td>\n",
       "      <td>0.0</td>\n",
       "      <td>0.0</td>\n",
       "    </tr>\n",
       "    <tr>\n",
       "      <th>R_BDH</th>\n",
       "      <td>-8.25000</td>\n",
       "      <td>0.0</td>\n",
       "      <td>1.0</td>\n",
       "      <td>0.0</td>\n",
       "      <td>0.0</td>\n",
       "      <td>0.0</td>\n",
       "      <td>0.0</td>\n",
       "      <td>0.0</td>\n",
       "      <td>0.0</td>\n",
       "      <td>0.0</td>\n",
       "      <td>...</td>\n",
       "      <td>0.0</td>\n",
       "      <td>0.0</td>\n",
       "      <td>0.0</td>\n",
       "      <td>0.0</td>\n",
       "      <td>0.0</td>\n",
       "      <td>0.0</td>\n",
       "      <td>0.0</td>\n",
       "      <td>0.0</td>\n",
       "      <td>0.0</td>\n",
       "      <td>0.0</td>\n",
       "    </tr>\n",
       "    <tr>\n",
       "      <th>R_PTHPS</th>\n",
       "      <td>-1.53125</td>\n",
       "      <td>0.0</td>\n",
       "      <td>0.0</td>\n",
       "      <td>1.0</td>\n",
       "      <td>0.0</td>\n",
       "      <td>0.0</td>\n",
       "      <td>0.0</td>\n",
       "      <td>0.0</td>\n",
       "      <td>0.0</td>\n",
       "      <td>0.0</td>\n",
       "      <td>...</td>\n",
       "      <td>0.0</td>\n",
       "      <td>0.0</td>\n",
       "      <td>0.0</td>\n",
       "      <td>0.0</td>\n",
       "      <td>0.0</td>\n",
       "      <td>0.0</td>\n",
       "      <td>0.0</td>\n",
       "      <td>0.0</td>\n",
       "      <td>0.0</td>\n",
       "      <td>0.0</td>\n",
       "    </tr>\n",
       "    <tr>\n",
       "      <th>R_PPPPH</th>\n",
       "      <td>3.78125</td>\n",
       "      <td>0.0</td>\n",
       "      <td>0.0</td>\n",
       "      <td>0.0</td>\n",
       "      <td>1.0</td>\n",
       "      <td>0.0</td>\n",
       "      <td>0.0</td>\n",
       "      <td>0.0</td>\n",
       "      <td>0.0</td>\n",
       "      <td>0.0</td>\n",
       "      <td>...</td>\n",
       "      <td>0.0</td>\n",
       "      <td>0.0</td>\n",
       "      <td>0.0</td>\n",
       "      <td>0.0</td>\n",
       "      <td>0.0</td>\n",
       "      <td>0.0</td>\n",
       "      <td>0.0</td>\n",
       "      <td>0.0</td>\n",
       "      <td>0.0</td>\n",
       "      <td>0.0</td>\n",
       "    </tr>\n",
       "    <tr>\n",
       "      <th>...</th>\n",
       "      <td>...</td>\n",
       "      <td>...</td>\n",
       "      <td>...</td>\n",
       "      <td>...</td>\n",
       "      <td>...</td>\n",
       "      <td>...</td>\n",
       "      <td>...</td>\n",
       "      <td>...</td>\n",
       "      <td>...</td>\n",
       "      <td>...</td>\n",
       "      <td>...</td>\n",
       "      <td>...</td>\n",
       "      <td>...</td>\n",
       "      <td>...</td>\n",
       "      <td>...</td>\n",
       "      <td>...</td>\n",
       "      <td>...</td>\n",
       "      <td>...</td>\n",
       "      <td>...</td>\n",
       "      <td>...</td>\n",
       "      <td>...</td>\n",
       "    </tr>\n",
       "    <tr>\n",
       "      <th>R_ALDD20y</th>\n",
       "      <td>0.00000</td>\n",
       "      <td>0.0</td>\n",
       "      <td>0.0</td>\n",
       "      <td>0.0</td>\n",
       "      <td>0.0</td>\n",
       "      <td>0.0</td>\n",
       "      <td>0.0</td>\n",
       "      <td>0.0</td>\n",
       "      <td>0.0</td>\n",
       "      <td>0.0</td>\n",
       "      <td>...</td>\n",
       "      <td>0.0</td>\n",
       "      <td>0.0</td>\n",
       "      <td>0.0</td>\n",
       "      <td>0.0</td>\n",
       "      <td>0.0</td>\n",
       "      <td>1.0</td>\n",
       "      <td>0.0</td>\n",
       "      <td>0.0</td>\n",
       "      <td>0.0</td>\n",
       "      <td>0.0</td>\n",
       "    </tr>\n",
       "    <tr>\n",
       "      <th>R_NTPP1</th>\n",
       "      <td>0.00000</td>\n",
       "      <td>0.0</td>\n",
       "      <td>0.0</td>\n",
       "      <td>0.0</td>\n",
       "      <td>0.0</td>\n",
       "      <td>0.0</td>\n",
       "      <td>0.0</td>\n",
       "      <td>0.0</td>\n",
       "      <td>0.0</td>\n",
       "      <td>0.0</td>\n",
       "      <td>...</td>\n",
       "      <td>0.0</td>\n",
       "      <td>0.0</td>\n",
       "      <td>0.0</td>\n",
       "      <td>0.0</td>\n",
       "      <td>0.0</td>\n",
       "      <td>0.0</td>\n",
       "      <td>1.0</td>\n",
       "      <td>0.0</td>\n",
       "      <td>0.0</td>\n",
       "      <td>0.0</td>\n",
       "    </tr>\n",
       "    <tr>\n",
       "      <th>R_ALDD2y</th>\n",
       "      <td>0.00000</td>\n",
       "      <td>0.0</td>\n",
       "      <td>0.0</td>\n",
       "      <td>0.0</td>\n",
       "      <td>0.0</td>\n",
       "      <td>0.0</td>\n",
       "      <td>0.0</td>\n",
       "      <td>0.0</td>\n",
       "      <td>0.0</td>\n",
       "      <td>0.0</td>\n",
       "      <td>...</td>\n",
       "      <td>0.0</td>\n",
       "      <td>0.0</td>\n",
       "      <td>0.0</td>\n",
       "      <td>0.0</td>\n",
       "      <td>0.0</td>\n",
       "      <td>0.0</td>\n",
       "      <td>0.0</td>\n",
       "      <td>1.0</td>\n",
       "      <td>0.0</td>\n",
       "      <td>0.0</td>\n",
       "    </tr>\n",
       "    <tr>\n",
       "      <th>R_GLNt2r</th>\n",
       "      <td>0.00000</td>\n",
       "      <td>0.0</td>\n",
       "      <td>0.0</td>\n",
       "      <td>0.0</td>\n",
       "      <td>0.0</td>\n",
       "      <td>0.0</td>\n",
       "      <td>0.0</td>\n",
       "      <td>0.0</td>\n",
       "      <td>0.0</td>\n",
       "      <td>0.0</td>\n",
       "      <td>...</td>\n",
       "      <td>0.0</td>\n",
       "      <td>0.0</td>\n",
       "      <td>0.0</td>\n",
       "      <td>0.0</td>\n",
       "      <td>0.0</td>\n",
       "      <td>0.0</td>\n",
       "      <td>0.0</td>\n",
       "      <td>0.0</td>\n",
       "      <td>1.0</td>\n",
       "      <td>0.0</td>\n",
       "    </tr>\n",
       "    <tr>\n",
       "      <th>R_LYSabc</th>\n",
       "      <td>0.00000</td>\n",
       "      <td>0.0</td>\n",
       "      <td>0.0</td>\n",
       "      <td>0.0</td>\n",
       "      <td>0.0</td>\n",
       "      <td>0.0</td>\n",
       "      <td>0.0</td>\n",
       "      <td>0.0</td>\n",
       "      <td>0.0</td>\n",
       "      <td>0.0</td>\n",
       "      <td>...</td>\n",
       "      <td>0.0</td>\n",
       "      <td>0.0</td>\n",
       "      <td>0.0</td>\n",
       "      <td>0.0</td>\n",
       "      <td>0.0</td>\n",
       "      <td>0.0</td>\n",
       "      <td>0.0</td>\n",
       "      <td>0.0</td>\n",
       "      <td>0.0</td>\n",
       "      <td>1.0</td>\n",
       "    </tr>\n",
       "  </tbody>\n",
       "</table>\n",
       "<p>821 rows × 821 columns</p>\n",
       "</div>"
      ],
      "text/plain": [
       "               0    1    2    3    4    5    6    7    8    9    ...  811  \\\n",
       "R_G3PD4    2.25000  0.0  0.0  0.0  0.0  0.0  0.0  0.0  0.0  0.0  ...  0.0   \n",
       "R_ASPT     0.00000  1.0  0.0  0.0  0.0  0.0  0.0  0.0  0.0  0.0  ...  0.0   \n",
       "R_BDH     -8.25000  0.0  1.0  0.0  0.0  0.0  0.0  0.0  0.0  0.0  ...  0.0   \n",
       "R_PTHPS   -1.53125  0.0  0.0  1.0  0.0  0.0  0.0  0.0  0.0  0.0  ...  0.0   \n",
       "R_PPPPH    3.78125  0.0  0.0  0.0  1.0  0.0  0.0  0.0  0.0  0.0  ...  0.0   \n",
       "...            ...  ...  ...  ...  ...  ...  ...  ...  ...  ...  ...  ...   \n",
       "R_ALDD20y  0.00000  0.0  0.0  0.0  0.0  0.0  0.0  0.0  0.0  0.0  ...  0.0   \n",
       "R_NTPP1    0.00000  0.0  0.0  0.0  0.0  0.0  0.0  0.0  0.0  0.0  ...  0.0   \n",
       "R_ALDD2y   0.00000  0.0  0.0  0.0  0.0  0.0  0.0  0.0  0.0  0.0  ...  0.0   \n",
       "R_GLNt2r   0.00000  0.0  0.0  0.0  0.0  0.0  0.0  0.0  0.0  0.0  ...  0.0   \n",
       "R_LYSabc   0.00000  0.0  0.0  0.0  0.0  0.0  0.0  0.0  0.0  0.0  ...  0.0   \n",
       "\n",
       "           812  813  814  815  816  817  818  819  820  \n",
       "R_G3PD4    0.0  0.0  0.0  0.0  0.0  0.0  0.0  0.0  0.0  \n",
       "R_ASPT     0.0  0.0  0.0  0.0  0.0  0.0  0.0  0.0  0.0  \n",
       "R_BDH      0.0  0.0  0.0  0.0  0.0  0.0  0.0  0.0  0.0  \n",
       "R_PTHPS    0.0  0.0  0.0  0.0  0.0  0.0  0.0  0.0  0.0  \n",
       "R_PPPPH    0.0  0.0  0.0  0.0  0.0  0.0  0.0  0.0  0.0  \n",
       "...        ...  ...  ...  ...  ...  ...  ...  ...  ...  \n",
       "R_ALDD20y  0.0  0.0  0.0  0.0  1.0  0.0  0.0  0.0  0.0  \n",
       "R_NTPP1    0.0  0.0  0.0  0.0  0.0  1.0  0.0  0.0  0.0  \n",
       "R_ALDD2y   0.0  0.0  0.0  0.0  0.0  0.0  1.0  0.0  0.0  \n",
       "R_GLNt2r   0.0  0.0  0.0  0.0  0.0  0.0  0.0  1.0  0.0  \n",
       "R_LYSabc   0.0  0.0  0.0  0.0  0.0  0.0  0.0  0.0  1.0  \n",
       "\n",
       "[821 rows x 821 columns]"
      ]
     },
     "execution_count": 130,
     "metadata": {},
     "output_type": "execute_result"
    }
   ],
   "source": [
    "op_df"
   ]
  },
  {
   "cell_type": "code",
   "execution_count": 121,
   "metadata": {},
   "outputs": [
    {
     "data": {
      "text/plain": [
       "'reaction_error'"
      ]
     },
     "execution_count": 121,
     "metadata": {},
     "output_type": "execute_result"
    }
   ],
   "source": []
  },
  {
   "cell_type": "code",
   "execution_count": 99,
   "metadata": {},
   "outputs": [
    {
     "data": {
      "text/html": [
       "<div>\n",
       "<style scoped>\n",
       "    .dataframe tbody tr th:only-of-type {\n",
       "        vertical-align: middle;\n",
       "    }\n",
       "\n",
       "    .dataframe tbody tr th {\n",
       "        vertical-align: top;\n",
       "    }\n",
       "\n",
       "    .dataframe thead th {\n",
       "        text-align: right;\n",
       "    }\n",
       "</style>\n",
       "<table border=\"1\" class=\"dataframe\">\n",
       "  <thead>\n",
       "    <tr style=\"text-align: right;\">\n",
       "      <th></th>\n",
       "      <th>0</th>\n",
       "      <th>1</th>\n",
       "      <th>2</th>\n",
       "      <th>3</th>\n",
       "      <th>4</th>\n",
       "      <th>5</th>\n",
       "      <th>6</th>\n",
       "      <th>7</th>\n",
       "      <th>8</th>\n",
       "      <th>9</th>\n",
       "      <th>...</th>\n",
       "      <th>811</th>\n",
       "      <th>812</th>\n",
       "      <th>813</th>\n",
       "      <th>814</th>\n",
       "      <th>815</th>\n",
       "      <th>816</th>\n",
       "      <th>817</th>\n",
       "      <th>818</th>\n",
       "      <th>819</th>\n",
       "      <th>820</th>\n",
       "    </tr>\n",
       "  </thead>\n",
       "  <tbody>\n",
       "    <tr>\n",
       "      <th>{M_mqn7_c}</th>\n",
       "      <td>-1.0</td>\n",
       "      <td>0.0</td>\n",
       "      <td>0.0</td>\n",
       "      <td>0.0</td>\n",
       "      <td>0.0</td>\n",
       "      <td>0.0</td>\n",
       "      <td>0.0</td>\n",
       "      <td>0.0</td>\n",
       "      <td>0.0</td>\n",
       "      <td>0.0</td>\n",
       "      <td>...</td>\n",
       "      <td>0.0</td>\n",
       "      <td>0.0</td>\n",
       "      <td>0.0</td>\n",
       "      <td>0.0</td>\n",
       "      <td>0.0</td>\n",
       "      <td>0.0</td>\n",
       "      <td>0.0</td>\n",
       "      <td>0.0</td>\n",
       "      <td>0.0</td>\n",
       "      <td>0.0</td>\n",
       "    </tr>\n",
       "    <tr>\n",
       "      <th>{M_fum_c}</th>\n",
       "      <td>0.0</td>\n",
       "      <td>1.0</td>\n",
       "      <td>0.0</td>\n",
       "      <td>0.0</td>\n",
       "      <td>0.0</td>\n",
       "      <td>0.0</td>\n",
       "      <td>0.0</td>\n",
       "      <td>0.0</td>\n",
       "      <td>0.0</td>\n",
       "      <td>0.0</td>\n",
       "      <td>...</td>\n",
       "      <td>0.0</td>\n",
       "      <td>0.0</td>\n",
       "      <td>0.0</td>\n",
       "      <td>0.0</td>\n",
       "      <td>0.0</td>\n",
       "      <td>0.0</td>\n",
       "      <td>0.0</td>\n",
       "      <td>0.0</td>\n",
       "      <td>0.0</td>\n",
       "      <td>0.0</td>\n",
       "    </tr>\n",
       "    <tr>\n",
       "      <th>{M_bhb_c}</th>\n",
       "      <td>0.0</td>\n",
       "      <td>0.0</td>\n",
       "      <td>-1.0</td>\n",
       "      <td>0.0</td>\n",
       "      <td>0.0</td>\n",
       "      <td>0.0</td>\n",
       "      <td>0.0</td>\n",
       "      <td>0.0</td>\n",
       "      <td>0.0</td>\n",
       "      <td>0.0</td>\n",
       "      <td>...</td>\n",
       "      <td>0.0</td>\n",
       "      <td>0.0</td>\n",
       "      <td>0.0</td>\n",
       "      <td>0.0</td>\n",
       "      <td>0.0</td>\n",
       "      <td>0.0</td>\n",
       "      <td>0.0</td>\n",
       "      <td>0.0</td>\n",
       "      <td>0.0</td>\n",
       "      <td>0.0</td>\n",
       "    </tr>\n",
       "    <tr>\n",
       "      <th>{M_6pthp_c}</th>\n",
       "      <td>0.0</td>\n",
       "      <td>0.0</td>\n",
       "      <td>0.0</td>\n",
       "      <td>1.0</td>\n",
       "      <td>0.0</td>\n",
       "      <td>0.0</td>\n",
       "      <td>0.0</td>\n",
       "      <td>0.0</td>\n",
       "      <td>0.0</td>\n",
       "      <td>0.0</td>\n",
       "      <td>...</td>\n",
       "      <td>0.0</td>\n",
       "      <td>0.0</td>\n",
       "      <td>0.0</td>\n",
       "      <td>0.0</td>\n",
       "      <td>0.0</td>\n",
       "      <td>0.0</td>\n",
       "      <td>0.0</td>\n",
       "      <td>0.0</td>\n",
       "      <td>0.0</td>\n",
       "      <td>0.0</td>\n",
       "    </tr>\n",
       "    <tr>\n",
       "      <th>{M_gbdp_c}</th>\n",
       "      <td>0.0</td>\n",
       "      <td>0.0</td>\n",
       "      <td>0.0</td>\n",
       "      <td>0.0</td>\n",
       "      <td>-1.0</td>\n",
       "      <td>0.0</td>\n",
       "      <td>0.0</td>\n",
       "      <td>0.0</td>\n",
       "      <td>0.0</td>\n",
       "      <td>0.0</td>\n",
       "      <td>...</td>\n",
       "      <td>0.0</td>\n",
       "      <td>0.0</td>\n",
       "      <td>0.0</td>\n",
       "      <td>0.0</td>\n",
       "      <td>0.0</td>\n",
       "      <td>0.0</td>\n",
       "      <td>0.0</td>\n",
       "      <td>0.0</td>\n",
       "      <td>0.0</td>\n",
       "      <td>0.0</td>\n",
       "    </tr>\n",
       "    <tr>\n",
       "      <th>...</th>\n",
       "      <td>...</td>\n",
       "      <td>...</td>\n",
       "      <td>...</td>\n",
       "      <td>...</td>\n",
       "      <td>...</td>\n",
       "      <td>...</td>\n",
       "      <td>...</td>\n",
       "      <td>...</td>\n",
       "      <td>...</td>\n",
       "      <td>...</td>\n",
       "      <td>...</td>\n",
       "      <td>...</td>\n",
       "      <td>...</td>\n",
       "      <td>...</td>\n",
       "      <td>...</td>\n",
       "      <td>...</td>\n",
       "      <td>...</td>\n",
       "      <td>...</td>\n",
       "      <td>...</td>\n",
       "      <td>...</td>\n",
       "      <td>...</td>\n",
       "    </tr>\n",
       "    <tr>\n",
       "      <th>{M_2mcit_c=M_micit_c}</th>\n",
       "      <td>5.0</td>\n",
       "      <td>0.0</td>\n",
       "      <td>4.0</td>\n",
       "      <td>1.0</td>\n",
       "      <td>9.0</td>\n",
       "      <td>-7.0</td>\n",
       "      <td>11.0</td>\n",
       "      <td>0.0</td>\n",
       "      <td>8.0</td>\n",
       "      <td>3.0</td>\n",
       "      <td>...</td>\n",
       "      <td>0.0</td>\n",
       "      <td>0.0</td>\n",
       "      <td>0.0</td>\n",
       "      <td>0.0</td>\n",
       "      <td>0.0</td>\n",
       "      <td>0.0</td>\n",
       "      <td>0.0</td>\n",
       "      <td>0.0</td>\n",
       "      <td>0.0</td>\n",
       "      <td>0.0</td>\n",
       "    </tr>\n",
       "    <tr>\n",
       "      <th>{M_ara5p_c=M_r1p_c=M_r5p_c=M_ru5p__D_c=M_xu5p__D_c=M_xyl__D_c=M_xyl__D_e}</th>\n",
       "      <td>-133.0</td>\n",
       "      <td>-1.0</td>\n",
       "      <td>-34.0</td>\n",
       "      <td>43.0</td>\n",
       "      <td>-13.0</td>\n",
       "      <td>-10.0</td>\n",
       "      <td>45.0</td>\n",
       "      <td>0.0</td>\n",
       "      <td>-67.0</td>\n",
       "      <td>-126.0</td>\n",
       "      <td>...</td>\n",
       "      <td>0.0</td>\n",
       "      <td>0.0</td>\n",
       "      <td>0.0</td>\n",
       "      <td>0.0</td>\n",
       "      <td>0.0</td>\n",
       "      <td>0.0</td>\n",
       "      <td>0.0</td>\n",
       "      <td>0.0</td>\n",
       "      <td>0.0</td>\n",
       "      <td>0.0</td>\n",
       "    </tr>\n",
       "    <tr>\n",
       "      <th>{M_lac__L_c=M_lac__L_e}</th>\n",
       "      <td>0.0</td>\n",
       "      <td>0.0</td>\n",
       "      <td>-1.0</td>\n",
       "      <td>1.0</td>\n",
       "      <td>-1.0</td>\n",
       "      <td>1.0</td>\n",
       "      <td>-2.0</td>\n",
       "      <td>0.0</td>\n",
       "      <td>-2.0</td>\n",
       "      <td>1.0</td>\n",
       "      <td>...</td>\n",
       "      <td>0.0</td>\n",
       "      <td>0.0</td>\n",
       "      <td>0.0</td>\n",
       "      <td>0.0</td>\n",
       "      <td>0.0</td>\n",
       "      <td>0.0</td>\n",
       "      <td>0.0</td>\n",
       "      <td>0.0</td>\n",
       "      <td>0.0</td>\n",
       "      <td>0.0</td>\n",
       "    </tr>\n",
       "    <tr>\n",
       "      <th>{M_2hyoxplac_c=M_34dhpha_c}</th>\n",
       "      <td>-1.0</td>\n",
       "      <td>0.0</td>\n",
       "      <td>0.0</td>\n",
       "      <td>1.0</td>\n",
       "      <td>0.0</td>\n",
       "      <td>0.0</td>\n",
       "      <td>0.0</td>\n",
       "      <td>0.0</td>\n",
       "      <td>0.0</td>\n",
       "      <td>-2.0</td>\n",
       "      <td>...</td>\n",
       "      <td>0.0</td>\n",
       "      <td>0.0</td>\n",
       "      <td>0.0</td>\n",
       "      <td>0.0</td>\n",
       "      <td>0.0</td>\n",
       "      <td>0.0</td>\n",
       "      <td>0.0</td>\n",
       "      <td>0.0</td>\n",
       "      <td>0.0</td>\n",
       "      <td>0.0</td>\n",
       "    </tr>\n",
       "    <tr>\n",
       "      <th>{M_no2_c=M_no2_e}</th>\n",
       "      <td>0.0</td>\n",
       "      <td>0.0</td>\n",
       "      <td>0.0</td>\n",
       "      <td>0.0</td>\n",
       "      <td>0.0</td>\n",
       "      <td>0.0</td>\n",
       "      <td>0.0</td>\n",
       "      <td>0.0</td>\n",
       "      <td>0.0</td>\n",
       "      <td>0.0</td>\n",
       "      <td>...</td>\n",
       "      <td>0.0</td>\n",
       "      <td>0.0</td>\n",
       "      <td>0.0</td>\n",
       "      <td>0.0</td>\n",
       "      <td>0.0</td>\n",
       "      <td>0.0</td>\n",
       "      <td>0.0</td>\n",
       "      <td>0.0</td>\n",
       "      <td>0.0</td>\n",
       "      <td>0.0</td>\n",
       "    </tr>\n",
       "  </tbody>\n",
       "</table>\n",
       "<p>788 rows × 821 columns</p>\n",
       "</div>"
      ],
      "text/plain": [
       "                                                      0    1     2     3    \\\n",
       "{M_mqn7_c}                                           -1.0  0.0   0.0   0.0   \n",
       "{M_fum_c}                                             0.0  1.0   0.0   0.0   \n",
       "{M_bhb_c}                                             0.0  0.0  -1.0   0.0   \n",
       "{M_6pthp_c}                                           0.0  0.0   0.0   1.0   \n",
       "{M_gbdp_c}                                            0.0  0.0   0.0   0.0   \n",
       "...                                                   ...  ...   ...   ...   \n",
       "{M_2mcit_c=M_micit_c}                                 5.0  0.0   4.0   1.0   \n",
       "{M_ara5p_c=M_r1p_c=M_r5p_c=M_ru5p__D_c=M_xu5p__... -133.0 -1.0 -34.0  43.0   \n",
       "{M_lac__L_c=M_lac__L_e}                               0.0  0.0  -1.0   1.0   \n",
       "{M_2hyoxplac_c=M_34dhpha_c}                          -1.0  0.0   0.0   1.0   \n",
       "{M_no2_c=M_no2_e}                                     0.0  0.0   0.0   0.0   \n",
       "\n",
       "                                                     4     5     6    7    \\\n",
       "{M_mqn7_c}                                           0.0   0.0   0.0  0.0   \n",
       "{M_fum_c}                                            0.0   0.0   0.0  0.0   \n",
       "{M_bhb_c}                                            0.0   0.0   0.0  0.0   \n",
       "{M_6pthp_c}                                          0.0   0.0   0.0  0.0   \n",
       "{M_gbdp_c}                                          -1.0   0.0   0.0  0.0   \n",
       "...                                                  ...   ...   ...  ...   \n",
       "{M_2mcit_c=M_micit_c}                                9.0  -7.0  11.0  0.0   \n",
       "{M_ara5p_c=M_r1p_c=M_r5p_c=M_ru5p__D_c=M_xu5p__... -13.0 -10.0  45.0  0.0   \n",
       "{M_lac__L_c=M_lac__L_e}                             -1.0   1.0  -2.0  0.0   \n",
       "{M_2hyoxplac_c=M_34dhpha_c}                          0.0   0.0   0.0  0.0   \n",
       "{M_no2_c=M_no2_e}                                    0.0   0.0   0.0  0.0   \n",
       "\n",
       "                                                     8      9    ...  811  \\\n",
       "{M_mqn7_c}                                           0.0    0.0  ...  0.0   \n",
       "{M_fum_c}                                            0.0    0.0  ...  0.0   \n",
       "{M_bhb_c}                                            0.0    0.0  ...  0.0   \n",
       "{M_6pthp_c}                                          0.0    0.0  ...  0.0   \n",
       "{M_gbdp_c}                                           0.0    0.0  ...  0.0   \n",
       "...                                                  ...    ...  ...  ...   \n",
       "{M_2mcit_c=M_micit_c}                                8.0    3.0  ...  0.0   \n",
       "{M_ara5p_c=M_r1p_c=M_r5p_c=M_ru5p__D_c=M_xu5p__... -67.0 -126.0  ...  0.0   \n",
       "{M_lac__L_c=M_lac__L_e}                             -2.0    1.0  ...  0.0   \n",
       "{M_2hyoxplac_c=M_34dhpha_c}                          0.0   -2.0  ...  0.0   \n",
       "{M_no2_c=M_no2_e}                                    0.0    0.0  ...  0.0   \n",
       "\n",
       "                                                    812  813  814  815  816  \\\n",
       "{M_mqn7_c}                                          0.0  0.0  0.0  0.0  0.0   \n",
       "{M_fum_c}                                           0.0  0.0  0.0  0.0  0.0   \n",
       "{M_bhb_c}                                           0.0  0.0  0.0  0.0  0.0   \n",
       "{M_6pthp_c}                                         0.0  0.0  0.0  0.0  0.0   \n",
       "{M_gbdp_c}                                          0.0  0.0  0.0  0.0  0.0   \n",
       "...                                                 ...  ...  ...  ...  ...   \n",
       "{M_2mcit_c=M_micit_c}                               0.0  0.0  0.0  0.0  0.0   \n",
       "{M_ara5p_c=M_r1p_c=M_r5p_c=M_ru5p__D_c=M_xu5p__...  0.0  0.0  0.0  0.0  0.0   \n",
       "{M_lac__L_c=M_lac__L_e}                             0.0  0.0  0.0  0.0  0.0   \n",
       "{M_2hyoxplac_c=M_34dhpha_c}                         0.0  0.0  0.0  0.0  0.0   \n",
       "{M_no2_c=M_no2_e}                                   0.0  0.0  0.0  0.0  0.0   \n",
       "\n",
       "                                                    817  818  819  820  \n",
       "{M_mqn7_c}                                          0.0  0.0  0.0  0.0  \n",
       "{M_fum_c}                                           0.0  0.0  0.0  0.0  \n",
       "{M_bhb_c}                                           0.0  0.0  0.0  0.0  \n",
       "{M_6pthp_c}                                         0.0  0.0  0.0  0.0  \n",
       "{M_gbdp_c}                                          0.0  0.0  0.0  0.0  \n",
       "...                                                 ...  ...  ...  ...  \n",
       "{M_2mcit_c=M_micit_c}                               0.0  0.0  0.0  0.0  \n",
       "{M_ara5p_c=M_r1p_c=M_r5p_c=M_ru5p__D_c=M_xu5p__...  0.0  0.0  0.0  0.0  \n",
       "{M_lac__L_c=M_lac__L_e}                             0.0  0.0  0.0  0.0  \n",
       "{M_2hyoxplac_c=M_34dhpha_c}                         0.0  0.0  0.0  0.0  \n",
       "{M_no2_c=M_no2_e}                                   0.0  0.0  0.0  0.0  \n",
       "\n",
       "[788 rows x 821 columns]"
      ]
     },
     "execution_count": 99,
     "metadata": {},
     "output_type": "execute_result"
    }
   ],
   "source": [
    "for col in op_df.columns[:10]:\n",
    "  result_reaction = op_df"
   ]
  },
  {
   "cell_type": "code",
   "execution_count": null,
   "metadata": {},
   "outputs": [],
   "source": []
  },
  {
   "cell_type": "code",
   "execution_count": 79,
   "metadata": {},
   "outputs": [
    {
     "data": {
      "text/plain": [
       "6433"
      ]
     },
     "execution_count": 79,
     "metadata": {},
     "output_type": "execute_result"
    }
   ],
   "source": [
    "(((echelon_df < TOLERANCE) & (echelon_df > 0)).sum()).sum()"
   ]
  },
  {
   "cell_type": "code",
   "execution_count": 81,
   "metadata": {},
   "outputs": [
    {
     "data": {
      "text/plain": [
       "[ErrorSummnary(type='echelon', errors=[R_ASPO1:  -> 0.00 {M_o2_c=M_o2_e} + 0.11 {M_26dap_LL_c=M_26dap__M_c} + 0.14 {M_glc__D_c=M_glc__bD_c} + 0.20 {M_f6p_c=M_g1p_c=M_g6p_B_c=M_g6p_c=M_man1p_c=M_man6p_c} + 0.08 {M_prfp_c=M_prlp_c} + 0.06 {M_asp__D_c=M_asp__D_e=M_asp__L_c} + 0.06 {M_2obut_c=M_2obut_e} + 0.03 {M_ara5p_c=M_r1p_c=M_r5p_c=M_ru5p__D_c=M_xu5p__D_c=M_xyl__D_c=M_xyl__D_e} + 0.06 {M_no2_c=M_no2_e}, R_GLYCLTDy: 0.00 {M_asp__D_c=M_asp__D_e=M_asp__L_c} + 0.00 {M_2obut_c=M_2obut_e} + 0.00 {M_ara5p_c=M_r1p_c=M_r5p_c=M_ru5p__D_c=M_xu5p__D_c=M_xyl__D_c=M_xyl__D_e} + 0.01 {M_no2_c=M_no2_e} -> , R_P5CCD: 0.05 {M_asp__D_c=M_asp__D_e=M_asp__L_c} + 0.12 {M_2obut_c=M_2obut_e} + 0.12 {M_ara5p_c=M_r1p_c=M_r5p_c=M_ru5p__D_c=M_xu5p__D_c=M_xyl__D_c=M_xyl__D_e} + 0.37 {M_no2_c=M_no2_e} -> ])]"
      ]
     },
     "execution_count": 81,
     "metadata": {},
     "output_type": "execute_result"
    }
   ],
   "source": [
    "m_1000.error_summary"
   ]
  },
  {
   "cell_type": "code",
   "execution_count": 69,
   "metadata": {},
   "outputs": [],
   "source": [
    "# for MODEL_1000\n",
    "simple.getReaction(\"R_SEAHCYSHYD_1\")"
   ]
  },
  {
   "cell_type": "code",
   "execution_count": 15,
   "metadata": {},
   "outputs": [
    {
     "data": {
      "text/plain": [
       "R_SEAHCYSHYD: M_h2o_c + M_seahcys_c -> M_adn_c + M_selhcys_c"
      ]
     },
     "execution_count": 15,
     "metadata": {},
     "output_type": "execute_result"
    }
   ],
   "source": [
    "simple.getReaction(\"R_SEAHCYSHYD\")"
   ]
  },
  {
   "cell_type": "code",
   "execution_count": 16,
   "metadata": {},
   "outputs": [
    {
     "data": {
      "text/plain": [
       "M_h2o_c"
      ]
     },
     "execution_count": 16,
     "metadata": {},
     "output_type": "execute_result"
    }
   ],
   "source": [
    "simple.getMolecule(\"M_h2o_c\")"
   ]
  },
  {
   "cell_type": "code",
   "execution_count": 17,
   "metadata": {},
   "outputs": [
    {
     "data": {
      "text/plain": [
       "{M_adn_c}"
      ]
     },
     "execution_count": 17,
     "metadata": {},
     "output_type": "execute_result"
    }
   ],
   "source": [
    "m.getNode(simple.getMolecule(\"M_adn_c\"))"
   ]
  },
  {
   "cell_type": "code",
   "execution_count": 18,
   "metadata": {},
   "outputs": [
    {
     "name": "stdout",
     "output_type": "stream",
     "text": [
      "Index(['R_ENO'], dtype='object')\n",
      "R_ENO    1.0\n",
      "Name: R_ENO, dtype: float64\n"
     ]
    }
   ],
   "source": [
    "error_column = m.lower_inverse.T[m.echelon_errors[0].label]\n",
    "error_loc = error_column.to_numpy().nonzero()\n",
    "error_reactions = error_column.index[error_loc]\n",
    "print(error_reactions)\n",
    "print(error_column[error_loc[0]])"
   ]
  },
  {
   "cell_type": "code",
   "execution_count": 19,
   "metadata": {},
   "outputs": [
    {
     "data": {
      "text/plain": [
       "R_ENO: M_2pg_c -> M_h2o_c + M_pep_c"
      ]
     },
     "execution_count": 19,
     "metadata": {},
     "output_type": "execute_result"
    }
   ],
   "source": [
    "simple.getReaction(\"R_ENO\")"
   ]
  },
  {
   "cell_type": "code",
   "execution_count": 22,
   "metadata": {},
   "outputs": [
    {
     "data": {
      "text/plain": [
       "{M_2pg_c=M_3pg_c}"
      ]
     },
     "execution_count": 22,
     "metadata": {},
     "output_type": "execute_result"
    }
   ],
   "source": [
    "m.getNode(simple.getMolecule(\"M_2pg_c\"))"
   ]
  },
  {
   "cell_type": "code",
   "execution_count": 23,
   "metadata": {},
   "outputs": [],
   "source": [
    "# select_mat = m.som_stoichiometry_matrix[set(error_reactions)]\n",
    "# lp_mat = select_mat.loc[(select_mat!=0.0).any(axis=1)].T\n",
    "# nmet = lp_mat.shape[1]\n",
    "# # number of reactions\n",
    "# nreac = lp_mat.shape[0]  \n",
    "# #  \n",
    "# b = np.zeros(nreac)\n",
    "# c = np.ones(nmet)\n",
    "# # Linear programming. c is constraint (here, zero), \n",
    "# # b is vector of possible values for molecule vector. \n",
    "# lp_res = linprog(c, A_eq=lp_mat, b_eq=b, bounds=(1, None))\n",
    "# lp_res"
   ]
  },
  {
   "cell_type": "code",
   "execution_count": null,
   "metadata": {},
   "outputs": [],
   "source": []
  },
  {
   "cell_type": "code",
   "execution_count": null,
   "metadata": {},
   "outputs": [],
   "source": []
  },
  {
   "cell_type": "code",
   "execution_count": null,
   "metadata": {},
   "outputs": [],
   "source": []
  },
  {
   "cell_type": "code",
   "execution_count": null,
   "metadata": {},
   "outputs": [],
   "source": []
  },
  {
   "cell_type": "code",
   "execution_count": null,
   "metadata": {},
   "outputs": [],
   "source": []
  },
  {
   "cell_type": "code",
   "execution_count": null,
   "metadata": {},
   "outputs": [],
   "source": []
  }
 ],
 "metadata": {
  "kernelspec": {
   "display_name": "Python 3",
   "language": "python",
   "name": "python3"
  },
  "language_info": {
   "codemirror_mode": {
    "name": "ipython",
    "version": 3
   },
   "file_extension": ".py",
   "mimetype": "text/x-python",
   "name": "python",
   "nbconvert_exporter": "python",
   "pygments_lexer": "ipython3",
   "version": "3.6.10"
  }
 },
 "nbformat": 4,
 "nbformat_minor": 4
}
