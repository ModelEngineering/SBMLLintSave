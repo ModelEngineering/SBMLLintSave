{
 "cells": [
  {
   "cell_type": "code",
   "execution_count": 1,
   "metadata": {},
   "outputs": [
    {
     "name": "stdout",
     "output_type": "stream",
     "text": [
      "Current Directory: /Users/woosubs/Desktop/ModelEngineering/SBMLLint/SBMLLint/notebooks\n"
     ]
    }
   ],
   "source": [
    "from games_setup import *\n",
    "import SBMLLint.common.constants as cn\n",
    "from SBMLLint.common.reaction import Reaction\n",
    "from SBMLLint.common.stoichiometry_matrix import StoichiometryMatrix\n",
    "from SBMLLint.games.som import SOM\n",
    "from SBMLLint.games.mesgraph import MESGraph\n",
    "from SBMLLint.games.games_pp import GAMES_PP, SOMStoichiometry, SOMReaction, TOLERANCE\n",
    "from SBMLLint.games.games_report import GAMESReport, SimplifiedReaction\n",
    "import collections\n",
    "import numpy as np\n",
    "import pandas as pd\n",
    "import matplotlib.pyplot as plt\n",
    "%matplotlib inline\n",
    "import time\n",
    "from scipy.linalg import lu, inv"
   ]
  },
  {
   "cell_type": "code",
   "execution_count": 2,
   "metadata": {},
   "outputs": [],
   "source": [
    "# The following models are not loadable by simple SBML\n",
    "EXCEPTIONS = [\"BIOMD0000000094.xml\",\n",
    "              \"BIOMD0000000596.xml\",\n",
    "              \"BIOMD0000000786.xml\",\n",
    "              \"BIOMD0000000794.xml\",\n",
    "              \"BIOMD0000000830.xml\",\n",
    "             ]\n",
    "\n",
    "# we can exclude EXCEPTIONS from files, as they are not loaded by simpleSBML\n",
    "raw_files = [f for f in os.listdir(cn.BIOMODELS_DIR) if f[-4:] == \".xml\"]\n",
    "files = [f for f in raw_files if f not in EXCEPTIONS]\n",
    "paths = [os.path.join(cn.BIOMODELS_DIR, filename) for filename in files]"
   ]
  },
  {
   "cell_type": "code",
   "execution_count": 3,
   "metadata": {},
   "outputs": [
    {
     "data": {
      "text/plain": [
       "826"
      ]
     },
     "execution_count": 3,
     "metadata": {},
     "output_type": "execute_result"
    }
   ],
   "source": [
    "len(files)"
   ]
  },
  {
   "cell_type": "code",
   "execution_count": 4,
   "metadata": {},
   "outputs": [],
   "source": [
    "# statistics columns\n",
    "NUM_REACTIONS = \"num_reactions(nonbdry)\"\n",
    "LP_ERROR = \"lp_error\"\n",
    "BGAMES_ERROR = \"bgames_error\"\n",
    "XGAMES_ERROR = \"xgame_error\"\n",
    "TYPEI_ERROR = \"type1_error\"\n",
    "TYPEII_ERROR = \"type2_error\"\n",
    "CANCELING_ERROR = \"canceling_error\"\n",
    "ECHELON_ERROR = \"echelon_error\"\n",
    "TYPEIII_ERROR = \"type3_error\"\n",
    "BGAMES_RIS = \"bGAMES_ris_size\"\n",
    "XGAMES_RIS = \"xGAMES_ris_size\"\n",
    "result_columns = [NUM_REACTIONS,\n",
    "                  LP_ERROR,\n",
    "                  BGAMES_ERROR,\n",
    "                  XGAMES_ERROR,\n",
    "                  BGAMES_RIS,\n",
    "                  XGAMES_RIS,\n",
    "                 ]\n",
    "#                   TYPEI_ERROR,\n",
    "#                   TYPEII_ERROR,\n",
    "#                   CANCELING_ERROR,\n",
    "#                   ECHELON_ERROR,\n",
    "#                   TYPEIII_ERROR]"
   ]
  },
  {
   "cell_type": "code",
   "execution_count": 5,
   "metadata": {},
   "outputs": [
    {
     "data": {
      "text/html": [
       "<div>\n",
       "<style scoped>\n",
       "    .dataframe tbody tr th:only-of-type {\n",
       "        vertical-align: middle;\n",
       "    }\n",
       "\n",
       "    .dataframe tbody tr th {\n",
       "        vertical-align: top;\n",
       "    }\n",
       "\n",
       "    .dataframe thead th {\n",
       "        text-align: right;\n",
       "    }\n",
       "</style>\n",
       "<table border=\"1\" class=\"dataframe\">\n",
       "  <thead>\n",
       "    <tr style=\"text-align: right;\">\n",
       "      <th></th>\n",
       "      <th>num_reactions(nonbdry)</th>\n",
       "      <th>lp_error</th>\n",
       "      <th>bgames_error</th>\n",
       "      <th>xgame_error</th>\n",
       "      <th>bGAMES_ris_size</th>\n",
       "      <th>xGAMES_ris_size</th>\n",
       "    </tr>\n",
       "  </thead>\n",
       "  <tbody>\n",
       "    <tr>\n",
       "      <th>BIOMD0000000634.xml</th>\n",
       "      <td>0</td>\n",
       "      <td>0</td>\n",
       "      <td>0</td>\n",
       "      <td>0</td>\n",
       "      <td>0</td>\n",
       "      <td>0</td>\n",
       "    </tr>\n",
       "    <tr>\n",
       "      <th>BIOMD0000000152.xml</th>\n",
       "      <td>0</td>\n",
       "      <td>0</td>\n",
       "      <td>0</td>\n",
       "      <td>0</td>\n",
       "      <td>0</td>\n",
       "      <td>0</td>\n",
       "    </tr>\n",
       "    <tr>\n",
       "      <th>BIOMD0000000146.xml</th>\n",
       "      <td>0</td>\n",
       "      <td>0</td>\n",
       "      <td>0</td>\n",
       "      <td>0</td>\n",
       "      <td>0</td>\n",
       "      <td>0</td>\n",
       "    </tr>\n",
       "    <tr>\n",
       "      <th>BIOMD0000000620.xml</th>\n",
       "      <td>0</td>\n",
       "      <td>0</td>\n",
       "      <td>0</td>\n",
       "      <td>0</td>\n",
       "      <td>0</td>\n",
       "      <td>0</td>\n",
       "    </tr>\n",
       "    <tr>\n",
       "      <th>BIOMD0000000608.xml</th>\n",
       "      <td>0</td>\n",
       "      <td>0</td>\n",
       "      <td>0</td>\n",
       "      <td>0</td>\n",
       "      <td>0</td>\n",
       "      <td>0</td>\n",
       "    </tr>\n",
       "  </tbody>\n",
       "</table>\n",
       "</div>"
      ],
      "text/plain": [
       "                     num_reactions(nonbdry)  lp_error  bgames_error  \\\n",
       "BIOMD0000000634.xml                       0         0             0   \n",
       "BIOMD0000000152.xml                       0         0             0   \n",
       "BIOMD0000000146.xml                       0         0             0   \n",
       "BIOMD0000000620.xml                       0         0             0   \n",
       "BIOMD0000000608.xml                       0         0             0   \n",
       "\n",
       "                     xgame_error  bGAMES_ris_size  xGAMES_ris_size  \n",
       "BIOMD0000000634.xml            0                0                0  \n",
       "BIOMD0000000152.xml            0                0                0  \n",
       "BIOMD0000000146.xml            0                0                0  \n",
       "BIOMD0000000620.xml            0                0                0  \n",
       "BIOMD0000000608.xml            0                0                0  "
      ]
     },
     "execution_count": 5,
     "metadata": {},
     "output_type": "execute_result"
    }
   ],
   "source": [
    "results = pd.DataFrame(0, index=files, columns=result_columns)\n",
    "results[:5]"
   ]
  },
  {
   "cell_type": "code",
   "execution_count": null,
   "metadata": {},
   "outputs": [],
   "source": []
  },
  {
   "cell_type": "code",
   "execution_count": 6,
   "metadata": {},
   "outputs": [
    {
     "name": "stdout",
     "output_type": "stream",
     "text": [
      "consistent?  False\n"
     ]
    },
    {
     "name": "stderr",
     "output_type": "stream",
     "text": [
      "//anaconda3/envs/sbml_env/lib/python3.6/site-packages/scipy/optimize/_linprog_util.py:763: OptimizeWarning: A_eq does not appear to be of full row rank. To improve performance, check the problem formulation for redundant equality constraints.\n",
      "  warn(redundancy_warning, OptimizeWarning)\n"
     ]
    }
   ],
   "source": [
    "simple = SimpleSBML()\n",
    "simple.initialize(os.path.join(cn.BIOMODELS_DIR, \"BIOMD0000000244.xml\"))\n",
    "s = StoichiometryMatrix(simple)\n",
    "consistent = s.isConsistent()\n",
    "print(\"consistent? \", consistent)"
   ]
  },
  {
   "cell_type": "code",
   "execution_count": 7,
   "metadata": {},
   "outputs": [
    {
     "name": "stdout",
     "output_type": "stream",
     "text": [
      "we are analyzing Model number: 100\n",
      "we are analyzing Model number: 200\n",
      "we are analyzing Model number: 300\n",
      "we are analyzing Model number: 400\n",
      "we are analyzing Model number: 500\n",
      "we are analyzing Model number: 600\n",
      "we are analyzing Model number: 700\n",
      "we are analyzing Model number: 800\n",
      "Analysis finished!\n",
      "LP time: 56.97459077835083\n"
     ]
    }
   ],
   "source": [
    "import warnings\n",
    "warnings.filterwarnings('ignore')\n",
    "# LP only\n",
    "simple = SimpleSBML()\n",
    "count = 0\n",
    "lp_start = time.time()\n",
    "for file in files:\n",
    "  count += 1\n",
    "  if (count%100)==0:\n",
    "    print(\"we are analyzing Model number:\", count)\n",
    "  try:\n",
    "    simple.initialize(os.path.join(cn.BIOMODELS_DIR, file))\n",
    "    s = StoichiometryMatrix(simple)\n",
    "    num_reactions = s.stoichiometry_matrix.shape[1]\n",
    "    results.at[file, NUM_REACTIONS] = num_reactions\n",
    "    if num_reactions:\n",
    "      consistent = s.isConsistent()\n",
    "    else:\n",
    "      consistent = -1\n",
    "    results.at[file, LP_ERROR] = 1 - int(consistent)\n",
    "  except:\n",
    "    results.at[file, LP_ERROR] = -1\n",
    "lp_end = time.time()\n",
    "lp_time = lp_end - lp_start\n",
    "print(\"Analysis finished!\")\n",
    "print(\"LP time:\", lp_time)"
   ]
  },
  {
   "cell_type": "code",
   "execution_count": 8,
   "metadata": {},
   "outputs": [
    {
     "name": "stdout",
     "output_type": "stream",
     "text": [
      "(Mean) ISS for LP is: 53.11392405063291\n",
      "(STD) ISS for LP is: 90.84825118201051\n"
     ]
    }
   ],
   "source": [
    "lp_results = results[results[LP_ERROR] == 1]\n",
    "len(lp_results)\n",
    "print(\"(Mean) ISS for LP is:\", np.mean(lp_results[NUM_REACTIONS]))\n",
    "print(\"(STD) ISS for LP is:\", np.std(lp_results[NUM_REACTIONS]))"
   ]
  },
  {
   "cell_type": "code",
   "execution_count": 9,
   "metadata": {},
   "outputs": [
    {
     "data": {
      "text/plain": [
       "158"
      ]
     },
     "execution_count": 9,
     "metadata": {},
     "output_type": "execute_result"
    }
   ],
   "source": [
    "len(results[results[LP_ERROR]==1])"
   ]
  },
  {
   "cell_type": "code",
   "execution_count": 10,
   "metadata": {},
   "outputs": [
    {
     "data": {
      "text/plain": [
       "0"
      ]
     },
     "execution_count": 10,
     "metadata": {},
     "output_type": "execute_result"
    }
   ],
   "source": [
    "len(results[results[LP_ERROR]==-1])"
   ]
  },
  {
   "cell_type": "code",
   "execution_count": 11,
   "metadata": {},
   "outputs": [
    {
     "data": {
      "text/plain": [
       "Index(['BIOMD0000000634.xml', 'BIOMD0000000608.xml', 'BIOMD0000000344.xml'], dtype='object')"
      ]
     },
     "execution_count": 11,
     "metadata": {},
     "output_type": "execute_result"
    }
   ],
   "source": [
    "models_test_by_games = results[results[LP_ERROR]==1].index\n",
    "models_test_by_games[:3]"
   ]
  },
  {
   "cell_type": "code",
   "execution_count": 12,
   "metadata": {},
   "outputs": [
    {
     "data": {
      "text/html": [
       "<div>\n",
       "<style scoped>\n",
       "    .dataframe tbody tr th:only-of-type {\n",
       "        vertical-align: middle;\n",
       "    }\n",
       "\n",
       "    .dataframe tbody tr th {\n",
       "        vertical-align: top;\n",
       "    }\n",
       "\n",
       "    .dataframe thead th {\n",
       "        text-align: right;\n",
       "    }\n",
       "</style>\n",
       "<table border=\"1\" class=\"dataframe\">\n",
       "  <thead>\n",
       "    <tr style=\"text-align: right;\">\n",
       "      <th></th>\n",
       "      <th>num_reactions(nonbdry)</th>\n",
       "      <th>lp_error</th>\n",
       "      <th>bgames_error</th>\n",
       "      <th>xgame_error</th>\n",
       "      <th>bGAMES_ris_size</th>\n",
       "      <th>xGAMES_ris_size</th>\n",
       "    </tr>\n",
       "  </thead>\n",
       "  <tbody>\n",
       "    <tr>\n",
       "      <th>BIOMD0000000634.xml</th>\n",
       "      <td>112</td>\n",
       "      <td>1</td>\n",
       "      <td>0</td>\n",
       "      <td>0</td>\n",
       "      <td>0</td>\n",
       "      <td>0</td>\n",
       "    </tr>\n",
       "    <tr>\n",
       "      <th>BIOMD0000000152.xml</th>\n",
       "      <td>120</td>\n",
       "      <td>0</td>\n",
       "      <td>0</td>\n",
       "      <td>0</td>\n",
       "      <td>0</td>\n",
       "      <td>0</td>\n",
       "    </tr>\n",
       "    <tr>\n",
       "      <th>BIOMD0000000146.xml</th>\n",
       "      <td>34</td>\n",
       "      <td>0</td>\n",
       "      <td>0</td>\n",
       "      <td>0</td>\n",
       "      <td>0</td>\n",
       "      <td>0</td>\n",
       "    </tr>\n",
       "    <tr>\n",
       "      <th>BIOMD0000000620.xml</th>\n",
       "      <td>0</td>\n",
       "      <td>2</td>\n",
       "      <td>0</td>\n",
       "      <td>0</td>\n",
       "      <td>0</td>\n",
       "      <td>0</td>\n",
       "    </tr>\n",
       "    <tr>\n",
       "      <th>BIOMD0000000608.xml</th>\n",
       "      <td>96</td>\n",
       "      <td>1</td>\n",
       "      <td>0</td>\n",
       "      <td>0</td>\n",
       "      <td>0</td>\n",
       "      <td>0</td>\n",
       "    </tr>\n",
       "  </tbody>\n",
       "</table>\n",
       "</div>"
      ],
      "text/plain": [
       "                     num_reactions(nonbdry)  lp_error  bgames_error  \\\n",
       "BIOMD0000000634.xml                     112         1             0   \n",
       "BIOMD0000000152.xml                     120         0             0   \n",
       "BIOMD0000000146.xml                      34         0             0   \n",
       "BIOMD0000000620.xml                       0         2             0   \n",
       "BIOMD0000000608.xml                      96         1             0   \n",
       "\n",
       "                     xgame_error  bGAMES_ris_size  xGAMES_ris_size  \n",
       "BIOMD0000000634.xml            0                0                0  \n",
       "BIOMD0000000152.xml            0                0                0  \n",
       "BIOMD0000000146.xml            0                0                0  \n",
       "BIOMD0000000620.xml            0                0                0  \n",
       "BIOMD0000000608.xml            0                0                0  "
      ]
     },
     "execution_count": 12,
     "metadata": {},
     "output_type": "execute_result"
    }
   ],
   "source": [
    "results.head()"
   ]
  },
  {
   "cell_type": "code",
   "execution_count": 13,
   "metadata": {},
   "outputs": [
    {
     "data": {
      "text/plain": [
       "[1, 2, 3, 4]"
      ]
     },
     "execution_count": 13,
     "metadata": {},
     "output_type": "execute_result"
    }
   ],
   "source": [
    "[1, 2] + [3, 4]"
   ]
  },
  {
   "cell_type": "code",
   "execution_count": 14,
   "metadata": {},
   "outputs": [
    {
     "data": {
      "text/plain": [
       "Index(['BIOMD0000000634.xml', 'BIOMD0000000608.xml', 'BIOMD0000000344.xml',\n",
       "       'BIOMD0000000542.xml', 'BIOMD0000000230.xml', 'BIOMD0000000218.xml',\n",
       "       'BIOMD0000000581.xml', 'BIOMD0000000219.xml', 'BIOMD0000000231.xml',\n",
       "       'BIOMD0000000392.xml',\n",
       "       ...\n",
       "       'BIOMD0000000410.xml', 'BIOMD0000000612.xml', 'BIOMD0000000189.xml',\n",
       "       'BIOMD0000000406.xml', 'BIOMD0000000572.xml', 'BIOMD0000000573.xml',\n",
       "       'BIOMD0000000407.xml', 'BIOMD0000000413.xml', 'BIOMD0000000188.xml',\n",
       "       'BIOMD0000000163.xml'],\n",
       "      dtype='object', length=158)"
      ]
     },
     "execution_count": 14,
     "metadata": {},
     "output_type": "execute_result"
    }
   ],
   "source": [
    "detected_by_lp = results.loc[results[LP_ERROR]==1,].index\n",
    "detected_by_lp"
   ]
  },
  {
   "cell_type": "code",
   "execution_count": 15,
   "metadata": {},
   "outputs": [
    {
     "name": "stdout",
     "output_type": "stream",
     "text": [
      "we are analyzing Model number: 50\n",
      "we are analyzing Model number: 100\n",
      "we are analyzing Model number: 150\n",
      "Analysis finished with total 158 models!\n",
      "GAMES time: 63.01226091384888\n"
     ]
    }
   ],
   "source": [
    "# bGAMES \n",
    "simple = SimpleSBML()\n",
    "count = 0\n",
    "detected_by_lp = results.loc[results[LP_ERROR]==1,].index\n",
    "bgames_ris = []\n",
    "games_start = time.time()\n",
    "# for file in files:\n",
    "for file in detected_by_lp:\n",
    "  count += 1\n",
    "  if (count%50)==0:\n",
    "    print(\"we are analyzing Model number:\", count)\n",
    "  try:\n",
    "    simple.initialize(os.path.join(cn.BIOMODELS_DIR, file))\n",
    "    m = GAMES_PP(simple)\n",
    "    if simple.reactions:\n",
    "      res = m.analyze(simple_games=True, error_details=False, suppress_message=True)\n",
    "      results.at[file, BGAMES_ERROR] = int(res)\n",
    "      if res:\n",
    "        gr = GAMESReport(m)\n",
    "        summary = m.error_summary\n",
    "        if m.type_one_errors:\n",
    "#           results.at[file, TYPEI_ERROR] = len(m.type_one_errors)\n",
    "          report, error_num1 = gr.reportTypeOneError(m.type_one_errors, explain_details=True)\n",
    "        if m.type_two_errors:\n",
    "#           results.at[file, TYPEII_ERROR] = len(m.type_two_errors)\n",
    "          report, error_num2 = gr.reportTypeTwoError(m.type_two_errors, explain_details=True)\n",
    "        results.at[file, BGAMES_RIS] = np.mean(error_num1 + error_num2)\n",
    "        bgames_ris.append(np.mean(error_num1 + error_num2))\n",
    "  except:\n",
    "    print(\"issue found when working on error_num!\")\n",
    "    results.at[file, BGAMES_ERROR] = -1   \n",
    "games_end = time.time()\n",
    "games_time = games_end - games_start\n",
    "print(\"Analysis finished with total %d models!\" % count)\n",
    "print(\"GAMES time:\", games_time)"
   ]
  },
  {
   "cell_type": "code",
   "execution_count": 16,
   "metadata": {},
   "outputs": [
    {
     "data": {
      "text/plain": [
       "5.556743628463718"
      ]
     },
     "execution_count": 16,
     "metadata": {},
     "output_type": "execute_result"
    }
   ],
   "source": [
    "np.mean(bgames_ris)"
   ]
  },
  {
   "cell_type": "code",
   "execution_count": null,
   "metadata": {},
   "outputs": [],
   "source": []
  },
  {
   "cell_type": "code",
   "execution_count": 17,
   "metadata": {},
   "outputs": [
    {
     "name": "stdout",
     "output_type": "stream",
     "text": [
      "number of detected errors:  123\n",
      "number of GAMES but not in LP 0\n"
     ]
    }
   ],
   "source": [
    "print(\"number of detected errors: \", len(results[results[BGAMES_ERROR]==1]))\n",
    "print(\"number of GAMES but not in LP\", len(results[(results[BGAMES_ERROR]==1) & (results[LP_ERROR]!=1)]))"
   ]
  },
  {
   "cell_type": "code",
   "execution_count": 18,
   "metadata": {},
   "outputs": [
    {
     "data": {
      "text/plain": [
       "0.5122948041776332"
      ]
     },
     "execution_count": 18,
     "metadata": {},
     "output_type": "execute_result"
    }
   ],
   "source": [
    "games_time / 123"
   ]
  },
  {
   "cell_type": "code",
   "execution_count": null,
   "metadata": {},
   "outputs": [],
   "source": []
  },
  {
   "cell_type": "code",
   "execution_count": 19,
   "metadata": {},
   "outputs": [
    {
     "data": {
      "text/html": [
       "<div>\n",
       "<style scoped>\n",
       "    .dataframe tbody tr th:only-of-type {\n",
       "        vertical-align: middle;\n",
       "    }\n",
       "\n",
       "    .dataframe tbody tr th {\n",
       "        vertical-align: top;\n",
       "    }\n",
       "\n",
       "    .dataframe thead th {\n",
       "        text-align: right;\n",
       "    }\n",
       "</style>\n",
       "<table border=\"1\" class=\"dataframe\">\n",
       "  <thead>\n",
       "    <tr style=\"text-align: right;\">\n",
       "      <th></th>\n",
       "      <th>num_reactions(nonbdry)</th>\n",
       "      <th>lp_error</th>\n",
       "      <th>bgames_error</th>\n",
       "      <th>xgame_error</th>\n",
       "      <th>bGAMES_ris_size</th>\n",
       "      <th>xGAMES_ris_size</th>\n",
       "    </tr>\n",
       "  </thead>\n",
       "  <tbody>\n",
       "  </tbody>\n",
       "</table>\n",
       "</div>"
      ],
      "text/plain": [
       "Empty DataFrame\n",
       "Columns: [num_reactions(nonbdry), lp_error, bgames_error, xgame_error, bGAMES_ris_size, xGAMES_ris_size]\n",
       "Index: []"
      ]
     },
     "execution_count": 19,
     "metadata": {},
     "output_type": "execute_result"
    }
   ],
   "source": [
    "results[results[BGAMES_ERROR]==-1]"
   ]
  },
  {
   "cell_type": "code",
   "execution_count": 21,
   "metadata": {},
   "outputs": [
    {
     "data": {
      "text/html": [
       "<div>\n",
       "<style scoped>\n",
       "    .dataframe tbody tr th:only-of-type {\n",
       "        vertical-align: middle;\n",
       "    }\n",
       "\n",
       "    .dataframe tbody tr th {\n",
       "        vertical-align: top;\n",
       "    }\n",
       "\n",
       "    .dataframe thead th {\n",
       "        text-align: right;\n",
       "    }\n",
       "</style>\n",
       "<table border=\"1\" class=\"dataframe\">\n",
       "  <thead>\n",
       "    <tr style=\"text-align: right;\">\n",
       "      <th></th>\n",
       "      <th>num_reactions(nonbdry)</th>\n",
       "      <th>lp_error</th>\n",
       "      <th>bgames_error</th>\n",
       "      <th>xgame_error</th>\n",
       "      <th>bGAMES_ris_size</th>\n",
       "      <th>xGAMES_ris_size</th>\n",
       "    </tr>\n",
       "  </thead>\n",
       "  <tbody>\n",
       "    <tr>\n",
       "      <th>BIOMD0000000634.xml</th>\n",
       "      <td>112</td>\n",
       "      <td>1</td>\n",
       "      <td>1</td>\n",
       "      <td>0</td>\n",
       "      <td>3</td>\n",
       "      <td>0</td>\n",
       "    </tr>\n",
       "    <tr>\n",
       "      <th>BIOMD0000000152.xml</th>\n",
       "      <td>120</td>\n",
       "      <td>0</td>\n",
       "      <td>0</td>\n",
       "      <td>0</td>\n",
       "      <td>0</td>\n",
       "      <td>0</td>\n",
       "    </tr>\n",
       "    <tr>\n",
       "      <th>BIOMD0000000146.xml</th>\n",
       "      <td>34</td>\n",
       "      <td>0</td>\n",
       "      <td>0</td>\n",
       "      <td>0</td>\n",
       "      <td>0</td>\n",
       "      <td>0</td>\n",
       "    </tr>\n",
       "    <tr>\n",
       "      <th>BIOMD0000000620.xml</th>\n",
       "      <td>0</td>\n",
       "      <td>2</td>\n",
       "      <td>0</td>\n",
       "      <td>0</td>\n",
       "      <td>0</td>\n",
       "      <td>0</td>\n",
       "    </tr>\n",
       "    <tr>\n",
       "      <th>BIOMD0000000608.xml</th>\n",
       "      <td>96</td>\n",
       "      <td>1</td>\n",
       "      <td>1</td>\n",
       "      <td>0</td>\n",
       "      <td>2</td>\n",
       "      <td>0</td>\n",
       "    </tr>\n",
       "  </tbody>\n",
       "</table>\n",
       "</div>"
      ],
      "text/plain": [
       "                     num_reactions(nonbdry)  lp_error  bgames_error  \\\n",
       "BIOMD0000000634.xml                     112         1             1   \n",
       "BIOMD0000000152.xml                     120         0             0   \n",
       "BIOMD0000000146.xml                      34         0             0   \n",
       "BIOMD0000000620.xml                       0         2             0   \n",
       "BIOMD0000000608.xml                      96         1             1   \n",
       "\n",
       "                     xgame_error  bGAMES_ris_size  xGAMES_ris_size  \n",
       "BIOMD0000000634.xml            0                3                0  \n",
       "BIOMD0000000152.xml            0                0                0  \n",
       "BIOMD0000000146.xml            0                0                0  \n",
       "BIOMD0000000620.xml            0                0                0  \n",
       "BIOMD0000000608.xml            0                2                0  "
      ]
     },
     "execution_count": 21,
     "metadata": {},
     "output_type": "execute_result"
    }
   ],
   "source": [
    "results.head()"
   ]
  },
  {
   "cell_type": "code",
   "execution_count": null,
   "metadata": {},
   "outputs": [],
   "source": []
  },
  {
   "cell_type": "code",
   "execution_count": 22,
   "metadata": {},
   "outputs": [
    {
     "name": "stdout",
     "output_type": "stream",
     "text": [
      "we are analyzing Model number: 50\n",
      "we are analyzing Model number: 100\n",
      "we are analyzing Model number: 150\n",
      "\n",
      "Initial analysis finished with total 158 models!\n",
      "number of (initially) detected errors:  150\n",
      "(INITIAL) xGAMES time: 91.2560088634491\n",
      "Current length of xgames_ris 150\n"
     ]
    }
   ],
   "source": [
    "# xGAMES for LP-detected models\n",
    "simple = SimpleSBML()\n",
    "count = 0\n",
    "detected_by_lp = results.loc[results[LP_ERROR]==1,].index\n",
    "xgames_ris = []\n",
    "gamespp_start = time.time()\n",
    "# for file in files:\n",
    "for file in detected_by_lp:\n",
    "  count += 1\n",
    "  if (count%50)==0:\n",
    "    print(\"we are analyzing Model number:\", count)\n",
    "  try:\n",
    "    simple.initialize(os.path.join(cn.BIOMODELS_DIR, file))\n",
    "    total_errornum = []\n",
    "    m = GAMES_PP(simple)\n",
    "    if simple.reactions:\n",
    "      res = m.analyze(simple_games=False, error_details=False, suppress_message=True)\n",
    "      results.at[file, XGAMES_ERROR] = int(res)\n",
    "      if res:\n",
    "        gr = GAMESReport(m)\n",
    "        summary = m.error_summary\n",
    "        if m.type_one_errors:\n",
    "          report, error_num1 = gr.reportTypeOneError(m.type_one_errors, explain_details=True)\n",
    "          total_errornum = total_errornum + error_num1\n",
    "        if m.type_two_errors:\n",
    "          report, error_num2 = gr.reportTypeTwoError(m.type_two_errors, explain_details=True)\n",
    "          total_errornum = total_errornum + error_num2\n",
    "        if m.canceling_errors:\n",
    "          report, error_num3 = gr.reportCancelingError(m.canceling_errors, explain_details=True)\n",
    "          total_errornum = total_errornum + error_num3\n",
    "        if m.echelon_errors:\n",
    "          report, error_num4 = gr.reportEchelonError(m.echelon_errors, explain_details=True)\n",
    "          total_errornum = total_errornum + error_num4\n",
    "        if m.type_three_errors:\n",
    "          report, error_num5 = gr.reportTypeThreeError(m.type_three_errors, explain_details=True)\n",
    "          total_errornum = total_errornum + error_num5\n",
    "        results.at[file, XGAMES_RIS] = np.mean(total_errornum)\n",
    "        xgames_ris.append(np.mean(total_errornum))\n",
    "  except:\n",
    "    print(\"issue found with error_num!\")\n",
    "    results.at[file, XGAMES_ERROR] = -1   \n",
    "gamespp_end = time.time()\n",
    "initial_xgames_time = gamespp_end - gamespp_start\n",
    "print(\"\\nInitial analysis finished with total %d models!\" % count)\n",
    "print(\"number of (initially) detected errors: \", len(results[results[XGAMES_ERROR]==1]))\n",
    "print(\"(INITIAL) xGAMES time:\", initial_xgames_time)\n",
    "print(\"Current length of xgames_ris\", len(xgames_ris))"
   ]
  },
  {
   "cell_type": "code",
   "execution_count": 23,
   "metadata": {},
   "outputs": [
    {
     "data": {
      "text/plain": [
       "8"
      ]
     },
     "execution_count": 23,
     "metadata": {},
     "output_type": "execute_result"
    }
   ],
   "source": [
    "len(results[(results[XGAMES_ERROR]!=1) & (results[LP_ERROR]==1)])"
   ]
  },
  {
   "cell_type": "code",
   "execution_count": 24,
   "metadata": {},
   "outputs": [
    {
     "name": "stdout",
     "output_type": "stream",
     "text": [
      "\n",
      "\n",
      "The following have not been detected by games\n"
     ]
    },
    {
     "data": {
      "text/html": [
       "<div>\n",
       "<style scoped>\n",
       "    .dataframe tbody tr th:only-of-type {\n",
       "        vertical-align: middle;\n",
       "    }\n",
       "\n",
       "    .dataframe tbody tr th {\n",
       "        vertical-align: top;\n",
       "    }\n",
       "\n",
       "    .dataframe thead th {\n",
       "        text-align: right;\n",
       "    }\n",
       "</style>\n",
       "<table border=\"1\" class=\"dataframe\">\n",
       "  <thead>\n",
       "    <tr style=\"text-align: right;\">\n",
       "      <th></th>\n",
       "      <th>num_reactions(nonbdry)</th>\n",
       "      <th>lp_error</th>\n",
       "      <th>bgames_error</th>\n",
       "      <th>xgame_error</th>\n",
       "      <th>bGAMES_ris_size</th>\n",
       "      <th>xGAMES_ris_size</th>\n",
       "    </tr>\n",
       "  </thead>\n",
       "  <tbody>\n",
       "    <tr>\n",
       "      <th>BIOMD0000000143.xml</th>\n",
       "      <td>17</td>\n",
       "      <td>1</td>\n",
       "      <td>0</td>\n",
       "      <td>0</td>\n",
       "      <td>0</td>\n",
       "      <td>0</td>\n",
       "    </tr>\n",
       "    <tr>\n",
       "      <th>BIOMD0000000469.xml</th>\n",
       "      <td>399</td>\n",
       "      <td>1</td>\n",
       "      <td>0</td>\n",
       "      <td>0</td>\n",
       "      <td>0</td>\n",
       "      <td>0</td>\n",
       "    </tr>\n",
       "    <tr>\n",
       "      <th>BIOMD0000000247.xml</th>\n",
       "      <td>25</td>\n",
       "      <td>1</td>\n",
       "      <td>0</td>\n",
       "      <td>0</td>\n",
       "      <td>0</td>\n",
       "      <td>0</td>\n",
       "    </tr>\n",
       "    <tr>\n",
       "      <th>BIOMD0000000070.xml</th>\n",
       "      <td>38</td>\n",
       "      <td>1</td>\n",
       "      <td>0</td>\n",
       "      <td>0</td>\n",
       "      <td>0</td>\n",
       "      <td>0</td>\n",
       "    </tr>\n",
       "    <tr>\n",
       "      <th>BIOMD0000000503.xml</th>\n",
       "      <td>32</td>\n",
       "      <td>1</td>\n",
       "      <td>0</td>\n",
       "      <td>0</td>\n",
       "      <td>0</td>\n",
       "      <td>0</td>\n",
       "    </tr>\n",
       "    <tr>\n",
       "      <th>BIOMD0000000473.xml</th>\n",
       "      <td>298</td>\n",
       "      <td>1</td>\n",
       "      <td>0</td>\n",
       "      <td>0</td>\n",
       "      <td>0</td>\n",
       "      <td>0</td>\n",
       "    </tr>\n",
       "    <tr>\n",
       "      <th>BIOMD0000000470.xml</th>\n",
       "      <td>399</td>\n",
       "      <td>1</td>\n",
       "      <td>0</td>\n",
       "      <td>0</td>\n",
       "      <td>0</td>\n",
       "      <td>0</td>\n",
       "    </tr>\n",
       "    <tr>\n",
       "      <th>BIOMD0000000572.xml</th>\n",
       "      <td>21</td>\n",
       "      <td>1</td>\n",
       "      <td>0</td>\n",
       "      <td>0</td>\n",
       "      <td>0</td>\n",
       "      <td>0</td>\n",
       "    </tr>\n",
       "  </tbody>\n",
       "</table>\n",
       "</div>"
      ],
      "text/plain": [
       "                     num_reactions(nonbdry)  lp_error  bgames_error  \\\n",
       "BIOMD0000000143.xml                      17         1             0   \n",
       "BIOMD0000000469.xml                     399         1             0   \n",
       "BIOMD0000000247.xml                      25         1             0   \n",
       "BIOMD0000000070.xml                      38         1             0   \n",
       "BIOMD0000000503.xml                      32         1             0   \n",
       "BIOMD0000000473.xml                     298         1             0   \n",
       "BIOMD0000000470.xml                     399         1             0   \n",
       "BIOMD0000000572.xml                      21         1             0   \n",
       "\n",
       "                     xgame_error  bGAMES_ris_size  xGAMES_ris_size  \n",
       "BIOMD0000000143.xml            0                0                0  \n",
       "BIOMD0000000469.xml            0                0                0  \n",
       "BIOMD0000000247.xml            0                0                0  \n",
       "BIOMD0000000070.xml            0                0                0  \n",
       "BIOMD0000000503.xml            0                0                0  \n",
       "BIOMD0000000473.xml            0                0                0  \n",
       "BIOMD0000000470.xml            0                0                0  \n",
       "BIOMD0000000572.xml            0                0                0  "
      ]
     },
     "execution_count": 24,
     "metadata": {},
     "output_type": "execute_result"
    }
   ],
   "source": [
    "failed_to_find_error = results[(results[XGAMES_ERROR]!=1) & (results[LP_ERROR]==1)]\n",
    "print(\"\\n\\nThe following have not been detected by games\")\n",
    "failed_to_find_error"
   ]
  },
  {
   "cell_type": "code",
   "execution_count": 25,
   "metadata": {},
   "outputs": [
    {
     "data": {
      "text/plain": [
       "2.9514784153681006"
      ]
     },
     "execution_count": 25,
     "metadata": {},
     "output_type": "execute_result"
    }
   ],
   "source": [
    "np.mean(xgames_ris)"
   ]
  },
  {
   "cell_type": "code",
   "execution_count": null,
   "metadata": {},
   "outputs": [],
   "source": []
  },
  {
   "cell_type": "code",
   "execution_count": 26,
   "metadata": {},
   "outputs": [
    {
     "data": {
      "text/plain": [
       "num_reactions(nonbdry)    9\n",
       "lp_error                  1\n",
       "bgames_error              0\n",
       "xgame_error               1\n",
       "bGAMES_ris_size           0\n",
       "xGAMES_ris_size           4\n",
       "Name: BIOMD0000000353.xml, dtype: int64"
      ]
     },
     "execution_count": 26,
     "metadata": {},
     "output_type": "execute_result"
    }
   ],
   "source": [
    "results.T[\"BIOMD0000000353.xml\"]"
   ]
  },
  {
   "cell_type": "code",
   "execution_count": 39,
   "metadata": {},
   "outputs": [
    {
     "name": "stdout",
     "output_type": "stream",
     "text": [
      "we are analyzing model: BIOMD0000000143.xml\n",
      "Found error at iteration 3\n",
      "we are analyzing model: BIOMD0000000469.xml\n",
      "we are analyzing with iteration: 5\n",
      "we are analyzing with iteration: 10\n",
      "Found error at iteration 12\n",
      "we are analyzing model: BIOMD0000000247.xml\n",
      "we are analyzing with iteration: 5\n",
      "we are analyzing with iteration: 10\n",
      "we are analyzing with iteration: 15\n",
      "max itr reached!\n",
      "we are analyzing model: BIOMD0000000070.xml\n",
      "we are analyzing with iteration: 5\n",
      "we are analyzing with iteration: 10\n",
      "we are analyzing with iteration: 15\n",
      "max itr reached!\n",
      "we are analyzing model: BIOMD0000000503.xml\n",
      "we are analyzing with iteration: 5\n",
      "we are analyzing with iteration: 10\n",
      "we are analyzing with iteration: 15\n",
      "max itr reached!\n",
      "we are analyzing model: BIOMD0000000473.xml\n",
      "we are analyzing with iteration: 5\n",
      "we are analyzing with iteration: 10\n",
      "Found error at iteration 10\n",
      "we are analyzing model: BIOMD0000000470.xml\n",
      "Found error at iteration 3\n",
      "we are analyzing model: BIOMD0000000572.xml\n",
      "Found error at iteration 1\n",
      "number of (finally) detected errors:  155\n",
      "(TOTAL) xGAMES time: 491.3277077674866\n"
     ]
    }
   ],
   "source": [
    "# deleted, but using MAX_ITR=15 and retest remaining models..\n",
    "# re-run of xGAMES\n",
    "simple = SimpleSBML()\n",
    "MAX_ITR = 15\n",
    "retest_xgames_ris = []\n",
    "retest_xgames_models = []\n",
    "retest_model_start = time.time()\n",
    "# for file in files:\n",
    "for file in failed_to_find_error.index:\n",
    "  found_error = False\n",
    "  itr = 0\n",
    "  print(\"we are analyzing model:\", file)\n",
    "  while (found_error is False) and (itr<MAX_ITR):\n",
    "    itr += 1\n",
    "    #\n",
    "    if (itr%5)==0:\n",
    "      print(\"we are analyzing with iteration: %d\" % (itr))\n",
    "    simple.initialize(os.path.join(cn.BIOMODELS_DIR, file))\n",
    "    total_errornum = []\n",
    "    m = GAMES_PP(simple)\n",
    "    res = m.analyze(simple_games=False, error_details=False, suppress_message=True)\n",
    "    results.at[file, XGAMES_ERROR] = int(res)\n",
    "    if res:\n",
    "      print(\"Found error at iteration %d\" % itr)\n",
    "      found_error = True\n",
    "      retest_xgames_models.append(file)\n",
    "      gr = GAMESReport(m)\n",
    "      summary = m.error_summary\n",
    "      if m.type_one_errors:\n",
    "        report, error_num1 = gr.reportTypeOneError(m.type_one_errors, explain_details=True)\n",
    "        total_errornum = total_errornum + error_num1\n",
    "      if m.type_two_errors:\n",
    "        report, error_num2 = gr.reportTypeTwoError(m.type_two_errors, explain_details=True)\n",
    "        total_errornum = total_errornum + error_num2\n",
    "      if m.canceling_errors:\n",
    "        report, error_num3 = gr.reportCancelingError(m.canceling_errors, explain_details=True)\n",
    "        total_errornum = total_errornum + error_num3\n",
    "      if m.echelon_errors:\n",
    "        report, error_num4 = gr.reportEchelonError(m.echelon_errors, explain_details=True)\n",
    "        total_errornum = total_errornum + error_num4\n",
    "      if m.type_three_errors:\n",
    "        report, error_num5 = gr.reportTypeThreeError(m.type_three_errors, explain_details=True)\n",
    "        total_errornum = total_errornum + error_num5\n",
    "      #results.at[file, XGAMES_RIS] = np.mean(total_errornum)  \n",
    "      retest_xgames_ris.append(np.mean(total_errornum))\n",
    "    if itr==MAX_ITR:\n",
    "      print(\"max itr reached!\")\n",
    "retest_model_end = time.time()\n",
    "retest_xgames_time = retest_model_end - retest_model_start\n",
    "print(\"number of (finally) detected errors: \", len(results[results[XGAMES_ERROR]==1]))\n",
    "print(\"(TOTAL) xGAMES time:\", initial_xgames_time + retest_xgames_time)"
   ]
  },
  {
   "cell_type": "code",
   "execution_count": 40,
   "metadata": {},
   "outputs": [
    {
     "name": "stdout",
     "output_type": "stream",
     "text": [
      "Models_found:  ['BIOMD0000000143.xml', 'BIOMD0000000469.xml', 'BIOMD0000000473.xml', 'BIOMD0000000470.xml', 'BIOMD0000000572.xml']\n",
      "Total number of models: 155\n"
     ]
    }
   ],
   "source": [
    "print(\"Models_found: \", retest_xgames_models)\n",
    "print(\"Total number of models:\", len(xgames_ris) + len(retest_xgames_models))"
   ]
  },
  {
   "cell_type": "code",
   "execution_count": 41,
   "metadata": {},
   "outputs": [
    {
     "data": {
      "text/plain": [
       "3.778850079388485"
      ]
     },
     "execution_count": 41,
     "metadata": {},
     "output_type": "execute_result"
    }
   ],
   "source": [
    "np.mean(xgames_ris + retest_xgames_ris)"
   ]
  },
  {
   "cell_type": "code",
   "execution_count": 42,
   "metadata": {},
   "outputs": [
    {
     "data": {
      "text/plain": [
       "150"
      ]
     },
     "execution_count": 42,
     "metadata": {},
     "output_type": "execute_result"
    }
   ],
   "source": [
    "len(xgames_ris)"
   ]
  },
  {
   "cell_type": "code",
   "execution_count": 44,
   "metadata": {},
   "outputs": [
    {
     "data": {
      "text/plain": [
       "['BIOMD0000000143.xml',\n",
       " 'BIOMD0000000469.xml',\n",
       " 'BIOMD0000000473.xml',\n",
       " 'BIOMD0000000470.xml',\n",
       " 'BIOMD0000000572.xml']"
      ]
     },
     "execution_count": 44,
     "metadata": {},
     "output_type": "execute_result"
    }
   ],
   "source": [
    "retest_xgames_models"
   ]
  },
  {
   "cell_type": "code",
   "execution_count": null,
   "metadata": {},
   "outputs": [],
   "source": []
  },
  {
   "cell_type": "code",
   "execution_count": null,
   "metadata": {},
   "outputs": [],
   "source": []
  },
  {
   "cell_type": "code",
   "execution_count": 44,
   "metadata": {},
   "outputs": [],
   "source": [
    "# test if the result from GAMESReport is same as getISS\n",
    "def getRIS(m_games):\n",
    "  result = []\n",
    "  gr = GAMESReport(m_games)\n",
    "  operation_df = gr.getOperationMatrix()\n",
    "  if m_games.echelon_errors:\n",
    "    for reaction in m_games.echelon_errors:\n",
    "      operation_series = operation_df.T[reaction.label]\n",
    "      result.append(len(operation_series.to_numpy().nonzero()[0]))\n",
    "  if m_games.type_three_errors:\n",
    "    for reaction in m_games.type_three_errors:\n",
    "      operation_series = operation_df.T[reaction.label]\n",
    "      result.append(len(operation_series.to_numpy().nonzero()[0]) + 1)\n",
    "  print(result)\n",
    "  return(result)"
   ]
  },
  {
   "cell_type": "code",
   "execution_count": 118,
   "metadata": {},
   "outputs": [],
   "source": [
    "def testGetRIS(model_file = \"BIOMD0000000231.xml\"):\n",
    "  simple = SimpleSBML()\n",
    "  model_test_type_three = model_file\n",
    "  simple.initialize(os.path.join(cn.BIOMODELS_DIR, model_test_type_three))\n",
    "  m = GAMES_PP(simple)\n",
    "  errors_by_report = []\n",
    "  res = m.analyze(simple_games=False, error_details=False, suppress_message=True)\n",
    "  if res:\n",
    "    gr = GAMESReport(m)\n",
    "    if m.echelon_errors:\n",
    "      print(\"found type echelkon error!\")\n",
    "      rep, num_echelon_error = gr.reportEchelonError(m.echelon_errors)\n",
    "      errors_by_report = errors_by_report + num_echelon_error\n",
    "    if m.type_three_errors:\n",
    "      print(\"found type three error!\")\n",
    "      rep, num_type_three = gr.reportTypeThreeError(m.type_three_errors)\n",
    "      errors_by_report = errors_by_report + num_type_three\n",
    "    errors_by_ris = getRIS(m)\n",
    "    for ele in set(errors_by_report):\n",
    "      if errors_by_report.count(ele) != errors_by_ris.count(ele):\n",
    "        print(\"There are issues! check them again\")\n",
    "        return False\n",
    "    print(\"They exactly match!\")\n",
    "    print(\"result from report\", errors_by_report)\n",
    "    print(\"result from getRIS\", errors_by_ris)\n",
    "  return m"
   ]
  },
  {
   "cell_type": "code",
   "execution_count": 120,
   "metadata": {},
   "outputs": [
    {
     "name": "stdout",
     "output_type": "stream",
     "text": [
      "found type echelkon error!\n",
      "[5]\n",
      "They exactly match!\n",
      "result from report [5]\n",
      "result from getRIS [5]\n"
     ]
    }
   ],
   "source": [
    "m = testGetRIS(model_file=xgames_only[-1])"
   ]
  },
  {
   "cell_type": "code",
   "execution_count": 122,
   "metadata": {},
   "outputs": [
    {
     "data": {
      "text/plain": [
       "[re21:  -> {Pext}]"
      ]
     },
     "execution_count": 122,
     "metadata": {},
     "output_type": "execute_result"
    }
   ],
   "source": [
    "m.echelon_errors"
   ]
  },
  {
   "cell_type": "code",
   "execution_count": 76,
   "metadata": {},
   "outputs": [
    {
     "name": "stdout",
     "output_type": "stream",
     "text": [
      "[2, 2]\n"
     ]
    },
    {
     "data": {
      "text/plain": [
       "[2, 2]"
      ]
     },
     "execution_count": 76,
     "metadata": {},
     "output_type": "execute_result"
    }
   ],
   "source": [
    "getRIS(m)"
   ]
  },
  {
   "cell_type": "code",
   "execution_count": 78,
   "metadata": {},
   "outputs": [
    {
     "data": {
      "text/plain": [
       "[v3:  -> {Pyr}]"
      ]
     },
     "execution_count": 78,
     "metadata": {},
     "output_type": "execute_result"
    }
   ],
   "source": [
    "m.echelon_errors"
   ]
  },
  {
   "cell_type": "code",
   "execution_count": null,
   "metadata": {},
   "outputs": [],
   "source": []
  },
  {
   "cell_type": "code",
   "execution_count": 77,
   "metadata": {},
   "outputs": [
    {
     "name": "stdout",
     "output_type": "stream",
     "text": [
      "label is: v2\n",
      "2\n"
     ]
    }
   ],
   "source": [
    "gr = GAMESReport(m)\n",
    "operation_df = gr.getOperationMatrix()\n",
    "for reaction in m.type_three_errors:\n",
    "  print(\"label is:\", reaction.label)\n",
    "  operation_series = operation_df.T[reaction.label]\n",
    "  print(len(operation_series.to_numpy().nonzero()[0]) + 1)"
   ]
  },
  {
   "cell_type": "code",
   "execution_count": 58,
   "metadata": {},
   "outputs": [
    {
     "name": "stdout",
     "output_type": "stream",
     "text": [
      "[2, 4]\n"
     ]
    }
   ],
   "source": [
    "gr = GAMESReport(m)\n",
    "rep, num = gr.reportTypeThreeError(m.type_three_errors)\n",
    "print(num)"
   ]
  },
  {
   "cell_type": "code",
   "execution_count": null,
   "metadata": {},
   "outputs": [],
   "source": []
  },
  {
   "cell_type": "code",
   "execution_count": null,
   "metadata": {},
   "outputs": [],
   "source": []
  },
  {
   "cell_type": "code",
   "execution_count": null,
   "metadata": {},
   "outputs": [],
   "source": []
  },
  {
   "cell_type": "code",
   "execution_count": 35,
   "metadata": {},
   "outputs": [
    {
     "data": {
      "text/plain": [
       "Index(['BIOMD0000000231.xml', 'BIOMD0000000190.xml', 'BIOMD0000000353.xml',\n",
       "       'BIOMD0000000232.xml', 'BIOMD0000000143.xml', 'BIOMD0000000383.xml',\n",
       "       'BIOMD0000000426.xml', 'BIOMD0000000469.xml', 'BIOMD0000000253.xml',\n",
       "       'BIOMD0000000051.xml', 'BIOMD0000000468.xml', 'BIOMD0000000052.xml',\n",
       "       'BIOMD0000000245.xml', 'BIOMD0000000453.xml', 'BIOMD0000000452.xml',\n",
       "       'BIOMD0000000281.xml', 'BIOMD0000000243.xml', 'BIOMD0000000479.xml',\n",
       "       'BIOMD0000000105.xml', 'BIOMD0000000112.xml', 'BIOMD0000000248.xml',\n",
       "       'BIOMD0000000467.xml', 'BIOMD0000000049.xml', 'BIOMD0000000167.xml',\n",
       "       'BIOMD0000000364.xml', 'BIOMD0000000175.xml', 'BIOMD0000000439.xml',\n",
       "       'BIOMD0000000217.xml', 'BIOMD0000000565.xml', 'BIOMD0000000572.xml'],\n",
       "      dtype='object')"
      ]
     },
     "execution_count": 35,
     "metadata": {},
     "output_type": "execute_result"
    }
   ],
   "source": [
    "xgames_only = results[(results[BGAMES_ERROR]!=1) & results[XGAMES_ERROR]==1].index\n",
    "xgames_only"
   ]
  },
  {
   "cell_type": "code",
   "execution_count": 36,
   "metadata": {},
   "outputs": [
    {
     "name": "stdout",
     "output_type": "stream",
     "text": [
      "model (BIOMD0000000231.xml) found error!\n",
      "[ErrorSummary(type='type3', errors=[v2: 2.00 {AMP=ATP} -> 2.00 {ADP}, v3: {NADH} -> {Lac}])]\n"
     ]
    }
   ],
   "source": [
    "file = xgames_only[0]\n",
    "simple.initialize(os.path.join(cn.BIOMODELS_DIR, file))\n",
    "m = GAMES_PP(simple)\n",
    "res = m.analyze(simple_games=False, error_details=False, suppress_message=True)\n",
    "if res:\n",
    "  print(\"model (%s) found error!\" % file)\n",
    "  print(m.error_summary)"
   ]
  },
  {
   "cell_type": "code",
   "execution_count": 38,
   "metadata": {},
   "outputs": [
    {
     "name": "stdout",
     "output_type": "stream",
     "text": [
      "[2, 4]\n"
     ]
    }
   ],
   "source": [
    "gr = GAMESReport(m)\n",
    "rep, num = gr.reportTypeThreeError(m.type_three_errors)\n",
    "print(num)"
   ]
  },
  {
   "cell_type": "code",
   "execution_count": 59,
   "metadata": {},
   "outputs": [
    {
     "name": "stdout",
     "output_type": "stream",
     "text": [
      "[2, 4]\n"
     ]
    },
    {
     "data": {
      "text/plain": [
       "[2, 4]"
      ]
     },
     "execution_count": 59,
     "metadata": {},
     "output_type": "execute_result"
    }
   ],
   "source": [
    "getRIS(m)"
   ]
  },
  {
   "cell_type": "code",
   "execution_count": null,
   "metadata": {},
   "outputs": [],
   "source": []
  },
  {
   "cell_type": "code",
   "execution_count": 39,
   "metadata": {},
   "outputs": [
    {
     "name": "stdout",
     "output_type": "stream",
     "text": [
      "We detected a mass imbalance from the following reactions:\n",
      "\n",
      "1. v2: ATP + AMP -> 2.00 ADP\n",
      "2. v1: ATP -> AMP\n",
      "3. v3: ADP -> ATP + Pyr\n",
      "\n",
      "\n",
      "**********************************************************************\n",
      "\n",
      "We detected a mass imbalance from the following reactions:\n",
      "\n",
      "1. v2: ATP + AMP -> 2.00 ADP\n",
      "2. v4: Pyr + NADH -> Lac\n",
      "3. v3: ADP -> ATP + Pyr\n",
      "4. v1: ATP -> AMP\n",
      "5. v4: Pyr + NADH -> Lac\n",
      "\n",
      "\n",
      "**********************************************************************\n",
      "\n",
      "\n"
     ]
    }
   ],
   "source": [
    "print(rep)"
   ]
  },
  {
   "cell_type": "code",
   "execution_count": 45,
   "metadata": {},
   "outputs": [
    {
     "name": "stdout",
     "output_type": "stream",
     "text": [
      "[2, 4]\n"
     ]
    },
    {
     "data": {
      "text/plain": [
       "[2, 4]"
      ]
     },
     "execution_count": 45,
     "metadata": {},
     "output_type": "execute_result"
    }
   ],
   "source": [
    "getRIS(m)"
   ]
  },
  {
   "cell_type": "code",
   "execution_count": null,
   "metadata": {},
   "outputs": [],
   "source": []
  },
  {
   "cell_type": "code",
   "execution_count": null,
   "metadata": {},
   "outputs": [],
   "source": []
  },
  {
   "cell_type": "code",
   "execution_count": null,
   "metadata": {},
   "outputs": [],
   "source": []
  },
  {
   "cell_type": "code",
   "execution_count": null,
   "metadata": {},
   "outputs": [],
   "source": []
  },
  {
   "cell_type": "code",
   "execution_count": 28,
   "metadata": {},
   "outputs": [
    {
     "data": {
      "text/plain": [
       "429.696861743927"
      ]
     },
     "execution_count": 28,
     "metadata": {},
     "output_type": "execute_result"
    }
   ],
   "source": [
    "retest_xgames_time + initial_xgames_time"
   ]
  },
  {
   "cell_type": "code",
   "execution_count": 29,
   "metadata": {},
   "outputs": [
    {
     "name": "stdout",
     "output_type": "stream",
     "text": [
      "number of (finally) detected errors by xGAMES:  155\n"
     ]
    }
   ],
   "source": [
    "print(\"number of (finally) detected errors by xGAMES: \", sum(results[XGAMES_ERROR]))"
   ]
  },
  {
   "cell_type": "code",
   "execution_count": 30,
   "metadata": {},
   "outputs": [
    {
     "name": "stdout",
     "output_type": "stream",
     "text": [
      "number of detected errors:  155\n",
      "number of GAMES errors not in LP 0\n"
     ]
    },
    {
     "data": {
      "text/plain": [
       "0"
      ]
     },
     "execution_count": 30,
     "metadata": {},
     "output_type": "execute_result"
    }
   ],
   "source": [
    "print(\"number of detected errors: \", len(results[results[XGAMES_ERROR]==1]))\n",
    "print(\"number of GAMES errors not in LP\", len(results[(results[XGAMES_ERROR]==1) & (results[LP_ERROR]!=1)]))\n",
    "len(results[results[XGAMES_ERROR]==-1])"
   ]
  },
  {
   "cell_type": "code",
   "execution_count": 31,
   "metadata": {},
   "outputs": [
    {
     "name": "stdout",
     "output_type": "stream",
     "text": [
      "mean ris for bGAMES: 5.195122\n",
      "mean ris for xGAMES: 3.129032\n"
     ]
    }
   ],
   "source": [
    "# final results\n",
    "bgames_results = results.loc[results[BGAMES_ERROR]==1,]\n",
    "xgames_results = results.loc[results[XGAMES_ERROR]==1,]\n",
    "print(\"mean ris for bGAMES: %f\" % np.mean(bgames_results[BGAMES_RIS]))\n",
    "print(\"mean ris for xGAMES: %f\" % np.mean(xgames_results[XGAMES_RIS]))"
   ]
  },
  {
   "cell_type": "code",
   "execution_count": 32,
   "metadata": {},
   "outputs": [],
   "source": [
    "# simple.initialize(os.path.join(cn.BIOMODELS_DIR, \"BIOMD0000000175.xml\"))\n",
    "# total_errornum = []\n",
    "# m = GAMES_PP(simple)\n",
    "# res = m.analyze(simple_games=False, error_details=False, suppress_message=True)\n",
    "# results.at[file, XGAMES_ERROR] = int(res)\n",
    "# if res:\n",
    "#   print(\"Found error with this model\")\n",
    "# found_error = True\n",
    "# gr = GAMESReport(m)\n",
    "# summary = m.error_summary\n",
    "# if m.type_one_errors:\n",
    "#   report, error_num1 = gr.reportTypeOneError(m.type_one_errors, explain_details=True)\n",
    "#   total_errornum = total_errornum + error_num1\n",
    "# if m.type_two_errors:\n",
    "#   report, error_num2 = gr.reportTypeTwoError(m.type_two_errors, explain_details=True)\n",
    "#   total_errornum = total_errornum + error_num2\n",
    "# if m.canceling_errors:\n",
    "#   report, error_num3 = gr.reportCancelingError(m.canceling_errors, explain_details=True)\n",
    "#   total_errornum = total_errornum + error_num3\n",
    "# if m.echelon_errors:\n",
    "#   report, error_num4 = gr.reportEchelonError(m.echelon_errors, explain_details=True)\n",
    "#   total_errornum = total_errornum + error_num4\n",
    "# if m.type_three_errors:\n",
    "#   report, error_num5 = gr.reportTypeThreeError(m.type_three_errors, explain_details=True)\n",
    "#   total_errornum = total_errornum + error_num5\n",
    "# results.at[file, XGAMES_RIS] = np.mean(total_errornum) "
   ]
  },
  {
   "cell_type": "code",
   "execution_count": 33,
   "metadata": {},
   "outputs": [],
   "source": [
    "# m.error_summary"
   ]
  },
  {
   "cell_type": "code",
   "execution_count": 34,
   "metadata": {},
   "outputs": [],
   "source": [
    "# # The following is to make sure to not be able to found an error though GAMES\n",
    "# re_retest_files = [\"BIOMD0000000070.xml\",\n",
    "#                   \"BIOMD0000000247.xml\",\n",
    "#                   \"BIOMD0000000473.xml\",\n",
    "#                   \"BIOMD0000000503.xml\",\n",
    "#                   \"BIOMD0000000469.xml\"]\n",
    "# MAX_ITR = 25\n",
    "# found_error = False\n",
    "# for f in re_retest_files:\n",
    "#   print(\"We are working on model %s\" % f)\n",
    "#   itr = 0\n",
    "#   found_error = False\n",
    "#   while (itr<MAX_ITR) and (found_error is False):\n",
    "#     itr += 1\n",
    "#     if itr%5==0:\n",
    "#       print(\"Current iteration is %d\" % itr)\n",
    "#     simple = SimpleSBML()\n",
    "#     simple.initialize(os.path.join(cn.BIOMODELS_DIR, f))\n",
    "#     m = GAMES_PP(simple)\n",
    "#     res = m.analyze(simple_games=False, error_details=False, suppress_message=True)\n",
    "#     if res:\n",
    "#       found_error = True\n",
    "#       print(\"Found error!\")\n",
    "#     if itr==MAX_ITR:\n",
    "#       print(\"max itr reached!\")"
   ]
  },
  {
   "cell_type": "code",
   "execution_count": null,
   "metadata": {},
   "outputs": [],
   "source": []
  }
 ],
 "metadata": {
  "kernelspec": {
   "display_name": "Python 3",
   "language": "python",
   "name": "python3"
  },
  "language_info": {
   "codemirror_mode": {
    "name": "ipython",
    "version": 3
   },
   "file_extension": ".py",
   "mimetype": "text/x-python",
   "name": "python",
   "nbconvert_exporter": "python",
   "pygments_lexer": "ipython3",
   "version": "3.6.10"
  }
 },
 "nbformat": 4,
 "nbformat_minor": 4
}
