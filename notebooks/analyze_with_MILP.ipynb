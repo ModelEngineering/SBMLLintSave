{
 "cells": [
  {
   "cell_type": "code",
   "execution_count": 1,
   "metadata": {},
   "outputs": [],
   "source": [
    "from pulp import *"
   ]
  },
  {
   "cell_type": "code",
   "execution_count": 2,
   "metadata": {},
   "outputs": [],
   "source": [
    "import init\n",
    "import SBMLLint.common.constants as cn\n",
    "from SBMLLint.common.simple_sbml import SimpleSBML\n",
    "from SBMLLint.common.stoichiometry_matrix import StoichiometryMatrix\n",
    "\n",
    "import numpy as np\n",
    "import pandas as pd\n",
    "import matplotlib.pyplot as plt\n",
    "%matplotlib inline\n",
    "import time\n",
    "TOLERANCE = 0.0001\n",
    "\n",
    "from numpy.linalg import svd\n",
    "total_time_begin = time.time()"
   ]
  },
  {
   "cell_type": "code",
   "execution_count": 6,
   "metadata": {},
   "outputs": [],
   "source": [
    "# MODEL = \"BIOMD0000000167.xml\"\n",
    "# simple = SimpleSBML()\n",
    "# simple.initialize(os.path.join(cn.BIOMODELS_DIR, MODEL))"
   ]
  },
  {
   "cell_type": "code",
   "execution_count": 21,
   "metadata": {},
   "outputs": [],
   "source": [
    "SAMPLE_MODEL = \"iCN718.xml\"\n",
    "# SAMPLE_MODEL = \"Recon3D.xml\"\n",
    "bigg_filepath = os.path.join(cn.BIGG_DIR, SAMPLE_MODEL)\n",
    "simple = SimpleSBML()\n",
    "simple.initialize(bigg_filepath)"
   ]
  },
  {
   "cell_type": "code",
   "execution_count": 22,
   "metadata": {},
   "outputs": [
    {
     "data": {
      "text/plain": [
       "[R_EX_tyr__L_e: M_tyr__L_e -> ,\n",
       " R_EX_val__L_e: M_val__L_e -> ,\n",
       " R_EX_ser__D_e: M_ser__D_e -> ,\n",
       " R_EX_orn_e: M_orn_e -> ,\n",
       " R_GGTT: M_ggdp_c + M_ipdp_c -> M_pendp_c + M_ppi_c,\n",
       " R_DRPA: M_2dr5p_c -> M_acald_c + M_g3p_c,\n",
       " R_HEXTT: M_hexdp_c + M_ipdp_c -> M_hepdp_c + M_ppi_c,\n",
       " R_EX_ptrc_e: M_ptrc_e -> ,\n",
       " R_PPM2: M_2dr1p_c -> M_2dr5p_c,\n",
       " R_G1PTT: M_dttp_c + M_g1p_c + M_h_c -> M_dtdpglu_c + M_ppi_c]"
      ]
     },
     "execution_count": 22,
     "metadata": {},
     "output_type": "execute_result"
    }
   ],
   "source": [
    "simple.reactions[:10]"
   ]
  },
  {
   "cell_type": "code",
   "execution_count": 23,
   "metadata": {},
   "outputs": [
    {
     "data": {
      "text/plain": [
       "(852, 886)"
      ]
     },
     "execution_count": 23,
     "metadata": {},
     "output_type": "execute_result"
    }
   ],
   "source": [
    "s = StoichiometryMatrix(simple)\n",
    "mat = s.stoichiometry_matrix\n",
    "mat.shape"
   ]
  },
  {
   "cell_type": "code",
   "execution_count": 10,
   "metadata": {},
   "outputs": [],
   "source": [
    "def solveMILP(mat):\n",
    "  prob = LpProblem(\"Finding_Unconserved_Metabolites\", LpMaximize)\n",
    "  species = list(mat.index)\n",
    "  species_inclusion = pulp.LpVariable.dicts(\"species\", species, cat=\"Binary\")\n",
    "  species_mass = pulp.LpVariable.dicts(\"mass\", species, cat=\"Continuous\")\n",
    "  # objective function (to maximize the number of species)\n",
    "  prob += lpSum([species_inclusion[i] for i in species])\n",
    "  # constraint 1 (for each reaction, the sum(stoichiometry[i]*mass[i])=0)\n",
    "  for reaction in mat.columns:\n",
    "    prob += lpSum(sum([mat[reaction][species]*species_mass[species] for species in species_inclusion])) == 0\n",
    "  # constraint 2 (species_inclusion is less than or equal to mass of each species)\n",
    "  for species in species_mass.keys():\n",
    "    prob += species_inclusion[species] <= species_mass[species]\n",
    "  prob.solve()\n",
    "  return prob\n",
    "def getUnconservedMetabolites(milp_result):\n",
    "  unconserved_metabolites = []\n",
    "  for v in milp_result.variables():\n",
    "    if v.varValue==0:\n",
    "      if v.name[:7]==\"species\":\n",
    "        unconserved_metabolites.append(v.name[8:])\n",
    "  return unconserved_metabolites"
   ]
  },
  {
   "cell_type": "code",
   "execution_count": 13,
   "metadata": {},
   "outputs": [
    {
     "name": "stdout",
     "output_type": "stream",
     "text": [
      "MILP time: 0.049670\n"
     ]
    }
   ],
   "source": [
    "# re-run mode / Biomodel or Recon3D\n",
    "milp_start = time.time()\n",
    "s = StoichiometryMatrix(simple)\n",
    "milp_result = solveMILP(s.stoichiometry_matrix)\n",
    "unconserved_metabolites = getUnconservedMetabolites(milp_result)\n",
    "milp_end = time.time()\n",
    "milp_time = milp_end - milp_start\n",
    "print(\"MILP time: %f\" % milp_time)"
   ]
  },
  {
   "cell_type": "code",
   "execution_count": null,
   "metadata": {},
   "outputs": [],
   "source": []
  },
  {
   "cell_type": "code",
   "execution_count": 9,
   "metadata": {},
   "outputs": [
    {
     "data": {
      "text/plain": [
       "['M_11docrtsl_c',\n",
       " 'M_11docrtsl_e',\n",
       " 'M_11docrtsl_m',\n",
       " 'M_11docrtsl_r',\n",
       " 'M_11docrtstrn_c']"
      ]
     },
     "execution_count": 9,
     "metadata": {},
     "output_type": "execute_result"
    }
   ],
   "source": [
    "unconserved_metabolites[:5]"
   ]
  },
  {
   "cell_type": "code",
   "execution_count": 10,
   "metadata": {},
   "outputs": [],
   "source": [
    "# from i718 model\n",
    "# R_SEAHCYSHYD: M_h2o_c + M_seahcys_c -> M_adn_c + M_selhcys_c\n",
    "# R_SEAHCYSHYD_1: M_h2o_c + M_seahcys_c -> M_adn_c + M_h_c + M_selhcys_c\n",
    "# \"M_h_c\" in res"
   ]
  },
  {
   "cell_type": "code",
   "execution_count": 24,
   "metadata": {},
   "outputs": [
    {
     "name": "stdout",
     "output_type": "stream",
     "text": [
      "751\n"
     ]
    }
   ],
   "source": [
    "# get left nullspace matrix\n",
    "matrix = np.atleast_2d(mat.T)\n",
    "_, sigma, vh = svd(matrix)\n",
    "atol = 1e-13\n",
    "rtol = 0.0\n",
    "tol = max(atol, rtol*sigma[0])\n",
    "num_nonzero = (sigma >= tol).sum()\n",
    "print(num_nonzero)\n",
    "left_ns = pd.DataFrame(vh[num_nonzero:].conj().T, index=mat.index)"
   ]
  },
  {
   "cell_type": "code",
   "execution_count": 31,
   "metadata": {},
   "outputs": [
    {
     "data": {
      "text/plain": [
       "0       6\n",
       "1      13\n",
       "2      15\n",
       "3      19\n",
       "4      27\n",
       "       ..\n",
       "96     16\n",
       "97     15\n",
       "98     11\n",
       "99     12\n",
       "100    15\n",
       "Length: 101, dtype: int64"
      ]
     },
     "execution_count": 31,
     "metadata": {},
     "output_type": "execute_result"
    }
   ],
   "source": [
    "k = left_ns < -0.1\n",
    "k.sum()"
   ]
  },
  {
   "cell_type": "code",
   "execution_count": null,
   "metadata": {},
   "outputs": [],
   "source": []
  },
  {
   "cell_type": "code",
   "execution_count": 12,
   "metadata": {},
   "outputs": [],
   "source": [
    "# list(left_ns.index)"
   ]
  },
  {
   "cell_type": "code",
   "execution_count": 13,
   "metadata": {},
   "outputs": [
    {
     "name": "stdout",
     "output_type": "stream",
     "text": [
      "Status: Optimal\n",
      "['M_11docrtsl_c', 'M_4mptnl_c', 'M_s2l2n2m2m_l']\n",
      "Min Net Stoichiometry MILP time: 1451.077650\n"
     ]
    }
   ],
   "source": [
    "# Finding minimal net inconsistent stoichiometry. \n",
    "# target_met is for each unconserved metabolite\n",
    "min_net_stoi_time_begin = time.time()\n",
    "target_met = unconserved_metabolites[0]\n",
    "prob_min_net_stoi = LpProblem(\"Finding_Minimal_Net_Stoichiometry\", LpMinimize)\n",
    "species = list(left_ns.index)\n",
    "species_inclusion_net_stoi = pulp.LpVariable.dicts(\"include\", species, cat=\"Binary\")\n",
    "species_weight_net_stoi = pulp.LpVariable.dicts(\"weight\", species, lowBound=0, cat=\"Continuous\")\n",
    "# objective function to minimize\n",
    "prob_min_net_stoi += lpSum([species_inclusion_net_stoi[i] for i in species])\n",
    "# constraint 1 (for each metabolite, species_weight_net_stoi[i]*species_inclusion_net_stoi[i])=0)\n",
    "# for metabolite in species:\n",
    "for col_idx in left_ns.columns:\n",
    "  left_ns_col = left_ns[col_idx]\n",
    "  prob_min_net_stoi += lpSum(species_weight_net_stoi[metabolite]*left_ns_col.T[metabolite] for metabolite in species)==0\n",
    "# constraint 2 (species_inclusion is less than or equal to mass of each species)\n",
    "for species in species_weight_net_stoi.keys():\n",
    "  prob_min_net_stoi += species_weight_net_stoi[species] <= species_inclusion_net_stoi[species]\n",
    "# constraint 3 designated metabolite nonzero\n",
    "prob_min_net_stoi += species_weight_net_stoi[target_met] >= TOLERANCE\n",
    "# solve problem\n",
    "prob_min_net_stoi.solve()\n",
    "print(\"Status:\", LpStatus[prob_min_net_stoi.status])\n",
    "included_met = []\n",
    "for v in prob_min_net_stoi.variables():\n",
    "  if (v.name[:3]==\"inc\") & (v.varValue==1):\n",
    "    included_met.append(v.name[8:])\n",
    "print(included_met)\n",
    "min_net_stoi_time_end = time.time()"
   ]
  },
  {
   "cell_type": "code",
   "execution_count": 19,
   "metadata": {},
   "outputs": [
    {
     "name": "stdout",
     "output_type": "stream",
     "text": [
      "Min Net Stoichiometry MILP time: 145.603002\n"
     ]
    }
   ],
   "source": [
    "min_net_stoi_time = min_net_stoi_time_end - min_net_stoi_time_begin \n",
    "print(\"Min Net Stoichiometry MILP time: %f\" % min_net_stoi_time)"
   ]
  },
  {
   "cell_type": "code",
   "execution_count": 20,
   "metadata": {},
   "outputs": [
    {
     "data": {
      "text/plain": [
       "580000"
      ]
     },
     "execution_count": 20,
     "metadata": {},
     "output_type": "execute_result"
    }
   ],
   "source": [
    "145 * 4000"
   ]
  },
  {
   "cell_type": "code",
   "execution_count": 14,
   "metadata": {},
   "outputs": [],
   "source": [
    "# prob_min_net_stoi"
   ]
  },
  {
   "cell_type": "code",
   "execution_count": 15,
   "metadata": {},
   "outputs": [
    {
     "name": "stdout",
     "output_type": "stream",
     "text": [
      "total time:\n",
      "1692.6930630207062\n"
     ]
    }
   ],
   "source": [
    "total_time_end = time.time()\n",
    "print(\"total time:\")\n",
    "print(total_time_end - total_time_begin)"
   ]
  },
  {
   "cell_type": "code",
   "execution_count": 16,
   "metadata": {},
   "outputs": [],
   "source": [
    "# nonzero_loc = mat.T[\"M_10fthf_c\"].to_numpy().nonzero()\n",
    "# mat.T[\"M_10fthf_c\"].iloc[nonzero_loc]"
   ]
  },
  {
   "cell_type": "code",
   "execution_count": 17,
   "metadata": {},
   "outputs": [
    {
     "name": "stdout",
     "output_type": "stream",
     "text": [
      "include_M_11docrtsl_c\n",
      "1.0\n",
      "include_M_4mptnl_c\n",
      "1.0\n",
      "include_M_s2l2n2m2m_l\n",
      "1.0\n",
      "weight_M_11docrtsl_c\n",
      "0.0001\n",
      "weight_M_4mptnl_c\n",
      "0.0001\n",
      "weight_M_s2l2n2m2m_l\n",
      "1.5071977e-05\n"
     ]
    }
   ],
   "source": [
    "for v in prob_min_net_stoi.variables():\n",
    "  if v.varValue != 0.0:\n",
    "    print(v.name)\n",
    "    print(v.varValue)"
   ]
  },
  {
   "cell_type": "code",
   "execution_count": 18,
   "metadata": {},
   "outputs": [
    {
     "data": {
      "text/plain": [
       "1"
      ]
     },
     "execution_count": 18,
     "metadata": {},
     "output_type": "execute_result"
    }
   ],
   "source": [
    "prob_min_net_stoi.status"
   ]
  },
  {
   "cell_type": "code",
   "execution_count": null,
   "metadata": {},
   "outputs": [],
   "source": []
  }
 ],
 "metadata": {
  "kernelspec": {
   "display_name": "Python 3",
   "language": "python",
   "name": "python3"
  },
  "language_info": {
   "codemirror_mode": {
    "name": "ipython",
    "version": 3
   },
   "file_extension": ".py",
   "mimetype": "text/x-python",
   "name": "python",
   "nbconvert_exporter": "python",
   "pygments_lexer": "ipython3",
   "version": "3.6.10"
  }
 },
 "nbformat": 4,
 "nbformat_minor": 4
}
