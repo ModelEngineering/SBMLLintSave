{
 "cells": [
  {
   "cell_type": "code",
   "execution_count": 1,
   "metadata": {},
   "outputs": [
    {
     "name": "stdout",
     "output_type": "stream",
     "text": [
      "Current Directory: /Users/woosubs/Desktop/ModelEngineering/SBMLLint/SBMLLint/notebooks\n"
     ]
    }
   ],
   "source": [
    "from games_setup import *\n",
    "from SBMLLint.common import constants as cn\n",
    "from SBMLLint.common.molecule import Molecule, MoleculeStoichiometry\n",
    "from SBMLLint.common.reaction import Reaction\n",
    "from SBMLLint.games.som import SOM\n",
    "from SBMLLint.common.simple_sbml import SimpleSBML\n",
    "\n",
    "import collections\n",
    "import copy\n",
    "import itertools\n",
    "import networkx as nx\n",
    "import numpy as np\n",
    "import pandas as pd\n",
    "#\n",
    "from SBMLLint.common.stoichiometry_matrix import StoichiometryMatrix\n",
    "from SBMLLint.games.mesgraph import MESGraph\n",
    "from SBMLLint.games.games_pp import GAMES_PP, SOMStoichiometry, SOMReaction, TOLERANCE\n",
    "from SBMLLint.games.games_report import GAMESReport, SimplifiedReaction"
   ]
  },
  {
   "cell_type": "code",
   "execution_count": 2,
   "metadata": {},
   "outputs": [
    {
     "name": "stdout",
     "output_type": "stream",
     "text": [
      "826\n"
     ]
    }
   ],
   "source": [
    "# model files that were not compatible with libsbml\n",
    "EXCEPTIONS = [\"BIOMD0000000094.xml\",\n",
    "              \"BIOMD0000000596.xml\",\n",
    "              \"BIOMD0000000786.xml\",\n",
    "              \"BIOMD0000000794.xml\",\n",
    "              \"BIOMD0000000830.xml\",\n",
    "             ]\n",
    "data_dir=cn.BIOMODELS_DIR\n",
    "files = [f for f in os.listdir(cn.BIOMODELS_DIR) if f[-4:] == \".xml\"]\n",
    "net_files = [f for f in files if f not in EXCEPTIONS]\n",
    "print(len(net_files))"
   ]
  },
  {
   "cell_type": "code",
   "execution_count": 3,
   "metadata": {},
   "outputs": [],
   "source": [
    "# model statistics columns\n",
    "MODEL_ID = \"model_id\"\n",
    "NUM_TOTAL_REACTIONS = \"num_total_reactions\"\n",
    "NUM_BDRY_REACTIONS = \"num_bdry_reactions\"\n",
    "NUM_UNIUNI_REACTIONS = \"num_uniuni_reactions\"\n",
    "NUM_UMMU_REACTIONS = \"num_ummu_reactions\"\n",
    "NUM_MULTIMULTI_REACTIONS = \"num_multimulti_reactions\"\n",
    "#"
   ]
  },
  {
   "cell_type": "code",
   "execution_count": 4,
   "metadata": {},
   "outputs": [
    {
     "name": "stdout",
     "output_type": "stream",
     "text": [
      "we are analyzing Model number: 100\n",
      "we are analyzing Model number: 200\n",
      "we are analyzing Model number: 300\n",
      "we are analyzing Model number: 400\n",
      "we are analyzing Model number: 500\n",
      "we are analyzing Model number: 600\n",
      "we are analyzing Model number: 700\n",
      "we are analyzing Model number: 800\n"
     ]
    }
   ],
   "source": [
    "# Checking all graphs \n",
    "count = 0\n",
    "simple = SimpleSBML()\n",
    "res_list = []\n",
    "false_errors = set()\n",
    "for file in net_files:\n",
    "  num_uniuni = 0\n",
    "  num_ummu = 0\n",
    "  num_multimulti = 0\n",
    "  num_bdry = 0\n",
    "  count += 1\n",
    "  if (count%100)==0:\n",
    "    print(\"we are analyzing Model number:\", count)\n",
    "  simple.initialize(os.path.join(data_dir, file))\n",
    "  num_dic = {cn.REACTION_1_1: 0,\n",
    "             cn.REACTION_1_n: 0,\n",
    "             cn.REACTION_n_1: 0,\n",
    "             cn.REACTION_n_n: 0,\n",
    "             cn.REACTION_BOUNDARY: 0\n",
    "            }  \n",
    "  for reaction in simple.reactions:\n",
    "    for category in num_dic.keys():\n",
    "      if reaction.category == category:\n",
    "        num_dic[category] += 1\n",
    "  res_dic = dict({MODEL_ID: file[:-4],\n",
    "                  NUM_TOTAL_REACTIONS: len(simple.reactions),\n",
    "                  NUM_BDRY_REACTIONS: num_dic[cn.REACTION_BOUNDARY],\n",
    "                  NUM_UNIUNI_REACTIONS: num_dic[cn.REACTION_1_1],\n",
    "                  NUM_UMMU_REACTIONS: num_dic[cn.REACTION_1_n] + num_dic[cn.REACTION_n_1],\n",
    "                  NUM_MULTIMULTI_REACTIONS: num_dic[cn.REACTION_n_n]})\n",
    "  total_reactions = res_dic[NUM_BDRY_REACTIONS] + res_dic[NUM_UNIUNI_REACTIONS] + res_dic[NUM_UMMU_REACTIONS] + res_dic[NUM_MULTIMULTI_REACTIONS]\n",
    "  if total_reactions != res_dic[NUM_TOTAL_REACTIONS]:\n",
    "    print(\"Error! The sum doens't match with model %s\" % file)\n",
    "  res_list.append(res_dic)"
   ]
  },
  {
   "cell_type": "code",
   "execution_count": 5,
   "metadata": {},
   "outputs": [
    {
     "data": {
      "text/html": [
       "<div>\n",
       "<style scoped>\n",
       "    .dataframe tbody tr th:only-of-type {\n",
       "        vertical-align: middle;\n",
       "    }\n",
       "\n",
       "    .dataframe tbody tr th {\n",
       "        vertical-align: top;\n",
       "    }\n",
       "\n",
       "    .dataframe thead th {\n",
       "        text-align: right;\n",
       "    }\n",
       "</style>\n",
       "<table border=\"1\" class=\"dataframe\">\n",
       "  <thead>\n",
       "    <tr style=\"text-align: right;\">\n",
       "      <th></th>\n",
       "      <th>model_id</th>\n",
       "      <th>num_total_reactions</th>\n",
       "      <th>num_bdry_reactions</th>\n",
       "      <th>num_uniuni_reactions</th>\n",
       "      <th>num_ummu_reactions</th>\n",
       "      <th>num_multimulti_reactions</th>\n",
       "    </tr>\n",
       "  </thead>\n",
       "  <tbody>\n",
       "    <tr>\n",
       "      <th>0</th>\n",
       "      <td>BIOMD0000000634</td>\n",
       "      <td>112</td>\n",
       "      <td>0</td>\n",
       "      <td>24</td>\n",
       "      <td>37</td>\n",
       "      <td>51</td>\n",
       "    </tr>\n",
       "    <tr>\n",
       "      <th>1</th>\n",
       "      <td>BIOMD0000000152</td>\n",
       "      <td>120</td>\n",
       "      <td>0</td>\n",
       "      <td>5</td>\n",
       "      <td>115</td>\n",
       "      <td>0</td>\n",
       "    </tr>\n",
       "    <tr>\n",
       "      <th>2</th>\n",
       "      <td>BIOMD0000000146</td>\n",
       "      <td>34</td>\n",
       "      <td>0</td>\n",
       "      <td>25</td>\n",
       "      <td>9</td>\n",
       "      <td>0</td>\n",
       "    </tr>\n",
       "    <tr>\n",
       "      <th>3</th>\n",
       "      <td>BIOMD0000000620</td>\n",
       "      <td>20</td>\n",
       "      <td>20</td>\n",
       "      <td>0</td>\n",
       "      <td>0</td>\n",
       "      <td>0</td>\n",
       "    </tr>\n",
       "    <tr>\n",
       "      <th>4</th>\n",
       "      <td>BIOMD0000000608</td>\n",
       "      <td>140</td>\n",
       "      <td>44</td>\n",
       "      <td>15</td>\n",
       "      <td>45</td>\n",
       "      <td>36</td>\n",
       "    </tr>\n",
       "  </tbody>\n",
       "</table>\n",
       "</div>"
      ],
      "text/plain": [
       "          model_id  num_total_reactions  num_bdry_reactions  \\\n",
       "0  BIOMD0000000634                  112                   0   \n",
       "1  BIOMD0000000152                  120                   0   \n",
       "2  BIOMD0000000146                   34                   0   \n",
       "3  BIOMD0000000620                   20                  20   \n",
       "4  BIOMD0000000608                  140                  44   \n",
       "\n",
       "   num_uniuni_reactions  num_ummu_reactions  num_multimulti_reactions  \n",
       "0                    24                  37                        51  \n",
       "1                     5                 115                         0  \n",
       "2                    25                   9                         0  \n",
       "3                     0                   0                         0  \n",
       "4                    15                  45                        36  "
      ]
     },
     "execution_count": 5,
     "metadata": {},
     "output_type": "execute_result"
    }
   ],
   "source": [
    "res_df = pd.DataFrame(res_list)\n",
    "res_df.head()"
   ]
  },
  {
   "cell_type": "code",
   "execution_count": 6,
   "metadata": {},
   "outputs": [
    {
     "data": {
      "text/plain": [
       "826"
      ]
     },
     "execution_count": 6,
     "metadata": {},
     "output_type": "execute_result"
    }
   ],
   "source": [
    "len(res_df[NUM_TOTAL_REACTIONS])"
   ]
  },
  {
   "cell_type": "code",
   "execution_count": 7,
   "metadata": {},
   "outputs": [],
   "source": [
    "def printNumStatistics(category=NUM_UNIUNI_REACTIONS, df=res_df):\n",
    "  category_num = res_df[category]\n",
    "  denom = res_df[NUM_TOTAL_REACTIONS]\n",
    "  n_models = len(denom)\n",
    "  print(\"Average number of %s: %.01f\" % (category, np.mean(category_num))\n",
    "       )\n",
    "  print(\"se Number of %s: %.01f\" % (category,\n",
    "                                 np.std(category_num) / np.sqrt(n_models)\n",
    "                                )\n",
    "       )\n",
    "  print(\"Average fraction of %s: %.03f\" % (category,\n",
    "                                       np.mean( category_num/denom )\n",
    "                                       )\n",
    "       )\n",
    "  print(\"se of fraction, %s: %.02f\" % (category,\n",
    "                                    np.std(category_num/denom) / np.sqrt(n_models)\n",
    "                                   )\n",
    "       )"
   ]
  },
  {
   "cell_type": "code",
   "execution_count": 8,
   "metadata": {},
   "outputs": [
    {
     "name": "stdout",
     "output_type": "stream",
     "text": [
      "Average number of num_uniuni_reactions: 10.6\n",
      "se Number of num_uniuni_reactions: 1.4\n",
      "Average fraction of num_uniuni_reactions: 0.326\n",
      "se of fraction, num_uniuni_reactions: 0.01\n"
     ]
    }
   ],
   "source": [
    "printNumStatistics(category=NUM_UNIUNI_REACTIONS)"
   ]
  },
  {
   "cell_type": "code",
   "execution_count": 9,
   "metadata": {},
   "outputs": [
    {
     "name": "stdout",
     "output_type": "stream",
     "text": [
      "Average number of num_ummu_reactions: 11.6\n",
      "se Number of num_ummu_reactions: 1.7\n",
      "Average fraction of num_ummu_reactions: 0.217\n",
      "se of fraction, num_ummu_reactions: 0.01\n"
     ]
    }
   ],
   "source": [
    "printNumStatistics(category=NUM_UMMU_REACTIONS)"
   ]
  },
  {
   "cell_type": "code",
   "execution_count": 10,
   "metadata": {},
   "outputs": [
    {
     "name": "stdout",
     "output_type": "stream",
     "text": [
      "Average number of num_multimulti_reactions: 4.0\n",
      "se Number of num_multimulti_reactions: 0.8\n",
      "Average fraction of num_multimulti_reactions: 0.079\n",
      "se of fraction, num_multimulti_reactions: 0.01\n"
     ]
    }
   ],
   "source": [
    "printNumStatistics(category=NUM_MULTIMULTI_REACTIONS)"
   ]
  },
  {
   "cell_type": "code",
   "execution_count": 11,
   "metadata": {},
   "outputs": [
    {
     "name": "stdout",
     "output_type": "stream",
     "text": [
      "Average number of num_bdry_reactions: 6.4\n",
      "se Number of num_bdry_reactions: 0.4\n",
      "Average fraction of num_bdry_reactions: 0.378\n",
      "se of fraction, num_bdry_reactions: 0.01\n"
     ]
    }
   ],
   "source": [
    "printNumStatistics(category=NUM_BDRY_REACTIONS)"
   ]
  },
  {
   "cell_type": "code",
   "execution_count": 12,
   "metadata": {},
   "outputs": [
    {
     "name": "stdout",
     "output_type": "stream",
     "text": [
      "Average number of num_total_reactions: 32.6\n",
      "se Number of num_total_reactions: 2.9\n",
      "Average fraction of num_total_reactions: 1.000\n",
      "se of fraction, num_total_reactions: 0.00\n"
     ]
    }
   ],
   "source": [
    "printNumStatistics(category=NUM_TOTAL_REACTIONS)"
   ]
  },
  {
   "cell_type": "code",
   "execution_count": 13,
   "metadata": {},
   "outputs": [
    {
     "data": {
      "text/plain": [
       "1.0"
      ]
     },
     "execution_count": 13,
     "metadata": {},
     "output_type": "execute_result"
    }
   ],
   "source": [
    "0.326 + 0.217 + 0.079 + 0.378"
   ]
  },
  {
   "cell_type": "code",
   "execution_count": 14,
   "metadata": {},
   "outputs": [
    {
     "name": "stdout",
     "output_type": "stream",
     "text": [
      "Number of models with no boundary reactions 383\n"
     ]
    }
   ],
   "source": [
    "print(\"Number of models with no boundary reactions\", len(res_df[res_df[NUM_BDRY_REACTIONS]==0]))"
   ]
  },
  {
   "cell_type": "code",
   "execution_count": 15,
   "metadata": {},
   "outputs": [
    {
     "name": "stdout",
     "output_type": "stream",
     "text": [
      "Number of models with no uniuni reactions 280\n"
     ]
    }
   ],
   "source": [
    "print(\"Number of models with no uniuni reactions\", len(res_df[res_df[NUM_UNIUNI_REACTIONS]==0]))"
   ]
  },
  {
   "cell_type": "code",
   "execution_count": 16,
   "metadata": {},
   "outputs": [
    {
     "name": "stdout",
     "output_type": "stream",
     "text": [
      "Number of models with no multimulti reactions 655\n"
     ]
    }
   ],
   "source": [
    "print(\"Number of models with no multimulti reactions\", len(res_df[res_df[NUM_MULTIMULTI_REACTIONS]==0]))"
   ]
  },
  {
   "cell_type": "code",
   "execution_count": 17,
   "metadata": {},
   "outputs": [
    {
     "name": "stdout",
     "output_type": "stream",
     "text": [
      "Number of models with no UMMU reactions 417\n"
     ]
    }
   ],
   "source": [
    "print(\"Number of models with no UMMU reactions\", len(res_df[res_df[NUM_UMMU_REACTIONS]==0]))"
   ]
  },
  {
   "cell_type": "code",
   "execution_count": null,
   "metadata": {},
   "outputs": [],
   "source": []
  }
 ],
 "metadata": {
  "kernelspec": {
   "display_name": "Python 3",
   "language": "python",
   "name": "python3"
  },
  "language_info": {
   "codemirror_mode": {
    "name": "ipython",
    "version": 3
   },
   "file_extension": ".py",
   "mimetype": "text/x-python",
   "name": "python",
   "nbconvert_exporter": "python",
   "pygments_lexer": "ipython3",
   "version": "3.6.10"
  }
 },
 "nbformat": 4,
 "nbformat_minor": 4
}
