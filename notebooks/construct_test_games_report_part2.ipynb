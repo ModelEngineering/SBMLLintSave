{
 "cells": [
  {
   "cell_type": "code",
   "execution_count": 1,
   "metadata": {},
   "outputs": [],
   "source": [
    "#from games_setup import *\n",
    "import init\n",
    "from SBMLLint.common import constants as cn\n",
    "from SBMLLint.common.molecule import Molecule, MoleculeStoichiometry\n",
    "from SBMLLint.common.reaction import Reaction\n",
    "from SBMLLint.games.som import SOM\n",
    "from SBMLLint.common.simple_sbml import SimpleSBML\n",
    "\n",
    "import collections\n",
    "import itertools\n",
    "import networkx as nx\n",
    "import numpy as np\n",
    "import os\n",
    "import pandas as pd\n",
    "#\n",
    "from SBMLLint.common.stoichiometry_matrix import StoichiometryMatrix\n",
    "from SBMLLint.games.mesgraph import MESGraph\n",
    "from SBMLLint.games.games_pp import GAMES_PP, SOMStoichiometry, SOMReaction, TOLERANCE\n",
    "from SBMLLint.games.games_report import GAMESReport, SimplifiedReaction\n",
    "NULL_STR = \"\"\n",
    "ReactionOperation = collections.namedtuple(\"ReactionOperation\", \n",
    "    \"reaction operation\")\n",
    "STATPHOSPHORYLATION = \"statPhosphorylation\"\n",
    "PSTATDIMERISATION = \"PstatDimerisation\"\n",
    "PSTATDIMERISATIONNUC = \"PstatDimerisationNuc\"\n",
    "SPECIES_TEST = \"species_test\"\n",
    "PSTAT_SOL = \"Pstat_sol\"\n",
    "PSTATDIMER_NUC = \"PstatDimer_nuc\"\n",
    "PSTAT_NUC = \"Pstat_nuc\"\n",
    "STAT_SOL = \"stat_sol\"\n",
    "PSTATDIMER_SOL = \"PstatDimer_sol\""
   ]
  },
  {
   "cell_type": "code",
   "execution_count": 2,
   "metadata": {},
   "outputs": [],
   "source": [
    "PREFIX = \"BIOMD0000000\"\n",
    "\n",
    "def load_file_from_curated_data(num):\n",
    "\n",
    "  format_num = format(num, '03d')\n",
    "  filename = \"%s%s_url.xml\" % (PREFIX, format_num)\n",
    "  path = os.path.join(cn.BIOMODELS_DIR, filename)\n",
    "  simple = SimpleSBML()\n",
    "  simple.initialize(path)\n",
    "  return simple"
   ]
  },
  {
   "cell_type": "code",
   "execution_count": 3,
   "metadata": {},
   "outputs": [
    {
     "name": "stdout",
     "output_type": "stream",
     "text": [
      "We just analyzed the data...\n",
      "Type I error:  []\n",
      "Type II error:  []\n",
      "Canceling error:  []\n",
      "Echelon error:  [statPhosphorylation:  -> {species_test}]\n",
      "Type III error:  [PstatDimerisation: 2.00 {Pstat_sol} -> 2.00 {Pstat_nuc=stat_nuc=stat_sol}]\n"
     ]
    }
   ],
   "source": [
    "simple = load_file_from_curated_data(167)\n",
    "m = GAMES_PP(simple)\n",
    "m.analyze()\n",
    "gr = GAMESReport(m)"
   ]
  },
  {
   "cell_type": "code",
   "execution_count": 4,
   "metadata": {},
   "outputs": [
    {
     "name": "stdout",
     "output_type": "stream",
     "text": [
      "\n",
      "We detected a mass imbalance\n",
      ":  -> species_test\n",
      "\n",
      "from the following isolation set.\n",
      "\n",
      "1. statPhosphorylation: stat_sol -> Pstat_sol + species_test\n",
      "2. PstatDimerisation: 2.00 Pstat_sol -> PstatDimer_sol\n",
      "3. PstatDimerisationNuc: 2.00 Pstat_nuc -> PstatDimer_nuc\n",
      "\n",
      "----------------------------------------------------------------------\n",
      "----------------------------------------------------------------------\n",
      "\n",
      "These uni-uni reactions created mass-equivalence.\n",
      "(The chemical species within a curly bracket have the same atomic mass.)\n",
      "\n",
      "{Pstat_nuc=stat_nuc=stat_sol} is inferred by:\n",
      "4. statDephosphorylation: Pstat_nuc -> stat_nuc\n",
      "5. stat_export: stat_sol -> stat_nuc\n",
      "\n",
      "{PstatDimer_nuc=PstatDimer_sol} is inferred by:\n",
      "6. PstatDimer__import: PstatDimer_sol -> PstatDimer_nuc\n",
      "\n",
      "----------------------------------------------------------------------\n",
      "\n",
      "Based on the uni-uni reactions above, we create mass-equivalent pseudo reactions.\n",
      "\n",
      "(pseudo 1.) statPhosphorylation: {Pstat_nuc=stat_nuc=stat_sol} -> {species_test} + {Pstat_sol}\n",
      "(pseudo 2.) PstatDimerisation: 2.00 {Pstat_sol} -> {PstatDimer_nuc=PstatDimer_sol}\n",
      "(pseudo 3.) PstatDimerisationNuc: 2.00 {Pstat_nuc=stat_nuc=stat_sol} -> {PstatDimer_nuc=PstatDimer_sol}\n",
      "\n",
      "----------------------------------------------------------------------\n",
      "\n",
      "An operation between the pseudo reactions:\n",
      "1.00 * statPhosphorylation + 0.50 * PstatDimerisation - 0.50 * PstatDimerisationNuc\n",
      "\n",
      "will result in empty reactant with zero mass:\n",
      "\n",
      ":  -> {species_test}\n",
      "\n",
      "\n",
      "----------------------------------------------------------------------\n",
      "\n",
      "----------------------------------------------------------------------\n",
      "\n",
      "\n",
      "\n",
      "**********************************************************************\n",
      "\n",
      "\n"
     ]
    }
   ],
   "source": [
    "report, error_num = gr.reportEchelonError(m.echelon_errors, explain_details=True)\n",
    "print(report)"
   ]
  },
  {
   "cell_type": "code",
   "execution_count": 5,
   "metadata": {},
   "outputs": [],
   "source": [
    "# the following creates a text file to save the results. \n",
    "report_output = open(\"echelon_report2.txt\",\"w+\")"
   ]
  },
  {
   "cell_type": "code",
   "execution_count": 6,
   "metadata": {},
   "outputs": [],
   "source": [
    "for word in report:\n",
    "     report_output.write(word)\n",
    "report_output.close()"
   ]
  },
  {
   "cell_type": "code",
   "execution_count": 14,
   "metadata": {},
   "outputs": [
    {
     "name": "stdout",
     "output_type": "stream",
     "text": [
      "True\n"
     ]
    }
   ],
   "source": [
    "extended_report = NULL_STR\n",
    "extended_report = extended_report + \"will result in empty reactant with zero mass:\\n\\n:  -> {species_test}\\n\\n\"\n",
    "extended_report = extended_report + \"\\n----------------------------------------------------------------------\\n\"\n",
    "extended_report = extended_report + \"\\n----------------------------------------------------------------------\\n\\n\"\n",
    "extended_report = extended_report + \"\\n\\n**********************************************************************\\n\\n\"\n",
    "print(report[-288:] == extended_report)"
   ]
  },
  {
   "cell_type": "code",
   "execution_count": 35,
   "metadata": {},
   "outputs": [
    {
     "name": "stdout",
     "output_type": "stream",
     "text": [
      "6. statPhosphorylation: stat_sol -> Pstat_sol + species_test\n",
      "(pseudo 6.) statPhosphorylation: {Pstat_nuc=stat_nuc=stat_sol} -> {Pstat_sol} + {species_test}\n",
      "%%%\n",
      "the masses of {Pstat_sol} and {Pstat_nuc=stat_nuc=stat_sol} are unequal.\n"
     ]
    }
   ],
   "source": [
    "report, error_num = gr.reportTypeThreeError(m.type_three_errors, explain_details=True)\n",
    "print(report[-460:-305])\n",
    "print(\"%%%\")\n",
    "print(report[-293:-221])"
   ]
  },
  {
   "cell_type": "code",
   "execution_count": 6,
   "metadata": {},
   "outputs": [
    {
     "data": {
      "text/plain": [
       "'We detected a mass imbalance from the following reactions:\\n\\n1. PstatDimerisation: 2.00 Pstat_sol -> PstatDimer_sol\\n2. PstatDimerisationNuc: 2.00 Pstat_nuc -> PstatDimer_nucWe detected a mass imbalance from the following reactions:\\n\\n1. PstatDimerisation: 2.00 Pstat_sol -> PstatDimer_sol\\n2. PstatDimerisationNuc: 2.00 Pstat_nuc -> PstatDimer_nuc\\n\\n----------------------------------------------------------------------\\n----------------------------------------------------------------------\\n\\nThese uni-uni reactions created mass-equivalence.\\n(The chemical species within a curly bracket have the same atomic mass.)\\n\\n{Pstat_nuc=stat_nuc=stat_sol} is inferred by:\\n3. stat_export: stat_sol -> stat_nuc\\n4. statDephosphorylation: Pstat_nuc -> stat_nuc\\n\\n{PstatDimer_nuc=PstatDimer_sol} is inferred by:\\n5. PstatDimer__import: PstatDimer_sol -> PstatDimer_nuc\\n\\n\\n----------------------------------------------------------------------\\n\\nThese multi-uni (uni-multi) reactions created mass-inequality.\\n\\n6. statPhosphorylation: stat_sol -> Pstat_sol + species_test\\n\\n----------------------------------------------------------------------\\n\\nBased on the reactions above, we have mass-equivalent pseudo reactions.\\n\\n(pseudo 1.) PstatDimerisation: 2.00 {Pstat_sol} -> {PstatDimer_nuc=PstatDimer_sol}\\n(pseudo 2.) PstatDimerisationNuc: 2.00 {Pstat_nuc=stat_nuc=stat_sol} -> {PstatDimer_nuc=PstatDimer_sol}\\n\\n----------------------------------------------------------------------\\n\\nAn operation between pseudo reactions:\\n\\n1.00 * PstatDimerisation - 1.00 * PstatDimerisationNuc\\n\\n\\nwill result in a uni-uni reaction:\\n\\n: 2.00 {Pstat_sol} -> 2.00 {Pstat_nuc=stat_nuc=stat_sol}\\n\\n\\nmeaning {Pstat_sol} and {Pstat_nuc=stat_nuc=stat_sol} have equal mass.\\n\\n\\n----------------------------------------------------------------------\\n\\nHowever, the following mass-equivalent pseudo reaction(s):\\n\\n6. statPhosphorylation: stat_sol -> Pstat_sol + species_test\\n(pseudo 6.) statPhosphorylation: {Pstat_nuc=stat_nuc=stat_sol} -> {species_test} + {Pstat_sol}\\n\\nincidates the masses of {Pstat_sol} and {Pstat_nuc=stat_nuc=stat_sol} are unequal.\\n\\n\\n----------------------------------------------------------------------\\n\\n----------------------------------------------------------------------\\n\\n\\n\\n**********************************************************************\\n\\n'"
      ]
     },
     "execution_count": 6,
     "metadata": {},
     "output_type": "execute_result"
    }
   ],
   "source": [
    "report"
   ]
  },
  {
   "cell_type": "code",
   "execution_count": null,
   "metadata": {},
   "outputs": [],
   "source": []
  }
 ],
 "metadata": {
  "kernelspec": {
   "display_name": "Python 3",
   "language": "python",
   "name": "python3"
  },
  "language_info": {
   "codemirror_mode": {
    "name": "ipython",
    "version": 3
   },
   "file_extension": ".py",
   "mimetype": "text/x-python",
   "name": "python",
   "nbconvert_exporter": "python",
   "pygments_lexer": "ipython3",
   "version": "3.6.9"
  }
 },
 "nbformat": 4,
 "nbformat_minor": 4
}
