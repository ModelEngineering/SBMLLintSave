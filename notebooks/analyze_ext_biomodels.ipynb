{
 "cells": [
  {
   "cell_type": "code",
   "execution_count": 1,
   "metadata": {},
   "outputs": [],
   "source": [
    "import init\n",
    "from SBMLLint.common import constants as cn\n",
    "from SBMLLint.common.molecule import Molecule, MoleculeStoichiometry\n",
    "from SBMLLint.common import simple_sbml\n",
    "from SBMLLint.common.reaction import Reaction\n",
    "from SBMLLint.tools import sbmllint\n",
    "from SBMLLint.tools import print_reactions\n",
    "\n",
    "import os\n",
    "import numpy as np\n",
    "import pandas as pd\n",
    "import matplotlib.pyplot as plt"
   ]
  },
  {
   "cell_type": "code",
   "execution_count": 2,
   "metadata": {},
   "outputs": [
    {
     "name": "stdout",
     "output_type": "stream",
     "text": [
      "Current Directory: /Users/woosubs/Desktop/ModelEngineering/SBMLLint/SBMLLint/notebook\n"
     ]
    }
   ],
   "source": [
    "from games_setup import *\n",
    "from SBMLLint.common import constants as cn\n",
    "from SBMLLint.common.simple_sbml import SimpleSBML\n",
    "from SBMLLint.common.stoichiometry_matrix import StoichiometryMatrix\n",
    "\n",
    "from SBMLLint.games.som import SOM\n",
    "from SBMLLint.games.games_pp import GAMES_PP, SOMStoichiometry, SOMReaction, TOLERANCE\n",
    "from SBMLLint.games.games_report import GAMESReport, SimplifiedReaction\n",
    "import matplotlib.pyplot as plt\n",
    "%matplotlib inline\n",
    "import time\n",
    "from scipy.linalg import lu, inv"
   ]
  },
  {
   "cell_type": "code",
   "execution_count": 3,
   "metadata": {},
   "outputs": [
    {
     "data": {
      "text/plain": [
       "831"
      ]
     },
     "execution_count": 3,
     "metadata": {},
     "output_type": "execute_result"
    }
   ],
   "source": [
    "data_dir = '/Users/woosubs/Desktop/ModelEngineering/ext_biomodels'\n",
    "# we can remove EXCEPTIONS from files, as they are not loaded by simpleSBML\n",
    "files = [f for f in os.listdir(data_dir) if f[-4:] == \".xml\"]\n",
    "len(files)"
   ]
  },
  {
   "cell_type": "code",
   "execution_count": 4,
   "metadata": {},
   "outputs": [
    {
     "data": {
      "text/html": [
       "<div>\n",
       "<style scoped>\n",
       "    .dataframe tbody tr th:only-of-type {\n",
       "        vertical-align: middle;\n",
       "    }\n",
       "\n",
       "    .dataframe tbody tr th {\n",
       "        vertical-align: top;\n",
       "    }\n",
       "\n",
       "    .dataframe thead th {\n",
       "        text-align: right;\n",
       "    }\n",
       "</style>\n",
       "<table border=\"1\" class=\"dataframe\">\n",
       "  <thead>\n",
       "    <tr style=\"text-align: right;\">\n",
       "      <th></th>\n",
       "      <th>num_reactions(nonbdry)</th>\n",
       "      <th>lp_error</th>\n",
       "      <th>games_error</th>\n",
       "      <th>gamespp_error</th>\n",
       "      <th>type1_error</th>\n",
       "      <th>type2_error</th>\n",
       "      <th>canceling_error</th>\n",
       "      <th>echelon_error</th>\n",
       "      <th>type3_error</th>\n",
       "    </tr>\n",
       "  </thead>\n",
       "  <tbody>\n",
       "    <tr>\n",
       "      <th>BIOMD0000000634.xml</th>\n",
       "      <td>0</td>\n",
       "      <td>0</td>\n",
       "      <td>0</td>\n",
       "      <td>0</td>\n",
       "      <td>0</td>\n",
       "      <td>0</td>\n",
       "      <td>0</td>\n",
       "      <td>0</td>\n",
       "      <td>0</td>\n",
       "    </tr>\n",
       "    <tr>\n",
       "      <th>BIOMD0000000152.xml</th>\n",
       "      <td>0</td>\n",
       "      <td>0</td>\n",
       "      <td>0</td>\n",
       "      <td>0</td>\n",
       "      <td>0</td>\n",
       "      <td>0</td>\n",
       "      <td>0</td>\n",
       "      <td>0</td>\n",
       "      <td>0</td>\n",
       "    </tr>\n",
       "    <tr>\n",
       "      <th>BIOMD0000000146.xml</th>\n",
       "      <td>0</td>\n",
       "      <td>0</td>\n",
       "      <td>0</td>\n",
       "      <td>0</td>\n",
       "      <td>0</td>\n",
       "      <td>0</td>\n",
       "      <td>0</td>\n",
       "      <td>0</td>\n",
       "      <td>0</td>\n",
       "    </tr>\n",
       "    <tr>\n",
       "      <th>BIOMD0000000620.xml</th>\n",
       "      <td>0</td>\n",
       "      <td>0</td>\n",
       "      <td>0</td>\n",
       "      <td>0</td>\n",
       "      <td>0</td>\n",
       "      <td>0</td>\n",
       "      <td>0</td>\n",
       "      <td>0</td>\n",
       "      <td>0</td>\n",
       "    </tr>\n",
       "    <tr>\n",
       "      <th>BIOMD0000000608.xml</th>\n",
       "      <td>0</td>\n",
       "      <td>0</td>\n",
       "      <td>0</td>\n",
       "      <td>0</td>\n",
       "      <td>0</td>\n",
       "      <td>0</td>\n",
       "      <td>0</td>\n",
       "      <td>0</td>\n",
       "      <td>0</td>\n",
       "    </tr>\n",
       "  </tbody>\n",
       "</table>\n",
       "</div>"
      ],
      "text/plain": [
       "                     num_reactions(nonbdry)  lp_error  games_error  \\\n",
       "BIOMD0000000634.xml                       0         0            0   \n",
       "BIOMD0000000152.xml                       0         0            0   \n",
       "BIOMD0000000146.xml                       0         0            0   \n",
       "BIOMD0000000620.xml                       0         0            0   \n",
       "BIOMD0000000608.xml                       0         0            0   \n",
       "\n",
       "                     gamespp_error  type1_error  type2_error  canceling_error  \\\n",
       "BIOMD0000000634.xml              0            0            0                0   \n",
       "BIOMD0000000152.xml              0            0            0                0   \n",
       "BIOMD0000000146.xml              0            0            0                0   \n",
       "BIOMD0000000620.xml              0            0            0                0   \n",
       "BIOMD0000000608.xml              0            0            0                0   \n",
       "\n",
       "                     echelon_error  type3_error  \n",
       "BIOMD0000000634.xml              0            0  \n",
       "BIOMD0000000152.xml              0            0  \n",
       "BIOMD0000000146.xml              0            0  \n",
       "BIOMD0000000620.xml              0            0  \n",
       "BIOMD0000000608.xml              0            0  "
      ]
     },
     "execution_count": 4,
     "metadata": {},
     "output_type": "execute_result"
    }
   ],
   "source": [
    "# data frame structure\n",
    "# statistics columns\n",
    "NUM_REACTIONS = \"num_reactions(nonbdry)\"\n",
    "LP_ERROR = \"lp_error\"\n",
    "GAMES_ERROR = \"games_error\"\n",
    "GAMESPP_ERROR = \"gamespp_error\"\n",
    "TYPEI_ERROR = \"type1_error\"\n",
    "TYPEII_ERROR = \"type2_error\"\n",
    "CANCELING_ERROR = \"canceling_error\"\n",
    "ECHELON_ERROR = \"echelon_error\"\n",
    "TYPEIII_ERROR = \"type3_error\"\n",
    "result_columns = [NUM_REACTIONS,\n",
    "                  LP_ERROR,\n",
    "                  GAMES_ERROR,\n",
    "                  GAMESPP_ERROR,\n",
    "                  TYPEI_ERROR,\n",
    "                  TYPEII_ERROR,\n",
    "                  CANCELING_ERROR,\n",
    "                  ECHELON_ERROR,\n",
    "                  TYPEIII_ERROR]\n",
    "results = pd.DataFrame(0, index=files, columns=result_columns)\n",
    "results[:5]"
   ]
  },
  {
   "cell_type": "code",
   "execution_count": 5,
   "metadata": {},
   "outputs": [],
   "source": [
    "# cannot be initialized by simpleSBML; bad antimony string\n",
    "EXCEPTIONS = [\"BIOMD0000000146_url.xml\",\n",
    "              \"BIOMD0000000152_url.xml\",\n",
    "              \"BIOMD0000000608_url.xml\",\n",
    "              \"BIOMD0000000620_url.xml\",\n",
    "              \"BIOMD0000000634_url.xml\",\n",
    "             ]\n",
    "\n",
    "# simple.initialize(os.path.join(data_dir, EXCEPTIONS[4]))\n",
    "# s = StoichiometryMatrix(simple)\n",
    "# num_reactions = s.stoichiometry_matrix.shape[1]\n",
    "# results.at[file, NUM_REACTIONS] = num_reactions\n",
    "# if num_reactions:\n",
    "#   consistent = s.isConsistent()"
   ]
  },
  {
   "cell_type": "code",
   "execution_count": 6,
   "metadata": {},
   "outputs": [
    {
     "data": {
      "text/plain": [
       "'BIOMD0000000634.xml'"
      ]
     },
     "execution_count": 6,
     "metadata": {},
     "output_type": "execute_result"
    }
   ],
   "source": [
    "files[0]"
   ]
  },
  {
   "cell_type": "code",
   "execution_count": 7,
   "metadata": {},
   "outputs": [
    {
     "data": {
      "text/plain": [
       "'634'"
      ]
     },
     "execution_count": 7,
     "metadata": {},
     "output_type": "execute_result"
    }
   ],
   "source": [
    "files[0][-7:-4]"
   ]
  },
  {
   "cell_type": "code",
   "execution_count": 8,
   "metadata": {},
   "outputs": [
    {
     "name": "stdout",
     "output_type": "stream",
     "text": [
      "Model analyzed...\n",
      "Type I error:  [PathComponents(node1='IkBa_mRNA', node2='IkBa_mRNA', reactions=['tsl_a']), PathComponents(node1='IkBb_mRNA', node2='IkBb_mRNA', reactions=['tsl_b']), PathComponents(node1='IkBe_mRNA', node2='IkBe_mRNA', reactions=['tsl_e']), PathComponents(node1='IKK', node2='IkBaIKK', reactions=['int_ai']), PathComponents(node1='NFkB_cytoplasm', node2='IkBaNFkB_cytoplasm', reactions=['int_an']), PathComponents(node1='NFkB_nucleus', node2='IkBaNFkB_nucleus', reactions=['int_an_n']), PathComponents(node1='NFkB_nucleus', node2='IkBbNFkB_nucleus', reactions=['int_bn_n']), PathComponents(node1='NFkB_cytoplasm', node2='IkBbNFkB_cytoplasm', reactions=['int_bn']), PathComponents(node1='IKK', node2='IkBbIKK', reactions=['int_bi']), PathComponents(node1='IKK', node2='IkBeIKK', reactions=['int_ei']), PathComponents(node1='NFkB_cytoplasm', node2='IkBeNFkB_cytoplasm', reactions=['int_en']), PathComponents(node1='NFkB_nucleus', node2='IkBeNFkB_nucleus', reactions=['int_en_n'])]\n",
      "Type II error:  []\n",
      "Canceling error:  []\n",
      "Echelon error:  []\n",
      "Type III error:  [] \n",
      "\n",
      "At least one error found.\n",
      "\n"
     ]
    }
   ],
   "source": [
    "simple = SimpleSBML()\n",
    "model_147 = [x for x in files if x[-7:-4] == '147'][0]\n",
    "simple.initialize(os.path.join(data_dir, model_147))\n",
    "m = GAMES_PP(simple)\n",
    "res = m.analyze(simple_games=False, error_details=True, suppress_message=False)"
   ]
  },
  {
   "cell_type": "code",
   "execution_count": 17,
   "metadata": {},
   "outputs": [
    {
     "name": "stdout",
     "output_type": "stream",
     "text": [
      "tsl_a: IkBa_mRNA -> IkBa_mRNA + IkBa_cytoplasm; nucleus * tr1a * IkBa_mRNA\n",
      "int_ai: IkBa_cytoplasm + IKK -> IkBaIKK; cytoplasm * (a1 * IkBa_cytoplasm * IKK - d1_1 * IkBaIKK)\n",
      "int_an: IkBa_cytoplasm + NFkB_cytoplasm -> IkBaNFkB_cytoplasm; cytoplasm * (a4_1 * IkBa_cytoplasm * NFkB_cytoplasm - d4_1 * IkBaNFkB_cytoplasm)\n",
      "int_an_n: IkBa_nucleus + NFkB_nucleus -> IkBaNFkB_nucleus; nucleus * (a4_2 * IkBa_nucleus * NFkB_nucleus - d4_2 * IkBaNFkB_nucleus)\n",
      "int_2ani: IkBaNFkB_cytoplasm + IKK -> IkBaIKKNFkB; cytoplasm * (a7 * IkBaNFkB_cytoplasm * IKK - d1_2 * IkBaIKKNFkB)\n",
      "int_2ain: IkBaIKK + NFkB_cytoplasm -> IkBaIKKNFkB; cytoplasm * (a4_3 * IkBaIKK * NFkB_cytoplasm - d4_3 * IkBaIKKNFkB)\n",
      "deg_an_n: IkBaNFkB_nucleus -> NFkB_nucleus; nucleus * deg4_n * IkBaNFkB_nucleus\n",
      "deg_an: IkBaNFkB_cytoplasm -> NFkB_cytoplasm; cytoplasm * deg4_c * IkBaNFkB_cytoplasm\n",
      "deg_ai: IkBaIKK -> IKK; cytoplasm * r1 * IkBaIKK\n",
      "deg_ain: IkBaIKKNFkB -> NFkB_cytoplasm + IKK; cytoplasm * r4 * IkBaIKKNFkB\n",
      "loc_a: IkBa_cytoplasm -> IkBa_nucleus; cytoplasm * tp1a * IkBa_cytoplasm - nucleus * tp2a * IkBa_nucleus\n",
      "loc_an: IkBaNFkB_nucleus -> IkBaNFkB_cytoplasm; nucleus * k2_a * IkBaNFkB_nucleus\n",
      "loc_bn: IkBbNFkB_nucleus -> IkBbNFkB_cytoplasm; nucleus * k2_b * IkBbNFkB_nucleus\n",
      "loc_b: IkBb_cytoplasm -> IkBb_nucleus; cytoplasm * tp1b * IkBb_cytoplasm - nucleus * tp2b * IkBb_nucleus\n",
      "deg_bin: IkBbIKKNFkB -> NFkB_cytoplasm + IKK; cytoplasm * r5 * IkBbIKKNFkB\n",
      "deg_bi: IkBbIKK -> IKK; cytoplasm * r2 * IkBbIKK\n",
      "deg_bn: IkBbNFkB_cytoplasm -> NFkB_cytoplasm; cytoplasm * deg5_c * IkBbNFkB_cytoplasm\n",
      "deg_bn_n: IkBbNFkB_nucleus -> NFkB_nucleus; nucleus * deg5_n * IkBbNFkB_nucleus\n",
      "int_2bin: IkBbIKK + NFkB_cytoplasm -> IkBbIKKNFkB; cytoplasm * (a5_3 * IkBbIKK * NFkB_cytoplasm - d5_3 * IkBbIKKNFkB)\n",
      "int_2bni: IkBbNFkB_cytoplasm + IKK -> IkBbIKKNFkB; cytoplasm * (a8 * IkBbNFkB_cytoplasm * IKK - d2_2 * IkBbIKKNFkB)\n",
      "int_bn_n: IkBb_nucleus + NFkB_nucleus -> IkBbNFkB_nucleus; nucleus * (a5_2 * IkBb_nucleus * NFkB_nucleus - d5_2 * IkBbNFkB_nucleus)\n",
      "int_bn: IkBb_cytoplasm + NFkB_cytoplasm -> IkBbNFkB_cytoplasm; cytoplasm * (a5_1 * IkBb_cytoplasm * NFkB_cytoplasm - d5_1 * IkBbNFkB_cytoplasm)\n",
      "int_bi: IkBb_cytoplasm + IKK -> IkBbIKK; cytoplasm * (a2 * IkBb_cytoplasm * IKK - d2_1 * IkBbIKK)\n",
      "tsl_b: IkBb_mRNA -> IkBb_mRNA + IkBb_cytoplasm; nucleus * tr1b * IkBb_mRNA\n",
      "loc_n: NFkB_cytoplasm -> NFkB_nucleus; cytoplasm * k1_2 * NFkB_cytoplasm - nucleus * k1_1 * NFkB_nucleus\n",
      "tsl_e: IkBe_mRNA -> IkBe_mRNA + IkBe_cytoplasm; nucleus * tr1e * IkBe_mRNA\n",
      "int_ei: IkBe_cytoplasm + IKK -> IkBeIKK; cytoplasm * (a3 * IkBe_cytoplasm * IKK - d3_1 * IkBeIKK)\n",
      "int_en: IkBe_cytoplasm + NFkB_cytoplasm -> IkBeNFkB_cytoplasm; cytoplasm * (a6_1 * IkBe_cytoplasm * NFkB_cytoplasm - d6_1 * IkBeNFkB_cytoplasm)\n",
      "int_en_n: IkBe_nucleus + NFkB_nucleus -> IkBeNFkB_nucleus; nucleus * (a6_2 * IkBe_nucleus * NFkB_nucleus - d6_2 * IkBeNFkB_nucleus)\n",
      "int_2eni: IkBeNFkB_cytoplasm + IKK -> IkBeIKKNFkB; cytoplasm * (a9 * IkBeNFkB_cytoplasm * IKK - d3_2 * IkBeIKKNFkB)\n",
      "int_2ein: IkBeIKK + NFkB_cytoplasm -> IkBeIKKNFkB; cytoplasm * (a6_3 * IkBeIKK * NFkB_cytoplasm - d6_3 * IkBeIKKNFkB)\n",
      "deg_en_n: IkBeNFkB_nucleus -> NFkB_nucleus; nucleus * deg6_n * IkBeNFkB_nucleus\n",
      "deg_en: IkBeNFkB_cytoplasm -> NFkB_cytoplasm; cytoplasm * deg6_c * IkBeNFkB_cytoplasm\n",
      "deg_ei: IkBeIKK -> IKK; cytoplasm * r3 * IkBeIKK\n",
      "deg_ein: IkBeIKKNFkB -> NFkB_cytoplasm + IKK; cytoplasm * r6 * IkBeIKKNFkB\n",
      "loc_e: IkBe_cytoplasm -> IkBe_nucleus; cytoplasm * tp1e * IkBe_cytoplasm - nucleus * tp2e * IkBe_nucleus\n",
      "loc_en: IkBeNFkB_nucleus -> IkBeNFkB_cytoplasm; nucleus * k2_e * IkBeNFkB_nucleus\n"
     ]
    }
   ],
   "source": [
    "gr = GAMESReport(m)\n",
    "for reaction in m.reactions:\n",
    "  print(reaction)"
   ]
  },
  {
   "cell_type": "code",
   "execution_count": 13,
   "metadata": {},
   "outputs": [
    {
     "name": "stdout",
     "output_type": "stream",
     "text": [
      "1. tsl_a: IkBa_mRNA -> IkBa_mRNA + IkBa_cytoplasm\n",
      "\n",
      "\n",
      "----------------------------------------------------------------------\n",
      "\n",
      "1. tsl_b: IkBb_mRNA -> IkBb_mRNA + IkBb_cytoplasm\n",
      "\n",
      "\n",
      "----------------------------------------------------------------------\n",
      "\n",
      "1. tsl_e: IkBe_mRNA -> IkBe_mRNA + IkBe_cytoplasm\n",
      "\n",
      "\n",
      "----------------------------------------------------------------------\n",
      "\n",
      "1. deg_ai: IkBaIKK -> IKK\n",
      "2. int_ai: IkBa_cytoplasm + IKK -> IkBaIKK\n",
      "\n",
      "\n",
      "----------------------------------------------------------------------\n",
      "\n",
      "1. deg_an: IkBaNFkB_cytoplasm -> NFkB_cytoplasm\n",
      "2. int_an: IkBa_cytoplasm + NFkB_cytoplasm -> IkBaNFkB_cytoplasm\n",
      "\n",
      "\n",
      "----------------------------------------------------------------------\n",
      "\n",
      "1. deg_an_n: IkBaNFkB_nucleus -> NFkB_nucleus\n",
      "2. int_an_n: IkBa_nucleus + NFkB_nucleus -> IkBaNFkB_nucleus\n",
      "\n",
      "\n",
      "----------------------------------------------------------------------\n",
      "\n",
      "1. deg_an_n: IkBaNFkB_nucleus -> NFkB_nucleus\n",
      "2. loc_an: IkBaNFkB_nucleus -> IkBaNFkB_cytoplasm\n",
      "3. deg_an: IkBaNFkB_cytoplasm -> NFkB_cytoplasm\n",
      "4. deg_bn: IkBbNFkB_cytoplasm -> NFkB_cytoplasm\n",
      "5. loc_bn: IkBbNFkB_nucleus -> IkBbNFkB_cytoplasm\n",
      "6. int_bn_n: IkBb_nucleus + NFkB_nucleus -> IkBbNFkB_nucleus\n",
      "\n",
      "\n",
      "----------------------------------------------------------------------\n",
      "\n",
      "1. deg_bn: IkBbNFkB_cytoplasm -> NFkB_cytoplasm\n",
      "2. int_bn: IkBb_cytoplasm + NFkB_cytoplasm -> IkBbNFkB_cytoplasm\n",
      "\n",
      "\n",
      "----------------------------------------------------------------------\n",
      "\n",
      "1. deg_bi: IkBbIKK -> IKK\n",
      "2. int_bi: IkBb_cytoplasm + IKK -> IkBbIKK\n",
      "\n",
      "\n",
      "----------------------------------------------------------------------\n",
      "\n",
      "1. deg_ei: IkBeIKK -> IKK\n",
      "2. int_ei: IkBe_cytoplasm + IKK -> IkBeIKK\n",
      "\n",
      "\n",
      "----------------------------------------------------------------------\n",
      "\n",
      "1. deg_en: IkBeNFkB_cytoplasm -> NFkB_cytoplasm\n",
      "2. int_en: IkBe_cytoplasm + NFkB_cytoplasm -> IkBeNFkB_cytoplasm\n",
      "\n",
      "\n",
      "----------------------------------------------------------------------\n",
      "\n",
      "1. deg_en_n: IkBeNFkB_nucleus -> NFkB_nucleus\n",
      "2. int_en_n: IkBe_nucleus + NFkB_nucleus -> IkBeNFkB_nucleus\n",
      "\n",
      "\n",
      "----------------------------------------------------------------------\n",
      "\n",
      "\n",
      "\n",
      "**********************************************************************\n",
      "\n",
      "\n",
      "[1, 1, 1, 2, 2, 2, 6, 2, 2, 2, 2, 2]\n"
     ]
    }
   ],
   "source": [
    "for str_obj in gr.reportTypeOneError(m.type_one_errors):\n",
    "  print(str_obj)"
   ]
  },
  {
   "cell_type": "code",
   "execution_count": 18,
   "metadata": {},
   "outputs": [
    {
     "data": {
      "text/plain": [
       "False"
      ]
     },
     "execution_count": 18,
     "metadata": {},
     "output_type": "execute_result"
    }
   ],
   "source": [
    "s = StoichiometryMatrix(simple)\n",
    "s.isConsistent()"
   ]
  },
  {
   "cell_type": "code",
   "execution_count": 24,
   "metadata": {},
   "outputs": [],
   "source": [
    "col_of_interest = s.stoichiometry_matrix.T['IkBa_cytoplasm']\n",
    "nonzero_reactions = col_of_interest[col_of_interest.to_numpy().nonzero()[0]]"
   ]
  },
  {
   "cell_type": "code",
   "execution_count": 34,
   "metadata": {},
   "outputs": [
    {
     "data": {
      "text/plain": [
       "IkBaIKK               0.0\n",
       "IkBbNFkB_nucleus      0.0\n",
       "IkBe_nucleus          0.0\n",
       "IKK                   0.0\n",
       "IkBb_nucleus          0.0\n",
       "IkBbIKK               0.0\n",
       "IkBeIKK               0.0\n",
       "IkBeIKKNFkB           0.0\n",
       "IkBa_cytoplasm       -1.0\n",
       "IkBeNFkB_nucleus      0.0\n",
       "IkBaNFkB_cytoplasm    0.0\n",
       "IkBbNFkB_cytoplasm    0.0\n",
       "IkBb_mRNA             0.0\n",
       "IkBa_mRNA             0.0\n",
       "IkBe_cytoplasm        0.0\n",
       "IkBaNFkB_nucleus      0.0\n",
       "IkBe_mRNA             0.0\n",
       "IkBeNFkB_cytoplasm    0.0\n",
       "NFkB_nucleus          0.0\n",
       "IkBbIKKNFkB           0.0\n",
       "IkBa_nucleus          1.0\n",
       "NFkB_cytoplasm        0.0\n",
       "IkBb_cytoplasm        0.0\n",
       "IkBaIKKNFkB           0.0\n",
       "Name: loc_a, dtype: float64"
      ]
     },
     "execution_count": 34,
     "metadata": {},
     "output_type": "execute_result"
    }
   ],
   "source": [
    "s.stoichiometry_matrix[nonzero_reactions.index[3]]"
   ]
  },
  {
   "cell_type": "code",
   "execution_count": 6,
   "metadata": {},
   "outputs": [
    {
     "name": "stdout",
     "output_type": "stream",
     "text": [
      "we are analyzing Model number: 100\n",
      "we are analyzing Model number: 200\n",
      "we are analyzing Model number: 300\n",
      "we are analyzing Model number: 400\n",
      "we are analyzing Model number: 500\n",
      "we are analyzing Model number: 600\n",
      "we are analyzing Model number: 700\n",
      "we are analyzing Model number: 800\n",
      "Analysis finished!\n",
      "LP time: 53.225467920303345\n"
     ]
    }
   ],
   "source": [
    "# LP only\n",
    "# suppress warnings; \n",
    "import warnings\n",
    "warnings.filterwarnings('ignore')\n",
    "\n",
    "simple = SimpleSBML()\n",
    "count = 0\n",
    "lp_start = time.time()\n",
    "for file in files:\n",
    "  count += 1\n",
    "  if (count%100)==0:\n",
    "    print(\"we are analyzing Model number:\", count)\n",
    "  try:\n",
    "    simple.initialize(os.path.join(data_dir, file))\n",
    "    s = StoichiometryMatrix(simple)\n",
    "    num_reactions = s.stoichiometry_matrix.shape[1]\n",
    "    results.at[file, NUM_REACTIONS] = num_reactions\n",
    "    if num_reactions:\n",
    "      consistent = s.isConsistent()\n",
    "    else:\n",
    "      consistent = -1\n",
    "    results.at[file, LP_ERROR] = 1 - int(consistent)\n",
    "  except:\n",
    "    results.at[file, LP_ERROR] = -1\n",
    "lp_end = time.time()\n",
    "lp_time = lp_end - lp_start\n",
    "print(\"Analysis finished!\")\n",
    "print(\"LP time:\", lp_time)"
   ]
  },
  {
   "cell_type": "code",
   "execution_count": 7,
   "metadata": {},
   "outputs": [
    {
     "name": "stdout",
     "output_type": "stream",
     "text": [
      "(Mean) ISS for LP is: 53.11392405063291\n",
      "(STD) ISS for LP is: 90.84825118201053\n"
     ]
    }
   ],
   "source": [
    "lp_results = results[results[LP_ERROR] == 1]\n",
    "len(lp_results)\n",
    "print(\"(Mean) ISS for LP is:\", np.mean(lp_results[NUM_REACTIONS]))\n",
    "print(\"(STD) ISS for LP is:\", np.std(lp_results[NUM_REACTIONS]))"
   ]
  },
  {
   "cell_type": "code",
   "execution_count": 8,
   "metadata": {},
   "outputs": [
    {
     "data": {
      "text/plain": [
       "158"
      ]
     },
     "execution_count": 8,
     "metadata": {},
     "output_type": "execute_result"
    }
   ],
   "source": [
    "len(results[results[LP_ERROR]==1])"
   ]
  },
  {
   "cell_type": "code",
   "execution_count": 20,
   "metadata": {},
   "outputs": [
    {
     "data": {
      "text/html": [
       "<div>\n",
       "<style scoped>\n",
       "    .dataframe tbody tr th:only-of-type {\n",
       "        vertical-align: middle;\n",
       "    }\n",
       "\n",
       "    .dataframe tbody tr th {\n",
       "        vertical-align: top;\n",
       "    }\n",
       "\n",
       "    .dataframe thead th {\n",
       "        text-align: right;\n",
       "    }\n",
       "</style>\n",
       "<table border=\"1\" class=\"dataframe\">\n",
       "  <thead>\n",
       "    <tr style=\"text-align: right;\">\n",
       "      <th></th>\n",
       "      <th>num_reactions(nonbdry)</th>\n",
       "      <th>lp_error</th>\n",
       "      <th>games_error</th>\n",
       "      <th>gamespp_error</th>\n",
       "      <th>type1_error</th>\n",
       "      <th>type2_error</th>\n",
       "      <th>canceling_error</th>\n",
       "      <th>echelon_error</th>\n",
       "      <th>type3_error</th>\n",
       "    </tr>\n",
       "  </thead>\n",
       "  <tbody>\n",
       "    <tr>\n",
       "      <th>BIOMD0000000596.xml</th>\n",
       "      <td>0</td>\n",
       "      <td>-1</td>\n",
       "      <td>-1</td>\n",
       "      <td>0</td>\n",
       "      <td>0</td>\n",
       "      <td>0</td>\n",
       "      <td>0</td>\n",
       "      <td>0</td>\n",
       "      <td>0</td>\n",
       "    </tr>\n",
       "    <tr>\n",
       "      <th>BIOMD0000000794.xml</th>\n",
       "      <td>0</td>\n",
       "      <td>-1</td>\n",
       "      <td>-1</td>\n",
       "      <td>0</td>\n",
       "      <td>0</td>\n",
       "      <td>0</td>\n",
       "      <td>0</td>\n",
       "      <td>0</td>\n",
       "      <td>0</td>\n",
       "    </tr>\n",
       "    <tr>\n",
       "      <th>BIOMD0000000786.xml</th>\n",
       "      <td>0</td>\n",
       "      <td>-1</td>\n",
       "      <td>-1</td>\n",
       "      <td>0</td>\n",
       "      <td>0</td>\n",
       "      <td>0</td>\n",
       "      <td>0</td>\n",
       "      <td>0</td>\n",
       "      <td>0</td>\n",
       "    </tr>\n",
       "    <tr>\n",
       "      <th>BIOMD0000000094.xml</th>\n",
       "      <td>0</td>\n",
       "      <td>-1</td>\n",
       "      <td>-1</td>\n",
       "      <td>0</td>\n",
       "      <td>0</td>\n",
       "      <td>0</td>\n",
       "      <td>0</td>\n",
       "      <td>0</td>\n",
       "      <td>0</td>\n",
       "    </tr>\n",
       "    <tr>\n",
       "      <th>BIOMD0000000830.xml</th>\n",
       "      <td>0</td>\n",
       "      <td>-1</td>\n",
       "      <td>-1</td>\n",
       "      <td>0</td>\n",
       "      <td>0</td>\n",
       "      <td>0</td>\n",
       "      <td>0</td>\n",
       "      <td>0</td>\n",
       "      <td>0</td>\n",
       "    </tr>\n",
       "  </tbody>\n",
       "</table>\n",
       "</div>"
      ],
      "text/plain": [
       "                     num_reactions(nonbdry)  lp_error  games_error  \\\n",
       "BIOMD0000000596.xml                       0        -1           -1   \n",
       "BIOMD0000000794.xml                       0        -1           -1   \n",
       "BIOMD0000000786.xml                       0        -1           -1   \n",
       "BIOMD0000000094.xml                       0        -1           -1   \n",
       "BIOMD0000000830.xml                       0        -1           -1   \n",
       "\n",
       "                     gamespp_error  type1_error  type2_error  canceling_error  \\\n",
       "BIOMD0000000596.xml              0            0            0                0   \n",
       "BIOMD0000000794.xml              0            0            0                0   \n",
       "BIOMD0000000786.xml              0            0            0                0   \n",
       "BIOMD0000000094.xml              0            0            0                0   \n",
       "BIOMD0000000830.xml              0            0            0                0   \n",
       "\n",
       "                     echelon_error  type3_error  \n",
       "BIOMD0000000596.xml              0            0  \n",
       "BIOMD0000000794.xml              0            0  \n",
       "BIOMD0000000786.xml              0            0  \n",
       "BIOMD0000000094.xml              0            0  \n",
       "BIOMD0000000830.xml              0            0  "
      ]
     },
     "execution_count": 20,
     "metadata": {},
     "output_type": "execute_result"
    }
   ],
   "source": [
    "results[results[LP_ERROR]==-1]"
   ]
  },
  {
   "cell_type": "code",
   "execution_count": 14,
   "metadata": {},
   "outputs": [
    {
     "name": "stdout",
     "output_type": "stream",
     "text": [
      "we are analyzing Model number: 100\n",
      "we are analyzing Model number: 200\n",
      "we are analyzing Model number: 300\n",
      "we are analyzing Model number: 400\n",
      "we are analyzing Model number: 500\n",
      "we are analyzing Model number: 600\n",
      "we are analyzing Model number: 700\n",
      "we are analyzing Model number: 800\n",
      "Analysis finished!\n",
      "GAMES time: 124.9515151977539\n"
     ]
    }
   ],
   "source": [
    "# simple bGAMES only\n",
    "simple = SimpleSBML()\n",
    "count = 0\n",
    "games_start = time.time()\n",
    "for file in files:\n",
    "  count += 1\n",
    "  if (count%100)==0:\n",
    "    print(\"we are analyzing Model number:\", count)\n",
    "  try:\n",
    "    simple.initialize(os.path.join(data_dir, file))\n",
    "    m = GAMES_PP(simple)\n",
    "    if simple.reactions:\n",
    "      res = m.analyze(simple_games=True, error_details=False, suppress_message=True)\n",
    "      results.at[file, GAMES_ERROR] = int(res)\n",
    "      if res:\n",
    "        gr = GAMESReport(m)\n",
    "        summary = m.error_summary\n",
    "        if m.type_one_errors:\n",
    "          results.at[file, TYPEI_ERROR] = len(m.type_one_errors)\n",
    "          report, error_num = gr.reportTypeOneError(m.type_one_errors, explain_details=True)\n",
    "        if m.type_two_errors:\n",
    "          results.at[file, TYPEII_ERROR] = len(m.type_two_errors)\n",
    "          report, error_num = gr.reportTypeTwoError(m.type_two_errors, explain_details=True)\n",
    "  except:\n",
    "    results.at[file, GAMES_ERROR] = -1   \n",
    "games_end = time.time()\n",
    "games_time = games_end - games_start\n",
    "print(\"Analysis finished!\")\n",
    "print(\"GAMES time:\", games_time)"
   ]
  },
  {
   "cell_type": "code",
   "execution_count": 42,
   "metadata": {},
   "outputs": [
    {
     "name": "stdout",
     "output_type": "stream",
     "text": [
      "number of detected errors:  123\n",
      "number of simple GAMES but not in LP 0\n"
     ]
    }
   ],
   "source": [
    "print(\"number of detected errors: \", len(results[results[GAMES_ERROR]==1]))\n",
    "print(\"number of simple GAMES but not in LP\", len(results[(results[GAMES_ERROR]==1) & (results[LP_ERROR]!=1)]))"
   ]
  },
  {
   "cell_type": "code",
   "execution_count": 16,
   "metadata": {},
   "outputs": [
    {
     "data": {
      "text/plain": [
       "0.7784810126582279"
      ]
     },
     "execution_count": 16,
     "metadata": {},
     "output_type": "execute_result"
    }
   ],
   "source": [
    "123/158"
   ]
  },
  {
   "cell_type": "code",
   "execution_count": 17,
   "metadata": {},
   "outputs": [
    {
     "name": "stdout",
     "output_type": "stream",
     "text": [
      "we are analyzing Model number: 100\n",
      "we are analyzing Model number: 200\n",
      "we are analyzing Model number: 300\n",
      "we are analyzing Model number: 400\n",
      "we are analyzing Model number: 500\n",
      "we are analyzing Model number: 600\n",
      "we are analyzing Model number: 700\n",
      "we are analyzing Model number: 800\n",
      "\n",
      "Analysis finished!\n",
      "GAMES++ time: 216.51195526123047\n"
     ]
    }
   ],
   "source": [
    "# GAMES+\n",
    "# file, GAMES_ERROR coding:\n",
    "# 0; normal - no error found\n",
    "# -1; not loaded or error found\n",
    "# 1; normal - error found\n",
    "# 2; echelon error found, but it is not explainable\n",
    "# 3; type III error found, but it is not explainable\n",
    "simple = SimpleSBML()\n",
    "count = 0\n",
    "gamespp_start = time.time()\n",
    "for file in files:\n",
    "  count += 1\n",
    "  if (count%100)==0:\n",
    "    print(\"we are analyzing Model number:\", count)\n",
    "  try:\n",
    "    simple.initialize(os.path.join(data_dir, file))\n",
    "    m = GAMES_PP(simple)\n",
    "    if simple.reactions:\n",
    "      res = m.analyze(simple_games=False, error_details=False, suppress_message=True)\n",
    "      results.at[file, GAMESPP_ERROR] = int(res)\n",
    "      if res:\n",
    "#         if m.echelon_errors or m.type_three_errors:\n",
    "#           try:\n",
    "#             #k = inv(m.lower)\n",
    "#             k = np.linalg.inv(m.lower)\n",
    "#           except:\n",
    "#             print(\"model %s has as a singular L matrix:\" % file)\n",
    "#         condition_number = np.linalg.cond(m.lower)\n",
    "#         if condition_number > 300:\n",
    "#           print(\"*****The L matrix of the model %s has a condition number %f*****\" % (file, condition_number))\n",
    "        gr = GAMESReport(m)\n",
    "        summary = m.error_summary\n",
    "        if m.type_one_errors:\n",
    "          results.at[file, TYPEI_ERROR] = len(m.type_one_errors)\n",
    "          report, error_num = gr.reportTypeOneError(m.type_one_errors, explain_details=True)\n",
    "        if m.type_two_errors:\n",
    "          results.at[file, TYPEII_ERROR] = len(m.type_two_errors)\n",
    "          report, error_num = gr.reportTypeTwoError(m.type_two_errors, explain_details=True)\n",
    "        if m.canceling_errors:\n",
    "          results.at[file, CANCELING_ERROR] = len(m.canceling_errors)\n",
    "          report, error_num = gr.reportCancelingError(m.canceling_errors, explain_details=True)\n",
    "        if m.echelon_errors:\n",
    "          #print(\"Model %s has an echelon error:\" % file)\n",
    "          results.at[file, ECHELON_ERROR] = len(m.echelon_errors)\n",
    "          report, error_num = gr.reportEchelonError(m.echelon_errors, explain_details=True)\n",
    "          if report is False:\n",
    "            results.at[file, GAMESPP_ERROR] = 2\n",
    "#             print(\"Model %s has an unexplainable Echelon Error\" % file)\n",
    "#             print(\"As the lower matrix has a condition number %f\" % condition_number)\n",
    "#             print(\"Decide if the matrix is invertible\")\n",
    "        if m.type_three_errors:\n",
    "          #print(\"Model %s has a type III error:\" % file)\n",
    "          results.at[file, TYPEIII_ERROR] = len(m.type_three_errors)\n",
    "          report, error_num = gr.reportTypeThreeError(m.type_three_errors, explain_details=True)\n",
    "          if report is False:\n",
    "            results.at[file, GAMESPP_ERROR] = 3\n",
    "#             print(\"Model %s has an unexplainable Type III Error\" % file)\n",
    "#             print(\"As the lower matrix has a condition number %f\" % condition_number)\n",
    "#             print(\"Decide if the matrix is invertible\")\n",
    "  except:\n",
    "    results.at[file, GAMES_ERROR] = -1   \n",
    "gamespp_end = time.time()\n",
    "gamespp_time = gamespp_end - gamespp_start\n",
    "print(\"\\nAnalysis finished!\")\n",
    "print(\"GAMES++ time:\", gamespp_time)"
   ]
  },
  {
   "cell_type": "code",
   "execution_count": 43,
   "metadata": {},
   "outputs": [
    {
     "name": "stdout",
     "output_type": "stream",
     "text": [
      "number of detected errors:  150\n",
      "number of extended GAMES errors not in LP 0\n"
     ]
    },
    {
     "data": {
      "text/plain": [
       "0"
      ]
     },
     "execution_count": 43,
     "metadata": {},
     "output_type": "execute_result"
    }
   ],
   "source": [
    "print(\"number of detected errors: \", len(results[results[GAMESPP_ERROR]==1]))\n",
    "print(\"number of extended GAMES errors not in LP\", len(results[(results[GAMESPP_ERROR]==1) & (results[LP_ERROR]!=1)]))\n",
    "len(results[results[GAMESPP_ERROR]==-1])"
   ]
  },
  {
   "cell_type": "code",
   "execution_count": 44,
   "metadata": {},
   "outputs": [
    {
     "data": {
      "text/plain": [
       "3"
      ]
     },
     "execution_count": 44,
     "metadata": {},
     "output_type": "execute_result"
    }
   ],
   "source": [
    "len(results[results[GAMESPP_ERROR]==3])"
   ]
  },
  {
   "cell_type": "code",
   "execution_count": 45,
   "metadata": {},
   "outputs": [
    {
     "data": {
      "text/html": [
       "<div>\n",
       "<style scoped>\n",
       "    .dataframe tbody tr th:only-of-type {\n",
       "        vertical-align: middle;\n",
       "    }\n",
       "\n",
       "    .dataframe tbody tr th {\n",
       "        vertical-align: top;\n",
       "    }\n",
       "\n",
       "    .dataframe thead th {\n",
       "        text-align: right;\n",
       "    }\n",
       "</style>\n",
       "<table border=\"1\" class=\"dataframe\">\n",
       "  <thead>\n",
       "    <tr style=\"text-align: right;\">\n",
       "      <th></th>\n",
       "      <th>num_reactions(nonbdry)</th>\n",
       "      <th>lp_error</th>\n",
       "      <th>games_error</th>\n",
       "      <th>gamespp_error</th>\n",
       "      <th>type1_error</th>\n",
       "      <th>type2_error</th>\n",
       "      <th>canceling_error</th>\n",
       "      <th>echelon_error</th>\n",
       "      <th>type3_error</th>\n",
       "    </tr>\n",
       "  </thead>\n",
       "  <tbody>\n",
       "    <tr>\n",
       "      <th>BIOMD0000000596.xml</th>\n",
       "      <td>0</td>\n",
       "      <td>-1</td>\n",
       "      <td>-1</td>\n",
       "      <td>0</td>\n",
       "      <td>0</td>\n",
       "      <td>0</td>\n",
       "      <td>0</td>\n",
       "      <td>0</td>\n",
       "      <td>0</td>\n",
       "    </tr>\n",
       "    <tr>\n",
       "      <th>BIOMD0000000794.xml</th>\n",
       "      <td>0</td>\n",
       "      <td>-1</td>\n",
       "      <td>-1</td>\n",
       "      <td>0</td>\n",
       "      <td>0</td>\n",
       "      <td>0</td>\n",
       "      <td>0</td>\n",
       "      <td>0</td>\n",
       "      <td>0</td>\n",
       "    </tr>\n",
       "    <tr>\n",
       "      <th>BIOMD0000000786.xml</th>\n",
       "      <td>0</td>\n",
       "      <td>-1</td>\n",
       "      <td>-1</td>\n",
       "      <td>0</td>\n",
       "      <td>0</td>\n",
       "      <td>0</td>\n",
       "      <td>0</td>\n",
       "      <td>0</td>\n",
       "      <td>0</td>\n",
       "    </tr>\n",
       "    <tr>\n",
       "      <th>BIOMD0000000094.xml</th>\n",
       "      <td>0</td>\n",
       "      <td>-1</td>\n",
       "      <td>-1</td>\n",
       "      <td>0</td>\n",
       "      <td>0</td>\n",
       "      <td>0</td>\n",
       "      <td>0</td>\n",
       "      <td>0</td>\n",
       "      <td>0</td>\n",
       "    </tr>\n",
       "    <tr>\n",
       "      <th>BIOMD0000000830.xml</th>\n",
       "      <td>0</td>\n",
       "      <td>-1</td>\n",
       "      <td>-1</td>\n",
       "      <td>0</td>\n",
       "      <td>0</td>\n",
       "      <td>0</td>\n",
       "      <td>0</td>\n",
       "      <td>0</td>\n",
       "      <td>0</td>\n",
       "    </tr>\n",
       "  </tbody>\n",
       "</table>\n",
       "</div>"
      ],
      "text/plain": [
       "                     num_reactions(nonbdry)  lp_error  games_error  \\\n",
       "BIOMD0000000596.xml                       0        -1           -1   \n",
       "BIOMD0000000794.xml                       0        -1           -1   \n",
       "BIOMD0000000786.xml                       0        -1           -1   \n",
       "BIOMD0000000094.xml                       0        -1           -1   \n",
       "BIOMD0000000830.xml                       0        -1           -1   \n",
       "\n",
       "                     gamespp_error  type1_error  type2_error  canceling_error  \\\n",
       "BIOMD0000000596.xml              0            0            0                0   \n",
       "BIOMD0000000794.xml              0            0            0                0   \n",
       "BIOMD0000000786.xml              0            0            0                0   \n",
       "BIOMD0000000094.xml              0            0            0                0   \n",
       "BIOMD0000000830.xml              0            0            0                0   \n",
       "\n",
       "                     echelon_error  type3_error  \n",
       "BIOMD0000000596.xml              0            0  \n",
       "BIOMD0000000794.xml              0            0  \n",
       "BIOMD0000000786.xml              0            0  \n",
       "BIOMD0000000094.xml              0            0  \n",
       "BIOMD0000000830.xml              0            0  "
      ]
     },
     "execution_count": 45,
     "metadata": {},
     "output_type": "execute_result"
    }
   ],
   "source": [
    "results[results[GAMES_ERROR]==-1]"
   ]
  },
  {
   "cell_type": "code",
   "execution_count": 41,
   "metadata": {},
   "outputs": [
    {
     "data": {
      "text/plain": [
       "0.9493670886075949"
      ]
     },
     "execution_count": 41,
     "metadata": {},
     "output_type": "execute_result"
    }
   ],
   "source": [
    "150/158"
   ]
  },
  {
   "cell_type": "code",
   "execution_count": 17,
   "metadata": {},
   "outputs": [
    {
     "name": "stdout",
     "output_type": "stream",
     "text": [
      "we are analyzing Model number: 100\n",
      "we are analyzing Model number: 200\n",
      "we are analyzing Model number: 300\n",
      "we are analyzing Model number: 400\n",
      "we are analyzing Model number: 500\n",
      "we are analyzing Model number: 600\n",
      "we are analyzing Model number: 700\n",
      "we are analyzing Model number: 800\n"
     ]
    },
    {
     "data": {
      "text/plain": [
       "num_uniuni_reactions        32.582602\n",
       "num_ummu_reactions          21.681572\n",
       "num_multimulti_reactions     7.942943\n",
       "dtype: float64"
      ]
     },
     "execution_count": 17,
     "metadata": {},
     "output_type": "execute_result"
    }
   ],
   "source": [
    "# Finally, model statistics\n",
    "MODEL_ID = \"model_id\"\n",
    "NUM_TOTAL_REACTIONS = \"num_total_reactions\"\n",
    "NUM_BDRY_REACTIONS = \"num_bdry_reactions\"\n",
    "NUM_UNIUNI_REACTIONS = \"num_uniuni_reactions\"\n",
    "NUM_UMMU_REACTIONS = \"num_ummu_reactions\"\n",
    "NUM_MULTIMULTI_REACTIONS = \"num_multimulti_reactions\"\n",
    "# exceptions for model\n",
    "EXCEPTIONS = [\"BIOMD0000000094.xml\",\n",
    "              \"BIOMD0000000596.xml\",\n",
    "             \"BIOMD0000000786.xml\",\n",
    "             \"BIOMD0000000794.xml\",\n",
    "             \"BIOMD0000000830.xml\"]\n",
    "# Checking all models to calculate the number of reactions per type \n",
    "count = 0\n",
    "simple = SimpleSBML()\n",
    "res_list = []\n",
    "false_errors = set()\n",
    "for file in files:\n",
    "  if file in EXCEPTIONS:\n",
    "    continue\n",
    "  simple.initialize(os.path.join(data_dir, file))\n",
    "  num_uniuni = 0\n",
    "  num_ummu = 0\n",
    "  num_multimulti = 0\n",
    "  num_bdry = 0\n",
    "  count += 1\n",
    "  if (count%100)==0:\n",
    "    print(\"we are analyzing Model number:\", count)\n",
    "  simple.initialize(os.path.join(data_dir, file))\n",
    "  num_dic = {cn.REACTION_1_1: 0,\n",
    "             cn.REACTION_1_n: 0,\n",
    "             cn.REACTION_n_1: 0,\n",
    "             cn.REACTION_n_n: 0,\n",
    "             cn.REACTION_BOUNDARY: 0\n",
    "            }  \n",
    "  for reaction in simple.reactions:\n",
    "    for category in num_dic.keys():\n",
    "      if reaction.category == category:\n",
    "        num_dic[category] += 1\n",
    "  res_dic = dict({MODEL_ID: file[:-8],\n",
    "                  NUM_TOTAL_REACTIONS: len(simple.reactions),\n",
    "                  NUM_BDRY_REACTIONS: num_dic[cn.REACTION_BOUNDARY],\n",
    "                  NUM_UNIUNI_REACTIONS: num_dic[cn.REACTION_1_1],\n",
    "                  NUM_UMMU_REACTIONS: num_dic[cn.REACTION_1_n] + num_dic[cn.REACTION_n_1],\n",
    "                  NUM_MULTIMULTI_REACTIONS: num_dic[cn.REACTION_n_n]})\n",
    "  sum = res_dic[NUM_BDRY_REACTIONS] + res_dic[NUM_UNIUNI_REACTIONS] + res_dic[NUM_UMMU_REACTIONS] + res_dic[NUM_MULTIMULTI_REACTIONS]\n",
    "  if sum != res_dic[NUM_TOTAL_REACTIONS]:\n",
    "    print(\"Error! The sum doens't match with model %s\" % file)\n",
    "  res_list.append(res_dic)\n",
    "\n",
    "# summarize the results\n",
    "stats_df = pd.DataFrame(res_list)\n",
    "reaction_num_cat = [NUM_UNIUNI_REACTIONS,\n",
    "                    NUM_UMMU_REACTIONS,\n",
    "                    NUM_MULTIMULTI_REACTIONS\n",
    "]\n",
    "reaction_prop = [(stats_df[x]/stats_df[NUM_TOTAL_REACTIONS]).mean()*100\n",
    "                 for x in\n",
    "                 reaction_num_cat]\n",
    "ext_biomodels_reaction_prop = pd.Series(reaction_prop, index=reaction_num_cat)\n",
    "ext_biomodels_reaction_prop"
   ]
  },
  {
   "cell_type": "code",
   "execution_count": 16,
   "metadata": {},
   "outputs": [
    {
     "data": {
      "text/plain": [
       "['BIOMD0000000094.xml',\n",
       " 'BIOMD0000000596.xml',\n",
       " 'BIOMD0000000786.xml',\n",
       " 'BIOMD0000000794.xmlBIOMD0000000830.xml']"
      ]
     },
     "execution_count": 16,
     "metadata": {},
     "output_type": "execute_result"
    }
   ],
   "source": [
    "EXCEPTIONS"
   ]
  },
  {
   "cell_type": "code",
   "execution_count": null,
   "metadata": {},
   "outputs": [],
   "source": []
  }
 ],
 "metadata": {
  "kernelspec": {
   "display_name": "Python 3",
   "language": "python",
   "name": "python3"
  },
  "language_info": {
   "codemirror_mode": {
    "name": "ipython",
    "version": 3
   },
   "file_extension": ".py",
   "mimetype": "text/x-python",
   "name": "python",
   "nbconvert_exporter": "python",
   "pygments_lexer": "ipython3",
   "version": "3.6.10"
  }
 },
 "nbformat": 4,
 "nbformat_minor": 4
}
