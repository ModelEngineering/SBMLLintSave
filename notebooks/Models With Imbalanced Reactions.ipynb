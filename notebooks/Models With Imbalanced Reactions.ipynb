{
 "cells": [
  {
   "cell_type": "markdown",
   "metadata": {},
   "source": [
    "# Models With Imbalanced Reactions\n",
    "This notebook explores models from Chris Myers following discussions at HARMONY 2019 in which he asserted that some reactions must be imbalanced."
   ]
  },
  {
   "cell_type": "code",
   "execution_count": 21,
   "metadata": {},
   "outputs": [],
   "source": [
    "import init\n",
    "import os\n",
    "import pandas as pd\n",
    "import numpy as np\n",
    "from SBMLLint.tools.print_reactions import prettyPrint"
   ]
  },
  {
   "cell_type": "code",
   "execution_count": 18,
   "metadata": {},
   "outputs": [],
   "source": [
    "files = [\"circuit_0x01_0_YFP_module.xml\",\n",
    "    \"circuit_0x01_1_B2_BM3R1_module.xml\",\n",
    "    \"circuit_0x01_2_H1_HlyIIR_module.xml\",\n",
    "    \"circuit_0x01_3_E1_BetI_module.xml\",\n",
    "    \"circuit_0x01_4_S1_SrpR_module.xml\",\n",
    "    \"circuit_0x01_5_A1_AmtR_module.xml\",\n",
    "    \"circuit_0x01_6_P2_PhlF_module.xml\",\n",
    "    \"circuit_0x01_7_pBAD_module.xml\",\n",
    "    \"circuit_0x01_8_pTac_module.xml\",\n",
    "    \"circuit_0x01_9_pTet_module.xml\",\n",
    "    \"circuit_0x01_environment.xml\",\n",
    "        ]"
   ]
  },
  {
   "cell_type": "code",
   "execution_count": 19,
   "metadata": {},
   "outputs": [],
   "source": [
    "dir_path = \"/home/ubuntu/Downloads\""
   ]
  },
  {
   "cell_type": "code",
   "execution_count": 22,
   "metadata": {},
   "outputs": [
    {
     "name": "stdout",
     "output_type": "stream",
     "text": [
      "\n",
      "*** circuit_0x01_0_YFP_module.xml\n",
      "YFP_protein_interaction:  -> 10.00 YFP_protein; circuit_0x01_0_YFP * ko * (ko_f / ko_r) * nr / (1 + ko_f / ko_r * nr + pow(kr_f / kr_r * BM3R1_protein, nc))\n",
      "\n",
      "*** circuit_0x01_1_B2_BM3R1_module.xml\n",
      "BM3R1_protein_interaction_0:  -> 10.00 BM3R1_protein; pSrpR * ko * (ko_f / ko_r) * nr / (1 + ko_f / ko_r * nr + pow(kr_f / kr_r * SrpR_protein, nc))\n",
      "BM3R1_protein_interaction_1:  -> 10.00 BM3R1_protein; pHlyIIR * ko * (ko_f / ko_r) * nr / (1 + ko_f / ko_r * nr + pow(kr_f / kr_r * HlyIIR_protein, nc))\n",
      "\n",
      "*** circuit_0x01_2_H1_HlyIIR_module.xml\n",
      "HlyIIR_protein_interaction:  -> 10.00 HlyIIR_protein; circuit_0x01_2_H1_HlyIIR * ko * (ko_f / ko_r) * nr / (1 + ko_f / ko_r * nr + pow(kr_f / kr_r * BetI_protein, nc))\n",
      "\n",
      "*** circuit_0x01_3_E1_BetI_module.xml\n",
      "BetI_protein_interaction_0:  -> 10.00 BetI_protein; pPhlF * ko * (ko_f / ko_r) * nr / (1 + ko_f / ko_r * nr + pow(kr_f / kr_r * PhlF_protein, nc))\n",
      "BetI_protein_interaction_1:  -> 10.00 BetI_protein; pAmtR * ko * (ko_f / ko_r) * nr / (1 + ko_f / ko_r * nr + pow(kr_f / kr_r * AmtR_protein, nc))\n",
      "\n",
      "*** circuit_0x01_4_S1_SrpR_module.xml\n",
      "SrpR_protein_interaction:  -> 10.00 SrpR_protein; circuit_0x01_4_S1_SrpR * (kb * (ko_f / ko_r) * nr + ka * (kao_f / kao_r) * nr * pow(ka_f / ka_r * Ara_AraC_protein, nc)) / (1 + ko_f / ko_r * nr + kao_f / kao_r * nr * pow(ka_f / ka_r * Ara_AraC_protein, nc))\n",
      "\n",
      "*** circuit_0x01_5_A1_AmtR_module.xml\n",
      "AmtR_protein_interaction:  -> 10.00 AmtR_protein; circuit_0x01_5_A1_AmtR * ko * (ko_f / ko_r) * nr / (1 + ko_f / ko_r * nr + pow(kr_f / kr_r * TetR_protein, nc))\n",
      "\n",
      "*** circuit_0x01_6_P2_PhlF_module.xml\n",
      "PhlF_protein_interaction:  -> 10.00 PhlF_protein; circuit_0x01_6_P2_PhlF * ko * (ko_f / ko_r) * nr / (1 + ko_f / ko_r * nr + pow(kr_f / kr_r * LacI_protein, nc))\n",
      "\n",
      "*** circuit_0x01_7_pBAD_module.xml\n",
      "AraC_protein_interaction:  -> 10.00 AraC_protein; circuit_0x01_7_pBAD * ko * (ko_f / ko_r) * nr / (1 + ko_f / ko_r * nr)\n",
      "\n",
      "*** circuit_0x01_8_pTac_module.xml\n",
      "LacI_protein_interaction:  -> 10.00 LacI_protein; circuit_0x01_8_pTac * ko * (ko_f / ko_r) * nr / (1 + ko_f / ko_r * nr)\n",
      "\n",
      "*** circuit_0x01_9_pTet_module.xml\n",
      "TetR_protein_interaction:  -> 10.00 TetR_protein; circuit_0x01_9_pTet * ko * (ko_f / ko_r) * nr / (1 + ko_f / ko_r * nr)\n",
      "\n",
      "*** circuit_0x01_environment.xml\n",
      "Degradation_YFP: YFP -> ; kd * YFP\n"
     ]
    }
   ],
   "source": [
    "for ff in files:\n",
    "    path = os.path.join(dir_path, ff)\n",
    "    print(\"\\n*** %s\" % ff)\n",
    "    prettyPrint(path, is_include_kinetics=True)"
   ]
  }
 ],
 "metadata": {
  "kernelspec": {
   "display_name": "Python 3",
   "language": "python",
   "name": "python3"
  },
  "language_info": {
   "codemirror_mode": {
    "name": "ipython",
    "version": 3
   },
   "file_extension": ".py",
   "mimetype": "text/x-python",
   "name": "python",
   "nbconvert_exporter": "python",
   "pygments_lexer": "ipython3",
   "version": "3.6.4"
  }
 },
 "nbformat": 4,
 "nbformat_minor": 2
}
