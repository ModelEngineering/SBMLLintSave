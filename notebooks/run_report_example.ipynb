{
 "cells": [
  {
   "cell_type": "code",
   "execution_count": 1,
   "metadata": {},
   "outputs": [
    {
     "name": "stdout",
     "output_type": "stream",
     "text": [
      "Current Directory: /Users/woosubs/Desktop/ModelEngineering/SBMLLint/SBMLLint/notebooks\n"
     ]
    }
   ],
   "source": [
    "from games_setup import *\n",
    "from SBMLLint.common import constants as cn\n",
    "from SBMLLint.common.molecule import Molecule, MoleculeStoichiometry\n",
    "from SBMLLint.common.reaction import Reaction\n",
    "from SBMLLint.games.som import SOM\n",
    "from SBMLLint.common.simple_sbml import SimpleSBML\n",
    "\n",
    "import collections\n",
    "import copy\n",
    "import itertools\n",
    "import networkx as nx\n",
    "import numpy as np\n",
    "import os\n",
    "import pandas as pd\n",
    "#\n",
    "from SBMLLint.common.stoichiometry_matrix import StoichiometryMatrix\n",
    "from SBMLLint.games.games_pp import GAMES_PP, SOMStoichiometry, SOMReaction, TOLERANCE\n",
    "from SBMLLint.games.games_report import GAMESReport, SimplifiedReaction\n",
    "\n",
    "import matplotlib.pyplot as plt\n",
    "%matplotlib inline\n",
    "\n",
    "ReactionOperation = collections.namedtuple(\"ReactionOperation\", \n",
    "    \"reaction operation\")"
   ]
  },
  {
   "cell_type": "code",
   "execution_count": 2,
   "metadata": {},
   "outputs": [],
   "source": [
    "# table 1 - full table (res_list_full)\n",
    "# statistics columns\n",
    "MODEL_ID = \"model_id\"\n",
    "NUM_TOTAL_REACTIONS = \"num_total_reactions\"\n",
    "NUM_NONBDRY_REACTIONS = \"num_nonbdry_reactions\"\n",
    "NUM_MULTIMULTI_REACTIONS = \"num_multimulti_reactions\"\n",
    "#\n",
    "ERROR_TYPE = \"error_type\"\n",
    "TYPE_I = \"type1\"\n",
    "TYPE_II = \"type2\"\n",
    "TYPE_III = \"type3\"\n",
    "CANCELING = \"canceling\"\n",
    "ECHELON = \"echelon\"\n",
    "ERRORS = [TYPE_I, TYPE_II, TYPE_III, CANCELING, ECHELON]\n",
    "#\n",
    "NUM_ERROR_REACTIONS = \"num_error_reactions\""
   ]
  },
  {
   "cell_type": "code",
   "execution_count": 3,
   "metadata": {},
   "outputs": [],
   "source": [
    "# table 2 - mean table (res_list_mean)\n",
    "MODEL_ID = \"model_id\"\n",
    "NUM_TOTAL_REACTIONS = \"num_total_reactions\"\n",
    "NUM_NONBDRY_REACTIONS = \"num_nonbdry_reactions\"\n",
    "NUM_MULTIMULTI_REACTIONS = \"num_multimulti_reactions\"\n",
    "MEAN_ERROR_SIZE = \"mean_error_size\"\n",
    "IS_GAMES_PLUS = \"is_games_plus\""
   ]
  },
  {
   "cell_type": "code",
   "execution_count": 4,
   "metadata": {},
   "outputs": [],
   "source": [
    "EXCEPTIONS = [\"BIOMD0000000094.xml\",\n",
    "              \"BIOMD0000000596.xml\",\n",
    "              \"BIOMD0000000786.xml\",\n",
    "              \"BIOMD0000000794.xml\",\n",
    "              \"BIOMD0000000830.xml\",\n",
    "             ]\n",
    "raw_files = [f for f in os.listdir(cn.BIOMODELS_DIR) if f[-4:] == \".xml\"]\n",
    "files = [f for f in raw_files if f not in EXCEPTIONS]\n",
    "paths = [os.path.join(cn.BIOMODELS_DIR, filename) for filename in files]"
   ]
  },
  {
   "cell_type": "code",
   "execution_count": 5,
   "metadata": {},
   "outputs": [
    {
     "data": {
      "text/plain": [
       "826"
      ]
     },
     "execution_count": 5,
     "metadata": {},
     "output_type": "execute_result"
    }
   ],
   "source": [
    "len(files)"
   ]
  },
  {
   "cell_type": "code",
   "execution_count": 6,
   "metadata": {},
   "outputs": [
    {
     "data": {
      "text/plain": [
       "[PstatDimerisation: 2.00 Pstat_sol -> PstatDimer_sol; (Kf_PstatDimerisation * pow(Pstat_sol, 2) + -(Kr_PstatDimerisation * PstatDimer_sol)) * sol,\n",
       " statDephosphorylation: Pstat_nuc -> stat_nuc; Kcat_dephos * statPhosphatase_nuc * Pstat_nuc * (1 / (Km_dephos + Pstat_nuc)) * nuc,\n",
       " statPhosphorylation: stat_sol -> Pstat_sol + species_test; Kcat_phos * statKinase_sol * stat_sol * (1 / (Km_phos + stat_sol)) * sol,\n",
       " PstatDimerisationNuc: 2.00 Pstat_nuc -> PstatDimer_nuc; (Kf_PstatDimerisation * pow(Pstat_nuc, 2) + -(Kr_PstatDimerisation * PstatDimer_nuc)) * nuc,\n",
       " PstatDimer__import: PstatDimer_sol -> PstatDimer_nuc; PstatDimer_impMax * PstatDimer_sol * (1 / (Kpsd_imp + PstatDimer_sol)) * nm,\n",
       " stat_export: stat_sol -> stat_nuc; nuc * stat_expMax * stat_nuc * (1 / (Ks_exp + stat_nuc)) * nm,\n",
       " stat_import: stat_sol -> stat_nuc; nuc * stat_impMax * stat_sol * (1 / (Ks_imp + stat_sol)) * nm]"
      ]
     },
     "execution_count": 6,
     "metadata": {},
     "output_type": "execute_result"
    }
   ],
   "source": [
    "simple = SimpleSBML()\n",
    "simple.initialize(os.path.join(cn.BIOMODELS_DIR, \"BIOMD0000000167.xml\"))\n",
    "simple.reactions"
   ]
  },
  {
   "cell_type": "code",
   "execution_count": 7,
   "metadata": {},
   "outputs": [
    {
     "name": "stdout",
     "output_type": "stream",
     "text": [
      "Model analyzed...\n",
      "At least one error found.\n",
      "\n",
      "[ErrorSummary(type='type3', errors=[PstatDimerisation: 2.00 {Pstat_sol} -> 2.00 {Pstat_nuc=stat_nuc=stat_sol}]), ErrorSummary(type='echelon', errors=[statPhosphorylation:  -> {species_test}])]\n"
     ]
    }
   ],
   "source": [
    "m = GAMES_PP(simple)\n",
    "res = m.analyze(simple_games=False)\n",
    "print(m.error_summary)"
   ]
  },
  {
   "cell_type": "code",
   "execution_count": 8,
   "metadata": {},
   "outputs": [
    {
     "name": "stdout",
     "output_type": "stream",
     "text": [
      "\n",
      "We detected a mass imbalance\n",
      ":  -> species_test\n",
      "\n",
      "from the following reaction isolation set.\n",
      "\n",
      "1. statPhosphorylation: stat_sol -> Pstat_sol + species_test\n",
      "2. PstatDimerisation: 2.00 Pstat_sol -> PstatDimer_sol\n",
      "3. PstatDimerisationNuc: 2.00 Pstat_nuc -> PstatDimer_nuc\n",
      "\n",
      "----------------------------------------------------------------------\n",
      "----------------------------------------------------------------------\n",
      "\n",
      "These uni-uni reactions created mass-equivalence.\n",
      "(The chemical species within a curly bracket have the same atomic mass.)\n",
      "\n",
      "{PstatDimer_nuc=PstatDimer_sol} is inferred by:\n",
      "4. PstatDimer__import: PstatDimer_sol -> PstatDimer_nuc\n",
      "\n",
      "{Pstat_nuc=stat_nuc=stat_sol} is inferred by:\n",
      "5. stat_export: stat_sol -> stat_nuc\n",
      "6. statDephosphorylation: Pstat_nuc -> stat_nuc\n",
      "\n",
      "----------------------------------------------------------------------\n",
      "\n",
      "Based on the uni-uni reactions above, we create mass-equivalent pseudo reactions.\n",
      "\n",
      "(pseudo 1.) statPhosphorylation: {Pstat_nuc=stat_nuc=stat_sol} -> {Pstat_sol} + {species_test}\n",
      "(pseudo 2.) PstatDimerisation: 2.00 {Pstat_sol} -> {PstatDimer_nuc=PstatDimer_sol}\n",
      "(pseudo 3.) PstatDimerisationNuc: 2.00 {Pstat_nuc=stat_nuc=stat_sol} -> {PstatDimer_nuc=PstatDimer_sol}\n",
      "\n",
      "----------------------------------------------------------------------\n",
      "\n",
      "An operation between the pseudo reactions:\n",
      "1.00 * statPhosphorylation + 0.50 * PstatDimerisation - 0.50 * PstatDimerisationNuc\n",
      "\n",
      "will result in empty reactant with zero mass:\n",
      "\n",
      ":  -> {species_test}\n",
      "\n",
      "\n",
      "----------------------------------------------------------------------\n",
      "\n",
      "----------------------------------------------------------------------\n",
      "\n",
      "\n",
      "\n",
      "**********************************************************************\n",
      "\n",
      "\n"
     ]
    }
   ],
   "source": [
    "gr = GAMESReport(m)\n",
    "rep, rep_num = gr.reportEchelonError([m.echelon_errors[0]], explain_details=True)\n",
    "print(rep)"
   ]
  },
  {
   "cell_type": "code",
   "execution_count": 9,
   "metadata": {},
   "outputs": [
    {
     "data": {
      "text/plain": [
       "[3]"
      ]
     },
     "execution_count": 9,
     "metadata": {},
     "output_type": "execute_result"
    }
   ],
   "source": [
    "rep_num"
   ]
  },
  {
   "cell_type": "code",
   "execution_count": 9,
   "metadata": {},
   "outputs": [],
   "source": [
    "line1 = \"\\nWe detected a mass imbalance\\n:  -> species_test\\n\\nfrom the following reaction isolation set.\\n\\n\"\n",
    "line2 = \"1. statPhosphorylation: stat_sol -> Pstat_sol + species_test\\n2. PstatDimerisation: 2.00 Pstat_sol -> PstatDimer_sol\\n\"\n",
    "line3 = \"3. PstatDimerisationNuc: 2.00 Pstat_nuc -> PstatDimer_nuc\\n\\n\"\n",
    "line4 = \"----------------------------------------------------------------------\\n----------------------------------------------------------------------\\n\\n\"\n",
    "line5 = \"These uni-uni reactions created mass-equivalence.\\n\"\n",
    "line6 = \"(The chemical species within a curly bracket have the same atomic mass.)\\n\\n\"\n",
    "line7 = \"{PstatDimer_nuc=PstatDimer_sol} is inferred by:\\n4. PstatDimer__import: PstatDimer_sol -> PstatDimer_nuc\\n\\n\"\n",
    "line8 = \"{Pstat_nuc=stat_nuc=stat_sol} is inferred by:\\n5. statDephosphorylation: Pstat_nuc -> stat_nuc\\n\"\n",
    "line9 = \"6. stat_export: stat_sol -> stat_nuc\\n\\n----------------------------------------------------------------------\\n\\n\"\n",
    "line10 = \"Based on the uni-uni reactions above, we create\\nmass-equivalent pseudo reactions.\\n\\n\"\n",
    "line11 = \"(pseudo 1.) statPhosphorylation:\\n\"\n",
    "line11_1 = \" \"*10 + \"{Pstat_nuc=stat_nuc=stat_sol} -> {Pstat_sol} + {species_test}\\n\"\n",
    "line12 = \"(pseudo 2.) PstatDimerisation:\\n\"\n",
    "line12_1 = \" \"*20 + \"2.00 {Pstat_sol} -> {PstatDimer_nuc=PstatDimer_sol}\\n\"\n",
    "line13 = \"(pseudo 3.) PstatDimerisationNuc:\\n\"\n",
    "line13_1 = \" \"*2 + \"2.00 {Pstat_nuc=stat_nuc=stat_sol} -> {PstatDimer_nuc=PstatDimer_sol}\\n\\n\"\n",
    "line14 = \"----------------------------------------------------------------------\\n\\n\"\n",
    "line15 = \"An operation between the pseudo reactions:\\n1.00 * statPhosphorylation + 0.50 * PstatDimerisation -\\n\"\n",
    "line15_1 = \"0.50 * PstatDimerisationNuc\\n\\nwill result in empty reactant with zero mass:\\n\\n:  -> {species_test}\\n\\n\\n\"\n",
    "line16 = \"----------------------------------------------------------------------\\n\\n----------------------------------------------------------------------\\n\\n\\n\\n**********************************************************************\\n\\n\""
   ]
  },
  {
   "cell_type": "code",
   "execution_count": 10,
   "metadata": {},
   "outputs": [
    {
     "name": "stdout",
     "output_type": "stream",
     "text": [
      "\n",
      "We detected a mass imbalance\n",
      ":  -> species_test\n",
      "\n",
      "from the following reaction isolation set.\n",
      "\n",
      "1. statPhosphorylation: stat_sol -> Pstat_sol + species_test\n",
      "2. PstatDimerisation: 2.00 Pstat_sol -> PstatDimer_sol\n",
      "3. PstatDimerisationNuc: 2.00 Pstat_nuc -> PstatDimer_nuc\n",
      "\n",
      "----------------------------------------------------------------------\n",
      "----------------------------------------------------------------------\n",
      "\n",
      "These uni-uni reactions created mass-equivalence.\n",
      "(The chemical species within a curly bracket have the same atomic mass.)\n",
      "\n",
      "{PstatDimer_nuc=PstatDimer_sol} is inferred by:\n",
      "4. PstatDimer__import: PstatDimer_sol -> PstatDimer_nuc\n",
      "\n",
      "{Pstat_nuc=stat_nuc=stat_sol} is inferred by:\n",
      "5. statDephosphorylation: Pstat_nuc -> stat_nuc\n",
      "6. stat_export: stat_sol -> stat_nuc\n",
      "\n",
      "----------------------------------------------------------------------\n",
      "\n",
      "Based on the uni-uni reactions above, we create\n",
      "mass-equivalent pseudo reactions.\n",
      "\n",
      "(pseudo 1.) statPhosphorylation:\n",
      "          {Pstat_nuc=stat_nuc=stat_sol} -> {Pstat_sol} + {species_test}\n",
      "(pseudo 2.) PstatDimerisation:\n",
      "                    2.00 {Pstat_sol} -> {PstatDimer_nuc=PstatDimer_sol}\n",
      "(pseudo 3.) PstatDimerisationNuc:\n",
      "  2.00 {Pstat_nuc=stat_nuc=stat_sol} -> {PstatDimer_nuc=PstatDimer_sol}\n",
      "\n",
      "----------------------------------------------------------------------\n",
      "\n",
      "An operation between the pseudo reactions:\n",
      "1.00 * statPhosphorylation + 0.50 * PstatDimerisation -\n",
      "0.50 * PstatDimerisationNuc\n",
      "\n",
      "will result in empty reactant with zero mass:\n",
      "\n",
      ":  -> {species_test}\n",
      "\n",
      "\n",
      "----------------------------------------------------------------------\n",
      "\n",
      "----------------------------------------------------------------------\n",
      "\n",
      "\n",
      "\n",
      "**********************************************************************\n",
      "\n",
      "\n"
     ]
    }
   ],
   "source": [
    "print(line1 + line2 + line3 + line4 + line5 + line6 + \n",
    "     line7 + line8 + line9 + line10 + line11 + line11_1 +\n",
    "     line12 + line12_1 + line13 + line13_1 + line14 + \n",
    "     line15 + line15_1 + line16)"
   ]
  },
  {
   "cell_type": "code",
   "execution_count": 11,
   "metadata": {},
   "outputs": [
    {
     "data": {
      "text/plain": [
       "[statPhosphorylation:  -> {species_test}]"
      ]
     },
     "execution_count": 11,
     "metadata": {},
     "output_type": "execute_result"
    }
   ],
   "source": [
    "m.echelon_errors"
   ]
  },
  {
   "cell_type": "code",
   "execution_count": null,
   "metadata": {},
   "outputs": [],
   "source": []
  }
 ],
 "metadata": {
  "kernelspec": {
   "display_name": "Python 3",
   "language": "python",
   "name": "python3"
  },
  "language_info": {
   "codemirror_mode": {
    "name": "ipython",
    "version": 3
   },
   "file_extension": ".py",
   "mimetype": "text/x-python",
   "name": "python",
   "nbconvert_exporter": "python",
   "pygments_lexer": "ipython3",
   "version": "3.6.10"
  }
 },
 "nbformat": 4,
 "nbformat_minor": 4
}
