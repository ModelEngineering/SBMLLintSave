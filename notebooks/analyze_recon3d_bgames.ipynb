{
 "cells": [
  {
   "cell_type": "code",
   "execution_count": 1,
   "metadata": {},
   "outputs": [],
   "source": [
    "import init\n",
    "from SBMLLint.common import constants as cn\n",
    "from SBMLLint.common.molecule import Molecule, MoleculeStoichiometry\n",
    "from SBMLLint.common.reaction import Reaction\n",
    "from SBMLLint.tools import sbmllint\n",
    "from SBMLLint.tools import print_reactions\n",
    "\n",
    "import os\n",
    "import numpy as np\n",
    "import pandas as pd\n",
    "import matplotlib.pyplot as plt\n",
    "import time\n",
    "\n",
    "from SBMLLint.common import util\n",
    "import libsbml"
   ]
  },
  {
   "cell_type": "code",
   "execution_count": 2,
   "metadata": {},
   "outputs": [
    {
     "name": "stdout",
     "output_type": "stream",
     "text": [
      "Current Directory: /Users/woosubs/Desktop/ModelEngineering/SBMLLint/SBMLLint/notebook\n"
     ]
    }
   ],
   "source": [
    "from games_setup import *\n",
    "from SBMLLint.common import constants as cn\n",
    "from SBMLLint.common.simple_sbml import SimpleSBML\n",
    "from SBMLLint.common.stoichiometry_matrix import StoichiometryMatrix\n",
    "\n",
    "from SBMLLint.games.som import SOM\n",
    "from SBMLLint.games.games_pp import GAMES_PP, SOMStoichiometry, SOMReaction, TOLERANCE\n",
    "from SBMLLint.games.games_report import GAMESReport, SimplifiedReaction"
   ]
  },
  {
   "cell_type": "code",
   "execution_count": 3,
   "metadata": {},
   "outputs": [],
   "source": [
    "RECON3D = \"Recon3D.xml\"\n",
    "recon3d_filepath = os.path.join(cn.BIGG_DIR, RECON3D)\n",
    "simple = SimpleSBML()\n",
    "simple.initialize(recon3d_filepath)"
   ]
  },
  {
   "cell_type": "code",
   "execution_count": 4,
   "metadata": {},
   "outputs": [
    {
     "data": {
      "text/plain": [
       "[R_24_25DHVITD3tm: M_2425dhvitd3_m -> M_2425dhvitd3_c,\n",
       " R_25HVITD3t: M_25hvitd3_c -> M_25hvitd3_e,\n",
       " R_COAtl: M_coa_c -> M_coa_l,\n",
       " R_EX_5adtststerone_e: M_5adtststerone_e -> ,\n",
       " R_EX_5adtststerones_e: M_5adtststerones_e -> ]"
      ]
     },
     "execution_count": 4,
     "metadata": {},
     "output_type": "execute_result"
    }
   ],
   "source": [
    "simple.reactions[:5]"
   ]
  },
  {
   "cell_type": "code",
   "execution_count": 5,
   "metadata": {},
   "outputs": [
    {
     "name": "stdout",
     "output_type": "stream",
     "text": [
      "15217.327167987823\n",
      "bGAMES didn't find an error!\n"
     ]
    }
   ],
   "source": [
    "simple.initialize(recon3d_filepath)\n",
    "bgames_start = time.time()\n",
    "m = GAMES_PP(simple)\n",
    "res = m.analyze(simple_games=True, error_details=False, suppress_message=True)\n",
    "bgames_end = time.time()\n",
    "bgames_time = bgames_end - bgames_start\n",
    "print(bgames_time)\n",
    "if res:\n",
    "  print(\"bGAMES found an error!\")\n",
    "else:\n",
    "  print(\"bGAMES didn't find an error!\")"
   ]
  },
  {
   "cell_type": "code",
   "execution_count": 12,
   "metadata": {},
   "outputs": [
    {
     "name": "stdout",
     "output_type": "stream",
     "text": [
      "bGAMES took 4.227 hours\n"
     ]
    }
   ],
   "source": [
    "print(\"bGAMES took %.03f hours\" % (bgames_time/3600))"
   ]
  },
  {
   "cell_type": "code",
   "execution_count": 13,
   "metadata": {},
   "outputs": [
    {
     "data": {
      "text/plain": [
       "10600"
      ]
     },
     "execution_count": 13,
     "metadata": {},
     "output_type": "execute_result"
    }
   ],
   "source": [
    "len(simple.reactions)"
   ]
  },
  {
   "cell_type": "code",
   "execution_count": 21,
   "metadata": {},
   "outputs": [
    {
     "data": {
      "text/plain": [
       "831"
      ]
     },
     "execution_count": 21,
     "metadata": {},
     "output_type": "execute_result"
    }
   ],
   "source": [
    "data_dir = '/Users/woosubs/Desktop/ModelEngineering/ext_biomodels'\n",
    "# we can remove EXCEPTIONS from files, as they are not loaded by simpleSBML\n",
    "files = [f for f in os.listdir(data_dir) if f[-4:] == \".xml\"]\n",
    "len(files)"
   ]
  },
  {
   "cell_type": "code",
   "execution_count": 22,
   "metadata": {},
   "outputs": [
    {
     "data": {
      "text/plain": [
       "'BIOMD0000000152.xml'"
      ]
     },
     "execution_count": 22,
     "metadata": {},
     "output_type": "execute_result"
    }
   ],
   "source": [
    "dummy_file = files[1]\n",
    "dummy_file"
   ]
  },
  {
   "cell_type": "code",
   "execution_count": 45,
   "metadata": {},
   "outputs": [
    {
     "name": "stdout",
     "output_type": "stream",
     "text": [
      "0.0001621246337890625\n",
      "xGAMES didn't find an error!\n"
     ]
    }
   ],
   "source": [
    "simple.initialize(os.path.join(data_dir, \"BIOMD0000000154.xml\"))\n",
    "m = GAMES_PP(simple)\n",
    "xgames_start = time.time()\n",
    "res = m.analyze(simple_games=False, error_details=False, suppress_message=True)\n",
    "xgames_end = time.time()\n",
    "xgames_time = xgames_end - xgames_start\n",
    "print(xgames_time)\n",
    "if res:\n",
    "  print(\"xGAMES found an error!\")\n",
    "else:\n",
    "  print(\"xGAMES didn't find an error!\")"
   ]
  },
  {
   "cell_type": "code",
   "execution_count": 17,
   "metadata": {},
   "outputs": [
    {
     "data": {
      "text/plain": [
       "[R_24_25VITD3Hm: M_25hvitd3_m + M_h_m + M_nadph_m + M_o2_m -> M_2425dhvitd3_m + M_h2o_m + M_nadp_m,\n",
       " R_13DAMPPOX: M_13dampp_c + M_h2o_c + M_o2_c -> M_bamppald_c + M_h2o2_c + M_nh4_c,\n",
       " R_25VITD2Hm: M_25hvitd2_m + M_h_m + M_nadph_m + M_o2_m -> M_1a25dhvitd2_m + M_h2o_m + M_nadp_m,\n",
       " R_2AMACHYD: M_2amac_c + M_h2o_c -> M_nh4_c + M_pyr_c,\n",
       " R_2AMACSULT: M_2amac_c + M_nadph_c + M_paps_c -> M_Lcyst_c + M_nadp_c + M_pap_c]"
      ]
     },
     "execution_count": 17,
     "metadata": {},
     "output_type": "execute_result"
    }
   ],
   "source": [
    "multimulti = []\n",
    "for reaction in m.reactions:\n",
    "  if reaction.category == cn.REACTION_n_n:\n",
    "    multimulti.append(reaction)\n",
    "multimulti[:5]"
   ]
  },
  {
   "cell_type": "code",
   "execution_count": null,
   "metadata": {},
   "outputs": [],
   "source": []
  }
 ],
 "metadata": {
  "kernelspec": {
   "display_name": "Python 3",
   "language": "python",
   "name": "python3"
  },
  "language_info": {
   "codemirror_mode": {
    "name": "ipython",
    "version": 3
   },
   "file_extension": ".py",
   "mimetype": "text/x-python",
   "name": "python",
   "nbconvert_exporter": "python",
   "pygments_lexer": "ipython3",
   "version": "3.6.10"
  }
 },
 "nbformat": 4,
 "nbformat_minor": 4
}
