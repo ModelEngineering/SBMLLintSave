{
 "cells": [
  {
   "cell_type": "code",
   "execution_count": 1,
   "metadata": {},
   "outputs": [
    {
     "name": "stdout",
     "output_type": "stream",
     "text": [
      "Current Directory: /Users/woosubs/Desktop/ModelEngineering/SBMLLint/SBMLLint/notebooks\n"
     ]
    }
   ],
   "source": [
    "from games_setup import *\n",
    "from SBMLLint.common import constants as cn\n",
    "from SBMLLint.common.molecule import Molecule, MoleculeStoichiometry\n",
    "from SBMLLint.common.reaction import Reaction\n",
    "from SBMLLint.games.som import SOM\n",
    "from SBMLLint.common.simple_sbml import SimpleSBML\n",
    "\n",
    "import collections\n",
    "import copy\n",
    "import itertools\n",
    "import networkx as nx\n",
    "import numpy as np\n",
    "import os\n",
    "import pandas as pd\n",
    "#\n",
    "from SBMLLint.common.stoichiometry_matrix import StoichiometryMatrix\n",
    "from SBMLLint.games.games_pp import GAMES_PP, SOMStoichiometry, SOMReaction, TOLERANCE\n",
    "from SBMLLint.games.games_report import GAMESReport, SimplifiedReaction\n",
    "\n",
    "import matplotlib.pyplot as plt\n",
    "%matplotlib inline\n",
    "\n",
    "ReactionOperation = collections.namedtuple(\"ReactionOperation\", \n",
    "    \"reaction operation\")"
   ]
  },
  {
   "cell_type": "code",
   "execution_count": 10,
   "metadata": {},
   "outputs": [],
   "source": [
    "# table 1 - full table (res_list_full)\n",
    "# statistics columns\n",
    "MODEL_ID = \"model_id\"\n",
    "NUM_TOTAL_REACTIONS = \"num_total_reactions\"\n",
    "NUM_NONBDRY_REACTIONS = \"num_nonbdry_reactions\"\n",
    "NUM_MULTIMULTI_REACTIONS = \"num_multimulti_reactions\"\n",
    "#\n",
    "ERROR_TYPE = \"error_type\"\n",
    "TYPE_I = \"type1\"\n",
    "TYPE_II = \"type2\"\n",
    "TYPE_III = \"type3\"\n",
    "CANCELING = \"canceling\"\n",
    "ECHELON = \"echelon\"\n",
    "ERRORS = [TYPE_I, TYPE_II, TYPE_III, CANCELING, ECHELON]\n",
    "#\n",
    "NUM_ERROR_REACTIONS = \"num_error_reactions\""
   ]
  },
  {
   "cell_type": "code",
   "execution_count": 11,
   "metadata": {},
   "outputs": [],
   "source": [
    "# table 2 - mean table (res_list_mean)\n",
    "MODEL_ID = \"model_id\"\n",
    "NUM_TOTAL_REACTIONS = \"num_total_reactions\"\n",
    "NUM_NONBDRY_REACTIONS = \"num_nonbdry_reactions\"\n",
    "NUM_MULTIMULTI_REACTIONS = \"num_multimulti_reactions\"\n",
    "MEAN_ERROR_SIZE = \"mean_error_size\"\n",
    "IS_GAMES_PLUS = \"is_games_plus\""
   ]
  },
  {
   "cell_type": "code",
   "execution_count": 12,
   "metadata": {},
   "outputs": [],
   "source": [
    "EXCEPTIONS = [\"BIOMD0000000094.xml\",\n",
    "              \"BIOMD0000000596.xml\",\n",
    "              \"BIOMD0000000786.xml\",\n",
    "              \"BIOMD0000000794.xml\",\n",
    "              \"BIOMD0000000830.xml\",\n",
    "             ]\n",
    "raw_files = [f for f in os.listdir(cn.BIOMODELS_DIR) if f[-4:] == \".xml\"]\n",
    "files = [f for f in raw_files if f not in EXCEPTIONS]\n",
    "paths = [os.path.join(cn.BIOMODELS_DIR, filename) for filename in files]"
   ]
  },
  {
   "cell_type": "code",
   "execution_count": 13,
   "metadata": {},
   "outputs": [
    {
     "data": {
      "text/plain": [
       "826"
      ]
     },
     "execution_count": 13,
     "metadata": {},
     "output_type": "execute_result"
    }
   ],
   "source": [
    "len(files)"
   ]
  },
  {
   "cell_type": "code",
   "execution_count": 14,
   "metadata": {},
   "outputs": [
    {
     "data": {
      "text/plain": [
       "[PstatDimerisation: 2.00 Pstat_sol -> PstatDimer_sol; (Kf_PstatDimerisation * pow(Pstat_sol, 2) + -(Kr_PstatDimerisation * PstatDimer_sol)) * sol,\n",
       " statDephosphorylation: Pstat_nuc -> stat_nuc; Kcat_dephos * statPhosphatase_nuc * Pstat_nuc * (1 / (Km_dephos + Pstat_nuc)) * nuc,\n",
       " statPhosphorylation: stat_sol -> Pstat_sol + species_test; Kcat_phos * statKinase_sol * stat_sol * (1 / (Km_phos + stat_sol)) * sol,\n",
       " PstatDimerisationNuc: 2.00 Pstat_nuc -> PstatDimer_nuc; (Kf_PstatDimerisation * pow(Pstat_nuc, 2) + -(Kr_PstatDimerisation * PstatDimer_nuc)) * nuc,\n",
       " PstatDimer__import: PstatDimer_sol -> PstatDimer_nuc; PstatDimer_impMax * PstatDimer_sol * (1 / (Kpsd_imp + PstatDimer_sol)) * nm,\n",
       " stat_export: stat_sol -> stat_nuc; nuc * stat_expMax * stat_nuc * (1 / (Ks_exp + stat_nuc)) * nm,\n",
       " stat_import: stat_sol -> stat_nuc; nuc * stat_impMax * stat_sol * (1 / (Ks_imp + stat_sol)) * nm]"
      ]
     },
     "execution_count": 14,
     "metadata": {},
     "output_type": "execute_result"
    }
   ],
   "source": [
    "simple = SimpleSBML()\n",
    "simple.initialize(os.path.join(cn.BIOMODELS_DIR, \"BIOMD0000000167.xml\"))\n",
    "simple.reactions"
   ]
  },
  {
   "cell_type": "code",
   "execution_count": 16,
   "metadata": {},
   "outputs": [
    {
     "name": "stdout",
     "output_type": "stream",
     "text": [
      "Model analyzed...\n",
      "At least one error found.\n",
      "\n",
      "[ErrorSummary(type='type3', errors=[PstatDimerisation: 2.00 {Pstat_sol} -> 2.00 {Pstat_nuc=stat_nuc=stat_sol}]), ErrorSummary(type='echelon', errors=[statPhosphorylation:  -> {species_test}])]\n"
     ]
    }
   ],
   "source": [
    "m = GAMES_PP(simple)\n",
    "res = m.analyze(simple_games=False)\n",
    "print(m.error_summary)"
   ]
  },
  {
   "cell_type": "code",
   "execution_count": 22,
   "metadata": {},
   "outputs": [
    {
     "data": {
      "text/plain": [
       "'\\nWe detected a mass imbalance\\n:  -> species_test\\n\\nfrom the following reaction isolation set.\\n\\n1. statPhosphorylation: stat_sol -> Pstat_sol + species_test\\n2. PstatDimerisation: 2.00 Pstat_sol -> PstatDimer_sol\\n3. PstatDimerisationNuc: 2.00 Pstat_nuc -> PstatDimer_nuc\\n\\n----------------------------------------------------------------------\\n----------------------------------------------------------------------\\n\\nThese uni-uni reactions created mass-equivalence.\\n(The chemical species within a curly bracket have the same atomic mass.)\\n\\n{PstatDimer_nuc=PstatDimer_sol} is inferred by:\\n4. PstatDimer__import: PstatDimer_sol -> PstatDimer_nuc\\n\\n{Pstat_nuc=stat_nuc=stat_sol} is inferred by:\\n5. statDephosphorylation: Pstat_nuc -> stat_nuc\\n6. stat_export: stat_sol -> stat_nuc\\n\\n----------------------------------------------------------------------\\n\\nBased on the uni-uni reactions above, we create mass-equivalent pseudo reactions.\\n\\n(pseudo 1.) statPhosphorylation: {Pstat_nuc=stat_nuc=stat_sol} -> {Pstat_sol} + {species_test}\\n(pseudo 2.) PstatDimerisation: 2.00 {Pstat_sol} -> {PstatDimer_nuc=PstatDimer_sol}\\n(pseudo 3.) PstatDimerisationNuc: 2.00 {Pstat_nuc=stat_nuc=stat_sol} -> {PstatDimer_nuc=PstatDimer_sol}\\n\\n----------------------------------------------------------------------\\n\\nAn operation between the pseudo reactions:\\n1.00 * statPhosphorylation + 0.50 * PstatDimerisation - 0.50 * PstatDimerisationNuc\\n\\nwill result in empty reactant with zero mass:\\n\\n:  -> {species_test}\\n\\n\\n----------------------------------------------------------------------\\n\\n----------------------------------------------------------------------\\n\\n\\n\\n**********************************************************************\\n\\n'"
      ]
     },
     "execution_count": 22,
     "metadata": {},
     "output_type": "execute_result"
    }
   ],
   "source": [
    "gr = GAMESReport(m)\n",
    "rep, rep_num = gr.reportEchelonError([m.echelon_errors[0]], explain_details=True)\n",
    "rep"
   ]
  },
  {
   "cell_type": "code",
   "execution_count": 76,
   "metadata": {},
   "outputs": [],
   "source": [
    "line1 = \"\\nWe detected a mass imbalance\\n:  -> species_test\\n\\nfrom the following reaction isolation set.\\n\\n\"\n",
    "line2 = \"1. statPhosphorylation: stat_sol -> Pstat_sol + species_test\\n2. PstatDimerisation: 2.00 Pstat_sol -> PstatDimer_sol\\n\"\n",
    "line3 = \"3. PstatDimerisationNuc: 2.00 Pstat_nuc -> PstatDimer_nuc\\n\\n\"\n",
    "line4 = \"----------------------------------------------------------------------\\n----------------------------------------------------------------------\\n\\n\"\n",
    "line5 = \"These uni-uni reactions created mass-equivalence.\\n\"\n",
    "line6 = \"(The chemical species within a curly bracket have the same atomic mass.)\\n\\n\"\n",
    "line7 = \"{PstatDimer_nuc=PstatDimer_sol} is inferred by:\\n4. PstatDimer__import: PstatDimer_sol -> PstatDimer_nuc\\n\\n\"\n",
    "line8 = \"{Pstat_nuc=stat_nuc=stat_sol} is inferred by:\\n5. statDephosphorylation: Pstat_nuc -> stat_nuc\\n\"\n",
    "line9 = \"6. stat_export: stat_sol -> stat_nuc\\n\\n----------------------------------------------------------------------\\n\\n\"\n",
    "line10 = \"Based on the uni-uni reactions above, we create\\nmass-equivalent pseudo reactions.\\n\\n\"\n",
    "line11 = \"(pseudo 1.) statPhosphorylation:\\n\"\n",
    "line11_1 = \" \"*10 + \"{Pstat_nuc=stat_nuc=stat_sol} -> {Pstat_sol} + {species_test}\\n\"\n",
    "line12 = \"(pseudo 2.) PstatDimerisation:\\n\"\n",
    "line12_1 = \" \"*20 + \"2.00 {Pstat_sol} -> {PstatDimer_nuc=PstatDimer_sol}\\n\"\n",
    "line13 = \"(pseudo 3.) PstatDimerisationNuc:\\n\"\n",
    "line13_1 = \" \"*2 + \"2.00 {Pstat_nuc=stat_nuc=stat_sol} -> {PstatDimer_nuc=PstatDimer_sol}\\n\\n\"\n",
    "line14 = \"----------------------------------------------------------------------\\n\\n\"\n",
    "line15 = \"An operation between the pseudo reactions:\\n1.00 * statPhosphorylation + 0.50 * PstatDimerisation -\\n\"\n",
    "line15_1 = \"0.50 * PstatDimerisationNuc\\n\\nwill result in empty reactant with zero mass:\\n\\n:  -> {species_test}\\n\\n\\n\"\n",
    "line16 = \"----------------------------------------------------------------------\\n\\n----------------------------------------------------------------------\\n\\n\\n\\n**********************************************************************\\n\\n\""
   ]
  },
  {
   "cell_type": "code",
   "execution_count": 77,
   "metadata": {},
   "outputs": [
    {
     "name": "stdout",
     "output_type": "stream",
     "text": [
      "\n",
      "We detected a mass imbalance\n",
      ":  -> species_test\n",
      "\n",
      "from the following reaction isolation set.\n",
      "\n",
      "1. statPhosphorylation: stat_sol -> Pstat_sol + species_test\n",
      "2. PstatDimerisation: 2.00 Pstat_sol -> PstatDimer_sol\n",
      "3. PstatDimerisationNuc: 2.00 Pstat_nuc -> PstatDimer_nuc\n",
      "\n",
      "----------------------------------------------------------------------\n",
      "----------------------------------------------------------------------\n",
      "\n",
      "These uni-uni reactions created mass-equivalence.\n",
      "(The chemical species within a curly bracket have the same atomic mass.)\n",
      "\n",
      "{PstatDimer_nuc=PstatDimer_sol} is inferred by:\n",
      "4. PstatDimer__import: PstatDimer_sol -> PstatDimer_nuc\n",
      "\n",
      "{Pstat_nuc=stat_nuc=stat_sol} is inferred by:\n",
      "5. statDephosphorylation: Pstat_nuc -> stat_nuc\n",
      "6. stat_export: stat_sol -> stat_nuc\n",
      "\n",
      "----------------------------------------------------------------------\n",
      "\n",
      "Based on the uni-uni reactions above, we create\n",
      "mass-equivalent pseudo reactions.\n",
      "\n",
      "(pseudo 1.) statPhosphorylation:\n",
      "          {Pstat_nuc=stat_nuc=stat_sol} -> {Pstat_sol} + {species_test}\n",
      "(pseudo 2.) PstatDimerisation:\n",
      "                    2.00 {Pstat_sol} -> {PstatDimer_nuc=PstatDimer_sol}\n",
      "(pseudo 3.) PstatDimerisationNuc:\n",
      "  2.00 {Pstat_nuc=stat_nuc=stat_sol} -> {PstatDimer_nuc=PstatDimer_sol}\n",
      "\n",
      "----------------------------------------------------------------------\n",
      "\n",
      "An operation between the pseudo reactions:\n",
      "1.00 * statPhosphorylation + 0.50 * PstatDimerisation -\n",
      "0.50 * PstatDimerisationNuc\n",
      "\n",
      "will result in empty reactant with zero mass:\n",
      "\n",
      ":  -> {species_test}\n",
      "\n",
      "\n",
      "----------------------------------------------------------------------\n",
      "\n",
      "----------------------------------------------------------------------\n",
      "\n",
      "\n",
      "\n",
      "**********************************************************************\n",
      "\n",
      "\n"
     ]
    }
   ],
   "source": [
    "print(line1 + line2 + line3 + line4 + line5 + line6 + \n",
    "     line7 + line8 + line9 + line10 + line11 + line11_1 +\n",
    "     line12 + line12_1 + line13 + line13_1 + line14 + \n",
    "     line15 + line15_1 + line16)"
   ]
  },
  {
   "cell_type": "code",
   "execution_count": 55,
   "metadata": {},
   "outputs": [
    {
     "data": {
      "text/plain": [
       "[statPhosphorylation:  -> {species_test}]"
      ]
     },
     "execution_count": 55,
     "metadata": {},
     "output_type": "execute_result"
    }
   ],
   "source": [
    "m.echelon_errors"
   ]
  },
  {
   "cell_type": "code",
   "execution_count": 7,
   "metadata": {},
   "outputs": [
    {
     "name": "stdout",
     "output_type": "stream",
     "text": [
      "14\n",
      "13\n",
      "type1 error\n"
     ]
    }
   ],
   "source": [
    "simple = SimpleSBML()\n",
    "simple.initialize(os.path.join(data_dir, files[1]))\n",
    "s = StoichiometryMatrix(simple)\n",
    "num_total_reactions = len(simple.reactions)\n",
    "num_nonbdry_reactions = s.stoichiometry_matrix.shape[1]\n",
    "print(num_total_reactions)\n",
    "print(num_nonbdry_reactions)\n",
    "m = GAMES_PP(simple)\n",
    "if simple.reactions:\n",
    "  result = m.analyze(error_details=False)\n",
    "  if result:\n",
    "    dic = {}\n",
    "    dic[MODEL_ID] = files[0]\n",
    "    dic[NUM_TOTAL_REACTIONS] = num_total_reactions\n",
    "    dic[NUM_NONBDRY_REACTIONS] = num_nonbdry_reactions\n",
    "    summary = m.error_summary\n",
    "    if summary[0].type == TYPE_I:\n",
    "      print(\"type1 error\")\n",
    "    if summary[0].type == TYPE_II:\n",
    "      print(\"type2 error\")"
   ]
  },
  {
   "cell_type": "code",
   "execution_count": 8,
   "metadata": {},
   "outputs": [
    {
     "data": {
      "text/plain": [
       "[]"
      ]
     },
     "execution_count": 8,
     "metadata": {},
     "output_type": "execute_result"
    }
   ],
   "source": [
    "m.type_three_errors"
   ]
  },
  {
   "cell_type": "code",
   "execution_count": 9,
   "metadata": {},
   "outputs": [
    {
     "name": "stdout",
     "output_type": "stream",
     "text": [
      "we are analyzing Model number: 100\n",
      "we are analyzing Model number: 200\n",
      "we are analyzing Model number: 300\n",
      "we are analyzing Model number: 400\n",
      "we are analyzing Model number: 500\n",
      "we are analyzing Model number: 600\n"
     ]
    }
   ],
   "source": [
    "# Checking all graphs \n",
    "count = 0\n",
    "simple = SimpleSBML()\n",
    "res_list_full = []\n",
    "res_list_mean = []\n",
    "false_reactions = set()\n",
    "for file in files:\n",
    "#   print(\"we are doing %s\" % file)\n",
    "  total_error_num = []\n",
    "  games_plus_flag = 0\n",
    "  count += 1\n",
    "  if (count%100)==0:\n",
    "    print(\"we are analyzing Model number:\", count)\n",
    "  try:\n",
    "    simple.initialize(os.path.join(data_dir, file))\n",
    "    m = GAMES_PP(simple)\n",
    "    s = StoichiometryMatrix(simple)\n",
    "    num_total_reactions = len(simple.reactions)\n",
    "    num_nonbdry_reactions = s.stoichiometry_matrix.shape[1]\n",
    "    if simple.reactions:\n",
    "      result = m.analyze(error_details=False)\n",
    "      if result:\n",
    "        if m.canceling_errors or m.echelon_errors or m.type_three_errors:\n",
    "          games_plus_flag = 1\n",
    "        gr = GAMESReport(m)\n",
    "        errortype_dic = {TYPE_I: gr.reportTypeOneError,\n",
    "                         TYPE_II: gr.reportTypeTwoError,\n",
    "                         TYPE_III: gr.reportTypeThreeError,\n",
    "                         CANCELING: gr.reportCancelingError,\n",
    "                         ECHELON: gr.reportEchelonError\n",
    "                        }\n",
    "        summary = m.error_summary\n",
    "        for errors in m.error_summary:\n",
    "          for category in errortype_dic.keys():\n",
    "            if errors.type == category:\n",
    "              func = errortype_dic[category]            \n",
    "              report, error_num = func(errors.errors)\n",
    "              #print(\"error_num is\", error_num)\n",
    "              total_error_num = total_error_num + error_num\n",
    "              if report is False:\n",
    "                false_reactions.add(file)\n",
    "              else:\n",
    "                for num in error_num:\n",
    "                  res_list_full.append(dict({MODEL_ID: file[:-8],\n",
    "                                        NUM_TOTAL_REACTIONS: num_total_reactions,\n",
    "                                        NUM_NONBDRY_REACTIONS: num_nonbdry_reactions,\n",
    "                                        ERROR_TYPE: category,\n",
    "                                        NUM_ERROR_REACTIONS: num}))\n",
    "        #print(\"total_error_num is\", total_error_num)\n",
    "        if len(total_error_num) == 0:\n",
    "          print(\"model %s has no total error num. Examine this\" % file)\n",
    "        res_list_mean.append(dict({MODEL_ID: file[:-8],\n",
    "                              NUM_TOTAL_REACTIONS: num_total_reactions,\n",
    "                              NUM_NONBDRY_REACTIONS: num_nonbdry_reactions,\n",
    "                              MEAN_ERROR_SIZE: np.mean(total_error_num),\n",
    "                              IS_GAMES_PLUS: games_plus_flag}))\n",
    "  except:\n",
    "    print(\"Model\", file, \" has an error\")"
   ]
  },
  {
   "cell_type": "code",
   "execution_count": 10,
   "metadata": {},
   "outputs": [
    {
     "data": {
      "text/html": [
       "<div>\n",
       "<style scoped>\n",
       "    .dataframe tbody tr th:only-of-type {\n",
       "        vertical-align: middle;\n",
       "    }\n",
       "\n",
       "    .dataframe tbody tr th {\n",
       "        vertical-align: top;\n",
       "    }\n",
       "\n",
       "    .dataframe thead th {\n",
       "        text-align: right;\n",
       "    }\n",
       "</style>\n",
       "<table border=\"1\" class=\"dataframe\">\n",
       "  <thead>\n",
       "    <tr style=\"text-align: right;\">\n",
       "      <th></th>\n",
       "      <th>model_id</th>\n",
       "      <th>num_total_reactions</th>\n",
       "      <th>num_nonbdry_reactions</th>\n",
       "      <th>error_type</th>\n",
       "      <th>num_error_reactions</th>\n",
       "    </tr>\n",
       "  </thead>\n",
       "  <tbody>\n",
       "    <tr>\n",
       "      <th>0</th>\n",
       "      <td>BIOMD0000000189</td>\n",
       "      <td>14</td>\n",
       "      <td>13</td>\n",
       "      <td>type1</td>\n",
       "      <td>1</td>\n",
       "    </tr>\n",
       "    <tr>\n",
       "      <th>1</th>\n",
       "      <td>BIOMD0000000189</td>\n",
       "      <td>14</td>\n",
       "      <td>13</td>\n",
       "      <td>type1</td>\n",
       "      <td>1</td>\n",
       "    </tr>\n",
       "    <tr>\n",
       "      <th>2</th>\n",
       "      <td>BIOMD0000000189</td>\n",
       "      <td>14</td>\n",
       "      <td>13</td>\n",
       "      <td>type1</td>\n",
       "      <td>1</td>\n",
       "    </tr>\n",
       "    <tr>\n",
       "      <th>3</th>\n",
       "      <td>BIOMD0000000189</td>\n",
       "      <td>14</td>\n",
       "      <td>13</td>\n",
       "      <td>type1</td>\n",
       "      <td>3</td>\n",
       "    </tr>\n",
       "    <tr>\n",
       "      <th>4</th>\n",
       "      <td>BIOMD0000000413</td>\n",
       "      <td>9</td>\n",
       "      <td>5</td>\n",
       "      <td>type1</td>\n",
       "      <td>3</td>\n",
       "    </tr>\n",
       "  </tbody>\n",
       "</table>\n",
       "</div>"
      ],
      "text/plain": [
       "          model_id  num_total_reactions  num_nonbdry_reactions error_type  \\\n",
       "0  BIOMD0000000189                   14                     13      type1   \n",
       "1  BIOMD0000000189                   14                     13      type1   \n",
       "2  BIOMD0000000189                   14                     13      type1   \n",
       "3  BIOMD0000000189                   14                     13      type1   \n",
       "4  BIOMD0000000413                    9                      5      type1   \n",
       "\n",
       "   num_error_reactions  \n",
       "0                    1  \n",
       "1                    1  \n",
       "2                    1  \n",
       "3                    3  \n",
       "4                    3  "
      ]
     },
     "execution_count": 10,
     "metadata": {},
     "output_type": "execute_result"
    }
   ],
   "source": [
    "res_df_full = pd.DataFrame(res_list_full)\n",
    "res_df_full.head()"
   ]
  },
  {
   "cell_type": "code",
   "execution_count": 11,
   "metadata": {},
   "outputs": [
    {
     "data": {
      "text/html": [
       "<div>\n",
       "<style scoped>\n",
       "    .dataframe tbody tr th:only-of-type {\n",
       "        vertical-align: middle;\n",
       "    }\n",
       "\n",
       "    .dataframe tbody tr th {\n",
       "        vertical-align: top;\n",
       "    }\n",
       "\n",
       "    .dataframe thead th {\n",
       "        text-align: right;\n",
       "    }\n",
       "</style>\n",
       "<table border=\"1\" class=\"dataframe\">\n",
       "  <thead>\n",
       "    <tr style=\"text-align: right;\">\n",
       "      <th></th>\n",
       "      <th>model_id</th>\n",
       "      <th>num_total_reactions</th>\n",
       "      <th>num_nonbdry_reactions</th>\n",
       "      <th>mean_error_size</th>\n",
       "      <th>is_games_plus</th>\n",
       "    </tr>\n",
       "  </thead>\n",
       "  <tbody>\n",
       "    <tr>\n",
       "      <th>0</th>\n",
       "      <td>BIOMD0000000189</td>\n",
       "      <td>14</td>\n",
       "      <td>13</td>\n",
       "      <td>1.5</td>\n",
       "      <td>0</td>\n",
       "    </tr>\n",
       "    <tr>\n",
       "      <th>1</th>\n",
       "      <td>BIOMD0000000413</td>\n",
       "      <td>9</td>\n",
       "      <td>5</td>\n",
       "      <td>3.0</td>\n",
       "      <td>0</td>\n",
       "    </tr>\n",
       "    <tr>\n",
       "      <th>2</th>\n",
       "      <td>BIOMD0000000519</td>\n",
       "      <td>7</td>\n",
       "      <td>4</td>\n",
       "      <td>2.0</td>\n",
       "      <td>0</td>\n",
       "    </tr>\n",
       "    <tr>\n",
       "      <th>3</th>\n",
       "      <td>BIOMD0000000093</td>\n",
       "      <td>46</td>\n",
       "      <td>42</td>\n",
       "      <td>2.0</td>\n",
       "      <td>0</td>\n",
       "    </tr>\n",
       "    <tr>\n",
       "      <th>4</th>\n",
       "      <td>BIOMD0000000536</td>\n",
       "      <td>66</td>\n",
       "      <td>39</td>\n",
       "      <td>1.0</td>\n",
       "      <td>0</td>\n",
       "    </tr>\n",
       "  </tbody>\n",
       "</table>\n",
       "</div>"
      ],
      "text/plain": [
       "          model_id  num_total_reactions  num_nonbdry_reactions  \\\n",
       "0  BIOMD0000000189                   14                     13   \n",
       "1  BIOMD0000000413                    9                      5   \n",
       "2  BIOMD0000000519                    7                      4   \n",
       "3  BIOMD0000000093                   46                     42   \n",
       "4  BIOMD0000000536                   66                     39   \n",
       "\n",
       "   mean_error_size  is_games_plus  \n",
       "0              1.5              0  \n",
       "1              3.0              0  \n",
       "2              2.0              0  \n",
       "3              2.0              0  \n",
       "4              1.0              0  "
      ]
     },
     "execution_count": 11,
     "metadata": {},
     "output_type": "execute_result"
    }
   ],
   "source": [
    "res_df_mean = pd.DataFrame(res_list_mean)\n",
    "res_df_mean.head()"
   ]
  },
  {
   "cell_type": "code",
   "execution_count": 12,
   "metadata": {},
   "outputs": [
    {
     "data": {
      "text/plain": [
       "140"
      ]
     },
     "execution_count": 12,
     "metadata": {},
     "output_type": "execute_result"
    }
   ],
   "source": [
    "len(set(res_df_mean[MODEL_ID]))"
   ]
  },
  {
   "cell_type": "code",
   "execution_count": 13,
   "metadata": {},
   "outputs": [
    {
     "data": {
      "text/plain": [
       "109"
      ]
     },
     "execution_count": 13,
     "metadata": {},
     "output_type": "execute_result"
    }
   ],
   "source": [
    "len(res_df_mean[res_df_mean[IS_GAMES_PLUS] == 0])"
   ]
  },
  {
   "cell_type": "code",
   "execution_count": 24,
   "metadata": {},
   "outputs": [
    {
     "data": {
      "text/html": [
       "<div>\n",
       "<style scoped>\n",
       "    .dataframe tbody tr th:only-of-type {\n",
       "        vertical-align: middle;\n",
       "    }\n",
       "\n",
       "    .dataframe tbody tr th {\n",
       "        vertical-align: top;\n",
       "    }\n",
       "\n",
       "    .dataframe thead th {\n",
       "        text-align: right;\n",
       "    }\n",
       "</style>\n",
       "<table border=\"1\" class=\"dataframe\">\n",
       "  <thead>\n",
       "    <tr style=\"text-align: right;\">\n",
       "      <th></th>\n",
       "      <th>model_id</th>\n",
       "      <th>num_total_reactions</th>\n",
       "      <th>num_nonbdry_reactions</th>\n",
       "      <th>error_type</th>\n",
       "      <th>num_error_reactions</th>\n",
       "      <th>niss</th>\n",
       "    </tr>\n",
       "  </thead>\n",
       "  <tbody>\n",
       "    <tr>\n",
       "      <th>0</th>\n",
       "      <td>BIOMD0000000189</td>\n",
       "      <td>14</td>\n",
       "      <td>13</td>\n",
       "      <td>type1</td>\n",
       "      <td>1</td>\n",
       "      <td>0.076923</td>\n",
       "    </tr>\n",
       "    <tr>\n",
       "      <th>1</th>\n",
       "      <td>BIOMD0000000189</td>\n",
       "      <td>14</td>\n",
       "      <td>13</td>\n",
       "      <td>type1</td>\n",
       "      <td>1</td>\n",
       "      <td>0.076923</td>\n",
       "    </tr>\n",
       "    <tr>\n",
       "      <th>2</th>\n",
       "      <td>BIOMD0000000189</td>\n",
       "      <td>14</td>\n",
       "      <td>13</td>\n",
       "      <td>type1</td>\n",
       "      <td>1</td>\n",
       "      <td>0.076923</td>\n",
       "    </tr>\n",
       "    <tr>\n",
       "      <th>3</th>\n",
       "      <td>BIOMD0000000189</td>\n",
       "      <td>14</td>\n",
       "      <td>13</td>\n",
       "      <td>type1</td>\n",
       "      <td>3</td>\n",
       "      <td>0.230769</td>\n",
       "    </tr>\n",
       "    <tr>\n",
       "      <th>4</th>\n",
       "      <td>BIOMD0000000413</td>\n",
       "      <td>9</td>\n",
       "      <td>5</td>\n",
       "      <td>type1</td>\n",
       "      <td>3</td>\n",
       "      <td>0.600000</td>\n",
       "    </tr>\n",
       "  </tbody>\n",
       "</table>\n",
       "</div>"
      ],
      "text/plain": [
       "          model_id  num_total_reactions  num_nonbdry_reactions error_type  \\\n",
       "0  BIOMD0000000189                   14                     13      type1   \n",
       "1  BIOMD0000000189                   14                     13      type1   \n",
       "2  BIOMD0000000189                   14                     13      type1   \n",
       "3  BIOMD0000000189                   14                     13      type1   \n",
       "4  BIOMD0000000413                    9                      5      type1   \n",
       "\n",
       "   num_error_reactions      niss  \n",
       "0                    1  0.076923  \n",
       "1                    1  0.076923  \n",
       "2                    1  0.076923  \n",
       "3                    3  0.230769  \n",
       "4                    3  0.600000  "
      ]
     },
     "execution_count": 24,
     "metadata": {},
     "output_type": "execute_result"
    }
   ],
   "source": [
    "extended_res_df_full = res_df_full.assign(niss = res_df_full[NUM_ERROR_REACTIONS] / res_df_full[NUM_NONBDRY_REACTIONS])\n",
    "extended_res_df_full.head()"
   ]
  },
  {
   "cell_type": "code",
   "execution_count": 14,
   "metadata": {},
   "outputs": [
    {
     "data": {
      "text/html": [
       "<div>\n",
       "<style scoped>\n",
       "    .dataframe tbody tr th:only-of-type {\n",
       "        vertical-align: middle;\n",
       "    }\n",
       "\n",
       "    .dataframe tbody tr th {\n",
       "        vertical-align: top;\n",
       "    }\n",
       "\n",
       "    .dataframe thead th {\n",
       "        text-align: right;\n",
       "    }\n",
       "</style>\n",
       "<table border=\"1\" class=\"dataframe\">\n",
       "  <thead>\n",
       "    <tr style=\"text-align: right;\">\n",
       "      <th></th>\n",
       "      <th>model_id</th>\n",
       "      <th>num_total_reactions</th>\n",
       "      <th>num_nonbdry_reactions</th>\n",
       "      <th>mean_error_size</th>\n",
       "      <th>is_games_plus</th>\n",
       "      <th>niss</th>\n",
       "    </tr>\n",
       "  </thead>\n",
       "  <tbody>\n",
       "    <tr>\n",
       "      <th>0</th>\n",
       "      <td>BIOMD0000000189</td>\n",
       "      <td>14</td>\n",
       "      <td>13</td>\n",
       "      <td>1.5</td>\n",
       "      <td>0</td>\n",
       "      <td>0.115385</td>\n",
       "    </tr>\n",
       "    <tr>\n",
       "      <th>1</th>\n",
       "      <td>BIOMD0000000413</td>\n",
       "      <td>9</td>\n",
       "      <td>5</td>\n",
       "      <td>3.0</td>\n",
       "      <td>0</td>\n",
       "      <td>0.600000</td>\n",
       "    </tr>\n",
       "    <tr>\n",
       "      <th>2</th>\n",
       "      <td>BIOMD0000000519</td>\n",
       "      <td>7</td>\n",
       "      <td>4</td>\n",
       "      <td>2.0</td>\n",
       "      <td>0</td>\n",
       "      <td>0.500000</td>\n",
       "    </tr>\n",
       "    <tr>\n",
       "      <th>3</th>\n",
       "      <td>BIOMD0000000093</td>\n",
       "      <td>46</td>\n",
       "      <td>42</td>\n",
       "      <td>2.0</td>\n",
       "      <td>0</td>\n",
       "      <td>0.047619</td>\n",
       "    </tr>\n",
       "    <tr>\n",
       "      <th>4</th>\n",
       "      <td>BIOMD0000000536</td>\n",
       "      <td>66</td>\n",
       "      <td>39</td>\n",
       "      <td>1.0</td>\n",
       "      <td>0</td>\n",
       "      <td>0.025641</td>\n",
       "    </tr>\n",
       "  </tbody>\n",
       "</table>\n",
       "</div>"
      ],
      "text/plain": [
       "          model_id  num_total_reactions  num_nonbdry_reactions  \\\n",
       "0  BIOMD0000000189                   14                     13   \n",
       "1  BIOMD0000000413                    9                      5   \n",
       "2  BIOMD0000000519                    7                      4   \n",
       "3  BIOMD0000000093                   46                     42   \n",
       "4  BIOMD0000000536                   66                     39   \n",
       "\n",
       "   mean_error_size  is_games_plus      niss  \n",
       "0              1.5              0  0.115385  \n",
       "1              3.0              0  0.600000  \n",
       "2              2.0              0  0.500000  \n",
       "3              2.0              0  0.047619  \n",
       "4              1.0              0  0.025641  "
      ]
     },
     "execution_count": 14,
     "metadata": {},
     "output_type": "execute_result"
    }
   ],
   "source": [
    "# niss: normalized isolation set size\n",
    "extended_res_df_mean = res_df_mean.assign(niss = res_df_mean[MEAN_ERROR_SIZE] / res_df_mean[NUM_NONBDRY_REACTIONS])\n",
    "extended_res_df_mean.head()"
   ]
  },
  {
   "cell_type": "code",
   "execution_count": 25,
   "metadata": {},
   "outputs": [
    {
     "name": "stdout",
     "output_type": "stream",
     "text": [
      "FULL DATA\n",
      "Average ISS for GAMES++: \n",
      "5.378161\n",
      "STD ISS for GAMES++: \n",
      "15.279864\n",
      "Average NISS for GAMES++: \n",
      "0.083399\n",
      "STD NISS for GAMES++: \n",
      "0.132933\n"
     ]
    }
   ],
   "source": [
    "print(\"FULL DATA\")\n",
    "print(\"Average ISS for GAMES++: \\n%f\" % np.mean(extended_res_df_full[NUM_ERROR_REACTIONS]))\n",
    "print(\"STD ISS for GAMES++: \\n%f\" % np.std(extended_res_df_full[NUM_ERROR_REACTIONS]))\n",
    "print(\"Average NISS for GAMES++: \\n%f\" % np.mean(extended_res_df_full[\"niss\"]))\n",
    "print(\"STD NISS for GAMES++: \\n%f\" % np.std(extended_res_df_full[\"niss\"]))"
   ]
  },
  {
   "cell_type": "code",
   "execution_count": 22,
   "metadata": {},
   "outputs": [
    {
     "name": "stdout",
     "output_type": "stream",
     "text": [
      "MEAN DATA\n",
      "Average ISS for GAMES++: \n",
      "6.546057\n",
      "STD ISS for GAMES++: \n",
      "27.037555\n",
      "Average NISS for GAMES++: \n",
      "0.190172\n",
      "STD NISS for GAMES++: \n",
      "0.201371\n"
     ]
    }
   ],
   "source": [
    "print(\"MEAN DATA\")\n",
    "print(\"Average ISS for GAMES++: \\n%f\" % np.mean(extended_res_df_mean[MEAN_ERROR_SIZE]))\n",
    "print(\"STD ISS for GAMES++: \\n%f\" % np.std(extended_res_df_mean[MEAN_ERROR_SIZE]))\n",
    "print(\"Average NISS for GAMES++: \\n%f\" % np.mean(extended_res_df_mean[\"niss\"]))\n",
    "print(\"STD NISS for GAMES++: \\n%f\" % np.std(extended_res_df_mean[\"niss\"]))"
   ]
  },
  {
   "cell_type": "code",
   "execution_count": 32,
   "metadata": {},
   "outputs": [
    {
     "name": "stdout",
     "output_type": "stream",
     "text": [
      "782\n"
     ]
    },
    {
     "data": {
      "text/html": [
       "<div>\n",
       "<style scoped>\n",
       "    .dataframe tbody tr th:only-of-type {\n",
       "        vertical-align: middle;\n",
       "    }\n",
       "\n",
       "    .dataframe tbody tr th {\n",
       "        vertical-align: top;\n",
       "    }\n",
       "\n",
       "    .dataframe thead th {\n",
       "        text-align: right;\n",
       "    }\n",
       "</style>\n",
       "<table border=\"1\" class=\"dataframe\">\n",
       "  <thead>\n",
       "    <tr style=\"text-align: right;\">\n",
       "      <th></th>\n",
       "      <th>model_id</th>\n",
       "      <th>num_total_reactions</th>\n",
       "      <th>num_nonbdry_reactions</th>\n",
       "      <th>error_type</th>\n",
       "      <th>num_error_reactions</th>\n",
       "      <th>niss</th>\n",
       "    </tr>\n",
       "  </thead>\n",
       "  <tbody>\n",
       "    <tr>\n",
       "      <th>0</th>\n",
       "      <td>BIOMD0000000189</td>\n",
       "      <td>14</td>\n",
       "      <td>13</td>\n",
       "      <td>type1</td>\n",
       "      <td>1</td>\n",
       "      <td>0.076923</td>\n",
       "    </tr>\n",
       "    <tr>\n",
       "      <th>1</th>\n",
       "      <td>BIOMD0000000189</td>\n",
       "      <td>14</td>\n",
       "      <td>13</td>\n",
       "      <td>type1</td>\n",
       "      <td>1</td>\n",
       "      <td>0.076923</td>\n",
       "    </tr>\n",
       "    <tr>\n",
       "      <th>2</th>\n",
       "      <td>BIOMD0000000189</td>\n",
       "      <td>14</td>\n",
       "      <td>13</td>\n",
       "      <td>type1</td>\n",
       "      <td>1</td>\n",
       "      <td>0.076923</td>\n",
       "    </tr>\n",
       "    <tr>\n",
       "      <th>3</th>\n",
       "      <td>BIOMD0000000189</td>\n",
       "      <td>14</td>\n",
       "      <td>13</td>\n",
       "      <td>type1</td>\n",
       "      <td>3</td>\n",
       "      <td>0.230769</td>\n",
       "    </tr>\n",
       "    <tr>\n",
       "      <th>4</th>\n",
       "      <td>BIOMD0000000413</td>\n",
       "      <td>9</td>\n",
       "      <td>5</td>\n",
       "      <td>type1</td>\n",
       "      <td>3</td>\n",
       "      <td>0.600000</td>\n",
       "    </tr>\n",
       "  </tbody>\n",
       "</table>\n",
       "</div>"
      ],
      "text/plain": [
       "          model_id  num_total_reactions  num_nonbdry_reactions error_type  \\\n",
       "0  BIOMD0000000189                   14                     13      type1   \n",
       "1  BIOMD0000000189                   14                     13      type1   \n",
       "2  BIOMD0000000189                   14                     13      type1   \n",
       "3  BIOMD0000000189                   14                     13      type1   \n",
       "4  BIOMD0000000413                    9                      5      type1   \n",
       "\n",
       "   num_error_reactions      niss  \n",
       "0                    1  0.076923  \n",
       "1                    1  0.076923  \n",
       "2                    1  0.076923  \n",
       "3                    3  0.230769  \n",
       "4                    3  0.600000  "
      ]
     },
     "execution_count": 32,
     "metadata": {},
     "output_type": "execute_result"
    }
   ],
   "source": [
    "simple_games_res_df_full = extended_res_df_full[(extended_res_df_full[ERROR_TYPE]==TYPE_I) | (extended_res_df_full[ERROR_TYPE]==TYPE_II)]\n",
    "print(len(simple_games_res_df_full))\n",
    "simple_games_res_df_full.head()"
   ]
  },
  {
   "cell_type": "code",
   "execution_count": 16,
   "metadata": {},
   "outputs": [
    {
     "name": "stdout",
     "output_type": "stream",
     "text": [
      "109\n"
     ]
    },
    {
     "data": {
      "text/html": [
       "<div>\n",
       "<style scoped>\n",
       "    .dataframe tbody tr th:only-of-type {\n",
       "        vertical-align: middle;\n",
       "    }\n",
       "\n",
       "    .dataframe tbody tr th {\n",
       "        vertical-align: top;\n",
       "    }\n",
       "\n",
       "    .dataframe thead th {\n",
       "        text-align: right;\n",
       "    }\n",
       "</style>\n",
       "<table border=\"1\" class=\"dataframe\">\n",
       "  <thead>\n",
       "    <tr style=\"text-align: right;\">\n",
       "      <th></th>\n",
       "      <th>model_id</th>\n",
       "      <th>num_total_reactions</th>\n",
       "      <th>num_nonbdry_reactions</th>\n",
       "      <th>mean_error_size</th>\n",
       "      <th>is_games_plus</th>\n",
       "      <th>niss</th>\n",
       "    </tr>\n",
       "  </thead>\n",
       "  <tbody>\n",
       "    <tr>\n",
       "      <th>0</th>\n",
       "      <td>BIOMD0000000189</td>\n",
       "      <td>14</td>\n",
       "      <td>13</td>\n",
       "      <td>1.5</td>\n",
       "      <td>0</td>\n",
       "      <td>0.115385</td>\n",
       "    </tr>\n",
       "    <tr>\n",
       "      <th>1</th>\n",
       "      <td>BIOMD0000000413</td>\n",
       "      <td>9</td>\n",
       "      <td>5</td>\n",
       "      <td>3.0</td>\n",
       "      <td>0</td>\n",
       "      <td>0.600000</td>\n",
       "    </tr>\n",
       "    <tr>\n",
       "      <th>2</th>\n",
       "      <td>BIOMD0000000519</td>\n",
       "      <td>7</td>\n",
       "      <td>4</td>\n",
       "      <td>2.0</td>\n",
       "      <td>0</td>\n",
       "      <td>0.500000</td>\n",
       "    </tr>\n",
       "    <tr>\n",
       "      <th>3</th>\n",
       "      <td>BIOMD0000000093</td>\n",
       "      <td>46</td>\n",
       "      <td>42</td>\n",
       "      <td>2.0</td>\n",
       "      <td>0</td>\n",
       "      <td>0.047619</td>\n",
       "    </tr>\n",
       "    <tr>\n",
       "      <th>4</th>\n",
       "      <td>BIOMD0000000536</td>\n",
       "      <td>66</td>\n",
       "      <td>39</td>\n",
       "      <td>1.0</td>\n",
       "      <td>0</td>\n",
       "      <td>0.025641</td>\n",
       "    </tr>\n",
       "  </tbody>\n",
       "</table>\n",
       "</div>"
      ],
      "text/plain": [
       "          model_id  num_total_reactions  num_nonbdry_reactions  \\\n",
       "0  BIOMD0000000189                   14                     13   \n",
       "1  BIOMD0000000413                    9                      5   \n",
       "2  BIOMD0000000519                    7                      4   \n",
       "3  BIOMD0000000093                   46                     42   \n",
       "4  BIOMD0000000536                   66                     39   \n",
       "\n",
       "   mean_error_size  is_games_plus      niss  \n",
       "0              1.5              0  0.115385  \n",
       "1              3.0              0  0.600000  \n",
       "2              2.0              0  0.500000  \n",
       "3              2.0              0  0.047619  \n",
       "4              1.0              0  0.025641  "
      ]
     },
     "execution_count": 16,
     "metadata": {},
     "output_type": "execute_result"
    }
   ],
   "source": [
    "simple_games_res_df_mean = extended_res_df_mean[(extended_res_df_mean[IS_GAMES_PLUS] == 0)]\n",
    "print(len(simple_games_res_df_mean))\n",
    "simple_games_res_df_mean.head()"
   ]
  },
  {
   "cell_type": "code",
   "execution_count": 33,
   "metadata": {},
   "outputs": [
    {
     "name": "stdout",
     "output_type": "stream",
     "text": [
      "FULL DATA\n",
      "Average ISS for Simple GAMES: \n",
      "3.845269\n",
      "STD ISS for Simple GAMES: \n",
      "10.230982\n",
      "Average NISS for Simple GAMES: \n",
      "0.075807\n",
      "STD NISS for Simple GAMES: \n",
      "0.125772\n"
     ]
    }
   ],
   "source": [
    "print(\"FULL DATA\")\n",
    "print(\"Average ISS for Simple GAMES: \\n%f\" % np.mean(simple_games_res_df_full[NUM_ERROR_REACTIONS]))\n",
    "print(\"STD ISS for Simple GAMES: \\n%f\" % np.std(simple_games_res_df_full[NUM_ERROR_REACTIONS]))\n",
    "print(\"Average NISS for Simple GAMES: \\n%f\" % np.mean(simple_games_res_df_full[\"niss\"]))\n",
    "print(\"STD NISS for Simple GAMES: \\n%f\" % np.std(simple_games_res_df_full[\"niss\"]))"
   ]
  },
  {
   "cell_type": "code",
   "execution_count": 23,
   "metadata": {},
   "outputs": [
    {
     "name": "stdout",
     "output_type": "stream",
     "text": [
      "MEAN DATA\n",
      "Average ISS for Simple GAMES: \n",
      "2.790298\n",
      "STD ISS for Simple GAMES: \n",
      "1.430215\n",
      "Average NISS for Simple GAMES: \n",
      "0.167162\n",
      "STD NISS for Simple GAMES: \n",
      "0.187630\n"
     ]
    }
   ],
   "source": [
    "print(\"MEAN DATA\")\n",
    "print(\"Average ISS for Simple GAMES: \\n%f\" % np.mean(simple_games_res_df_mean[MEAN_ERROR_SIZE]))\n",
    "print(\"STD ISS for Simple GAMES: \\n%f\" % np.std(simple_games_res_df_mean[MEAN_ERROR_SIZE]))\n",
    "print(\"Average NISS for Simple GAMES: \\n%f\" % np.mean(simple_games_res_df_mean[\"niss\"]))\n",
    "print(\"STD NISS for Simple GAMES: \\n%f\" % np.std(simple_games_res_df_mean[\"niss\"]))"
   ]
  },
  {
   "cell_type": "code",
   "execution_count": 18,
   "metadata": {},
   "outputs": [
    {
     "data": {
      "text/html": [
       "<div>\n",
       "<style scoped>\n",
       "    .dataframe tbody tr th:only-of-type {\n",
       "        vertical-align: middle;\n",
       "    }\n",
       "\n",
       "    .dataframe tbody tr th {\n",
       "        vertical-align: top;\n",
       "    }\n",
       "\n",
       "    .dataframe thead th {\n",
       "        text-align: right;\n",
       "    }\n",
       "</style>\n",
       "<table border=\"1\" class=\"dataframe\">\n",
       "  <thead>\n",
       "    <tr style=\"text-align: right;\">\n",
       "      <th></th>\n",
       "      <th>model_id</th>\n",
       "      <th>num_total_reactions</th>\n",
       "      <th>num_nonbdry_reactions</th>\n",
       "      <th>error_type</th>\n",
       "      <th>num_error_reactions</th>\n",
       "    </tr>\n",
       "  </thead>\n",
       "  <tbody>\n",
       "  </tbody>\n",
       "</table>\n",
       "</div>"
      ],
      "text/plain": [
       "Empty DataFrame\n",
       "Columns: [model_id, num_total_reactions, num_nonbdry_reactions, error_type, num_error_reactions]\n",
       "Index: []"
      ]
     },
     "execution_count": 18,
     "metadata": {},
     "output_type": "execute_result"
    }
   ],
   "source": [
    "res_df_full[res_df_full[NUM_ERROR_REACTIONS] > res_df_full[NUM_NONBDRY_REACTIONS]]"
   ]
  },
  {
   "cell_type": "code",
   "execution_count": 19,
   "metadata": {},
   "outputs": [
    {
     "data": {
      "text/plain": [
       "870"
      ]
     },
     "execution_count": 19,
     "metadata": {},
     "output_type": "execute_result"
    }
   ],
   "source": [
    "len(res_df_full)"
   ]
  },
  {
   "cell_type": "code",
   "execution_count": 20,
   "metadata": {},
   "outputs": [
    {
     "data": {
      "text/plain": [
       "109"
      ]
     },
     "execution_count": 20,
     "metadata": {},
     "output_type": "execute_result"
    }
   ],
   "source": [
    "len(simple_games_res_df_mean)"
   ]
  },
  {
   "cell_type": "code",
   "execution_count": 32,
   "metadata": {},
   "outputs": [
    {
     "ename": "NameError",
     "evalue": "name 'extended_res_df' is not defined",
     "output_type": "error",
     "traceback": [
      "\u001b[0;31m---------------------------------------------------------------------------\u001b[0m",
      "\u001b[0;31mNameError\u001b[0m                                 Traceback (most recent call last)",
      "\u001b[0;32m<ipython-input-32-ff6c9a3cc084>\u001b[0m in \u001b[0;36m<module>\u001b[0;34m\u001b[0m\n\u001b[0;32m----> 1\u001b[0;31m dd = extended_res_df[(extended_res_df[ERROR_TYPE]==TYPE_III) | \\\n\u001b[0m\u001b[1;32m      2\u001b[0m                      \u001b[0;34m(\u001b[0m\u001b[0mextended_res_df\u001b[0m\u001b[0;34m[\u001b[0m\u001b[0mERROR_TYPE\u001b[0m\u001b[0;34m]\u001b[0m\u001b[0;34m==\u001b[0m\u001b[0mCANCELING\u001b[0m\u001b[0;34m)\u001b[0m \u001b[0;34m|\u001b[0m\u001b[0;31m \u001b[0m\u001b[0;31m\\\u001b[0m\u001b[0;34m\u001b[0m\u001b[0;34m\u001b[0m\u001b[0m\n\u001b[1;32m      3\u001b[0m                     (extended_res_df[ERROR_TYPE]==ECHELON)]\n",
      "\u001b[0;31mNameError\u001b[0m: name 'extended_res_df' is not defined"
     ]
    }
   ],
   "source": [
    "dd = extended_res_df[(extended_res_df[ERROR_TYPE]==TYPE_III) | \\\n",
    "                     (extended_res_df[ERROR_TYPE]==CANCELING) | \\\n",
    "                    (extended_res_df[ERROR_TYPE]==ECHELON)]"
   ]
  },
  {
   "cell_type": "code",
   "execution_count": 51,
   "metadata": {},
   "outputs": [
    {
     "data": {
      "text/plain": [
       "29.65024630541872"
      ]
     },
     "execution_count": 51,
     "metadata": {},
     "output_type": "execute_result"
    }
   ],
   "source": [
    "np.mean(dd[NUM_ERROR_REACTIONS])"
   ]
  },
  {
   "cell_type": "code",
   "execution_count": 52,
   "metadata": {},
   "outputs": [
    {
     "data": {
      "text/plain": [
       "(array([47.,  2., 22., 62., 69.,  0.,  0.,  0.,  0.,  1.]),\n",
       " array([ 2. , 11.5, 21. , 30.5, 40. , 49.5, 59. , 68.5, 78. , 87.5, 97. ]),\n",
       " <a list of 10 Patch objects>)"
      ]
     },
     "execution_count": 52,
     "metadata": {},
     "output_type": "execute_result"
    },
    {
     "data": {
      "image/png": "[encoded data removed]",
      "text/plain": [
       "<Figure size 432x288 with 1 Axes>"
      ]
     },
     "metadata": {
      "needs_background": "light"
     },
     "output_type": "display_data"
    }
   ],
   "source": [
    "plt.hist(dd[NUM_ERROR_REACTIONS])"
   ]
  },
  {
   "cell_type": "code",
   "execution_count": 62,
   "metadata": {},
   "outputs": [
    {
     "data": {
      "text/html": [
       "<div>\n",
       "<style scoped>\n",
       "    .dataframe tbody tr th:only-of-type {\n",
       "        vertical-align: middle;\n",
       "    }\n",
       "\n",
       "    .dataframe tbody tr th {\n",
       "        vertical-align: top;\n",
       "    }\n",
       "\n",
       "    .dataframe thead th {\n",
       "        text-align: right;\n",
       "    }\n",
       "</style>\n",
       "<table border=\"1\" class=\"dataframe\">\n",
       "  <thead>\n",
       "    <tr style=\"text-align: right;\">\n",
       "      <th></th>\n",
       "      <th>error_type</th>\n",
       "      <th>model_id</th>\n",
       "      <th>num_error_reactions</th>\n",
       "      <th>num_nonbdry_reactions</th>\n",
       "      <th>num_total_reactions</th>\n",
       "      <th>niss</th>\n",
       "    </tr>\n",
       "  </thead>\n",
       "  <tbody>\n",
       "    <tr>\n",
       "      <th>0</th>\n",
       "      <td>type1</td>\n",
       "      <td>BIOMD0000000189</td>\n",
       "      <td>1</td>\n",
       "      <td>13</td>\n",
       "      <td>14</td>\n",
       "      <td>0.076923</td>\n",
       "    </tr>\n",
       "    <tr>\n",
       "      <th>1</th>\n",
       "      <td>type1</td>\n",
       "      <td>BIOMD0000000189</td>\n",
       "      <td>1</td>\n",
       "      <td>13</td>\n",
       "      <td>14</td>\n",
       "      <td>0.076923</td>\n",
       "    </tr>\n",
       "    <tr>\n",
       "      <th>2</th>\n",
       "      <td>type1</td>\n",
       "      <td>BIOMD0000000189</td>\n",
       "      <td>1</td>\n",
       "      <td>13</td>\n",
       "      <td>14</td>\n",
       "      <td>0.076923</td>\n",
       "    </tr>\n",
       "    <tr>\n",
       "      <th>3</th>\n",
       "      <td>type1</td>\n",
       "      <td>BIOMD0000000189</td>\n",
       "      <td>3</td>\n",
       "      <td>13</td>\n",
       "      <td>14</td>\n",
       "      <td>0.230769</td>\n",
       "    </tr>\n",
       "    <tr>\n",
       "      <th>4</th>\n",
       "      <td>type1</td>\n",
       "      <td>BIOMD0000000413</td>\n",
       "      <td>3</td>\n",
       "      <td>5</td>\n",
       "      <td>9</td>\n",
       "      <td>0.600000</td>\n",
       "    </tr>\n",
       "  </tbody>\n",
       "</table>\n",
       "</div>"
      ],
      "text/plain": [
       "  error_type         model_id  num_error_reactions  num_nonbdry_reactions  \\\n",
       "0      type1  BIOMD0000000189                    1                     13   \n",
       "1      type1  BIOMD0000000189                    1                     13   \n",
       "2      type1  BIOMD0000000189                    1                     13   \n",
       "3      type1  BIOMD0000000189                    3                     13   \n",
       "4      type1  BIOMD0000000413                    3                      5   \n",
       "\n",
       "   num_total_reactions      niss  \n",
       "0                   14  0.076923  \n",
       "1                   14  0.076923  \n",
       "2                   14  0.076923  \n",
       "3                   14  0.230769  \n",
       "4                    9  0.600000  "
      ]
     },
     "execution_count": 62,
     "metadata": {},
     "output_type": "execute_result"
    }
   ],
   "source": [
    "extended_res_df.head()"
   ]
  },
  {
   "cell_type": "code",
   "execution_count": 67,
   "metadata": {},
   "outputs": [
    {
     "data": {
      "text/html": [
       "<div>\n",
       "<style scoped>\n",
       "    .dataframe tbody tr th:only-of-type {\n",
       "        vertical-align: middle;\n",
       "    }\n",
       "\n",
       "    .dataframe tbody tr th {\n",
       "        vertical-align: top;\n",
       "    }\n",
       "\n",
       "    .dataframe thead th {\n",
       "        text-align: right;\n",
       "    }\n",
       "</style>\n",
       "<table border=\"1\" class=\"dataframe\">\n",
       "  <thead>\n",
       "    <tr style=\"text-align: right;\">\n",
       "      <th></th>\n",
       "      <th>error_type</th>\n",
       "      <th>model_id</th>\n",
       "      <th>iss</th>\n",
       "      <th>num_nonbdry_reactions</th>\n",
       "      <th>num_total_reactions</th>\n",
       "      <th>niss</th>\n",
       "    </tr>\n",
       "  </thead>\n",
       "  <tbody>\n",
       "    <tr>\n",
       "      <th>0</th>\n",
       "      <td>type1</td>\n",
       "      <td>BIOMD0000000189</td>\n",
       "      <td>1</td>\n",
       "      <td>13</td>\n",
       "      <td>14</td>\n",
       "      <td>0.076923</td>\n",
       "    </tr>\n",
       "    <tr>\n",
       "      <th>1</th>\n",
       "      <td>type1</td>\n",
       "      <td>BIOMD0000000189</td>\n",
       "      <td>1</td>\n",
       "      <td>13</td>\n",
       "      <td>14</td>\n",
       "      <td>0.076923</td>\n",
       "    </tr>\n",
       "    <tr>\n",
       "      <th>2</th>\n",
       "      <td>type1</td>\n",
       "      <td>BIOMD0000000189</td>\n",
       "      <td>1</td>\n",
       "      <td>13</td>\n",
       "      <td>14</td>\n",
       "      <td>0.076923</td>\n",
       "    </tr>\n",
       "    <tr>\n",
       "      <th>3</th>\n",
       "      <td>type1</td>\n",
       "      <td>BIOMD0000000189</td>\n",
       "      <td>3</td>\n",
       "      <td>13</td>\n",
       "      <td>14</td>\n",
       "      <td>0.230769</td>\n",
       "    </tr>\n",
       "    <tr>\n",
       "      <th>4</th>\n",
       "      <td>type1</td>\n",
       "      <td>BIOMD0000000413</td>\n",
       "      <td>3</td>\n",
       "      <td>5</td>\n",
       "      <td>9</td>\n",
       "      <td>0.600000</td>\n",
       "    </tr>\n",
       "  </tbody>\n",
       "</table>\n",
       "</div>"
      ],
      "text/plain": [
       "  error_type         model_id  iss  num_nonbdry_reactions  \\\n",
       "0      type1  BIOMD0000000189    1                     13   \n",
       "1      type1  BIOMD0000000189    1                     13   \n",
       "2      type1  BIOMD0000000189    1                     13   \n",
       "3      type1  BIOMD0000000189    3                     13   \n",
       "4      type1  BIOMD0000000413    3                      5   \n",
       "\n",
       "   num_total_reactions      niss  \n",
       "0                   14  0.076923  \n",
       "1                   14  0.076923  \n",
       "2                   14  0.076923  \n",
       "3                   14  0.230769  \n",
       "4                    9  0.600000  "
      ]
     },
     "execution_count": 67,
     "metadata": {},
     "output_type": "execute_result"
    }
   ],
   "source": [
    "final_res_df = extended_res_df.rename(columns = {NUM_ERROR_REACTIONS:\"iss\"})\n",
    "final_res_df.head()"
   ]
  },
  {
   "cell_type": "code",
   "execution_count": 70,
   "metadata": {},
   "outputs": [],
   "source": [
    "final_res_df.to_csv(\"/Users/woosubshin/Desktop/ModelEngineering/results/games_statistics.csv\", index=False)"
   ]
  },
  {
   "cell_type": "code",
   "execution_count": 17,
   "metadata": {},
   "outputs": [
    {
     "name": "stdout",
     "output_type": "stream",
     "text": [
      "Number of models with errors: 140\n"
     ]
    }
   ],
   "source": [
    "print(\"Number of models with errors: %d\" % (len(set(res_df[MODEL_ID]))))"
   ]
  },
  {
   "cell_type": "code",
   "execution_count": 71,
   "metadata": {},
   "outputs": [],
   "source": [
    "# plt.scatter(res_df[NUM_TOTAL_REACTIONS], res_df[NUM_ERROR_REACTIONS])"
   ]
  },
  {
   "cell_type": "code",
   "execution_count": 72,
   "metadata": {},
   "outputs": [],
   "source": [
    "# plt.hist(res_df[NUM_TOTAL_REACTIONS] - res_df[NUM_NONBDRY_REACTIONS], bins=100)"
   ]
  },
  {
   "cell_type": "code",
   "execution_count": 73,
   "metadata": {},
   "outputs": [],
   "source": [
    "# plt.scatter(res_df[NUM_NONBDRY_REACTIONS], res_df[NUM_ERROR_REACTIONS])"
   ]
  },
  {
   "cell_type": "code",
   "execution_count": 74,
   "metadata": {},
   "outputs": [],
   "source": [
    "type1_res_df = res_df[res_df[ERROR_TYPE] == TYPE_I]\n",
    "type2_res_df = res_df[res_df[ERROR_TYPE] == TYPE_II]\n",
    "type3_res_df = res_df[res_df[ERROR_TYPE] == TYPE_III]\n",
    "canceling_res_df = res_df[res_df[ERROR_TYPE] == CANCELING]\n",
    "echelon_res_df = res_df[res_df[ERROR_TYPE] == ECHELON]"
   ]
  },
  {
   "cell_type": "code",
   "execution_count": 75,
   "metadata": {},
   "outputs": [],
   "source": [
    "# type1_res_df.head()"
   ]
  },
  {
   "cell_type": "code",
   "execution_count": 76,
   "metadata": {},
   "outputs": [],
   "source": [
    "#plt.scatter(type1_res_df[NUM_NONBDRY_REACTIONS], type1_res_df[NUM_ERROR_REACTIONS])"
   ]
  },
  {
   "cell_type": "code",
   "execution_count": 77,
   "metadata": {},
   "outputs": [],
   "source": [
    "#plt.scatter(type2_res_df[NUM_NONBDRY_REACTIONS], type2_res_df[NUM_ERROR_REACTIONS])"
   ]
  },
  {
   "cell_type": "code",
   "execution_count": 78,
   "metadata": {},
   "outputs": [],
   "source": [
    "#plt.scatter(type3_res_df[NUM_NONBDRY_REACTIONS], type3_res_df[NUM_ERROR_REACTIONS])"
   ]
  },
  {
   "cell_type": "code",
   "execution_count": 79,
   "metadata": {},
   "outputs": [],
   "source": [
    "#plt.scatter(canceling_res_df[NUM_NONBDRY_REACTIONS], canceling_res_df[NUM_ERROR_REACTIONS])"
   ]
  },
  {
   "cell_type": "code",
   "execution_count": 80,
   "metadata": {},
   "outputs": [],
   "source": [
    "#plt.scatter(echelon_res_df[NUM_NONBDRY_REACTIONS], echelon_res_df[NUM_ERROR_REACTIONS])"
   ]
  },
  {
   "cell_type": "code",
   "execution_count": 28,
   "metadata": {},
   "outputs": [],
   "source": [
    "#res_list"
   ]
  },
  {
   "cell_type": "code",
   "execution_count": 29,
   "metadata": {},
   "outputs": [
    {
     "name": "stdout",
     "output_type": "stream",
     "text": [
      "error_prop Series([], dtype: float64)\n"
     ]
    }
   ],
   "source": [
    "prop = res_df[\"num_error_reactions\"] / res_df[\"num_nonbdry_reactions\"]\n",
    "error_prop = prop[prop > 1]\n",
    "nonerror_prop = prop[prop<=1]\n",
    "print(\"error_prop\", error_prop)"
   ]
  },
  {
   "cell_type": "code",
   "execution_count": null,
   "metadata": {},
   "outputs": [],
   "source": []
  },
  {
   "cell_type": "code",
   "execution_count": 130,
   "metadata": {},
   "outputs": [
    {
     "data": {
      "text/plain": [
       "Text(0, 0.5, 'Cumulative Probability')"
      ]
     },
     "execution_count": 130,
     "metadata": {},
     "output_type": "execute_result"
    },
    {
     "data": {
      "image/png": "[encoded data removed]",
      "text/plain": [
       "<Figure size 432x288 with 1 Axes>"
      ]
     },
     "metadata": {},
     "output_type": "display_data"
    }
   ],
   "source": [
    "sns.set(style=\"white\",\n",
    "        font='Times New Roman',\n",
    "        rc={'figure.figsize':(6,4)})\n",
    "sns.set_style(\"ticks\")\n",
    "cdf_abs = sns.distplot(final_res_df[\"iss\"],\n",
    "             bins=50,\n",
    "             hist_kws=dict(cumulative=True),\n",
    "             kde_kws=dict(cumulative=True))\n",
    "plt.xlabel(\"Isolation Set Size (Absolute)\")\n",
    "plt.ylabel(\"Cumulative Probability\")"
   ]
  },
  {
   "cell_type": "code",
   "execution_count": 131,
   "metadata": {},
   "outputs": [],
   "source": [
    "output_cdf_abs = cdf_abs.get_figure()\n",
    "output_cdf_abs.savefig(\"/Users/woosubshin/Desktop/ModelEngineering/figures_tables/cdf_abs.png\")"
   ]
  },
  {
   "cell_type": "code",
   "execution_count": 133,
   "metadata": {},
   "outputs": [
    {
     "data": {
      "text/plain": [
       "Text(0, 0.5, 'Cumulative Probability')"
      ]
     },
     "execution_count": 133,
     "metadata": {},
     "output_type": "execute_result"
    },
    {
     "data": {
      "image/png": "[encoded data removed]",
      "text/plain": [
       "<Figure size 432x288 with 1 Axes>"
      ]
     },
     "metadata": {},
     "output_type": "display_data"
    }
   ],
   "source": [
    "cdf_norm = sns.distplot(final_res_df[\"niss\"],\n",
    "             hist_kws=dict(cumulative=True),\n",
    "             bins=50,\n",
    "             kde_kws=dict(cumulative=True))\n",
    "plt.xlabel(\"Isolation Set Size (Normalized)\")\n",
    "plt.ylabel(\"Cumulative Probability\")"
   ]
  },
  {
   "cell_type": "code",
   "execution_count": 134,
   "metadata": {},
   "outputs": [],
   "source": [
    "output_cdf_norm = cdf_norm.get_figure()\n",
    "output_cdf_norm.savefig(\"/Users/woosubshin/Desktop/ModelEngineering/figures_tables/cdf_norm.png\")"
   ]
  },
  {
   "cell_type": "code",
   "execution_count": 33,
   "metadata": {},
   "outputs": [
    {
     "data": {
      "text/plain": [
       "Text(0, 0.5, 'Frequency')"
      ]
     },
     "execution_count": 33,
     "metadata": {},
     "output_type": "execute_result"
    },
    {
     "data": {
      "image/png": "[encoded data removed]",
      "text/plain": [
       "<Figure size 432x288 with 1 Axes>"
      ]
     },
     "metadata": {
      "needs_background": "light"
     },
     "output_type": "display_data"
    }
   ],
   "source": [
    "sns.distplot(prop,\n",
    "             hist_kws=dict(cumulative=False),\n",
    "             kde_kws=dict(cumulative=False))\n",
    "plt.title(\"PDF - Num. Reactions per Error / Num. Non-boundary Reactions\")\n",
    "plt.xlabel(\"Proportion (0.0 - 1.0)\")\n",
    "plt.ylabel(\"Frequency\")"
   ]
  },
  {
   "cell_type": "code",
   "execution_count": 34,
   "metadata": {},
   "outputs": [
    {
     "data": {
      "text/plain": [
       "Text(0, 0.5, 'Cumulative probability')"
      ]
     },
     "execution_count": 34,
     "metadata": {},
     "output_type": "execute_result"
    },
    {
     "data": {
      "image/png": "[encoded data removed]",
      "text/plain": [
       "<Figure size 432x288 with 1 Axes>"
      ]
     },
     "metadata": {
      "needs_background": "light"
     },
     "output_type": "display_data"
    }
   ],
   "source": [
    "sns.distplot(prop,\n",
    "             hist_kws=dict(cumulative=True),\n",
    "             kde_kws=dict(cumulative=True))\n",
    "plt.title(\"CDF - Num. Reactions per Error / Num. Non-boundary Reactions\")\n",
    "plt.xlabel(\"Proportion (0.0 - 1.0)\")\n",
    "plt.ylabel(\"Cumulative probability\")"
   ]
  },
  {
   "cell_type": "code",
   "execution_count": 41,
   "metadata": {},
   "outputs": [
    {
     "data": {
      "text/plain": [
       "Text(0, 0.5, 'Probability')"
      ]
     },
     "execution_count": 41,
     "metadata": {},
     "output_type": "execute_result"
    },
    {
     "data": {
      "image/png": "[encoded data removed]",
      "text/plain": [
       "<Figure size 432x288 with 1 Axes>"
      ]
     },
     "metadata": {
      "needs_background": "light"
     },
     "output_type": "display_data"
    }
   ],
   "source": [
    "sns.distplot(res_df[NUM_ERROR_REACTIONS],\n",
    "             hist_kws=dict(cumulative=False),\n",
    "             kde_kws=dict(cumulative=False))\n",
    "plt.title(\"PDF - Number of Reactions for Each Error\")\n",
    "plt.xlabel(\"Number of Reactions\")\n",
    "plt.ylabel(\"Probability\")"
   ]
  },
  {
   "cell_type": "code",
   "execution_count": 39,
   "metadata": {},
   "outputs": [
    {
     "data": {
      "text/plain": [
       "Text(0, 0.5, 'Cumulative probability')"
      ]
     },
     "execution_count": 39,
     "metadata": {},
     "output_type": "execute_result"
    },
    {
     "data": {
      "image/png": "[encoded data removed]",
      "text/plain": [
       "<Figure size 432x288 with 1 Axes>"
      ]
     },
     "metadata": {
      "needs_background": "light"
     },
     "output_type": "display_data"
    }
   ],
   "source": [
    "sns.distplot(res_df[NUM_ERROR_REACTIONS],\n",
    "             hist_kws=dict(cumulative=True),\n",
    "             kde_kws=dict(cumulative=True))\n",
    "plt.title(\"CDF - Number of Reactions for Each Error\")\n",
    "plt.xlabel(\"Number of Reactions\")\n",
    "plt.ylabel(\"Cumulative probability\")"
   ]
  },
  {
   "cell_type": "code",
   "execution_count": 49,
   "metadata": {},
   "outputs": [
    {
     "data": {
      "text/plain": [
       "0.6804123711340206"
      ]
     },
     "execution_count": 49,
     "metadata": {},
     "output_type": "execute_result"
    }
   ],
   "source": [
    "len(res_df[res_df[NUM_ERROR_REACTIONS] <= 3]) / len(res_df[NUM_ERROR_REACTIONS])"
   ]
  },
  {
   "cell_type": "code",
   "execution_count": 51,
   "metadata": {},
   "outputs": [
    {
     "data": {
      "text/plain": [
       "873"
      ]
     },
     "execution_count": 51,
     "metadata": {},
     "output_type": "execute_result"
    }
   ],
   "source": [
    "len(res_df[NUM_ERROR_REACTIONS])"
   ]
  },
  {
   "cell_type": "code",
   "execution_count": 55,
   "metadata": {},
   "outputs": [
    {
     "name": "stdout",
     "output_type": "stream",
     "text": [
      "594\n",
      "0.6804123711340206\n"
     ]
    }
   ],
   "source": [
    "print(len(res_df[res_df[NUM_ERROR_REACTIONS] <= 3]))\n",
    "print(len(res_df[res_df[NUM_ERROR_REACTIONS] <= 3]) / len(res_df[NUM_ERROR_REACTIONS]))"
   ]
  },
  {
   "cell_type": "code",
   "execution_count": 56,
   "metadata": {},
   "outputs": [
    {
     "name": "stdout",
     "output_type": "stream",
     "text": [
      "752\n",
      "0.861397479954181\n"
     ]
    }
   ],
   "source": [
    "print(len(res_df[res_df[NUM_ERROR_REACTIONS] <= 5]))\n",
    "print(len(res_df[res_df[NUM_ERROR_REACTIONS] <= 5]) / len(res_df[NUM_ERROR_REACTIONS]))"
   ]
  },
  {
   "cell_type": "code",
   "execution_count": 57,
   "metadata": {},
   "outputs": [
    {
     "name": "stdout",
     "output_type": "stream",
     "text": [
      "813\n",
      "0.9312714776632303\n"
     ]
    }
   ],
   "source": [
    "print(len(res_df[res_df[NUM_ERROR_REACTIONS] <= 10]))\n",
    "print(len(res_df[res_df[NUM_ERROR_REACTIONS] <= 10]) / len(res_df[NUM_ERROR_REACTIONS]))"
   ]
  },
  {
   "cell_type": "code",
   "execution_count": 71,
   "metadata": {},
   "outputs": [
    {
     "data": {
      "text/html": [
       "<div>\n",
       "<style scoped>\n",
       "    .dataframe tbody tr th:only-of-type {\n",
       "        vertical-align: middle;\n",
       "    }\n",
       "\n",
       "    .dataframe tbody tr th {\n",
       "        vertical-align: top;\n",
       "    }\n",
       "\n",
       "    .dataframe thead th {\n",
       "        text-align: right;\n",
       "    }\n",
       "</style>\n",
       "<table border=\"1\" class=\"dataframe\">\n",
       "  <thead>\n",
       "    <tr style=\"text-align: right;\">\n",
       "      <th></th>\n",
       "      <th>error_type</th>\n",
       "      <th>model_id</th>\n",
       "      <th>num_error_reactions</th>\n",
       "      <th>num_nonbdry_reactions</th>\n",
       "      <th>num_total_reactions</th>\n",
       "    </tr>\n",
       "  </thead>\n",
       "  <tbody>\n",
       "    <tr>\n",
       "      <th>170</th>\n",
       "      <td>type1</td>\n",
       "      <td>BIOMD0000000297</td>\n",
       "      <td>4</td>\n",
       "      <td>22</td>\n",
       "      <td>51</td>\n",
       "    </tr>\n",
       "    <tr>\n",
       "      <th>171</th>\n",
       "      <td>type1</td>\n",
       "      <td>BIOMD0000000297</td>\n",
       "      <td>5</td>\n",
       "      <td>22</td>\n",
       "      <td>51</td>\n",
       "    </tr>\n",
       "    <tr>\n",
       "      <th>172</th>\n",
       "      <td>type1</td>\n",
       "      <td>BIOMD0000000356</td>\n",
       "      <td>5</td>\n",
       "      <td>63</td>\n",
       "      <td>64</td>\n",
       "    </tr>\n",
       "    <tr>\n",
       "      <th>173</th>\n",
       "      <td>type1</td>\n",
       "      <td>BIOMD0000000356</td>\n",
       "      <td>6</td>\n",
       "      <td>63</td>\n",
       "      <td>64</td>\n",
       "    </tr>\n",
       "    <tr>\n",
       "      <th>174</th>\n",
       "      <td>type1</td>\n",
       "      <td>BIOMD0000000356</td>\n",
       "      <td>6</td>\n",
       "      <td>63</td>\n",
       "      <td>64</td>\n",
       "    </tr>\n",
       "    <tr>\n",
       "      <th>175</th>\n",
       "      <td>type1</td>\n",
       "      <td>BIOMD0000000356</td>\n",
       "      <td>6</td>\n",
       "      <td>63</td>\n",
       "      <td>64</td>\n",
       "    </tr>\n",
       "    <tr>\n",
       "      <th>176</th>\n",
       "      <td>type1</td>\n",
       "      <td>BIOMD0000000356</td>\n",
       "      <td>7</td>\n",
       "      <td>63</td>\n",
       "      <td>64</td>\n",
       "    </tr>\n",
       "    <tr>\n",
       "      <th>177</th>\n",
       "      <td>echelon</td>\n",
       "      <td>BIOMD0000000426</td>\n",
       "      <td>3</td>\n",
       "      <td>29</td>\n",
       "      <td>29</td>\n",
       "    </tr>\n",
       "    <tr>\n",
       "      <th>178</th>\n",
       "      <td>echelon</td>\n",
       "      <td>BIOMD0000000426</td>\n",
       "      <td>8</td>\n",
       "      <td>29</td>\n",
       "      <td>29</td>\n",
       "    </tr>\n",
       "    <tr>\n",
       "      <th>179</th>\n",
       "      <td>echelon</td>\n",
       "      <td>BIOMD0000000105</td>\n",
       "      <td>3</td>\n",
       "      <td>94</td>\n",
       "      <td>94</td>\n",
       "    </tr>\n",
       "    <tr>\n",
       "      <th>180</th>\n",
       "      <td>type3</td>\n",
       "      <td>BIOMD0000000628</td>\n",
       "      <td>13</td>\n",
       "      <td>584</td>\n",
       "      <td>587</td>\n",
       "    </tr>\n",
       "  </tbody>\n",
       "</table>\n",
       "</div>"
      ],
      "text/plain": [
       "    error_type         model_id  num_error_reactions  num_nonbdry_reactions  \\\n",
       "170      type1  BIOMD0000000297                    4                     22   \n",
       "171      type1  BIOMD0000000297                    5                     22   \n",
       "172      type1  BIOMD0000000356                    5                     63   \n",
       "173      type1  BIOMD0000000356                    6                     63   \n",
       "174      type1  BIOMD0000000356                    6                     63   \n",
       "175      type1  BIOMD0000000356                    6                     63   \n",
       "176      type1  BIOMD0000000356                    7                     63   \n",
       "177    echelon  BIOMD0000000426                    3                     29   \n",
       "178    echelon  BIOMD0000000426                    8                     29   \n",
       "179    echelon  BIOMD0000000105                    3                     94   \n",
       "180      type3  BIOMD0000000628                   13                    584   \n",
       "\n",
       "     num_total_reactions  \n",
       "170                   51  \n",
       "171                   51  \n",
       "172                   64  \n",
       "173                   64  \n",
       "174                   64  \n",
       "175                   64  \n",
       "176                   64  \n",
       "177                   29  \n",
       "178                   29  \n",
       "179                   94  \n",
       "180                  587  "
      ]
     },
     "execution_count": 71,
     "metadata": {},
     "output_type": "execute_result"
    }
   ],
   "source": [
    "res_df.loc[170:180]"
   ]
  },
  {
   "cell_type": "code",
   "execution_count": null,
   "metadata": {},
   "outputs": [],
   "source": []
  },
  {
   "cell_type": "code",
   "execution_count": null,
   "metadata": {},
   "outputs": [],
   "source": []
  },
  {
   "cell_type": "code",
   "execution_count": 38,
   "metadata": {},
   "outputs": [
    {
     "name": "stdout",
     "output_type": "stream",
     "text": [
      "index of model 14 is 157\n"
     ]
    }
   ],
   "source": [
    "for i, m in enumerate(files):\n",
    "  if m[:-8] == \"BIOMD0000000014\":\n",
    "    print(\"index of model 14 is\", i)"
   ]
  },
  {
   "cell_type": "code",
   "execution_count": 39,
   "metadata": {},
   "outputs": [
    {
     "data": {
      "text/plain": [
       "'BIOMD0000000362_url.xml'"
      ]
     },
     "execution_count": 39,
     "metadata": {},
     "output_type": "execute_result"
    }
   ],
   "source": [
    "files[156]"
   ]
  },
  {
   "cell_type": "code",
   "execution_count": 61,
   "metadata": {},
   "outputs": [
    {
     "name": "stdout",
     "output_type": "stream",
     "text": [
      "elapsed time: 3.8915278911590576\n"
     ]
    }
   ],
   "source": [
    "import time\n",
    "# Checking all graphs \n",
    "simple = SimpleSBML()\n",
    "count = 0\n",
    "res_list2 = []\n",
    "start = time.time()\n",
    "for file in files[140:170]:\n",
    "  count += 1\n",
    "  if (count%100)==0:\n",
    "    print(\"we are analyzing Model number:\", count)\n",
    "  try:\n",
    "    simple.initialize(os.path.join(data_dir, file))\n",
    "    m = GAMES_PP(simple)\n",
    "    s = StoichiometryMatrix(simple)\n",
    "    num_total_reactions = len(simple.reactions)\n",
    "    num_nonbdry_reactions = s.stoichiometry_matrix.shape[1]\n",
    "    if simple.reactions:\n",
    "      result = m.analyze(error_details=False)\n",
    "      if result:\n",
    "        gr = GAMESReport(m)\n",
    "        errortype_dic = {TYPE_I: gr.reportTypeOneError,\n",
    "                         TYPE_II: gr.reportTypeTwoError,\n",
    "                         TYPE_III: gr.reportTypeThreeError,\n",
    "                         CANCELING: gr.reportCancelingError,\n",
    "                         ECHELON: gr.reportEchelonError\n",
    "                        }\n",
    "        summary = m.error_summary\n",
    "        for errors_type in m.error_summary:\n",
    "          for category in errortype_dic.keys():\n",
    "            if errors_type.type == category:\n",
    "              func = errortype_dic[category]            \n",
    "              _, error_num = func(errors_type.errors)\n",
    "              for num in error_num:\n",
    "                dic = {}\n",
    "                dic[MODEL_ID] = file[:-8]\n",
    "                dic[NUM_TOTAL_REACTIONS] = num_total_reactions\n",
    "                dic[NUM_NONBDRY_REACTIONS] = num_nonbdry_reactions\n",
    "                dic[ERROR_TYPE] = category\n",
    "                dic[NUM_ERROR_REACTIONS] = num\n",
    "                res_list2.append(dic)\n",
    "#                 res_list2.append({MODEL_ID: file[:-8],\n",
    "#                                   NUM_TOTAL_REACTIONS: num_total_reactions,\n",
    "#                                   NUM_NONBDRY_REACTIONS: num_nonbdry_reactions,\n",
    "#                                   ERROR_TYPE: category,\n",
    "#                                   NUM_ERROR_REACTIONS: num})\n",
    "#                 print(\"model dic number\", dic[MODEL_ID])\n",
    "#                 print(\"res_dic\", res_dic)\n",
    "  except:\n",
    "    print(\"Model\", file, \" has an error\")\n",
    "end = time.time()\n",
    "print(\"elapsed time:\", end - start)"
   ]
  },
  {
   "cell_type": "code",
   "execution_count": 57,
   "metadata": {},
   "outputs": [
    {
     "data": {
      "text/plain": [
       "[{'model_id': 'BIOMD0000000494',\n",
       "  'num_total_reactions': 71,\n",
       "  'num_nonbdry_reactions': 71,\n",
       "  'error_type': 'type1',\n",
       "  'num_error_reactions': 5},\n",
       " {'model_id': 'BIOMD0000000494',\n",
       "  'num_total_reactions': 71,\n",
       "  'num_nonbdry_reactions': 71,\n",
       "  'error_type': 'type1',\n",
       "  'num_error_reactions': 3},\n",
       " {'model_id': 'BIOMD0000000494',\n",
       "  'num_total_reactions': 71,\n",
       "  'num_nonbdry_reactions': 71,\n",
       "  'error_type': 'type1',\n",
       "  'num_error_reactions': 3},\n",
       " {'model_id': 'BIOMD0000000494',\n",
       "  'num_total_reactions': 71,\n",
       "  'num_nonbdry_reactions': 71,\n",
       "  'error_type': 'type1',\n",
       "  'num_error_reactions': 5},\n",
       " {'model_id': 'BIOMD0000000623',\n",
       "  'num_total_reactions': 31,\n",
       "  'num_nonbdry_reactions': 31,\n",
       "  'error_type': 'type1',\n",
       "  'num_error_reactions': 3},\n",
       " {'model_id': 'BIOMD0000000268',\n",
       "  'num_total_reactions': 61,\n",
       "  'num_nonbdry_reactions': 47,\n",
       "  'error_type': 'type1',\n",
       "  'num_error_reactions': 2},\n",
       " {'model_id': 'BIOMD0000000268',\n",
       "  'num_total_reactions': 61,\n",
       "  'num_nonbdry_reactions': 47,\n",
       "  'error_type': 'type1',\n",
       "  'num_error_reactions': 4},\n",
       " {'model_id': 'BIOMD0000000268',\n",
       "  'num_total_reactions': 61,\n",
       "  'num_nonbdry_reactions': 47,\n",
       "  'error_type': 'type1',\n",
       "  'num_error_reactions': 2},\n",
       " {'model_id': 'BIOMD0000000268',\n",
       "  'num_total_reactions': 61,\n",
       "  'num_nonbdry_reactions': 47,\n",
       "  'error_type': 'type1',\n",
       "  'num_error_reactions': 2},\n",
       " {'model_id': 'BIOMD0000000268',\n",
       "  'num_total_reactions': 61,\n",
       "  'num_nonbdry_reactions': 47,\n",
       "  'error_type': 'type2',\n",
       "  'num_error_reactions': 6},\n",
       " {'model_id': 'BIOMD0000000537',\n",
       "  'num_total_reactions': 73,\n",
       "  'num_nonbdry_reactions': 42,\n",
       "  'error_type': 'type1',\n",
       "  'num_error_reactions': 1},\n",
       " {'model_id': 'BIOMD0000000052',\n",
       "  'num_total_reactions': 11,\n",
       "  'num_nonbdry_reactions': 11,\n",
       "  'error_type': 'echelon',\n",
       "  'num_error_reactions': 4},\n",
       " {'model_id': 'BIOMD0000000409',\n",
       "  'num_total_reactions': 31,\n",
       "  'num_nonbdry_reactions': 29,\n",
       "  'error_type': 'type1',\n",
       "  'num_error_reactions': 5},\n",
       " {'model_id': 'BIOMD0000000409',\n",
       "  'num_total_reactions': 31,\n",
       "  'num_nonbdry_reactions': 29,\n",
       "  'error_type': 'type1',\n",
       "  'num_error_reactions': 2},\n",
       " {'model_id': 'BIOMD0000000409',\n",
       "  'num_total_reactions': 31,\n",
       "  'num_nonbdry_reactions': 29,\n",
       "  'error_type': 'type1',\n",
       "  'num_error_reactions': 2},\n",
       " {'model_id': 'BIOMD0000000409',\n",
       "  'num_total_reactions': 31,\n",
       "  'num_nonbdry_reactions': 29,\n",
       "  'error_type': 'type1',\n",
       "  'num_error_reactions': 3},\n",
       " {'model_id': 'BIOMD0000000571',\n",
       "  'num_total_reactions': 92,\n",
       "  'num_nonbdry_reactions': 51,\n",
       "  'error_type': 'type1',\n",
       "  'num_error_reactions': 2},\n",
       " {'model_id': 'BIOMD0000000571',\n",
       "  'num_total_reactions': 92,\n",
       "  'num_nonbdry_reactions': 51,\n",
       "  'error_type': 'type1',\n",
       "  'num_error_reactions': 2},\n",
       " {'model_id': 'BIOMD0000000571',\n",
       "  'num_total_reactions': 92,\n",
       "  'num_nonbdry_reactions': 51,\n",
       "  'error_type': 'type1',\n",
       "  'num_error_reactions': 2},\n",
       " {'model_id': 'BIOMD0000000571',\n",
       "  'num_total_reactions': 92,\n",
       "  'num_nonbdry_reactions': 51,\n",
       "  'error_type': 'type1',\n",
       "  'num_error_reactions': 2},\n",
       " {'model_id': 'BIOMD0000000571',\n",
       "  'num_total_reactions': 92,\n",
       "  'num_nonbdry_reactions': 51,\n",
       "  'error_type': 'type1',\n",
       "  'num_error_reactions': 2},\n",
       " {'model_id': 'BIOMD0000000571',\n",
       "  'num_total_reactions': 92,\n",
       "  'num_nonbdry_reactions': 51,\n",
       "  'error_type': 'type1',\n",
       "  'num_error_reactions': 2},\n",
       " {'model_id': 'BIOMD0000000571',\n",
       "  'num_total_reactions': 92,\n",
       "  'num_nonbdry_reactions': 51,\n",
       "  'error_type': 'type1',\n",
       "  'num_error_reactions': 2},\n",
       " {'model_id': 'BIOMD0000000571',\n",
       "  'num_total_reactions': 92,\n",
       "  'num_nonbdry_reactions': 51,\n",
       "  'error_type': 'type1',\n",
       "  'num_error_reactions': 2},\n",
       " {'model_id': 'BIOMD0000000571',\n",
       "  'num_total_reactions': 92,\n",
       "  'num_nonbdry_reactions': 51,\n",
       "  'error_type': 'type1',\n",
       "  'num_error_reactions': 2},\n",
       " {'model_id': 'BIOMD0000000571',\n",
       "  'num_total_reactions': 92,\n",
       "  'num_nonbdry_reactions': 51,\n",
       "  'error_type': 'type1',\n",
       "  'num_error_reactions': 2},\n",
       " {'model_id': 'BIOMD0000000571',\n",
       "  'num_total_reactions': 92,\n",
       "  'num_nonbdry_reactions': 51,\n",
       "  'error_type': 'type1',\n",
       "  'num_error_reactions': 2},\n",
       " {'model_id': 'BIOMD0000000571',\n",
       "  'num_total_reactions': 92,\n",
       "  'num_nonbdry_reactions': 51,\n",
       "  'error_type': 'type1',\n",
       "  'num_error_reactions': 2},\n",
       " {'model_id': 'BIOMD0000000571',\n",
       "  'num_total_reactions': 92,\n",
       "  'num_nonbdry_reactions': 51,\n",
       "  'error_type': 'type1',\n",
       "  'num_error_reactions': 2},\n",
       " {'model_id': 'BIOMD0000000571',\n",
       "  'num_total_reactions': 92,\n",
       "  'num_nonbdry_reactions': 51,\n",
       "  'error_type': 'type1',\n",
       "  'num_error_reactions': 2},\n",
       " {'model_id': 'BIOMD0000000571',\n",
       "  'num_total_reactions': 92,\n",
       "  'num_nonbdry_reactions': 51,\n",
       "  'error_type': 'type1',\n",
       "  'num_error_reactions': 2},\n",
       " {'model_id': 'BIOMD0000000571',\n",
       "  'num_total_reactions': 92,\n",
       "  'num_nonbdry_reactions': 51,\n",
       "  'error_type': 'type1',\n",
       "  'num_error_reactions': 2},\n",
       " {'model_id': 'BIOMD0000000571',\n",
       "  'num_total_reactions': 92,\n",
       "  'num_nonbdry_reactions': 51,\n",
       "  'error_type': 'type1',\n",
       "  'num_error_reactions': 2},\n",
       " {'model_id': 'BIOMD0000000571',\n",
       "  'num_total_reactions': 92,\n",
       "  'num_nonbdry_reactions': 51,\n",
       "  'error_type': 'type1',\n",
       "  'num_error_reactions': 2}]"
      ]
     },
     "execution_count": 57,
     "metadata": {},
     "output_type": "execute_result"
    }
   ],
   "source": [
    "res_list2"
   ]
  },
  {
   "cell_type": "code",
   "execution_count": null,
   "metadata": {},
   "outputs": [],
   "source": []
  }
 ],
 "metadata": {
  "kernelspec": {
   "display_name": "Python 3",
   "language": "python",
   "name": "python3"
  },
  "language_info": {
   "codemirror_mode": {
    "name": "ipython",
    "version": 3
   },
   "file_extension": ".py",
   "mimetype": "text/x-python",
   "name": "python",
   "nbconvert_exporter": "python",
   "pygments_lexer": "ipython3",
   "version": "3.6.10"
  }
 },
 "nbformat": 4,
 "nbformat_minor": 4
}
