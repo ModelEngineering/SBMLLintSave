{
 "cells": [
  {
   "cell_type": "code",
   "execution_count": 1,
   "metadata": {},
   "outputs": [],
   "source": [
    "import init\n",
    "from SBMLLint.common import constants as cn\n",
    "from SBMLLint.common.molecule import Molecule, MoleculeStoichiometry\n",
    "from SBMLLint.common import simple_sbml\n",
    "from SBMLLint.common.reaction import Reaction\n",
    "from SBMLLint.tools import sbmllint\n",
    "from SBMLLint.tools import print_reactions\n",
    "\n",
    "import os\n",
    "import numpy as np\n",
    "import pandas as pd\n",
    "import matplotlib.pyplot as plt\n",
    "import time\n",
    "\n",
    "from scipy.linalg import lu, inv\n",
    "from scipy.optimize import linprog"
   ]
  },
  {
   "cell_type": "code",
   "execution_count": 2,
   "metadata": {},
   "outputs": [],
   "source": [
    "import yaml\n",
    "from SBMLLint.common import config"
   ]
  },
  {
   "cell_type": "code",
   "execution_count": 3,
   "metadata": {},
   "outputs": [
    {
     "data": {
      "text/plain": [
       "{'ignored_molecules': ['DUMMYMOLECULE'],\n",
       " 'ignored_moieties': ['DUMMYMOIETY'],\n",
       " 'process_boundary_reactions': False,\n",
       " 'games_threshold_num_reactions': [20]}"
      ]
     },
     "execution_count": 3,
     "metadata": {},
     "output_type": "execute_result"
    }
   ],
   "source": [
    "# config dictionary\n",
    "config_dct = config.getConfiguration()\n",
    "config_dct"
   ]
  },
  {
   "cell_type": "code",
   "execution_count": 4,
   "metadata": {},
   "outputs": [
    {
     "data": {
      "text/plain": [
       "'ignored_molecules'"
      ]
     },
     "execution_count": 4,
     "metadata": {},
     "output_type": "execute_result"
    }
   ],
   "source": [
    "cn.CFG_IGNORED_MOLECULES"
   ]
  },
  {
   "cell_type": "code",
   "execution_count": 5,
   "metadata": {},
   "outputs": [
    {
     "data": {
      "text/plain": [
       "['DUMMYMOLECULE']"
      ]
     },
     "execution_count": 5,
     "metadata": {},
     "output_type": "execute_result"
    }
   ],
   "source": [
    "config_dct[cn.CFG_IGNORED_MOLECULES]"
   ]
  },
  {
   "cell_type": "code",
   "execution_count": null,
   "metadata": {},
   "outputs": [],
   "source": []
  },
  {
   "cell_type": "code",
   "execution_count": 13,
   "metadata": {},
   "outputs": [],
   "source": [
    "path = cn.CFG_DEFAULT_PATH\n",
    "path\n",
    "fid = open(path, \"r\")\n",
    "lines = fid.readlines()\n",
    "fid.close()\n",
    "lines = '\\n'.join(lines)\n",
    "result = yaml.safe_load(lines)"
   ]
  },
  {
   "cell_type": "code",
   "execution_count": 14,
   "metadata": {},
   "outputs": [
    {
     "data": {
      "text/plain": [
       "{'ignored_molecules': ['DUMMYMOLECULE'],\n",
       " 'ignored_moieties': ['DUMMYMOIETY'],\n",
       " 'process_boundary_reactions': False,\n",
       " 'games_threshold_num_reactions': 20}"
      ]
     },
     "execution_count": 14,
     "metadata": {},
     "output_type": "execute_result"
    }
   ],
   "source": [
    "result"
   ]
  },
  {
   "cell_type": "code",
   "execution_count": 15,
   "metadata": {},
   "outputs": [
    {
     "name": "stdout",
     "output_type": "stream",
     "text": [
      "ignored_molecules\n",
      "['DUMMYMOLECULE']\n",
      "ignored_moieties\n",
      "['DUMMYMOIETY']\n",
      "process_boundary_reactions\n",
      "False\n",
      "games_threshold_num_reactions\n",
      "20\n"
     ]
    }
   ],
   "source": [
    "for k, v in result.items():\n",
    "  print(k)\n",
    "  print(v)\n",
    "#     if v == \"True\":\n",
    "#       result[k] = True\n",
    "#     if v == \"False\":\n",
    "#       result[k] = False\n",
    "  for k, v in cn.CFG_DEFAULTS.items():\n",
    "    if not k in result:\n",
    "      result[k] = v \n",
    "      print(\"result adjusted\")"
   ]
  },
  {
   "cell_type": "code",
   "execution_count": 23,
   "metadata": {},
   "outputs": [
    {
     "name": "stdout",
     "output_type": "stream",
     "text": [
      "20\n"
     ]
    }
   ],
   "source": [
    "if result[cn.CFG_GAMES_THRESHOLD]:\n",
    "  print(result[cn.CFG_GAMES_THRESHOLD])"
   ]
  },
  {
   "cell_type": "code",
   "execution_count": null,
   "metadata": {},
   "outputs": [],
   "source": []
  }
 ],
 "metadata": {
  "kernelspec": {
   "display_name": "Python 3",
   "language": "python",
   "name": "python3"
  },
  "language_info": {
   "codemirror_mode": {
    "name": "ipython",
    "version": 3
   },
   "file_extension": ".py",
   "mimetype": "text/x-python",
   "name": "python",
   "nbconvert_exporter": "python",
   "pygments_lexer": "ipython3",
   "version": "3.6.10"
  }
 },
 "nbformat": 4,
 "nbformat_minor": 4
}
